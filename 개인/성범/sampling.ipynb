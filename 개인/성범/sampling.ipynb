{
 "cells": [
  {
   "cell_type": "code",
   "execution_count": 1,
   "metadata": {},
   "outputs": [
    {
     "data": {
      "text/html": [
       "<div>\n",
       "<style scoped>\n",
       "    .dataframe tbody tr th:only-of-type {\n",
       "        vertical-align: middle;\n",
       "    }\n",
       "\n",
       "    .dataframe tbody tr th {\n",
       "        vertical-align: top;\n",
       "    }\n",
       "\n",
       "    .dataframe thead th {\n",
       "        text-align: right;\n",
       "    }\n",
       "</style>\n",
       "<table border=\"1\" class=\"dataframe\">\n",
       "  <thead>\n",
       "    <tr style=\"text-align: right;\">\n",
       "      <th></th>\n",
       "      <th>text</th>\n",
       "      <th>label</th>\n",
       "    </tr>\n",
       "  </thead>\n",
       "  <tbody>\n",
       "    <tr>\n",
       "      <th>0</th>\n",
       "      <td>거기 비쌀까요??\\n#@시스템#사진# 33만원 #@시스템#사진# 여기는17마넝\\n밑...</td>\n",
       "      <td>일반 대화</td>\n",
       "    </tr>\n",
       "    <tr>\n",
       "      <th>1</th>\n",
       "      <td>나 결저앻ㅆ어\\n모를?\\n나 요번달에 돈 남으면 현질할꺼야\\n우와 뭐 사게?\\n이걸...</td>\n",
       "      <td>일반 대화</td>\n",
       "    </tr>\n",
       "    <tr>\n",
       "      <th>2</th>\n",
       "      <td>베라드실? 3000원 할인하는ㄷ\\n얼만디\\n정가에서 3천원빼면됌\\n베달?\\n배달비무...</td>\n",
       "      <td>일반 대화</td>\n",
       "    </tr>\n",
       "    <tr>\n",
       "      <th>3</th>\n",
       "      <td>나 버즈 케이스\\n엉\\n맘에 안드는걸사면 나중에 또 사고 또 사는 지옥에 갇힐까\\n...</td>\n",
       "      <td>일반 대화</td>\n",
       "    </tr>\n",
       "    <tr>\n",
       "      <th>4</th>\n",
       "      <td>메탈파우더를 삿읍니다\\n니 왜새 왜 네일에 꽂혔어??\\nㅋㅋㅋㅋㅋㅋㅋㅋ 아니 양손을...</td>\n",
       "      <td>일반 대화</td>\n",
       "    </tr>\n",
       "  </tbody>\n",
       "</table>\n",
       "</div>"
      ],
      "text/plain": [
       "                                                text  label\n",
       "0  거기 비쌀까요??\\n#@시스템#사진# 33만원 #@시스템#사진# 여기는17마넝\\n밑...  일반 대화\n",
       "1  나 결저앻ㅆ어\\n모를?\\n나 요번달에 돈 남으면 현질할꺼야\\n우와 뭐 사게?\\n이걸...  일반 대화\n",
       "2  베라드실? 3000원 할인하는ㄷ\\n얼만디\\n정가에서 3천원빼면됌\\n베달?\\n배달비무...  일반 대화\n",
       "3  나 버즈 케이스\\n엉\\n맘에 안드는걸사면 나중에 또 사고 또 사는 지옥에 갇힐까\\n...  일반 대화\n",
       "4  메탈파우더를 삿읍니다\\n니 왜새 왜 네일에 꽂혔어??\\nㅋㅋㅋㅋㅋㅋㅋㅋ 아니 양손을...  일반 대화"
      ]
     },
     "execution_count": 1,
     "metadata": {},
     "output_type": "execute_result"
    }
   ],
   "source": [
    "import pandas as pd\n",
    "\n",
    "df = pd.read_csv('/Users/limseongbeom/Desktop/Code/AIFFEL_DLthon/output_conversations.csv')\n",
    "\n",
    "df.head()"
   ]
  },
  {
   "cell_type": "code",
   "execution_count": 2,
   "metadata": {},
   "outputs": [
    {
     "name": "stdout",
     "output_type": "stream",
     "text": [
      "<class 'pandas.core.frame.DataFrame'>\n",
      "RangeIndex: 1799996 entries, 0 to 1799995\n",
      "Data columns (total 2 columns):\n",
      " #   Column  Dtype \n",
      "---  ------  ----- \n",
      " 0   text    object\n",
      " 1   label   object\n",
      "dtypes: object(2)\n",
      "memory usage: 27.5+ MB\n"
     ]
    }
   ],
   "source": [
    "df.info()"
   ]
  },
  {
   "cell_type": "code",
   "execution_count": 3,
   "metadata": {},
   "outputs": [],
   "source": [
    "# 170만 개의 데이터 중 4000개를 랜덤으로 샘플링\n",
    "sampled_df = df.sample(n=4000, random_state=42)\n",
    "\n",
    "# 샘플링한 데이터를 새로운 파일로 저장\n",
    "sampled_df.to_csv('../../file/sampled_dataset.csv', index=False)"
   ]
  },
  {
   "cell_type": "code",
   "execution_count": null,
   "metadata": {},
   "outputs": [],
   "source": []
  }
 ],
 "metadata": {
  "kernelspec": {
   "display_name": "pacing",
   "language": "python",
   "name": "python3"
  },
  "language_info": {
   "codemirror_mode": {
    "name": "ipython",
    "version": 3
   },
   "file_extension": ".py",
   "mimetype": "text/x-python",
   "name": "python",
   "nbconvert_exporter": "python",
   "pygments_lexer": "ipython3",
   "version": "3.8.19"
  }
 },
 "nbformat": 4,
 "nbformat_minor": 2
}
