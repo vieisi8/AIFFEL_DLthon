{
 "cells": [
  {
   "cell_type": "code",
   "execution_count": 4,
   "metadata": {},
   "outputs": [
    {
     "name": "stdout",
     "output_type": "stream",
     "text": [
      "Error reading JSON file KAKAO_1648_13.json: Expecting value: line 137 column 25 (char 4950)\n",
      "            file_name                                       conversation\n",
      "0  KAKAO_1702_04.json  이제 위드 코로나 하면 회식 시작하겠구만 키키 11월달부터 위드 코로나 하려나 보던...\n",
      "1  KAKAO_1232_14.json  전기료가 오른다네... 세상에나 아 맞어 키로와트당 40원? 안 오르는 게 없어요 ...\n",
      "2  KAKAO_1169_13.json  오늘 아침에 비 많이 왔쪄 ㅠ 맞아요 ㅠㅠ 지난 새벽부터 엄청 내렸쪄 ㅠㅠ 어젯밤부...\n",
      "3  KAKAO_1459_03.json  비행기 타고 싶다 진짜 언제 탈 수 있네 **이랑 탄 게 마지막... 비행기 안 타...\n",
      "4  KAKAO_1635_15.json  미국 열차 안에서 성폭행 사건 있었대 ㅠㅠ 열차 안에서? 그게 가능한 일이야? 그니...\n"
     ]
    }
   ],
   "source": [
    "import os\n",
    "import json\n",
    "import pandas as pd\n",
    "\n",
    "# 폴더 경로 설정\n",
    "folder_path = '020.주제별 텍스트 일상 대화 데이터/01.데이터/1.Training/라벨링데이터/TL_01. KAKAO(1)'\n",
    "\n",
    "# 파일 목록 가져오기\n",
    "file_list = [file for file in os.listdir(folder_path) if file.endswith('.json')]\n",
    "# 대화를 병합하여 저장할 리스트\n",
    "conversation_data = []\n",
    "\n",
    "# 각 파일을 읽어서 처리\n",
    "for file_name in file_list:\n",
    "    file_path = os.path.join(folder_path, file_name)\n",
    "    \n",
    "    try:\n",
    "        # JSON 파일 열기\n",
    "        with open(file_path, 'r', encoding='utf-8') as f:\n",
    "            json_data = json.load(f)\n",
    "            \n",
    "            # 텍스트 병합\n",
    "            conversation = ''\n",
    "            if 'info' in json_data:\n",
    "                for entry in json_data['info']:\n",
    "                    if 'annotations' in entry and 'lines' in entry['annotations']:\n",
    "                        for line in entry['annotations']['lines']:\n",
    "                            # 대화 텍스트 추출 및 병합\n",
    "                            conversation += line['text'].split(' : ', 1)[-1] + ' '\n",
    "            \n",
    "            # 결과 저장 (파일명과 병합된 대화 텍스트)\n",
    "            conversation_data.append({\n",
    "                'file_name': file_name,\n",
    "                'conversation': conversation.strip()  # 양끝 공백 제거\n",
    "            })\n",
    "    except json.JSONDecodeError as e:\n",
    "        print(f\"Error reading JSON file {file_name}: {e}\")\n",
    "        continue  # 오류 발생 시 해당 파일 건너뜀\n",
    "\n",
    "# 최종 결과를 데이터프레임으로 변환\n",
    "df = pd.DataFrame(conversation_data)\n",
    "\n",
    "# 데이터프레임 저장 (필요시 경로 설정)\n",
    "df.to_csv('merged_conversations.csv', index=False, encoding='utf-8')\n",
    "\n",
    "# 데이터프레임 출력 확인\n",
    "print(df.head())"
   ]
  },
  {
   "cell_type": "code",
   "execution_count": 5,
   "metadata": {},
   "outputs": [
    {
     "data": {
      "text/html": [
       "<div>\n",
       "<style scoped>\n",
       "    .dataframe tbody tr th:only-of-type {\n",
       "        vertical-align: middle;\n",
       "    }\n",
       "\n",
       "    .dataframe tbody tr th {\n",
       "        vertical-align: top;\n",
       "    }\n",
       "\n",
       "    .dataframe thead th {\n",
       "        text-align: right;\n",
       "    }\n",
       "</style>\n",
       "<table border=\"1\" class=\"dataframe\">\n",
       "  <thead>\n",
       "    <tr style=\"text-align: right;\">\n",
       "      <th></th>\n",
       "      <th>file_name</th>\n",
       "      <th>conversation</th>\n",
       "    </tr>\n",
       "  </thead>\n",
       "  <tbody>\n",
       "    <tr>\n",
       "      <th>0</th>\n",
       "      <td>KAKAO_1702_04.json</td>\n",
       "      <td>이제 위드 코로나 하면 회식 시작하겠구만 키키 11월달부터 위드 코로나 하려나 보던...</td>\n",
       "    </tr>\n",
       "    <tr>\n",
       "      <th>1</th>\n",
       "      <td>KAKAO_1232_14.json</td>\n",
       "      <td>전기료가 오른다네... 세상에나 아 맞어 키로와트당 40원? 안 오르는 게 없어요 ...</td>\n",
       "    </tr>\n",
       "    <tr>\n",
       "      <th>2</th>\n",
       "      <td>KAKAO_1169_13.json</td>\n",
       "      <td>오늘 아침에 비 많이 왔쪄 ㅠ 맞아요 ㅠㅠ 지난 새벽부터 엄청 내렸쪄 ㅠㅠ 어젯밤부...</td>\n",
       "    </tr>\n",
       "    <tr>\n",
       "      <th>3</th>\n",
       "      <td>KAKAO_1459_03.json</td>\n",
       "      <td>비행기 타고 싶다 진짜 언제 탈 수 있네 **이랑 탄 게 마지막... 비행기 안 타...</td>\n",
       "    </tr>\n",
       "    <tr>\n",
       "      <th>4</th>\n",
       "      <td>KAKAO_1635_15.json</td>\n",
       "      <td>미국 열차 안에서 성폭행 사건 있었대 ㅠㅠ 열차 안에서? 그게 가능한 일이야? 그니...</td>\n",
       "    </tr>\n",
       "    <tr>\n",
       "      <th>...</th>\n",
       "      <td>...</td>\n",
       "      <td>...</td>\n",
       "    </tr>\n",
       "    <tr>\n",
       "      <th>17994</th>\n",
       "      <td>KAKAO_1545_13.json</td>\n",
       "      <td>비가 계속 내리더만 이젠 또 맑네 키키 그러게. 무섭게 내리더라. 일기예보 잘 보고...</td>\n",
       "    </tr>\n",
       "    <tr>\n",
       "      <th>17995</th>\n",
       "      <td>KAKAO_1075_03.json</td>\n",
       "      <td>얼른 취업해서 차도 사고 싶어요 키키 차? 좋지 어떤 차 사고 싶어? 키키 스포티지...</td>\n",
       "    </tr>\n",
       "    <tr>\n",
       "      <th>17996</th>\n",
       "      <td>KAKAO_1472_02.json</td>\n",
       "      <td>언제 내 집 마련이 가능 할까요 키키 음... 키키 이제 대출도 잘 안돼서 무리일 ...</td>\n",
       "    </tr>\n",
       "    <tr>\n",
       "      <th>17997</th>\n",
       "      <td>KAKAO_1142_12.json</td>\n",
       "      <td>가을엔 갈대나 억새 있는 여행지 예쁘더라! 키키 맞아 오늘 동네에 있는 공원 갔는데...</td>\n",
       "    </tr>\n",
       "    <tr>\n",
       "      <th>17998</th>\n",
       "      <td>KAKAO_969_10.json</td>\n",
       "      <td>필테는 잘하고 있고? 필테만 하나? 응 키키 필테만 하고 있어 오늘도 간다 키키 아...</td>\n",
       "    </tr>\n",
       "  </tbody>\n",
       "</table>\n",
       "<p>17999 rows × 2 columns</p>\n",
       "</div>"
      ],
      "text/plain": [
       "                file_name                                       conversation\n",
       "0      KAKAO_1702_04.json  이제 위드 코로나 하면 회식 시작하겠구만 키키 11월달부터 위드 코로나 하려나 보던...\n",
       "1      KAKAO_1232_14.json  전기료가 오른다네... 세상에나 아 맞어 키로와트당 40원? 안 오르는 게 없어요 ...\n",
       "2      KAKAO_1169_13.json  오늘 아침에 비 많이 왔쪄 ㅠ 맞아요 ㅠㅠ 지난 새벽부터 엄청 내렸쪄 ㅠㅠ 어젯밤부...\n",
       "3      KAKAO_1459_03.json  비행기 타고 싶다 진짜 언제 탈 수 있네 **이랑 탄 게 마지막... 비행기 안 타...\n",
       "4      KAKAO_1635_15.json  미국 열차 안에서 성폭행 사건 있었대 ㅠㅠ 열차 안에서? 그게 가능한 일이야? 그니...\n",
       "...                   ...                                                ...\n",
       "17994  KAKAO_1545_13.json  비가 계속 내리더만 이젠 또 맑네 키키 그러게. 무섭게 내리더라. 일기예보 잘 보고...\n",
       "17995  KAKAO_1075_03.json  얼른 취업해서 차도 사고 싶어요 키키 차? 좋지 어떤 차 사고 싶어? 키키 스포티지...\n",
       "17996  KAKAO_1472_02.json  언제 내 집 마련이 가능 할까요 키키 음... 키키 이제 대출도 잘 안돼서 무리일 ...\n",
       "17997  KAKAO_1142_12.json  가을엔 갈대나 억새 있는 여행지 예쁘더라! 키키 맞아 오늘 동네에 있는 공원 갔는데...\n",
       "17998   KAKAO_969_10.json  필테는 잘하고 있고? 필테만 하나? 응 키키 필테만 하고 있어 오늘도 간다 키키 아...\n",
       "\n",
       "[17999 rows x 2 columns]"
      ]
     },
     "execution_count": 5,
     "metadata": {},
     "output_type": "execute_result"
    }
   ],
   "source": [
    "df"
   ]
  },
  {
   "cell_type": "code",
   "execution_count": 6,
   "metadata": {},
   "outputs": [],
   "source": [
    "df['class'] = '일반 대화'\n",
    "df.drop('file_name', axis = 1, inplace=True)"
   ]
  },
  {
   "cell_type": "code",
   "execution_count": 8,
   "metadata": {},
   "outputs": [],
   "source": [
    "df.to_csv('normal_conversation.csv', index=False)"
   ]
  },
  {
   "cell_type": "code",
   "execution_count": null,
   "metadata": {},
   "outputs": [],
   "source": []
  }
 ],
 "metadata": {
  "kernelspec": {
   "display_name": "pacing",
   "language": "python",
   "name": "python3"
  },
  "language_info": {
   "codemirror_mode": {
    "name": "ipython",
    "version": 3
   },
   "file_extension": ".py",
   "mimetype": "text/x-python",
   "name": "python",
   "nbconvert_exporter": "python",
   "pygments_lexer": "ipython3",
   "version": "3.8.19"
  }
 },
 "nbformat": 4,
 "nbformat_minor": 2
}
