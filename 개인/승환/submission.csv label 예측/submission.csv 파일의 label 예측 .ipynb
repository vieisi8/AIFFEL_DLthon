{
 "cells": [
  {
   "cell_type": "markdown",
   "id": "8c3a36c0",
   "metadata": {},
   "source": [
    "# 0. 라이브러리 import"
   ]
  },
  {
   "cell_type": "code",
   "execution_count": 1,
   "id": "bfd47293",
   "metadata": {
    "execution": {
     "iopub.execute_input": "2024-10-07T07:14:31.166596Z",
     "iopub.status.busy": "2024-10-07T07:14:31.166256Z",
     "iopub.status.idle": "2024-10-07T07:14:54.359218Z",
     "shell.execute_reply": "2024-10-07T07:14:54.358264Z",
     "shell.execute_reply.started": "2024-10-07T07:14:31.166553Z"
    }
   },
   "outputs": [
    {
     "name": "stdout",
     "output_type": "stream",
     "text": [
      "[name: \"/device:CPU:0\"\n",
      "device_type: \"CPU\"\n",
      "memory_limit: 268435456\n",
      "locality {\n",
      "}\n",
      "incarnation: 12386389547511276344\n",
      ", name: \"/device:GPU:0\"\n",
      "device_type: \"GPU\"\n",
      "memory_limit: 14295826432\n",
      "locality {\n",
      "  bus_id: 1\n",
      "  links {\n",
      "  }\n",
      "}\n",
      "incarnation: 2326973793638231484\n",
      "physical_device_desc: \"device: 0, name: Tesla T4, pci bus id: 0000:00:04.0, compute capability: 7.5\"\n",
      "]\n"
     ]
    }
   ],
   "source": [
    "import os\n",
    "import pandas as pd\n",
    "import numpy as np\n",
    "import matplotlib.pyplot as plt\n",
    "import seaborn as sns\n",
    "from sklearn.preprocessing import LabelEncoder\n",
    "import re\n",
    "import tensorflow as tf\n",
    "from sklearn.model_selection import train_test_split\n",
    "from sklearn.metrics import f1_score\n",
    "from transformers import BertTokenizerFast\n",
    "from transformers import TFBertForSequenceClassification\n",
    "from transformers import TextClassificationPipeline\n",
    "from tqdm import tqdm\n",
    "from tensorflow.python.client import device_lib\n",
    "\n",
    "print(device_lib.list_local_devices() )"
   ]
  },
  {
   "cell_type": "markdown",
   "id": "cc1dd382",
   "metadata": {},
   "source": [
    "# 1. 데이터 확인"
   ]
  },
  {
   "cell_type": "code",
   "execution_count": 2,
   "id": "9c6503f1",
   "metadata": {
    "execution": {
     "iopub.execute_input": "2024-10-07T07:14:54.362019Z",
     "iopub.status.busy": "2024-10-07T07:14:54.361235Z",
     "iopub.status.idle": "2024-10-07T07:14:54.472187Z",
     "shell.execute_reply": "2024-10-07T07:14:54.471205Z",
     "shell.execute_reply.started": "2024-10-07T07:14:54.361973Z"
    },
    "scrolled": true
   },
   "outputs": [
    {
     "data": {
      "text/html": [
       "<div>\n",
       "<style scoped>\n",
       "    .dataframe tbody tr th:only-of-type {\n",
       "        vertical-align: middle;\n",
       "    }\n",
       "\n",
       "    .dataframe tbody tr th {\n",
       "        vertical-align: top;\n",
       "    }\n",
       "\n",
       "    .dataframe thead th {\n",
       "        text-align: right;\n",
       "    }\n",
       "</style>\n",
       "<table border=\"1\" class=\"dataframe\">\n",
       "  <thead>\n",
       "    <tr style=\"text-align: right;\">\n",
       "      <th></th>\n",
       "      <th>idx</th>\n",
       "      <th>class</th>\n",
       "      <th>conversation</th>\n",
       "    </tr>\n",
       "  </thead>\n",
       "  <tbody>\n",
       "    <tr>\n",
       "      <th>0</th>\n",
       "      <td>0</td>\n",
       "      <td>협박 대화</td>\n",
       "      <td>지금 너 스스로를 죽여달라고 애원하는 것인가?\\n 아닙니다. 죄송합니다.\\n 죽을 ...</td>\n",
       "    </tr>\n",
       "    <tr>\n",
       "      <th>1</th>\n",
       "      <td>1</td>\n",
       "      <td>협박 대화</td>\n",
       "      <td>길동경찰서입니다.\\n9시 40분 마트에 폭발물을 설치할거다.\\n네?\\n똑바로 들어 ...</td>\n",
       "    </tr>\n",
       "    <tr>\n",
       "      <th>2</th>\n",
       "      <td>2</td>\n",
       "      <td>기타 괴롭힘 대화</td>\n",
       "      <td>너 되게 귀여운거 알지? 나보다 작은 남자는 첨봤어.\\n그만해. 니들 놀리는거 재미...</td>\n",
       "    </tr>\n",
       "    <tr>\n",
       "      <th>3</th>\n",
       "      <td>3</td>\n",
       "      <td>갈취 대화</td>\n",
       "      <td>어이 거기\\n예??\\n너 말이야 너. 이리 오라고\\n무슨 일.\\n너 옷 좋아보인다?...</td>\n",
       "    </tr>\n",
       "    <tr>\n",
       "      <th>4</th>\n",
       "      <td>4</td>\n",
       "      <td>갈취 대화</td>\n",
       "      <td>저기요 혹시 날이 너무 뜨겁잖아요? 저희 회사에서 이 선크림 파는데 한 번 손등에 ...</td>\n",
       "    </tr>\n",
       "  </tbody>\n",
       "</table>\n",
       "</div>"
      ],
      "text/plain": [
       "   idx      class                                       conversation\n",
       "0    0      협박 대화  지금 너 스스로를 죽여달라고 애원하는 것인가?\\n 아닙니다. 죄송합니다.\\n 죽을 ...\n",
       "1    1      협박 대화  길동경찰서입니다.\\n9시 40분 마트에 폭발물을 설치할거다.\\n네?\\n똑바로 들어 ...\n",
       "2    2  기타 괴롭힘 대화  너 되게 귀여운거 알지? 나보다 작은 남자는 첨봤어.\\n그만해. 니들 놀리는거 재미...\n",
       "3    3      갈취 대화  어이 거기\\n예??\\n너 말이야 너. 이리 오라고\\n무슨 일.\\n너 옷 좋아보인다?...\n",
       "4    4      갈취 대화  저기요 혹시 날이 너무 뜨겁잖아요? 저희 회사에서 이 선크림 파는데 한 번 손등에 ..."
      ]
     },
     "execution_count": 2,
     "metadata": {},
     "output_type": "execute_result"
    }
   ],
   "source": [
    "train_data_path =\"~/aiffel/dktc/data/train.csv\"\n",
    "train_data = pd.read_csv(train_data_path)\n",
    "train_data.head()"
   ]
  },
  {
   "cell_type": "code",
   "execution_count": 3,
   "id": "c9d93111",
   "metadata": {
    "execution": {
     "iopub.execute_input": "2024-10-07T07:14:54.473900Z",
     "iopub.status.busy": "2024-10-07T07:14:54.473496Z",
     "iopub.status.idle": "2024-10-07T07:14:54.546769Z",
     "shell.execute_reply": "2024-10-07T07:14:54.545882Z",
     "shell.execute_reply.started": "2024-10-07T07:14:54.473858Z"
    }
   },
   "outputs": [
    {
     "data": {
      "text/html": [
       "<div>\n",
       "<style scoped>\n",
       "    .dataframe tbody tr th:only-of-type {\n",
       "        vertical-align: middle;\n",
       "    }\n",
       "\n",
       "    .dataframe tbody tr th {\n",
       "        vertical-align: top;\n",
       "    }\n",
       "\n",
       "    .dataframe thead th {\n",
       "        text-align: right;\n",
       "    }\n",
       "</style>\n",
       "<table border=\"1\" class=\"dataframe\">\n",
       "  <thead>\n",
       "    <tr style=\"text-align: right;\">\n",
       "      <th></th>\n",
       "      <th>Filtered Morphs</th>\n",
       "    </tr>\n",
       "  </thead>\n",
       "  <tbody>\n",
       "    <tr>\n",
       "      <th>0</th>\n",
       "      <td>부산/NNP 살/VV 부산/NNP 떠나/VV ㅠㅠ/NNG 부산/NNP 싫/VA 바다...</td>\n",
       "    </tr>\n",
       "    <tr>\n",
       "      <th>1</th>\n",
       "      <td>며칠/NNG 전/NNG 생치/NNP 보/VV 오/VV 마블/NNG 영화/NNG 맞/...</td>\n",
       "    </tr>\n",
       "    <tr>\n",
       "      <th>2</th>\n",
       "      <td>백신/NNG 접종/NNG 차/NNG 마치/VV 사람/NNG 시/NNG 식당/NNG ...</td>\n",
       "    </tr>\n",
       "    <tr>\n",
       "      <th>3</th>\n",
       "      <td>길/NNG 가/VV 선임/NNG 만나/VV 키키/NNG 엥/NNG 만나/VV 키키/...</td>\n",
       "    </tr>\n",
       "    <tr>\n",
       "      <th>4</th>\n",
       "      <td>제주도/NNP 여행/NNG 가/VV 이번/NNG 가/VV 되/VV 코스/NNG 짜/...</td>\n",
       "    </tr>\n",
       "  </tbody>\n",
       "</table>\n",
       "</div>"
      ],
      "text/plain": [
       "                                     Filtered Morphs\n",
       "0  부산/NNP 살/VV 부산/NNP 떠나/VV ㅠㅠ/NNG 부산/NNP 싫/VA 바다...\n",
       "1  며칠/NNG 전/NNG 생치/NNP 보/VV 오/VV 마블/NNG 영화/NNG 맞/...\n",
       "2  백신/NNG 접종/NNG 차/NNG 마치/VV 사람/NNG 시/NNG 식당/NNG ...\n",
       "3  길/NNG 가/VV 선임/NNG 만나/VV 키키/NNG 엥/NNG 만나/VV 키키/...\n",
       "4  제주도/NNP 여행/NNG 가/VV 이번/NNG 가/VV 되/VV 코스/NNG 짜/..."
      ]
     },
     "execution_count": 3,
     "metadata": {},
     "output_type": "execute_result"
    }
   ],
   "source": [
    "common_data_filtered_pos_data_path =\"~/aiffel/aiffel/dlthon/AIFFEL_DLthon/개인/연우/filtered_pos_data_class_casual/filtered_pos-tagged_normal.csv\"\n",
    "common_data_filtered_pos_data = pd.read_csv(common_data_filtered_pos_data_path)\n",
    "common_data_filtered_pos_data.head()"
   ]
  },
  {
   "cell_type": "code",
   "execution_count": 4,
   "id": "93afb649",
   "metadata": {
    "execution": {
     "iopub.execute_input": "2024-10-07T07:14:54.550016Z",
     "iopub.status.busy": "2024-10-07T07:14:54.549631Z",
     "iopub.status.idle": "2024-10-07T07:14:54.568198Z",
     "shell.execute_reply": "2024-10-07T07:14:54.567279Z",
     "shell.execute_reply.started": "2024-10-07T07:14:54.549970Z"
    }
   },
   "outputs": [
    {
     "data": {
      "text/html": [
       "<div>\n",
       "<style scoped>\n",
       "    .dataframe tbody tr th:only-of-type {\n",
       "        vertical-align: middle;\n",
       "    }\n",
       "\n",
       "    .dataframe tbody tr th {\n",
       "        vertical-align: top;\n",
       "    }\n",
       "\n",
       "    .dataframe thead th {\n",
       "        text-align: right;\n",
       "    }\n",
       "</style>\n",
       "<table border=\"1\" class=\"dataframe\">\n",
       "  <thead>\n",
       "    <tr style=\"text-align: right;\">\n",
       "      <th></th>\n",
       "      <th>class</th>\n",
       "      <th>conversation</th>\n",
       "    </tr>\n",
       "  </thead>\n",
       "  <tbody>\n",
       "    <tr>\n",
       "      <th>0</th>\n",
       "      <td>일반 대화</td>\n",
       "      <td>부산/NNP 살/VV 부산/NNP 떠나/VV ㅠㅠ/NNG 부산/NNP 싫/VA 바다...</td>\n",
       "    </tr>\n",
       "    <tr>\n",
       "      <th>1</th>\n",
       "      <td>일반 대화</td>\n",
       "      <td>며칠/NNG 전/NNG 생치/NNP 보/VV 오/VV 마블/NNG 영화/NNG 맞/...</td>\n",
       "    </tr>\n",
       "    <tr>\n",
       "      <th>2</th>\n",
       "      <td>일반 대화</td>\n",
       "      <td>백신/NNG 접종/NNG 차/NNG 마치/VV 사람/NNG 시/NNG 식당/NNG ...</td>\n",
       "    </tr>\n",
       "    <tr>\n",
       "      <th>3</th>\n",
       "      <td>일반 대화</td>\n",
       "      <td>길/NNG 가/VV 선임/NNG 만나/VV 키키/NNG 엥/NNG 만나/VV 키키/...</td>\n",
       "    </tr>\n",
       "    <tr>\n",
       "      <th>4</th>\n",
       "      <td>일반 대화</td>\n",
       "      <td>제주도/NNP 여행/NNG 가/VV 이번/NNG 가/VV 되/VV 코스/NNG 짜/...</td>\n",
       "    </tr>\n",
       "  </tbody>\n",
       "</table>\n",
       "</div>"
      ],
      "text/plain": [
       "   class                                       conversation\n",
       "0  일반 대화  부산/NNP 살/VV 부산/NNP 떠나/VV ㅠㅠ/NNG 부산/NNP 싫/VA 바다...\n",
       "1  일반 대화  며칠/NNG 전/NNG 생치/NNP 보/VV 오/VV 마블/NNG 영화/NNG 맞/...\n",
       "2  일반 대화  백신/NNG 접종/NNG 차/NNG 마치/VV 사람/NNG 시/NNG 식당/NNG ...\n",
       "3  일반 대화  길/NNG 가/VV 선임/NNG 만나/VV 키키/NNG 엥/NNG 만나/VV 키키/...\n",
       "4  일반 대화  제주도/NNP 여행/NNG 가/VV 이번/NNG 가/VV 되/VV 코스/NNG 짜/..."
      ]
     },
     "execution_count": 4,
     "metadata": {},
     "output_type": "execute_result"
    }
   ],
   "source": [
    "common_data_filtered_pos_data = common_data_filtered_pos_data.dropna()\n",
    "\n",
    "common_data_filtered_pos_data['class'] = '일반 대화'\n",
    "\n",
    "common_data_filtered_pos_data['conversation']=common_data_filtered_pos_data['Filtered Morphs']\n",
    "common_data_filtered_pos_data = common_data_filtered_pos_data.drop(columns=['Filtered Morphs'])\n",
    "\n",
    "common_data_filtered_pos_data.head()"
   ]
  },
  {
   "cell_type": "code",
   "execution_count": 5,
   "id": "fab97f4d",
   "metadata": {
    "execution": {
     "iopub.execute_input": "2024-10-07T07:14:54.569388Z",
     "iopub.status.busy": "2024-10-07T07:14:54.569080Z",
     "iopub.status.idle": "2024-10-07T07:14:54.578972Z",
     "shell.execute_reply": "2024-10-07T07:14:54.578133Z",
     "shell.execute_reply.started": "2024-10-07T07:14:54.569357Z"
    }
   },
   "outputs": [
    {
     "name": "stdout",
     "output_type": "stream",
     "text": [
      "2534\n"
     ]
    }
   ],
   "source": [
    "print(len(common_data_filtered_pos_data))"
   ]
  },
  {
   "cell_type": "code",
   "execution_count": 6,
   "id": "487340a2",
   "metadata": {
    "execution": {
     "iopub.execute_input": "2024-10-07T07:14:54.580467Z",
     "iopub.status.busy": "2024-10-07T07:14:54.580181Z",
     "iopub.status.idle": "2024-10-07T07:14:54.605760Z",
     "shell.execute_reply": "2024-10-07T07:14:54.604887Z",
     "shell.execute_reply.started": "2024-10-07T07:14:54.580437Z"
    }
   },
   "outputs": [
    {
     "data": {
      "text/html": [
       "<div>\n",
       "<style scoped>\n",
       "    .dataframe tbody tr th:only-of-type {\n",
       "        vertical-align: middle;\n",
       "    }\n",
       "\n",
       "    .dataframe tbody tr th {\n",
       "        vertical-align: top;\n",
       "    }\n",
       "\n",
       "    .dataframe thead th {\n",
       "        text-align: right;\n",
       "    }\n",
       "</style>\n",
       "<table border=\"1\" class=\"dataframe\">\n",
       "  <thead>\n",
       "    <tr style=\"text-align: right;\">\n",
       "      <th></th>\n",
       "      <th>idx</th>\n",
       "      <th>class</th>\n",
       "      <th>conversation</th>\n",
       "    </tr>\n",
       "  </thead>\n",
       "  <tbody>\n",
       "    <tr>\n",
       "      <th>0</th>\n",
       "      <td>3753.0</td>\n",
       "      <td>직장 내 괴롭힘 대화</td>\n",
       "      <td>오늘 몇시에 왔나\\n죄송합니다 제가 늦었습니다 정말 죄송합니다\\n뭐 늦을 수도 있지...</td>\n",
       "    </tr>\n",
       "    <tr>\n",
       "      <th>1</th>\n",
       "      <td>1873.0</td>\n",
       "      <td>협박 대화</td>\n",
       "      <td>지금 당장 뉴스 기사 내가 불러준 대로 보도 해\\n 팩트 체크가 되지 않은 기사는 ...</td>\n",
       "    </tr>\n",
       "    <tr>\n",
       "      <th>2</th>\n",
       "      <td>2887.0</td>\n",
       "      <td>기타 괴롭힘 대화</td>\n",
       "      <td>아이스케키 \\n야 왜이래 치마를 왜 들어 \\n아이 왜 이런긴 너가 너무 예뻐서 그래...</td>\n",
       "    </tr>\n",
       "    <tr>\n",
       "      <th>3</th>\n",
       "      <td>3194.0</td>\n",
       "      <td>갈취 대화</td>\n",
       "      <td>엄마 이거 내가 써도 되는거지?\\n철수야. 그거 엄마 병원빈데.\\n엄마 어디아파? ...</td>\n",
       "    </tr>\n",
       "    <tr>\n",
       "      <th>4</th>\n",
       "      <td>3712.0</td>\n",
       "      <td>기타 괴롭힘 대화</td>\n",
       "      <td>야 니네집 시장에서 생선가게 하냐?\\n응?. 아니 우리 생선가게 안하는데.\\n아 근...</td>\n",
       "    </tr>\n",
       "  </tbody>\n",
       "</table>\n",
       "</div>"
      ],
      "text/plain": [
       "      idx        class                                       conversation\n",
       "0  3753.0  직장 내 괴롭힘 대화  오늘 몇시에 왔나\\n죄송합니다 제가 늦었습니다 정말 죄송합니다\\n뭐 늦을 수도 있지...\n",
       "1  1873.0        협박 대화  지금 당장 뉴스 기사 내가 불러준 대로 보도 해\\n 팩트 체크가 되지 않은 기사는 ...\n",
       "2  2887.0    기타 괴롭힘 대화  아이스케키 \\n야 왜이래 치마를 왜 들어 \\n아이 왜 이런긴 너가 너무 예뻐서 그래...\n",
       "3  3194.0        갈취 대화  엄마 이거 내가 써도 되는거지?\\n철수야. 그거 엄마 병원빈데.\\n엄마 어디아파? ...\n",
       "4  3712.0    기타 괴롭힘 대화  야 니네집 시장에서 생선가게 하냐?\\n응?. 아니 우리 생선가게 안하는데.\\n아 근..."
      ]
     },
     "execution_count": 6,
     "metadata": {},
     "output_type": "execute_result"
    }
   ],
   "source": [
    "train_data = pd.concat([train_data, common_data_filtered_pos_data[:1000]], ignore_index=True)\n",
    "train_data = train_data.sample(frac=1).reset_index(drop=True)\n",
    "train_data.head()"
   ]
  },
  {
   "cell_type": "code",
   "execution_count": 7,
   "id": "1f11eff8",
   "metadata": {
    "execution": {
     "iopub.execute_input": "2024-10-07T07:14:54.607176Z",
     "iopub.status.busy": "2024-10-07T07:14:54.606889Z",
     "iopub.status.idle": "2024-10-07T07:14:57.077855Z",
     "shell.execute_reply": "2024-10-07T07:14:57.076940Z",
     "shell.execute_reply.started": "2024-10-07T07:14:54.607146Z"
    },
    "scrolled": true
   },
   "outputs": [
    {
     "name": "stdout",
     "output_type": "stream",
     "text": [
      "Train Data Info:\n",
      "<class 'pandas.core.frame.DataFrame'>\n",
      "RangeIndex: 4950 entries, 0 to 4949\n",
      "Data columns (total 3 columns):\n",
      " #   Column        Non-Null Count  Dtype  \n",
      "---  ------        --------------  -----  \n",
      " 0   idx           3950 non-null   float64\n",
      " 1   class         4950 non-null   object \n",
      " 2   conversation  4950 non-null   object \n",
      "dtypes: float64(1), object(2)\n",
      "memory usage: 116.1+ KB\n",
      "None\n"
     ]
    },
    {
     "data": {
      "image/png": "[encoded data removed]",
      "text/plain": [
       "<Figure size 720x432 with 1 Axes>"
      ]
     },
     "metadata": {
      "needs_background": "light"
     },
     "output_type": "display_data"
    },
    {
     "data": {
      "image/png": "[encoded data removed]",
      "text/plain": [
       "<Figure size 576x576 with 1 Axes>"
      ]
     },
     "metadata": {},
     "output_type": "display_data"
    },
    {
     "data": {
      "image/png": "[encoded data removed]",
      "text/plain": [
       "<Figure size 720x432 with 1 Axes>"
      ]
     },
     "metadata": {
      "needs_background": "light"
     },
     "output_type": "display_data"
    },
    {
     "data": {
      "image/png": "[encoded data removed]",
      "text/plain": [
       "<Figure size 864x432 with 1 Axes>"
      ]
     },
     "metadata": {
      "needs_background": "light"
     },
     "output_type": "display_data"
    },
    {
     "data": {
      "image/png": "[encoded data removed]",
      "text/plain": [
       "<Figure size 864x432 with 1 Axes>"
      ]
     },
     "metadata": {
      "needs_background": "light"
     },
     "output_type": "display_data"
    },
    {
     "data": {
      "image/png": "[encoded data removed]",
      "text/plain": [
       "<Figure size 720x432 with 1 Axes>"
      ]
     },
     "metadata": {
      "needs_background": "light"
     },
     "output_type": "display_data"
    },
    {
     "data": {
      "image/png": "[encoded data removed]",
      "text/plain": [
       "<Figure size 864x432 with 1 Axes>"
      ]
     },
     "metadata": {
      "needs_background": "light"
     },
     "output_type": "display_data"
    }
   ],
   "source": [
    "# 한글 폰트 설정 (여기서는 'NanumGothic' 폰트를 사용)\n",
    "plt.rcParams['font.family'] = 'NanumGothic'\n",
    "\n",
    "# 데이터 기본 정보 확인\n",
    "print(\"Train Data Info:\")\n",
    "print(train_data.info())  # 데이터 타입, 결측치 확인\n",
    "\n",
    "# 1. 'class' 컬럼의 분포 확인\n",
    "plt.figure(figsize=(10, 6))\n",
    "sns.countplot(x='class', data=train_data)\n",
    "plt.title('각 클래스의 개수')\n",
    "plt.show()\n",
    "\n",
    "# 2. 'class' 컬럼의 비율을 Pie Chart로 시각화\n",
    "plt.figure(figsize=(8, 8))\n",
    "train_data['class'].value_counts().plot.pie(autopct='%1.1f%%', startangle=90, colors=sns.color_palette('pastel'))\n",
    "plt.title('각 클래스의 비율')\n",
    "plt.ylabel('')  # Y-label 제거\n",
    "plt.show()\n",
    "\n",
    "# 3. 'conversation' 텍스트의 길이 분포 확인 (각 문장의 문자 수)\n",
    "train_data['text_length'] = train_data['conversation'].apply(len)\n",
    "\n",
    "plt.figure(figsize=(10, 6))\n",
    "sns.histplot(train_data['text_length'], kde=True)\n",
    "plt.title('대화 길이 분포 (문자 수)')\n",
    "plt.xlabel('문자 수')\n",
    "plt.ylabel('빈도')\n",
    "plt.show()\n",
    "\n",
    "# 4. 'class'별로 'conversation' 길이 분포 확인 (Violin Plot)\n",
    "plt.figure(figsize=(12, 6))\n",
    "sns.violinplot(x='class', y='text_length', data=train_data, palette='Set2')\n",
    "plt.title('클래스별 대화 길이 분포 (문자 수)')\n",
    "plt.xlabel('클래스')\n",
    "plt.ylabel('대화 길이 (문자 수)')\n",
    "plt.show()\n",
    "\n",
    "# 5. 'class'별로 'conversation' 길이 상자 그림(Boxplot)\n",
    "plt.figure(figsize=(12, 6))\n",
    "sns.boxplot(x='class', y='text_length', data=train_data, palette='Set1')\n",
    "plt.title('클래스별 대화 길이 상자 그림 (문자 수)')\n",
    "plt.xlabel('클래스')\n",
    "plt.ylabel('대화 길이 (문자 수)')\n",
    "plt.show()\n",
    "\n",
    "# 6. 'class'별로 대화 내용의 단어 수 분포 확인\n",
    "train_data['word_count'] = train_data['conversation'].apply(lambda x: len(x.split()))\n",
    "\n",
    "plt.figure(figsize=(10, 6))\n",
    "sns.histplot(train_data['word_count'], kde=True, color='purple')\n",
    "plt.title('대화의 단어 수 분포')\n",
    "plt.xlabel('단어 수')\n",
    "plt.ylabel('빈도')\n",
    "plt.show()\n",
    "\n",
    "# 7. 'class'별로 단어 수 분포 확인 (Violin Plot)\n",
    "plt.figure(figsize=(12, 6))\n",
    "sns.violinplot(x='class', y='word_count', data=train_data, palette='coolwarm')\n",
    "plt.title('클래스별 단어 수 분포')\n",
    "plt.xlabel('클래스')\n",
    "plt.ylabel('단어 수')\n",
    "plt.show()"
   ]
  },
  {
   "cell_type": "code",
   "execution_count": 8,
   "id": "f6e58e17",
   "metadata": {
    "execution": {
     "iopub.execute_input": "2024-10-07T07:14:57.079394Z",
     "iopub.status.busy": "2024-10-07T07:14:57.079102Z",
     "iopub.status.idle": "2024-10-07T07:14:57.088918Z",
     "shell.execute_reply": "2024-10-07T07:14:57.088190Z",
     "shell.execute_reply.started": "2024-10-07T07:14:57.079362Z"
    }
   },
   "outputs": [
    {
     "data": {
      "text/plain": [
       "idx             1000\n",
       "class              0\n",
       "conversation       0\n",
       "text_length        0\n",
       "word_count         0\n",
       "dtype: int64"
      ]
     },
     "execution_count": 8,
     "metadata": {},
     "output_type": "execute_result"
    }
   ],
   "source": [
    "train_data.isnull().sum()"
   ]
  },
  {
   "cell_type": "markdown",
   "id": "47271dbf",
   "metadata": {},
   "source": [
    "# 2. 라벨 인코딩 & 데이터 정제"
   ]
  },
  {
   "cell_type": "markdown",
   "id": "5f1a1723",
   "metadata": {},
   "source": [
    "라벨 인코딩"
   ]
  },
  {
   "cell_type": "code",
   "execution_count": 9,
   "id": "acc166b5",
   "metadata": {
    "execution": {
     "iopub.execute_input": "2024-10-07T07:14:57.090719Z",
     "iopub.status.busy": "2024-10-07T07:14:57.090386Z",
     "iopub.status.idle": "2024-10-07T07:14:57.129205Z",
     "shell.execute_reply": "2024-10-07T07:14:57.128316Z",
     "shell.execute_reply.started": "2024-10-07T07:14:57.090687Z"
    }
   },
   "outputs": [
    {
     "data": {
      "text/html": [
       "<div>\n",
       "<style scoped>\n",
       "    .dataframe tbody tr th:only-of-type {\n",
       "        vertical-align: middle;\n",
       "    }\n",
       "\n",
       "    .dataframe tbody tr th {\n",
       "        vertical-align: top;\n",
       "    }\n",
       "\n",
       "    .dataframe thead th {\n",
       "        text-align: right;\n",
       "    }\n",
       "</style>\n",
       "<table border=\"1\" class=\"dataframe\">\n",
       "  <thead>\n",
       "    <tr style=\"text-align: right;\">\n",
       "      <th></th>\n",
       "      <th>idx</th>\n",
       "      <th>class</th>\n",
       "      <th>conversation</th>\n",
       "      <th>text_length</th>\n",
       "      <th>word_count</th>\n",
       "    </tr>\n",
       "  </thead>\n",
       "  <tbody>\n",
       "    <tr>\n",
       "      <th>0</th>\n",
       "      <td>3753.0</td>\n",
       "      <td>3</td>\n",
       "      <td>오늘 몇시에 왔나\\n죄송합니다 제가 늦었습니다 정말 죄송합니다\\n뭐 늦을 수도 있지...</td>\n",
       "      <td>269</td>\n",
       "      <td>62</td>\n",
       "    </tr>\n",
       "    <tr>\n",
       "      <th>1</th>\n",
       "      <td>1873.0</td>\n",
       "      <td>4</td>\n",
       "      <td>지금 당장 뉴스 기사 내가 불러준 대로 보도 해\\n 팩트 체크가 되지 않은 기사는 ...</td>\n",
       "      <td>257</td>\n",
       "      <td>72</td>\n",
       "    </tr>\n",
       "    <tr>\n",
       "      <th>2</th>\n",
       "      <td>2887.0</td>\n",
       "      <td>1</td>\n",
       "      <td>아이스케키 \\n야 왜이래 치마를 왜 들어 \\n아이 왜 이런긴 너가 너무 예뻐서 그래...</td>\n",
       "      <td>141</td>\n",
       "      <td>35</td>\n",
       "    </tr>\n",
       "    <tr>\n",
       "      <th>3</th>\n",
       "      <td>3194.0</td>\n",
       "      <td>0</td>\n",
       "      <td>엄마 이거 내가 써도 되는거지?\\n철수야. 그거 엄마 병원빈데.\\n엄마 어디아파? ...</td>\n",
       "      <td>315</td>\n",
       "      <td>81</td>\n",
       "    </tr>\n",
       "    <tr>\n",
       "      <th>4</th>\n",
       "      <td>3712.0</td>\n",
       "      <td>1</td>\n",
       "      <td>야 니네집 시장에서 생선가게 하냐?\\n응?. 아니 우리 생선가게 안하는데.\\n아 근...</td>\n",
       "      <td>235</td>\n",
       "      <td>62</td>\n",
       "    </tr>\n",
       "  </tbody>\n",
       "</table>\n",
       "</div>"
      ],
      "text/plain": [
       "      idx  class                                       conversation  \\\n",
       "0  3753.0      3  오늘 몇시에 왔나\\n죄송합니다 제가 늦었습니다 정말 죄송합니다\\n뭐 늦을 수도 있지...   \n",
       "1  1873.0      4  지금 당장 뉴스 기사 내가 불러준 대로 보도 해\\n 팩트 체크가 되지 않은 기사는 ...   \n",
       "2  2887.0      1  아이스케키 \\n야 왜이래 치마를 왜 들어 \\n아이 왜 이런긴 너가 너무 예뻐서 그래...   \n",
       "3  3194.0      0  엄마 이거 내가 써도 되는거지?\\n철수야. 그거 엄마 병원빈데.\\n엄마 어디아파? ...   \n",
       "4  3712.0      1  야 니네집 시장에서 생선가게 하냐?\\n응?. 아니 우리 생선가게 안하는데.\\n아 근...   \n",
       "\n",
       "   text_length  word_count  \n",
       "0          269          62  \n",
       "1          257          72  \n",
       "2          141          35  \n",
       "3          315          81  \n",
       "4          235          62  "
      ]
     },
     "execution_count": 9,
     "metadata": {},
     "output_type": "execute_result"
    }
   ],
   "source": [
    "CLASS_NAMES = ['협박 대화', '갈취 대화', '직장 내 괴롭힘 대화', '기타 괴롭힘 대화', '일반 대화']\n",
    "\n",
    "label_size = len(CLASS_NAMES)\n",
    "\n",
    "encoder = LabelEncoder()\n",
    "encoder.fit(CLASS_NAMES)\n",
    "\n",
    "train_data['class'] = encoder.transform(train_data['class'])\n",
    "train_data.head()"
   ]
  },
  {
   "cell_type": "code",
   "execution_count": 10,
   "id": "ead3f851",
   "metadata": {
    "execution": {
     "iopub.execute_input": "2024-10-07T07:14:57.134217Z",
     "iopub.status.busy": "2024-10-07T07:14:57.133883Z",
     "iopub.status.idle": "2024-10-07T07:14:57.141551Z",
     "shell.execute_reply": "2024-10-07T07:14:57.140661Z",
     "shell.execute_reply.started": "2024-10-07T07:14:57.134185Z"
    }
   },
   "outputs": [],
   "source": [
    "# 데이터 정제 함수\n",
    "def preprocess_sentence(sentence):\n",
    "\n",
    "    # 앞뒤 공백 제거\n",
    "    sentence = sentence.strip()\n",
    "    # 한글, 영어, 숫자, 구두점 외 제거\n",
    "    sentence = re.sub(r\"[^가-힣ㄱ-ㅎㅏ-ㅣa-zA-Z0-9.,!? ]\", \" \", sentence)\n",
    "    # 단어와 구두점(punctuation) 사이의 거리를 만듭니다.\n",
    "    # 예를 들어서 \"I am a student.\" => \"I am a student .\"와 같이\n",
    "    # student와 온점 사이에 거리를 만듭니다.\n",
    "    sentence = re.sub(r\"([?.!,])\", r\" \\1 \", sentence)\n",
    "    sentence = re.sub(r'[\" \"]+', \" \", sentence)\n",
    "    # 다중 공백을 단일 공백으로\n",
    "    sentence = re.sub(r\"\\s+\", \" \", sentence)\n",
    "    \n",
    "    # ㅋㅋ, ㅎㅎ, ㅠㅠ 등을 정규화\n",
    "    sentence = re.sub(r'ㅋ{2,}', 'ㅋㅋ', sentence)  # 연속된 ㅋ를 ㅋㅋ로 통일\n",
    "    sentence = re.sub(r'ㅎ{2,}', 'ㅎㅎ', sentence)  # 연속된 ㅎ를 ㅎㅎ로 통일\n",
    "    sentence = re.sub(r'ㅠ{2,}', 'ㅠㅠ', sentence)  # 연속된 ㅠ를 ㅠㅠ로 통일\n",
    "\n",
    "    return sentence"
   ]
  },
  {
   "cell_type": "code",
   "execution_count": 11,
   "id": "0e6bea56",
   "metadata": {
    "execution": {
     "iopub.execute_input": "2024-10-07T07:14:57.143408Z",
     "iopub.status.busy": "2024-10-07T07:14:57.142726Z",
     "iopub.status.idle": "2024-10-07T07:14:57.830169Z",
     "shell.execute_reply": "2024-10-07T07:14:57.829146Z",
     "shell.execute_reply.started": "2024-10-07T07:14:57.143375Z"
    }
   },
   "outputs": [
    {
     "data": {
      "text/plain": [
       "4950"
      ]
     },
     "execution_count": 11,
     "metadata": {},
     "output_type": "execute_result"
    }
   ],
   "source": [
    "# 데이터 정제\n",
    "clean_data=[]\n",
    "\n",
    "for x in train_data['conversation']:\n",
    "    clean_data.append(preprocess_sentence(x))\n",
    "    \n",
    "len(clean_data)"
   ]
  },
  {
   "cell_type": "code",
   "execution_count": 12,
   "id": "7fa9b320",
   "metadata": {
    "execution": {
     "iopub.execute_input": "2024-10-07T07:14:57.831554Z",
     "iopub.status.busy": "2024-10-07T07:14:57.831250Z",
     "iopub.status.idle": "2024-10-07T07:14:57.836309Z",
     "shell.execute_reply": "2024-10-07T07:14:57.835337Z",
     "shell.execute_reply.started": "2024-10-07T07:14:57.831522Z"
    }
   },
   "outputs": [],
   "source": [
    "# 정제된 데이터 conversation에 저장\n",
    "train_data['conversation'] = clean_data"
   ]
  },
  {
   "cell_type": "markdown",
   "id": "aa537fae",
   "metadata": {},
   "source": [
    "# 3. 데이터셋 분리"
   ]
  },
  {
   "cell_type": "code",
   "execution_count": 13,
   "id": "9b6710de",
   "metadata": {
    "execution": {
     "iopub.execute_input": "2024-10-07T07:14:57.838154Z",
     "iopub.status.busy": "2024-10-07T07:14:57.837757Z",
     "iopub.status.idle": "2024-10-07T07:14:57.847942Z",
     "shell.execute_reply": "2024-10-07T07:14:57.847076Z",
     "shell.execute_reply.started": "2024-10-07T07:14:57.838114Z"
    }
   },
   "outputs": [],
   "source": [
    "# input, target 리스트화\n",
    "train_texts = train_data['conversation'].to_list() # Features (not-tokenized yet)\n",
    "train_labels = train_data[\"class\"].to_list() # Labels"
   ]
  },
  {
   "cell_type": "code",
   "execution_count": 14,
   "id": "0672577d",
   "metadata": {
    "execution": {
     "iopub.execute_input": "2024-10-07T07:14:57.849402Z",
     "iopub.status.busy": "2024-10-07T07:14:57.849090Z",
     "iopub.status.idle": "2024-10-07T07:14:57.864236Z",
     "shell.execute_reply": "2024-10-07T07:14:57.863211Z",
     "shell.execute_reply.started": "2024-10-07T07:14:57.849370Z"
    }
   },
   "outputs": [
    {
     "name": "stdout",
     "output_type": "stream",
     "text": [
      "x_train lenght : 3712\n",
      "x_test lenght : 1238\n",
      "y_train lenght : 3712\n",
      "y_test lenght : 1238\n"
     ]
    }
   ],
   "source": [
    "x_train, x_test, y_train, y_test = train_test_split(train_texts, train_labels, test_size=0.25, random_state=14561)\n",
    "\n",
    "print(\"x_train lenght :\", len(x_train))\n",
    "print(\"x_test lenght :\", len(x_test))\n",
    "print(\"y_train lenght :\", len(y_train))\n",
    "print(\"y_test lenght :\", len(y_test))"
   ]
  },
  {
   "cell_type": "code",
   "execution_count": 15,
   "id": "7d619f51",
   "metadata": {
    "execution": {
     "iopub.execute_input": "2024-10-07T07:14:57.865510Z",
     "iopub.status.busy": "2024-10-07T07:14:57.865252Z",
     "iopub.status.idle": "2024-10-07T07:14:57.878163Z",
     "shell.execute_reply": "2024-10-07T07:14:57.877155Z",
     "shell.execute_reply.started": "2024-10-07T07:14:57.865482Z"
    },
    "scrolled": true
   },
   "outputs": [
    {
     "name": "stdout",
     "output_type": "stream",
     "text": [
      "x_train lenght : 2598\n",
      "x_val lenght : 1114\n",
      "y_train lenght : 2598\n",
      "y_val lenght : 1114\n"
     ]
    }
   ],
   "source": [
    "x_train, x_val, y_train, y_val = train_test_split(x_train, y_train, test_size=0.3, random_state=14561)\n",
    "\n",
    "print(\"x_train lenght :\", len(x_train))\n",
    "print(\"x_val lenght :\", len(x_val))\n",
    "print(\"y_train lenght :\", len(y_train))\n",
    "print(\"y_val lenght :\", len(y_val))"
   ]
  },
  {
   "cell_type": "markdown",
   "id": "5d3065a2",
   "metadata": {},
   "source": [
    "# 4. 사전 훈련된 모델의 토크나이저 load"
   ]
  },
  {
   "cell_type": "code",
   "execution_count": 16,
   "id": "ea4deb9a",
   "metadata": {
    "execution": {
     "iopub.execute_input": "2024-10-07T07:14:57.880291Z",
     "iopub.status.busy": "2024-10-07T07:14:57.879533Z",
     "iopub.status.idle": "2024-10-07T07:15:00.796498Z",
     "shell.execute_reply": "2024-10-07T07:15:00.795481Z",
     "shell.execute_reply.started": "2024-10-07T07:14:57.880213Z"
    },
    "scrolled": true
   },
   "outputs": [],
   "source": [
    "HUGGINGFACE_MODEL_PATH = \"klue/bert-base\"\n",
    "\n",
    "klue_bert_tokenizer = BertTokenizerFast.from_pretrained(HUGGINGFACE_MODEL_PATH)"
   ]
  },
  {
   "cell_type": "markdown",
   "id": "8d046463",
   "metadata": {},
   "source": [
    "# 5. 토큰화 & 숫자 시퀀스로 변환"
   ]
  },
  {
   "cell_type": "code",
   "execution_count": 17,
   "id": "2cea26b9",
   "metadata": {
    "execution": {
     "iopub.execute_input": "2024-10-07T07:15:00.797977Z",
     "iopub.status.busy": "2024-10-07T07:15:00.797652Z",
     "iopub.status.idle": "2024-10-07T07:15:01.845798Z",
     "shell.execute_reply": "2024-10-07T07:15:01.844753Z",
     "shell.execute_reply.started": "2024-10-07T07:15:00.797931Z"
    },
    "scrolled": true
   },
   "outputs": [],
   "source": [
    "# Tokenizing\n",
    "train_encodings = klue_bert_tokenizer(x_train, truncation=True, padding=True)\n",
    "val_encodings = klue_bert_tokenizer(x_val, truncation=True, padding=True)\n",
    "test_encodings = klue_bert_tokenizer(x_test, truncation=True, padding=True)"
   ]
  },
  {
   "cell_type": "markdown",
   "id": "8e68d8ac",
   "metadata": {},
   "source": [
    "# 6. 훈련에 사용될 dataset 생성"
   ]
  },
  {
   "cell_type": "markdown",
   "id": "edbfd4b2",
   "metadata": {},
   "source": [
    "데이터셋 객체 생성"
   ]
  },
  {
   "cell_type": "code",
   "execution_count": 18,
   "id": "2ef687d7",
   "metadata": {
    "execution": {
     "iopub.execute_input": "2024-10-07T07:15:01.847331Z",
     "iopub.status.busy": "2024-10-07T07:15:01.846987Z",
     "iopub.status.idle": "2024-10-07T07:15:12.490646Z",
     "shell.execute_reply": "2024-10-07T07:15:12.489826Z",
     "shell.execute_reply.started": "2024-10-07T07:15:01.847297Z"
    }
   },
   "outputs": [],
   "source": [
    "train_dataset = tf.data.Dataset.from_tensor_slices((\n",
    "        dict(train_encodings),\n",
    "        y_train\n",
    "))"
   ]
  },
  {
   "cell_type": "code",
   "execution_count": 19,
   "id": "8d9e9f1e",
   "metadata": {
    "execution": {
     "iopub.execute_input": "2024-10-07T07:15:12.492220Z",
     "iopub.status.busy": "2024-10-07T07:15:12.491833Z",
     "iopub.status.idle": "2024-10-07T07:15:16.943403Z",
     "shell.execute_reply": "2024-10-07T07:15:16.942613Z",
     "shell.execute_reply.started": "2024-10-07T07:15:12.492178Z"
    }
   },
   "outputs": [],
   "source": [
    "val_dataset = tf.data.Dataset.from_tensor_slices((\n",
    "        dict(val_encodings),\n",
    "        y_val\n",
    "))"
   ]
  },
  {
   "cell_type": "markdown",
   "id": "5c8fe76c",
   "metadata": {},
   "source": [
    "# 7. 사전 훈련된 모델 load"
   ]
  },
  {
   "cell_type": "code",
   "execution_count": 20,
   "id": "73ac1c61",
   "metadata": {
    "execution": {
     "iopub.execute_input": "2024-10-07T07:24:38.698642Z",
     "iopub.status.busy": "2024-10-07T07:24:38.698226Z",
     "iopub.status.idle": "2024-10-07T07:24:38.708672Z",
     "shell.execute_reply": "2024-10-07T07:24:38.707764Z",
     "shell.execute_reply.started": "2024-10-07T07:24:38.698604Z"
    }
   },
   "outputs": [],
   "source": [
    "class F1Score(tf.keras.metrics.Metric):\n",
    "    def __init__(self, name='f1_score', **kwargs):\n",
    "        super(F1Score, self).__init__(name=name, **kwargs)\n",
    "        self.precision = tf.keras.metrics.Precision()\n",
    "        self.recall = tf.keras.metrics.Recall()\n",
    "        \n",
    "\n",
    "    def update_state(self, y_true, y_pred, sample_weight=None):\n",
    "        \n",
    "        y_true_one_hot = tf.one_hot(y_true, depth=label_size) # shape=(None, 1, 5)\n",
    "        # 차원 축소하여 (None, 5)로 변경\n",
    "        y_true_one_hot = tf.squeeze(y_true_one_hot, axis=1)\n",
    "\n",
    "        \n",
    "        # 로짓을 소프트맥스로 변환하여 클래스 확률로 변환\n",
    "        y_pred = tf.nn.softmax(y_pred) # shape=(None, 5)\n",
    "        \n",
    "        self.precision.update_state(y_true_one_hot, y_pred, sample_weight)\n",
    "        self.recall.update_state(y_true_one_hot, y_pred, sample_weight)\n",
    "\n",
    "    def result(self):\n",
    "        precision = self.precision.result()\n",
    "        recall = self.recall.result()\n",
    "        return 2 * ((precision * recall) / (precision + recall + tf.keras.backend.epsilon()))\n",
    "\n",
    "    def reset_states(self):\n",
    "        self.precision.reset_states()\n",
    "        self.recall.reset_states()"
   ]
  },
  {
   "cell_type": "code",
   "execution_count": 21,
   "id": "0068ac3c",
   "metadata": {
    "execution": {
     "iopub.execute_input": "2024-10-07T07:24:40.766903Z",
     "iopub.status.busy": "2024-10-07T07:24:40.766510Z",
     "iopub.status.idle": "2024-10-07T07:24:42.479866Z",
     "shell.execute_reply": "2024-10-07T07:24:42.479079Z",
     "shell.execute_reply.started": "2024-10-07T07:24:40.766866Z"
    },
    "scrolled": true
   },
   "outputs": [
    {
     "name": "stderr",
     "output_type": "stream",
     "text": [
      "Some weights of the PyTorch model were not used when initializing the TF 2.0 model TFBertForSequenceClassification: ['bert.embeddings.position_ids']\n",
      "- This IS expected if you are initializing TFBertForSequenceClassification from a PyTorch model trained on another task or with another architecture (e.g. initializing a TFBertForSequenceClassification model from a BertForPreTraining model).\n",
      "- This IS NOT expected if you are initializing TFBertForSequenceClassification from a PyTorch model that you expect to be exactly identical (e.g. initializing a TFBertForSequenceClassification model from a BertForSequenceClassification model).\n",
      "Some weights or buffers of the TF 2.0 model TFBertForSequenceClassification were not initialized from the PyTorch model and are newly initialized: ['classifier.weight', 'classifier.bias']\n",
      "You should probably TRAIN this model on a down-stream task to be able to use it for predictions and inference.\n"
     ]
    }
   ],
   "source": [
    "num_labels = len(encoder.classes_)\n",
    "klue_bert_model = TFBertForSequenceClassification.from_pretrained(HUGGINGFACE_MODEL_PATH, num_labels=num_labels, from_pt=True)\n",
    "\n",
    "optimizer = tf.keras.optimizers.Adam(learning_rate=2.5e-5)\n",
    "loss_fn = tf.keras.losses.SparseCategoricalCrossentropy(from_logits=True)\n",
    "klue_bert_model.compile(optimizer=optimizer, loss=loss_fn, metrics=['accuracy', F1Score()])"
   ]
  },
  {
   "cell_type": "code",
   "execution_count": 22,
   "id": "db239756",
   "metadata": {
    "execution": {
     "iopub.execute_input": "2024-10-07T07:24:48.513609Z",
     "iopub.status.busy": "2024-10-07T07:24:48.513196Z",
     "iopub.status.idle": "2024-10-07T07:24:48.528441Z",
     "shell.execute_reply": "2024-10-07T07:24:48.527416Z",
     "shell.execute_reply.started": "2024-10-07T07:24:48.513569Z"
    }
   },
   "outputs": [],
   "source": [
    "# Electra 층 동결\n",
    "klue_bert_model.bert.trainable = False"
   ]
  },
  {
   "cell_type": "code",
   "execution_count": 23,
   "id": "69a7f339",
   "metadata": {
    "execution": {
     "iopub.execute_input": "2024-10-07T07:24:50.208939Z",
     "iopub.status.busy": "2024-10-07T07:24:50.208588Z",
     "iopub.status.idle": "2024-10-07T07:24:50.245906Z",
     "shell.execute_reply": "2024-10-07T07:24:50.245002Z",
     "shell.execute_reply.started": "2024-10-07T07:24:50.208905Z"
    },
    "scrolled": true
   },
   "outputs": [
    {
     "name": "stdout",
     "output_type": "stream",
     "text": [
      "Model: \"tf_bert_for_sequence_classification\"\n",
      "_________________________________________________________________\n",
      "Layer (type)                 Output Shape              Param #   \n",
      "=================================================================\n",
      "bert (TFBertMainLayer)       multiple                  110617344 \n",
      "_________________________________________________________________\n",
      "dropout_37 (Dropout)         multiple                  0         \n",
      "_________________________________________________________________\n",
      "classifier (Dense)           multiple                  3845      \n",
      "=================================================================\n",
      "Total params: 110,621,189\n",
      "Trainable params: 3,845\n",
      "Non-trainable params: 110,617,344\n",
      "_________________________________________________________________\n"
     ]
    }
   ],
   "source": [
    "klue_bert_model.summary()"
   ]
  },
  {
   "cell_type": "markdown",
   "id": "2eae74a4",
   "metadata": {},
   "source": [
    "# 8. 모델 훈련"
   ]
  },
  {
   "cell_type": "code",
   "execution_count": 24,
   "id": "3907eb7d",
   "metadata": {
    "execution": {
     "iopub.execute_input": "2024-10-07T07:24:52.280248Z",
     "iopub.status.busy": "2024-10-07T07:24:52.279858Z",
     "iopub.status.idle": "2024-10-07T07:44:04.873714Z",
     "shell.execute_reply": "2024-10-07T07:44:04.872677Z",
     "shell.execute_reply.started": "2024-10-07T07:24:52.280209Z"
    }
   },
   "outputs": [
    {
     "name": "stdout",
     "output_type": "stream",
     "text": [
      "Epoch 1/6\n",
      "186/186 [==============================] - ETA: 0s - loss: 0.5295 - accuracy: 0.8179 - f1_score: 0.8065"
     ]
    },
    {
     "name": "stderr",
     "output_type": "stream",
     "text": [
      "/opt/conda/lib/python3.9/site-packages/keras/metrics.py:254: UserWarning: Metric F1Score implements a `reset_states()` method; rename it to `reset_state()` (without the final \"s\"). The name `reset_states()` has been deprecated to improve API consistency.\n",
      "  warnings.warn('Metric %s implements a `reset_states()` method; rename it '\n"
     ]
    },
    {
     "name": "stdout",
     "output_type": "stream",
     "text": [
      "186/186 [==============================] - 326s 2s/step - loss: 0.5295 - accuracy: 0.8179 - f1_score: 0.8065 - val_loss: 0.2831 - val_accuracy: 0.9138 - val_f1_score: 0.9128\n",
      "Epoch 2/6\n",
      "186/186 [==============================] - 310s 2s/step - loss: 0.1851 - accuracy: 0.9450 - f1_score: 0.9438 - val_loss: 0.2838 - val_accuracy: 0.9165 - val_f1_score: 0.9140\n",
      "Epoch 3/6\n",
      "186/186 [==============================] - 310s 2s/step - loss: 0.0925 - accuracy: 0.9765 - f1_score: 0.9767 - val_loss: 0.2666 - val_accuracy: 0.9210 - val_f1_score: 0.9225\n",
      "Epoch 4/6\n",
      "186/186 [==============================] - 310s 2s/step - loss: 0.0498 - accuracy: 0.9873 - f1_score: 0.9879 - val_loss: 0.2502 - val_accuracy: 0.9309 - val_f1_score: 0.9299\n",
      "Epoch 5/6\n",
      "186/186 [==============================] - 310s 2s/step - loss: 0.0344 - accuracy: 0.9919 - f1_score: 0.9921 - val_loss: 0.3055 - val_accuracy: 0.9138 - val_f1_score: 0.9153\n",
      "Epoch 6/6\n",
      "186/186 [==============================] - 310s 2s/step - loss: 0.0177 - accuracy: 0.9969 - f1_score: 0.9969 - val_loss: 0.2998 - val_accuracy: 0.9363 - val_f1_score: 0.9353\n"
     ]
    },
    {
     "data": {
      "text/plain": [
       "<keras.callbacks.History at 0x7aa56813d610>"
      ]
     },
     "execution_count": 24,
     "metadata": {},
     "output_type": "execute_result"
    }
   ],
   "source": [
    "# 학습 데이터셋을 사용해 학습\n",
    "klue_bert_model.fit(\n",
    "    train_dataset.shuffle(1000).batch(14), epochs=6,\n",
    "    validation_data=val_dataset.shuffle(1000).batch(14)\n",
    ")"
   ]
  },
  {
   "cell_type": "markdown",
   "id": "423243db",
   "metadata": {},
   "source": [
    "# 9. 모델 저장"
   ]
  },
  {
   "cell_type": "code",
   "execution_count": 25,
   "id": "d7232898",
   "metadata": {
    "execution": {
     "iopub.execute_input": "2024-10-07T07:51:48.684604Z",
     "iopub.status.busy": "2024-10-07T07:51:48.684214Z",
     "iopub.status.idle": "2024-10-07T07:51:49.751231Z",
     "shell.execute_reply": "2024-10-07T07:51:49.750321Z",
     "shell.execute_reply.started": "2024-10-07T07:51:48.684570Z"
    }
   },
   "outputs": [
    {
     "name": "stdout",
     "output_type": "stream",
     "text": [
      "/aiffel/aiffel/aiffel/dlthon/klue-bert-base_filtered_pos_data(common_data) -- Folder already exists \n",
      "\n"
     ]
    }
   ],
   "source": [
    "def save_model(model, tokenizer, MODEL_NAME, MODEL_SAVE_PATH):\n",
    "    # label을 숫자형태로 encoding 진행함\n",
    "    # decoding 숫자 -> label 변환\n",
    "    try:\n",
    "        \n",
    "        id2labels = model.config.id2label\n",
    "        model.config.id2label = {id : encoder.inverse_transform([int(re.sub('LABEL_', '', label))])[0]  for id, label in id2labels.items()}\n",
    "\n",
    "        label2ids = model.config.label2id\n",
    "        model.config.label2id = {encoder.inverse_transform([int(re.sub('LABEL_', '', label))])[0] : id   for id, label in id2labels.items()}\n",
    "        \n",
    "    except Exception as e:\n",
    "        print(\"label이 이미 decoding 되있습니다!\")\n",
    "\n",
    "    if os.path.exists(MODEL_SAVE_PATH):\n",
    "        print(f\"{MODEL_SAVE_PATH} -- Folder already exists \\n\")\n",
    "    else:\n",
    "        os.makedirs(MODEL_SAVE_PATH, exist_ok=True)\n",
    "        print(f\"{MODEL_SAVE_PATH} -- Folder create complete \\n\")\n",
    "\n",
    "    # save tokenizer, model\n",
    "    model.save_pretrained(MODEL_SAVE_PATH, save_format='tf')\n",
    "    tokenizer.save_pretrained(MODEL_SAVE_PATH)\n",
    "    \n",
    "MODEL_NAME = \"klue-bert-base_filtered_pos_data(common_data)\"\n",
    "MODEL_SAVE_PATH = os.path.join(os.getenv('HOME')+\"/aiffel/aiffel/dlthon/\", MODEL_NAME) \n",
    "\n",
    "save_model(klue_bert_model, klue_bert_tokenizer, MODEL_NAME, MODEL_SAVE_PATH)\n",
    "klue_bert_model.save_weights(\"klue_bert_weights.h5\")"
   ]
  },
  {
   "cell_type": "markdown",
   "id": "818a7685",
   "metadata": {},
   "source": [
    "# 10. 저장된 모델 load"
   ]
  },
  {
   "cell_type": "code",
   "execution_count": 26,
   "id": "6b1b9ee1",
   "metadata": {
    "execution": {
     "iopub.execute_input": "2024-10-07T07:46:17.799689Z",
     "iopub.status.busy": "2024-10-07T07:46:17.799294Z",
     "iopub.status.idle": "2024-10-07T07:46:18.973008Z",
     "shell.execute_reply": "2024-10-07T07:46:18.972173Z",
     "shell.execute_reply.started": "2024-10-07T07:46:17.799651Z"
    },
    "scrolled": true
   },
   "outputs": [
    {
     "name": "stderr",
     "output_type": "stream",
     "text": [
      "Some layers from the model checkpoint at /aiffel/aiffel/aiffel/dlthon/klue-bert-base_filtered_pos_data(common_data) were not used when initializing TFBertForSequenceClassification: ['dropout_37']\n",
      "- This IS expected if you are initializing TFBertForSequenceClassification from the checkpoint of a model trained on another task or with another architecture (e.g. initializing a BertForSequenceClassification model from a BertForPreTraining model).\n",
      "- This IS NOT expected if you are initializing TFBertForSequenceClassification from the checkpoint of a model that you expect to be exactly identical (initializing a BertForSequenceClassification model from a BertForSequenceClassification model).\n",
      "All the layers of TFBertForSequenceClassification were initialized from the model checkpoint at /aiffel/aiffel/aiffel/dlthon/klue-bert-base_filtered_pos_data(common_data).\n",
      "If your task is similar to the task the model of the checkpoint was trained on, you can already use TFBertForSequenceClassification for predictions without further training.\n"
     ]
    }
   ],
   "source": [
    "from transformers import TextClassificationPipeline\n",
    "\n",
    "# Load Fine-tuning model\n",
    "loaded_tokenizer = BertTokenizerFast.from_pretrained(MODEL_SAVE_PATH)\n",
    "loaded_model = TFBertForSequenceClassification.from_pretrained(MODEL_SAVE_PATH)\n",
    "\n",
    "text_classifier = TextClassificationPipeline(\n",
    "    tokenizer=loaded_tokenizer, \n",
    "    model=loaded_model, \n",
    "    framework='tf',\n",
    "    return_all_scores=True\n",
    ")"
   ]
  },
  {
   "cell_type": "markdown",
   "id": "0c7e3e7d",
   "metadata": {},
   "source": [
    "# 11. 평가"
   ]
  },
  {
   "cell_type": "markdown",
   "id": "51c9c3e3",
   "metadata": {},
   "source": [
    "예측"
   ]
  },
  {
   "cell_type": "code",
   "execution_count": 27,
   "id": "79d090c8",
   "metadata": {
    "execution": {
     "iopub.execute_input": "2024-10-07T07:46:23.887677Z",
     "iopub.status.busy": "2024-10-07T07:46:23.887178Z",
     "iopub.status.idle": "2024-10-07T07:48:21.589440Z",
     "shell.execute_reply": "2024-10-07T07:48:21.587441Z",
     "shell.execute_reply.started": "2024-10-07T07:46:23.887628Z"
    }
   },
   "outputs": [
    {
     "name": "stderr",
     "output_type": "stream",
     "text": [
      "predictive processing:   1%|▏         | 18/1238 [00:09<11:12,  1.81it/s]\n"
     ]
    },
    {
     "ename": "KeyboardInterrupt",
     "evalue": "",
     "output_type": "error",
     "traceback": [
      "\u001b[0;31m---------------------------------------------------------------------------\u001b[0m",
      "\u001b[0;31mKeyboardInterrupt\u001b[0m                         Traceback (most recent call last)",
      "\u001b[0;32m/tmp/ipykernel_5043/1650961120.py\u001b[0m in \u001b[0;36m<module>\u001b[0;34m\u001b[0m\n\u001b[1;32m     20\u001b[0m     \u001b[0;32mreturn\u001b[0m \u001b[0mf1\u001b[0m\u001b[0;34m\u001b[0m\u001b[0;34m\u001b[0m\u001b[0m\n\u001b[1;32m     21\u001b[0m \u001b[0;34m\u001b[0m\u001b[0m\n\u001b[0;32m---> 22\u001b[0;31m \u001b[0mf1\u001b[0m \u001b[0;34m=\u001b[0m \u001b[0mf1_score_calculation_macro\u001b[0m\u001b[0;34m(\u001b[0m\u001b[0mx_test\u001b[0m\u001b[0;34m,\u001b[0m \u001b[0my_test\u001b[0m\u001b[0;34m,\u001b[0m \u001b[0mtext_classifier\u001b[0m\u001b[0;34m)\u001b[0m\u001b[0;34m\u001b[0m\u001b[0;34m\u001b[0m\u001b[0m\n\u001b[0m\u001b[1;32m     23\u001b[0m \u001b[0mprint\u001b[0m\u001b[0;34m(\u001b[0m\u001b[0;34m\"F1 Score:\"\u001b[0m\u001b[0;34m,\u001b[0m \u001b[0mf1\u001b[0m\u001b[0;34m)\u001b[0m\u001b[0;34m\u001b[0m\u001b[0;34m\u001b[0m\u001b[0m\n",
      "\u001b[0;32m/tmp/ipykernel_5043/1650961120.py\u001b[0m in \u001b[0;36mf1_score_calculation_macro\u001b[0;34m(data, label, text_classifier)\u001b[0m\n\u001b[1;32m      4\u001b[0m     \u001b[0;32mfor\u001b[0m \u001b[0mtext\u001b[0m \u001b[0;32min\u001b[0m \u001b[0mtqdm\u001b[0m\u001b[0;34m(\u001b[0m\u001b[0mdata\u001b[0m\u001b[0;34m,\u001b[0m \u001b[0mdesc\u001b[0m\u001b[0;34m=\u001b[0m\u001b[0;34m\"predictive processing\"\u001b[0m\u001b[0;34m,\u001b[0m \u001b[0mtotal\u001b[0m\u001b[0;34m=\u001b[0m\u001b[0mlen\u001b[0m\u001b[0;34m(\u001b[0m\u001b[0mdata\u001b[0m\u001b[0;34m)\u001b[0m\u001b[0;34m)\u001b[0m\u001b[0;34m:\u001b[0m\u001b[0;34m\u001b[0m\u001b[0;34m\u001b[0m\u001b[0m\n\u001b[1;32m      5\u001b[0m         \u001b[0;31m# predict\u001b[0m\u001b[0;34m\u001b[0m\u001b[0;34m\u001b[0m\u001b[0m\n\u001b[0;32m----> 6\u001b[0;31m         \u001b[0mpreds_list\u001b[0m \u001b[0;34m=\u001b[0m \u001b[0mtext_classifier\u001b[0m\u001b[0;34m(\u001b[0m\u001b[0mtext\u001b[0m\u001b[0;34m)\u001b[0m\u001b[0;34m[\u001b[0m\u001b[0;36m0\u001b[0m\u001b[0;34m]\u001b[0m\u001b[0;34m\u001b[0m\u001b[0;34m\u001b[0m\u001b[0m\n\u001b[0m\u001b[1;32m      7\u001b[0m \u001b[0;34m\u001b[0m\u001b[0m\n\u001b[1;32m      8\u001b[0m         \u001b[0msorted_preds_list\u001b[0m \u001b[0;34m=\u001b[0m \u001b[0msorted\u001b[0m\u001b[0;34m(\u001b[0m\u001b[0mpreds_list\u001b[0m\u001b[0;34m,\u001b[0m \u001b[0mkey\u001b[0m\u001b[0;34m=\u001b[0m\u001b[0;32mlambda\u001b[0m \u001b[0mx\u001b[0m\u001b[0;34m:\u001b[0m \u001b[0mx\u001b[0m\u001b[0;34m[\u001b[0m\u001b[0;34m'score'\u001b[0m\u001b[0;34m]\u001b[0m\u001b[0;34m,\u001b[0m \u001b[0mreverse\u001b[0m\u001b[0;34m=\u001b[0m\u001b[0;32mTrue\u001b[0m\u001b[0;34m)\u001b[0m\u001b[0;34m\u001b[0m\u001b[0;34m\u001b[0m\u001b[0m\n",
      "\u001b[0;32m/opt/conda/lib/python3.9/site-packages/transformers/pipelines/text_classification.py\u001b[0m in \u001b[0;36m__call__\u001b[0;34m(self, *args, **kwargs)\u001b[0m\n\u001b[1;32m    124\u001b[0m             \u001b[0mIf\u001b[0m\u001b[0;31m \u001b[0m\u001b[0;31m`\u001b[0m\u001b[0;31m`\u001b[0m\u001b[0mself\u001b[0m\u001b[0;34m.\u001b[0m\u001b[0mreturn_all_scores\u001b[0m\u001b[0;34m=\u001b[0m\u001b[0;32mTrue\u001b[0m\u001b[0;31m`\u001b[0m\u001b[0;31m`\u001b[0m\u001b[0;34m,\u001b[0m \u001b[0mone\u001b[0m \u001b[0msuch\u001b[0m \u001b[0mdictionary\u001b[0m \u001b[0;32mis\u001b[0m \u001b[0mreturned\u001b[0m \u001b[0mper\u001b[0m \u001b[0mlabel\u001b[0m\u001b[0;34m.\u001b[0m\u001b[0;34m\u001b[0m\u001b[0;34m\u001b[0m\u001b[0m\n\u001b[1;32m    125\u001b[0m         \"\"\"\n\u001b[0;32m--> 126\u001b[0;31m         \u001b[0;32mreturn\u001b[0m \u001b[0msuper\u001b[0m\u001b[0;34m(\u001b[0m\u001b[0;34m)\u001b[0m\u001b[0;34m.\u001b[0m\u001b[0m__call__\u001b[0m\u001b[0;34m(\u001b[0m\u001b[0;34m*\u001b[0m\u001b[0margs\u001b[0m\u001b[0;34m,\u001b[0m \u001b[0;34m**\u001b[0m\u001b[0mkwargs\u001b[0m\u001b[0;34m)\u001b[0m\u001b[0;34m\u001b[0m\u001b[0;34m\u001b[0m\u001b[0m\n\u001b[0m\u001b[1;32m    127\u001b[0m \u001b[0;34m\u001b[0m\u001b[0m\n\u001b[1;32m    128\u001b[0m     \u001b[0;32mdef\u001b[0m \u001b[0mpreprocess\u001b[0m\u001b[0;34m(\u001b[0m\u001b[0mself\u001b[0m\u001b[0;34m,\u001b[0m \u001b[0minputs\u001b[0m\u001b[0;34m,\u001b[0m \u001b[0;34m**\u001b[0m\u001b[0mtokenizer_kwargs\u001b[0m\u001b[0;34m)\u001b[0m \u001b[0;34m->\u001b[0m \u001b[0mDict\u001b[0m\u001b[0;34m[\u001b[0m\u001b[0mstr\u001b[0m\u001b[0;34m,\u001b[0m \u001b[0mGenericTensor\u001b[0m\u001b[0;34m]\u001b[0m\u001b[0;34m:\u001b[0m\u001b[0;34m\u001b[0m\u001b[0;34m\u001b[0m\u001b[0m\n",
      "\u001b[0;32m/opt/conda/lib/python3.9/site-packages/transformers/pipelines/base.py\u001b[0m in \u001b[0;36m__call__\u001b[0;34m(self, inputs, num_workers, *args, **kwargs)\u001b[0m\n\u001b[1;32m    913\u001b[0m             \u001b[0;32mreturn\u001b[0m \u001b[0mself\u001b[0m\u001b[0;34m.\u001b[0m\u001b[0mget_iterator\u001b[0m\u001b[0;34m(\u001b[0m\u001b[0minputs\u001b[0m\u001b[0;34m,\u001b[0m \u001b[0mnum_workers\u001b[0m\u001b[0;34m,\u001b[0m \u001b[0mpreprocess_params\u001b[0m\u001b[0;34m,\u001b[0m \u001b[0mforward_params\u001b[0m\u001b[0;34m,\u001b[0m \u001b[0mpostprocess_params\u001b[0m\u001b[0;34m)\u001b[0m\u001b[0;34m\u001b[0m\u001b[0;34m\u001b[0m\u001b[0m\n\u001b[1;32m    914\u001b[0m         \u001b[0;32melse\u001b[0m\u001b[0;34m:\u001b[0m\u001b[0;34m\u001b[0m\u001b[0;34m\u001b[0m\u001b[0m\n\u001b[0;32m--> 915\u001b[0;31m             \u001b[0;32mreturn\u001b[0m \u001b[0mself\u001b[0m\u001b[0;34m.\u001b[0m\u001b[0mrun_single\u001b[0m\u001b[0;34m(\u001b[0m\u001b[0minputs\u001b[0m\u001b[0;34m,\u001b[0m \u001b[0mpreprocess_params\u001b[0m\u001b[0;34m,\u001b[0m \u001b[0mforward_params\u001b[0m\u001b[0;34m,\u001b[0m \u001b[0mpostprocess_params\u001b[0m\u001b[0;34m)\u001b[0m\u001b[0;34m\u001b[0m\u001b[0;34m\u001b[0m\u001b[0m\n\u001b[0m\u001b[1;32m    916\u001b[0m \u001b[0;34m\u001b[0m\u001b[0m\n\u001b[1;32m    917\u001b[0m     \u001b[0;32mdef\u001b[0m \u001b[0mrun_multi\u001b[0m\u001b[0;34m(\u001b[0m\u001b[0mself\u001b[0m\u001b[0;34m,\u001b[0m \u001b[0minputs\u001b[0m\u001b[0;34m,\u001b[0m \u001b[0mpreprocess_params\u001b[0m\u001b[0;34m,\u001b[0m \u001b[0mforward_params\u001b[0m\u001b[0;34m,\u001b[0m \u001b[0mpostprocess_params\u001b[0m\u001b[0;34m)\u001b[0m\u001b[0;34m:\u001b[0m\u001b[0;34m\u001b[0m\u001b[0;34m\u001b[0m\u001b[0m\n",
      "\u001b[0;32m/opt/conda/lib/python3.9/site-packages/transformers/pipelines/text_classification.py\u001b[0m in \u001b[0;36mrun_single\u001b[0;34m(self, inputs, preprocess_params, forward_params, postprocess_params)\u001b[0m\n\u001b[1;32m    170\u001b[0m     \u001b[0;32mdef\u001b[0m \u001b[0mrun_single\u001b[0m\u001b[0;34m(\u001b[0m\u001b[0mself\u001b[0m\u001b[0;34m,\u001b[0m \u001b[0minputs\u001b[0m\u001b[0;34m,\u001b[0m \u001b[0mpreprocess_params\u001b[0m\u001b[0;34m,\u001b[0m \u001b[0mforward_params\u001b[0m\u001b[0;34m,\u001b[0m \u001b[0mpostprocess_params\u001b[0m\u001b[0;34m)\u001b[0m\u001b[0;34m:\u001b[0m\u001b[0;34m\u001b[0m\u001b[0;34m\u001b[0m\u001b[0m\n\u001b[1;32m    171\u001b[0m         \u001b[0;34m\"This pipeline is odd, and return a list when single item is run\"\u001b[0m\u001b[0;34m\u001b[0m\u001b[0;34m\u001b[0m\u001b[0m\n\u001b[0;32m--> 172\u001b[0;31m         \u001b[0;32mreturn\u001b[0m \u001b[0;34m[\u001b[0m\u001b[0msuper\u001b[0m\u001b[0;34m(\u001b[0m\u001b[0;34m)\u001b[0m\u001b[0;34m.\u001b[0m\u001b[0mrun_single\u001b[0m\u001b[0;34m(\u001b[0m\u001b[0minputs\u001b[0m\u001b[0;34m,\u001b[0m \u001b[0mpreprocess_params\u001b[0m\u001b[0;34m,\u001b[0m \u001b[0mforward_params\u001b[0m\u001b[0;34m,\u001b[0m \u001b[0mpostprocess_params\u001b[0m\u001b[0;34m)\u001b[0m\u001b[0;34m]\u001b[0m\u001b[0;34m\u001b[0m\u001b[0;34m\u001b[0m\u001b[0m\n\u001b[0m",
      "\u001b[0;32m/opt/conda/lib/python3.9/site-packages/transformers/pipelines/base.py\u001b[0m in \u001b[0;36mrun_single\u001b[0;34m(self, inputs, preprocess_params, forward_params, postprocess_params)\u001b[0m\n\u001b[1;32m    920\u001b[0m     \u001b[0;32mdef\u001b[0m \u001b[0mrun_single\u001b[0m\u001b[0;34m(\u001b[0m\u001b[0mself\u001b[0m\u001b[0;34m,\u001b[0m \u001b[0minputs\u001b[0m\u001b[0;34m,\u001b[0m \u001b[0mpreprocess_params\u001b[0m\u001b[0;34m,\u001b[0m \u001b[0mforward_params\u001b[0m\u001b[0;34m,\u001b[0m \u001b[0mpostprocess_params\u001b[0m\u001b[0;34m)\u001b[0m\u001b[0;34m:\u001b[0m\u001b[0;34m\u001b[0m\u001b[0;34m\u001b[0m\u001b[0m\n\u001b[1;32m    921\u001b[0m         \u001b[0mmodel_inputs\u001b[0m \u001b[0;34m=\u001b[0m \u001b[0mself\u001b[0m\u001b[0;34m.\u001b[0m\u001b[0mpreprocess\u001b[0m\u001b[0;34m(\u001b[0m\u001b[0minputs\u001b[0m\u001b[0;34m,\u001b[0m \u001b[0;34m**\u001b[0m\u001b[0mpreprocess_params\u001b[0m\u001b[0;34m)\u001b[0m\u001b[0;34m\u001b[0m\u001b[0;34m\u001b[0m\u001b[0m\n\u001b[0;32m--> 922\u001b[0;31m         \u001b[0mmodel_outputs\u001b[0m \u001b[0;34m=\u001b[0m \u001b[0mself\u001b[0m\u001b[0;34m.\u001b[0m\u001b[0mforward\u001b[0m\u001b[0;34m(\u001b[0m\u001b[0mmodel_inputs\u001b[0m\u001b[0;34m,\u001b[0m \u001b[0;34m**\u001b[0m\u001b[0mforward_params\u001b[0m\u001b[0;34m)\u001b[0m\u001b[0;34m\u001b[0m\u001b[0;34m\u001b[0m\u001b[0m\n\u001b[0m\u001b[1;32m    923\u001b[0m         \u001b[0moutputs\u001b[0m \u001b[0;34m=\u001b[0m \u001b[0mself\u001b[0m\u001b[0;34m.\u001b[0m\u001b[0mpostprocess\u001b[0m\u001b[0;34m(\u001b[0m\u001b[0mmodel_outputs\u001b[0m\u001b[0;34m,\u001b[0m \u001b[0;34m**\u001b[0m\u001b[0mpostprocess_params\u001b[0m\u001b[0;34m)\u001b[0m\u001b[0;34m\u001b[0m\u001b[0;34m\u001b[0m\u001b[0m\n\u001b[1;32m    924\u001b[0m         \u001b[0;32mreturn\u001b[0m \u001b[0moutputs\u001b[0m\u001b[0;34m\u001b[0m\u001b[0;34m\u001b[0m\u001b[0m\n",
      "\u001b[0;32m/opt/conda/lib/python3.9/site-packages/transformers/pipelines/base.py\u001b[0m in \u001b[0;36mforward\u001b[0;34m(self, model_inputs, **forward_params)\u001b[0m\n\u001b[1;32m    865\u001b[0m             \u001b[0;32mif\u001b[0m \u001b[0mself\u001b[0m\u001b[0;34m.\u001b[0m\u001b[0mframework\u001b[0m \u001b[0;34m==\u001b[0m \u001b[0;34m\"tf\"\u001b[0m\u001b[0;34m:\u001b[0m\u001b[0;34m\u001b[0m\u001b[0;34m\u001b[0m\u001b[0m\n\u001b[1;32m    866\u001b[0m                 \u001b[0mmodel_inputs\u001b[0m\u001b[0;34m[\u001b[0m\u001b[0;34m\"training\"\u001b[0m\u001b[0;34m]\u001b[0m \u001b[0;34m=\u001b[0m \u001b[0;32mFalse\u001b[0m\u001b[0;34m\u001b[0m\u001b[0;34m\u001b[0m\u001b[0m\n\u001b[0;32m--> 867\u001b[0;31m                 \u001b[0mmodel_outputs\u001b[0m \u001b[0;34m=\u001b[0m \u001b[0mself\u001b[0m\u001b[0;34m.\u001b[0m\u001b[0m_forward\u001b[0m\u001b[0;34m(\u001b[0m\u001b[0mmodel_inputs\u001b[0m\u001b[0;34m,\u001b[0m \u001b[0;34m**\u001b[0m\u001b[0mforward_params\u001b[0m\u001b[0;34m)\u001b[0m\u001b[0;34m\u001b[0m\u001b[0;34m\u001b[0m\u001b[0m\n\u001b[0m\u001b[1;32m    868\u001b[0m             \u001b[0;32melif\u001b[0m \u001b[0mself\u001b[0m\u001b[0;34m.\u001b[0m\u001b[0mframework\u001b[0m \u001b[0;34m==\u001b[0m \u001b[0;34m\"pt\"\u001b[0m\u001b[0;34m:\u001b[0m\u001b[0;34m\u001b[0m\u001b[0;34m\u001b[0m\u001b[0m\n\u001b[1;32m    869\u001b[0m                 \u001b[0;32mwith\u001b[0m \u001b[0mtorch\u001b[0m\u001b[0;34m.\u001b[0m\u001b[0mno_grad\u001b[0m\u001b[0;34m(\u001b[0m\u001b[0;34m)\u001b[0m\u001b[0;34m:\u001b[0m\u001b[0;34m\u001b[0m\u001b[0;34m\u001b[0m\u001b[0m\n",
      "\u001b[0;32m/opt/conda/lib/python3.9/site-packages/transformers/pipelines/text_classification.py\u001b[0m in \u001b[0;36m_forward\u001b[0;34m(self, model_inputs)\u001b[0m\n\u001b[1;32m    131\u001b[0m \u001b[0;34m\u001b[0m\u001b[0m\n\u001b[1;32m    132\u001b[0m     \u001b[0;32mdef\u001b[0m \u001b[0m_forward\u001b[0m\u001b[0;34m(\u001b[0m\u001b[0mself\u001b[0m\u001b[0;34m,\u001b[0m \u001b[0mmodel_inputs\u001b[0m\u001b[0;34m)\u001b[0m\u001b[0;34m:\u001b[0m\u001b[0;34m\u001b[0m\u001b[0;34m\u001b[0m\u001b[0m\n\u001b[0;32m--> 133\u001b[0;31m         \u001b[0;32mreturn\u001b[0m \u001b[0mself\u001b[0m\u001b[0;34m.\u001b[0m\u001b[0mmodel\u001b[0m\u001b[0;34m(\u001b[0m\u001b[0;34m**\u001b[0m\u001b[0mmodel_inputs\u001b[0m\u001b[0;34m)\u001b[0m\u001b[0;34m\u001b[0m\u001b[0;34m\u001b[0m\u001b[0m\n\u001b[0m\u001b[1;32m    134\u001b[0m \u001b[0;34m\u001b[0m\u001b[0m\n\u001b[1;32m    135\u001b[0m     \u001b[0;32mdef\u001b[0m \u001b[0mpostprocess\u001b[0m\u001b[0;34m(\u001b[0m\u001b[0mself\u001b[0m\u001b[0;34m,\u001b[0m \u001b[0mmodel_outputs\u001b[0m\u001b[0;34m,\u001b[0m \u001b[0mfunction_to_apply\u001b[0m\u001b[0;34m=\u001b[0m\u001b[0;32mNone\u001b[0m\u001b[0;34m,\u001b[0m \u001b[0mreturn_all_scores\u001b[0m\u001b[0;34m=\u001b[0m\u001b[0;32mFalse\u001b[0m\u001b[0;34m)\u001b[0m\u001b[0;34m:\u001b[0m\u001b[0;34m\u001b[0m\u001b[0;34m\u001b[0m\u001b[0m\n",
      "\u001b[0;32m/opt/conda/lib/python3.9/site-packages/keras/engine/base_layer.py\u001b[0m in \u001b[0;36m__call__\u001b[0;34m(self, *args, **kwargs)\u001b[0m\n\u001b[1;32m   1035\u001b[0m         with autocast_variable.enable_auto_cast_variables(\n\u001b[1;32m   1036\u001b[0m             self._compute_dtype_object):\n\u001b[0;32m-> 1037\u001b[0;31m           \u001b[0moutputs\u001b[0m \u001b[0;34m=\u001b[0m \u001b[0mcall_fn\u001b[0m\u001b[0;34m(\u001b[0m\u001b[0minputs\u001b[0m\u001b[0;34m,\u001b[0m \u001b[0;34m*\u001b[0m\u001b[0margs\u001b[0m\u001b[0;34m,\u001b[0m \u001b[0;34m**\u001b[0m\u001b[0mkwargs\u001b[0m\u001b[0;34m)\u001b[0m\u001b[0;34m\u001b[0m\u001b[0;34m\u001b[0m\u001b[0m\n\u001b[0m\u001b[1;32m   1038\u001b[0m \u001b[0;34m\u001b[0m\u001b[0m\n\u001b[1;32m   1039\u001b[0m         \u001b[0;32mif\u001b[0m \u001b[0mself\u001b[0m\u001b[0;34m.\u001b[0m\u001b[0m_activity_regularizer\u001b[0m\u001b[0;34m:\u001b[0m\u001b[0;34m\u001b[0m\u001b[0;34m\u001b[0m\u001b[0m\n",
      "\u001b[0;32m/opt/conda/lib/python3.9/site-packages/transformers/models/bert/modeling_tf_bert.py\u001b[0m in \u001b[0;36mcall\u001b[0;34m(self, input_ids, attention_mask, token_type_ids, position_ids, head_mask, inputs_embeds, output_attentions, output_hidden_states, return_dict, labels, training, **kwargs)\u001b[0m\n\u001b[1;32m   1441\u001b[0m             \u001b[0mkwargs_call\u001b[0m\u001b[0;34m=\u001b[0m\u001b[0mkwargs\u001b[0m\u001b[0;34m,\u001b[0m\u001b[0;34m\u001b[0m\u001b[0;34m\u001b[0m\u001b[0m\n\u001b[1;32m   1442\u001b[0m         )\n\u001b[0;32m-> 1443\u001b[0;31m         outputs = self.bert(\n\u001b[0m\u001b[1;32m   1444\u001b[0m             \u001b[0minput_ids\u001b[0m\u001b[0;34m=\u001b[0m\u001b[0minputs\u001b[0m\u001b[0;34m[\u001b[0m\u001b[0;34m\"input_ids\"\u001b[0m\u001b[0;34m]\u001b[0m\u001b[0;34m,\u001b[0m\u001b[0;34m\u001b[0m\u001b[0;34m\u001b[0m\u001b[0m\n\u001b[1;32m   1445\u001b[0m             \u001b[0mattention_mask\u001b[0m\u001b[0;34m=\u001b[0m\u001b[0minputs\u001b[0m\u001b[0;34m[\u001b[0m\u001b[0;34m\"attention_mask\"\u001b[0m\u001b[0;34m]\u001b[0m\u001b[0;34m,\u001b[0m\u001b[0;34m\u001b[0m\u001b[0;34m\u001b[0m\u001b[0m\n",
      "\u001b[0;32m/opt/conda/lib/python3.9/site-packages/keras/engine/base_layer.py\u001b[0m in \u001b[0;36m__call__\u001b[0;34m(self, *args, **kwargs)\u001b[0m\n\u001b[1;32m   1035\u001b[0m         with autocast_variable.enable_auto_cast_variables(\n\u001b[1;32m   1036\u001b[0m             self._compute_dtype_object):\n\u001b[0;32m-> 1037\u001b[0;31m           \u001b[0moutputs\u001b[0m \u001b[0;34m=\u001b[0m \u001b[0mcall_fn\u001b[0m\u001b[0;34m(\u001b[0m\u001b[0minputs\u001b[0m\u001b[0;34m,\u001b[0m \u001b[0;34m*\u001b[0m\u001b[0margs\u001b[0m\u001b[0;34m,\u001b[0m \u001b[0;34m**\u001b[0m\u001b[0mkwargs\u001b[0m\u001b[0;34m)\u001b[0m\u001b[0;34m\u001b[0m\u001b[0;34m\u001b[0m\u001b[0m\n\u001b[0m\u001b[1;32m   1038\u001b[0m \u001b[0;34m\u001b[0m\u001b[0m\n\u001b[1;32m   1039\u001b[0m         \u001b[0;32mif\u001b[0m \u001b[0mself\u001b[0m\u001b[0;34m.\u001b[0m\u001b[0m_activity_regularizer\u001b[0m\u001b[0;34m:\u001b[0m\u001b[0;34m\u001b[0m\u001b[0;34m\u001b[0m\u001b[0m\n",
      "\u001b[0;32m/opt/conda/lib/python3.9/site-packages/transformers/models/bert/modeling_tf_bert.py\u001b[0m in \u001b[0;36mcall\u001b[0;34m(self, input_ids, attention_mask, token_type_ids, position_ids, head_mask, inputs_embeds, output_attentions, output_hidden_states, return_dict, training, **kwargs)\u001b[0m\n\u001b[1;32m    678\u001b[0m             \u001b[0minputs\u001b[0m\u001b[0;34m[\u001b[0m\u001b[0;34m\"head_mask\"\u001b[0m\u001b[0;34m]\u001b[0m \u001b[0;34m=\u001b[0m \u001b[0;34m[\u001b[0m\u001b[0;32mNone\u001b[0m\u001b[0;34m]\u001b[0m \u001b[0;34m*\u001b[0m \u001b[0mself\u001b[0m\u001b[0;34m.\u001b[0m\u001b[0mconfig\u001b[0m\u001b[0;34m.\u001b[0m\u001b[0mnum_hidden_layers\u001b[0m\u001b[0;34m\u001b[0m\u001b[0;34m\u001b[0m\u001b[0m\n\u001b[1;32m    679\u001b[0m \u001b[0;34m\u001b[0m\u001b[0m\n\u001b[0;32m--> 680\u001b[0;31m         encoder_outputs = self.encoder(\n\u001b[0m\u001b[1;32m    681\u001b[0m             \u001b[0mhidden_states\u001b[0m\u001b[0;34m=\u001b[0m\u001b[0membedding_output\u001b[0m\u001b[0;34m,\u001b[0m\u001b[0;34m\u001b[0m\u001b[0;34m\u001b[0m\u001b[0m\n\u001b[1;32m    682\u001b[0m             \u001b[0mattention_mask\u001b[0m\u001b[0;34m=\u001b[0m\u001b[0mextended_attention_mask\u001b[0m\u001b[0;34m,\u001b[0m\u001b[0;34m\u001b[0m\u001b[0;34m\u001b[0m\u001b[0m\n",
      "\u001b[0;32m/opt/conda/lib/python3.9/site-packages/keras/engine/base_layer.py\u001b[0m in \u001b[0;36m__call__\u001b[0;34m(self, *args, **kwargs)\u001b[0m\n\u001b[1;32m   1035\u001b[0m         with autocast_variable.enable_auto_cast_variables(\n\u001b[1;32m   1036\u001b[0m             self._compute_dtype_object):\n\u001b[0;32m-> 1037\u001b[0;31m           \u001b[0moutputs\u001b[0m \u001b[0;34m=\u001b[0m \u001b[0mcall_fn\u001b[0m\u001b[0;34m(\u001b[0m\u001b[0minputs\u001b[0m\u001b[0;34m,\u001b[0m \u001b[0;34m*\u001b[0m\u001b[0margs\u001b[0m\u001b[0;34m,\u001b[0m \u001b[0;34m**\u001b[0m\u001b[0mkwargs\u001b[0m\u001b[0;34m)\u001b[0m\u001b[0;34m\u001b[0m\u001b[0;34m\u001b[0m\u001b[0m\n\u001b[0m\u001b[1;32m   1038\u001b[0m \u001b[0;34m\u001b[0m\u001b[0m\n\u001b[1;32m   1039\u001b[0m         \u001b[0;32mif\u001b[0m \u001b[0mself\u001b[0m\u001b[0;34m.\u001b[0m\u001b[0m_activity_regularizer\u001b[0m\u001b[0;34m:\u001b[0m\u001b[0;34m\u001b[0m\u001b[0;34m\u001b[0m\u001b[0m\n",
      "\u001b[0;32m/opt/conda/lib/python3.9/site-packages/transformers/models/bert/modeling_tf_bert.py\u001b[0m in \u001b[0;36mcall\u001b[0;34m(self, hidden_states, attention_mask, head_mask, output_attentions, output_hidden_states, return_dict, training)\u001b[0m\n\u001b[1;32m    431\u001b[0m                 \u001b[0mall_hidden_states\u001b[0m \u001b[0;34m=\u001b[0m \u001b[0mall_hidden_states\u001b[0m \u001b[0;34m+\u001b[0m \u001b[0;34m(\u001b[0m\u001b[0mhidden_states\u001b[0m\u001b[0;34m,\u001b[0m\u001b[0;34m)\u001b[0m\u001b[0;34m\u001b[0m\u001b[0;34m\u001b[0m\u001b[0m\n\u001b[1;32m    432\u001b[0m \u001b[0;34m\u001b[0m\u001b[0m\n\u001b[0;32m--> 433\u001b[0;31m             layer_outputs = layer_module(\n\u001b[0m\u001b[1;32m    434\u001b[0m                 \u001b[0mhidden_states\u001b[0m\u001b[0;34m=\u001b[0m\u001b[0mhidden_states\u001b[0m\u001b[0;34m,\u001b[0m\u001b[0;34m\u001b[0m\u001b[0;34m\u001b[0m\u001b[0m\n\u001b[1;32m    435\u001b[0m                 \u001b[0mattention_mask\u001b[0m\u001b[0;34m=\u001b[0m\u001b[0mattention_mask\u001b[0m\u001b[0;34m,\u001b[0m\u001b[0;34m\u001b[0m\u001b[0;34m\u001b[0m\u001b[0m\n",
      "\u001b[0;32m/opt/conda/lib/python3.9/site-packages/keras/engine/base_layer.py\u001b[0m in \u001b[0;36m__call__\u001b[0;34m(self, *args, **kwargs)\u001b[0m\n\u001b[1;32m   1035\u001b[0m         with autocast_variable.enable_auto_cast_variables(\n\u001b[1;32m   1036\u001b[0m             self._compute_dtype_object):\n\u001b[0;32m-> 1037\u001b[0;31m           \u001b[0moutputs\u001b[0m \u001b[0;34m=\u001b[0m \u001b[0mcall_fn\u001b[0m\u001b[0;34m(\u001b[0m\u001b[0minputs\u001b[0m\u001b[0;34m,\u001b[0m \u001b[0;34m*\u001b[0m\u001b[0margs\u001b[0m\u001b[0;34m,\u001b[0m \u001b[0;34m**\u001b[0m\u001b[0mkwargs\u001b[0m\u001b[0;34m)\u001b[0m\u001b[0;34m\u001b[0m\u001b[0;34m\u001b[0m\u001b[0m\n\u001b[0m\u001b[1;32m   1038\u001b[0m \u001b[0;34m\u001b[0m\u001b[0m\n\u001b[1;32m   1039\u001b[0m         \u001b[0;32mif\u001b[0m \u001b[0mself\u001b[0m\u001b[0;34m.\u001b[0m\u001b[0m_activity_regularizer\u001b[0m\u001b[0;34m:\u001b[0m\u001b[0;34m\u001b[0m\u001b[0;34m\u001b[0m\u001b[0m\n",
      "\u001b[0;32m/opt/conda/lib/python3.9/site-packages/transformers/models/bert/modeling_tf_bert.py\u001b[0m in \u001b[0;36mcall\u001b[0;34m(self, hidden_states, attention_mask, head_mask, output_attentions, training)\u001b[0m\n\u001b[1;32m    399\u001b[0m         )\n\u001b[1;32m    400\u001b[0m         \u001b[0mattention_output\u001b[0m \u001b[0;34m=\u001b[0m \u001b[0mattention_outputs\u001b[0m\u001b[0;34m[\u001b[0m\u001b[0;36m0\u001b[0m\u001b[0;34m]\u001b[0m\u001b[0;34m\u001b[0m\u001b[0;34m\u001b[0m\u001b[0m\n\u001b[0;32m--> 401\u001b[0;31m         \u001b[0mintermediate_output\u001b[0m \u001b[0;34m=\u001b[0m \u001b[0mself\u001b[0m\u001b[0;34m.\u001b[0m\u001b[0mintermediate\u001b[0m\u001b[0;34m(\u001b[0m\u001b[0mhidden_states\u001b[0m\u001b[0;34m=\u001b[0m\u001b[0mattention_output\u001b[0m\u001b[0;34m)\u001b[0m\u001b[0;34m\u001b[0m\u001b[0;34m\u001b[0m\u001b[0m\n\u001b[0m\u001b[1;32m    402\u001b[0m         layer_output = self.bert_output(\n\u001b[1;32m    403\u001b[0m             \u001b[0mhidden_states\u001b[0m\u001b[0;34m=\u001b[0m\u001b[0mintermediate_output\u001b[0m\u001b[0;34m,\u001b[0m \u001b[0minput_tensor\u001b[0m\u001b[0;34m=\u001b[0m\u001b[0mattention_output\u001b[0m\u001b[0;34m,\u001b[0m \u001b[0mtraining\u001b[0m\u001b[0;34m=\u001b[0m\u001b[0mtraining\u001b[0m\u001b[0;34m\u001b[0m\u001b[0;34m\u001b[0m\u001b[0m\n",
      "\u001b[0;32m/opt/conda/lib/python3.9/site-packages/keras/engine/base_layer.py\u001b[0m in \u001b[0;36m__call__\u001b[0;34m(self, *args, **kwargs)\u001b[0m\n\u001b[1;32m   1035\u001b[0m         with autocast_variable.enable_auto_cast_variables(\n\u001b[1;32m   1036\u001b[0m             self._compute_dtype_object):\n\u001b[0;32m-> 1037\u001b[0;31m           \u001b[0moutputs\u001b[0m \u001b[0;34m=\u001b[0m \u001b[0mcall_fn\u001b[0m\u001b[0;34m(\u001b[0m\u001b[0minputs\u001b[0m\u001b[0;34m,\u001b[0m \u001b[0;34m*\u001b[0m\u001b[0margs\u001b[0m\u001b[0;34m,\u001b[0m \u001b[0;34m**\u001b[0m\u001b[0mkwargs\u001b[0m\u001b[0;34m)\u001b[0m\u001b[0;34m\u001b[0m\u001b[0;34m\u001b[0m\u001b[0m\n\u001b[0m\u001b[1;32m   1038\u001b[0m \u001b[0;34m\u001b[0m\u001b[0m\n\u001b[1;32m   1039\u001b[0m         \u001b[0;32mif\u001b[0m \u001b[0mself\u001b[0m\u001b[0;34m.\u001b[0m\u001b[0m_activity_regularizer\u001b[0m\u001b[0;34m:\u001b[0m\u001b[0;34m\u001b[0m\u001b[0;34m\u001b[0m\u001b[0m\n",
      "\u001b[0;32m/opt/conda/lib/python3.9/site-packages/transformers/models/bert/modeling_tf_bert.py\u001b[0m in \u001b[0;36mcall\u001b[0;34m(self, hidden_states)\u001b[0m\n\u001b[1;32m    351\u001b[0m \u001b[0;34m\u001b[0m\u001b[0m\n\u001b[1;32m    352\u001b[0m     \u001b[0;32mdef\u001b[0m \u001b[0mcall\u001b[0m\u001b[0;34m(\u001b[0m\u001b[0mself\u001b[0m\u001b[0;34m,\u001b[0m \u001b[0mhidden_states\u001b[0m\u001b[0;34m:\u001b[0m \u001b[0mtf\u001b[0m\u001b[0;34m.\u001b[0m\u001b[0mTensor\u001b[0m\u001b[0;34m)\u001b[0m \u001b[0;34m->\u001b[0m \u001b[0mtf\u001b[0m\u001b[0;34m.\u001b[0m\u001b[0mTensor\u001b[0m\u001b[0;34m:\u001b[0m\u001b[0;34m\u001b[0m\u001b[0;34m\u001b[0m\u001b[0m\n\u001b[0;32m--> 353\u001b[0;31m         \u001b[0mhidden_states\u001b[0m \u001b[0;34m=\u001b[0m \u001b[0mself\u001b[0m\u001b[0;34m.\u001b[0m\u001b[0mdense\u001b[0m\u001b[0;34m(\u001b[0m\u001b[0minputs\u001b[0m\u001b[0;34m=\u001b[0m\u001b[0mhidden_states\u001b[0m\u001b[0;34m)\u001b[0m\u001b[0;34m\u001b[0m\u001b[0;34m\u001b[0m\u001b[0m\n\u001b[0m\u001b[1;32m    354\u001b[0m         \u001b[0mhidden_states\u001b[0m \u001b[0;34m=\u001b[0m \u001b[0mself\u001b[0m\u001b[0;34m.\u001b[0m\u001b[0mintermediate_act_fn\u001b[0m\u001b[0;34m(\u001b[0m\u001b[0mhidden_states\u001b[0m\u001b[0;34m)\u001b[0m\u001b[0;34m\u001b[0m\u001b[0;34m\u001b[0m\u001b[0m\n\u001b[1;32m    355\u001b[0m \u001b[0;34m\u001b[0m\u001b[0m\n",
      "\u001b[0;32m/opt/conda/lib/python3.9/site-packages/keras/engine/base_layer.py\u001b[0m in \u001b[0;36m__call__\u001b[0;34m(self, *args, **kwargs)\u001b[0m\n\u001b[1;32m   1035\u001b[0m         with autocast_variable.enable_auto_cast_variables(\n\u001b[1;32m   1036\u001b[0m             self._compute_dtype_object):\n\u001b[0;32m-> 1037\u001b[0;31m           \u001b[0moutputs\u001b[0m \u001b[0;34m=\u001b[0m \u001b[0mcall_fn\u001b[0m\u001b[0;34m(\u001b[0m\u001b[0minputs\u001b[0m\u001b[0;34m,\u001b[0m \u001b[0;34m*\u001b[0m\u001b[0margs\u001b[0m\u001b[0;34m,\u001b[0m \u001b[0;34m**\u001b[0m\u001b[0mkwargs\u001b[0m\u001b[0;34m)\u001b[0m\u001b[0;34m\u001b[0m\u001b[0;34m\u001b[0m\u001b[0m\n\u001b[0m\u001b[1;32m   1038\u001b[0m \u001b[0;34m\u001b[0m\u001b[0m\n\u001b[1;32m   1039\u001b[0m         \u001b[0;32mif\u001b[0m \u001b[0mself\u001b[0m\u001b[0;34m.\u001b[0m\u001b[0m_activity_regularizer\u001b[0m\u001b[0;34m:\u001b[0m\u001b[0;34m\u001b[0m\u001b[0;34m\u001b[0m\u001b[0m\n",
      "\u001b[0;32m/opt/conda/lib/python3.9/site-packages/keras/layers/core.py\u001b[0m in \u001b[0;36mcall\u001b[0;34m(self, inputs)\u001b[0m\n\u001b[1;32m   1230\u001b[0m     \u001b[0;31m# Broadcast kernel to inputs.\u001b[0m\u001b[0;34m\u001b[0m\u001b[0;34m\u001b[0m\u001b[0m\n\u001b[1;32m   1231\u001b[0m     \u001b[0;32melse\u001b[0m\u001b[0;34m:\u001b[0m\u001b[0;34m\u001b[0m\u001b[0;34m\u001b[0m\u001b[0m\n\u001b[0;32m-> 1232\u001b[0;31m       \u001b[0moutputs\u001b[0m \u001b[0;34m=\u001b[0m \u001b[0mtf\u001b[0m\u001b[0;34m.\u001b[0m\u001b[0mtensordot\u001b[0m\u001b[0;34m(\u001b[0m\u001b[0minputs\u001b[0m\u001b[0;34m,\u001b[0m \u001b[0mself\u001b[0m\u001b[0;34m.\u001b[0m\u001b[0mkernel\u001b[0m\u001b[0;34m,\u001b[0m \u001b[0;34m[\u001b[0m\u001b[0;34m[\u001b[0m\u001b[0mrank\u001b[0m \u001b[0;34m-\u001b[0m \u001b[0;36m1\u001b[0m\u001b[0;34m]\u001b[0m\u001b[0;34m,\u001b[0m \u001b[0;34m[\u001b[0m\u001b[0;36m0\u001b[0m\u001b[0;34m]\u001b[0m\u001b[0;34m]\u001b[0m\u001b[0;34m)\u001b[0m\u001b[0;34m\u001b[0m\u001b[0;34m\u001b[0m\u001b[0m\n\u001b[0m\u001b[1;32m   1233\u001b[0m       \u001b[0;31m# Reshape the output back to the original ndim of the input.\u001b[0m\u001b[0;34m\u001b[0m\u001b[0;34m\u001b[0m\u001b[0m\n\u001b[1;32m   1234\u001b[0m       \u001b[0;32mif\u001b[0m \u001b[0;32mnot\u001b[0m \u001b[0mtf\u001b[0m\u001b[0;34m.\u001b[0m\u001b[0mexecuting_eagerly\u001b[0m\u001b[0;34m(\u001b[0m\u001b[0;34m)\u001b[0m\u001b[0;34m:\u001b[0m\u001b[0;34m\u001b[0m\u001b[0;34m\u001b[0m\u001b[0m\n",
      "\u001b[0;32m/opt/conda/lib/python3.9/site-packages/tensorflow/python/util/dispatch.py\u001b[0m in \u001b[0;36mwrapper\u001b[0;34m(*args, **kwargs)\u001b[0m\n\u001b[1;32m    204\u001b[0m     \u001b[0;34m\"\"\"Call target, and fall back on dispatchers if there is a TypeError.\"\"\"\u001b[0m\u001b[0;34m\u001b[0m\u001b[0;34m\u001b[0m\u001b[0m\n\u001b[1;32m    205\u001b[0m     \u001b[0;32mtry\u001b[0m\u001b[0;34m:\u001b[0m\u001b[0;34m\u001b[0m\u001b[0;34m\u001b[0m\u001b[0m\n\u001b[0;32m--> 206\u001b[0;31m       \u001b[0;32mreturn\u001b[0m \u001b[0mtarget\u001b[0m\u001b[0;34m(\u001b[0m\u001b[0;34m*\u001b[0m\u001b[0margs\u001b[0m\u001b[0;34m,\u001b[0m \u001b[0;34m**\u001b[0m\u001b[0mkwargs\u001b[0m\u001b[0;34m)\u001b[0m\u001b[0;34m\u001b[0m\u001b[0;34m\u001b[0m\u001b[0m\n\u001b[0m\u001b[1;32m    207\u001b[0m     \u001b[0;32mexcept\u001b[0m \u001b[0;34m(\u001b[0m\u001b[0mTypeError\u001b[0m\u001b[0;34m,\u001b[0m \u001b[0mValueError\u001b[0m\u001b[0;34m)\u001b[0m\u001b[0;34m:\u001b[0m\u001b[0;34m\u001b[0m\u001b[0;34m\u001b[0m\u001b[0m\n\u001b[1;32m    208\u001b[0m       \u001b[0;31m# Note: convert_to_eager_tensor currently raises a ValueError, not a\u001b[0m\u001b[0;34m\u001b[0m\u001b[0;34m\u001b[0m\u001b[0m\n",
      "\u001b[0;32m/opt/conda/lib/python3.9/site-packages/tensorflow/python/ops/math_ops.py\u001b[0m in \u001b[0;36mtensordot\u001b[0;34m(a, b, axes, name)\u001b[0m\n\u001b[1;32m   5040\u001b[0m     b_reshape, b_free_dims, b_free_dims_static = _tensordot_reshape(\n\u001b[1;32m   5041\u001b[0m         b, b_axes, True)\n\u001b[0;32m-> 5042\u001b[0;31m     \u001b[0mab_matmul\u001b[0m \u001b[0;34m=\u001b[0m \u001b[0mmatmul\u001b[0m\u001b[0;34m(\u001b[0m\u001b[0ma_reshape\u001b[0m\u001b[0;34m,\u001b[0m \u001b[0mb_reshape\u001b[0m\u001b[0;34m)\u001b[0m\u001b[0;34m\u001b[0m\u001b[0;34m\u001b[0m\u001b[0m\n\u001b[0m\u001b[1;32m   5043\u001b[0m     \u001b[0;32mif\u001b[0m \u001b[0misinstance\u001b[0m\u001b[0;34m(\u001b[0m\u001b[0ma_free_dims\u001b[0m\u001b[0;34m,\u001b[0m \u001b[0mlist\u001b[0m\u001b[0;34m)\u001b[0m \u001b[0;32mand\u001b[0m \u001b[0misinstance\u001b[0m\u001b[0;34m(\u001b[0m\u001b[0mb_free_dims\u001b[0m\u001b[0;34m,\u001b[0m \u001b[0mlist\u001b[0m\u001b[0;34m)\u001b[0m\u001b[0;34m:\u001b[0m\u001b[0;34m\u001b[0m\u001b[0;34m\u001b[0m\u001b[0m\n\u001b[1;32m   5044\u001b[0m       if (ab_matmul.get_shape().is_fully_defined() and\n",
      "\u001b[0;32m/opt/conda/lib/python3.9/site-packages/tensorflow/python/util/dispatch.py\u001b[0m in \u001b[0;36mwrapper\u001b[0;34m(*args, **kwargs)\u001b[0m\n\u001b[1;32m    204\u001b[0m     \u001b[0;34m\"\"\"Call target, and fall back on dispatchers if there is a TypeError.\"\"\"\u001b[0m\u001b[0;34m\u001b[0m\u001b[0;34m\u001b[0m\u001b[0m\n\u001b[1;32m    205\u001b[0m     \u001b[0;32mtry\u001b[0m\u001b[0;34m:\u001b[0m\u001b[0;34m\u001b[0m\u001b[0;34m\u001b[0m\u001b[0m\n\u001b[0;32m--> 206\u001b[0;31m       \u001b[0;32mreturn\u001b[0m \u001b[0mtarget\u001b[0m\u001b[0;34m(\u001b[0m\u001b[0;34m*\u001b[0m\u001b[0margs\u001b[0m\u001b[0;34m,\u001b[0m \u001b[0;34m**\u001b[0m\u001b[0mkwargs\u001b[0m\u001b[0;34m)\u001b[0m\u001b[0;34m\u001b[0m\u001b[0;34m\u001b[0m\u001b[0m\n\u001b[0m\u001b[1;32m    207\u001b[0m     \u001b[0;32mexcept\u001b[0m \u001b[0;34m(\u001b[0m\u001b[0mTypeError\u001b[0m\u001b[0;34m,\u001b[0m \u001b[0mValueError\u001b[0m\u001b[0;34m)\u001b[0m\u001b[0;34m:\u001b[0m\u001b[0;34m\u001b[0m\u001b[0;34m\u001b[0m\u001b[0m\n\u001b[1;32m    208\u001b[0m       \u001b[0;31m# Note: convert_to_eager_tensor currently raises a ValueError, not a\u001b[0m\u001b[0;34m\u001b[0m\u001b[0;34m\u001b[0m\u001b[0m\n",
      "\u001b[0;32m/opt/conda/lib/python3.9/site-packages/tensorflow/python/ops/math_ops.py\u001b[0m in \u001b[0;36mmatmul\u001b[0;34m(a, b, transpose_a, transpose_b, adjoint_a, adjoint_b, a_is_sparse, b_is_sparse, output_type, name)\u001b[0m\n\u001b[1;32m   3652\u001b[0m             a, b, adj_x=adjoint_a, adj_y=adjoint_b, Tout=output_type, name=name)\n\u001b[1;32m   3653\u001b[0m       \u001b[0;32melse\u001b[0m\u001b[0;34m:\u001b[0m\u001b[0;34m\u001b[0m\u001b[0;34m\u001b[0m\u001b[0m\n\u001b[0;32m-> 3654\u001b[0;31m         return gen_math_ops.mat_mul(\n\u001b[0m\u001b[1;32m   3655\u001b[0m             a, b, transpose_a=transpose_a, transpose_b=transpose_b, name=name)\n\u001b[1;32m   3656\u001b[0m \u001b[0;34m\u001b[0m\u001b[0m\n",
      "\u001b[0;32m/opt/conda/lib/python3.9/site-packages/tensorflow/python/ops/gen_math_ops.py\u001b[0m in \u001b[0;36mmat_mul\u001b[0;34m(a, b, transpose_a, transpose_b, name)\u001b[0m\n\u001b[1;32m   5689\u001b[0m   \u001b[0;32mif\u001b[0m \u001b[0mtld\u001b[0m\u001b[0;34m.\u001b[0m\u001b[0mis_eager\u001b[0m\u001b[0;34m:\u001b[0m\u001b[0;34m\u001b[0m\u001b[0;34m\u001b[0m\u001b[0m\n\u001b[1;32m   5690\u001b[0m     \u001b[0;32mtry\u001b[0m\u001b[0;34m:\u001b[0m\u001b[0;34m\u001b[0m\u001b[0;34m\u001b[0m\u001b[0m\n\u001b[0;32m-> 5691\u001b[0;31m       _result = pywrap_tfe.TFE_Py_FastPathExecute(\n\u001b[0m\u001b[1;32m   5692\u001b[0m         \u001b[0m_ctx\u001b[0m\u001b[0;34m,\u001b[0m \u001b[0;34m\"MatMul\"\u001b[0m\u001b[0;34m,\u001b[0m \u001b[0mname\u001b[0m\u001b[0;34m,\u001b[0m \u001b[0ma\u001b[0m\u001b[0;34m,\u001b[0m \u001b[0mb\u001b[0m\u001b[0;34m,\u001b[0m \u001b[0;34m\"transpose_a\"\u001b[0m\u001b[0;34m,\u001b[0m \u001b[0mtranspose_a\u001b[0m\u001b[0;34m,\u001b[0m \u001b[0;34m\"transpose_b\"\u001b[0m\u001b[0;34m,\u001b[0m\u001b[0;34m\u001b[0m\u001b[0;34m\u001b[0m\u001b[0m\n\u001b[1;32m   5693\u001b[0m         transpose_b)\n",
      "\u001b[0;31mKeyboardInterrupt\u001b[0m: "
     ]
    }
   ],
   "source": [
    "def f1_score_calculation_macro(data, label, text_classifier):\n",
    "    y_pred = []\n",
    "\n",
    "    for text in tqdm(data, desc=\"predictive processing\", total=len(data)):\n",
    "        # predict\n",
    "        preds_list = text_classifier(text)[0]\n",
    "\n",
    "        sorted_preds_list = sorted(preds_list, key=lambda x: x['score'], reverse=True)\n",
    "        preds_list = sorted_preds_list[0] \n",
    "\n",
    "        label_value = preds_list['label']\n",
    "        y_pred.append(label_value)\n",
    "        \n",
    "    # label decoding 숫자 -> label 변환\n",
    "    label = encoder.inverse_transform(label)\n",
    "    \n",
    "    # F1 점수 계산\n",
    "    f1 = f1_score(label, y_pred, average='macro')  # macro는 클래스 크기에 상관없이 모든 클래스를 같은 비중으로 다룸\n",
    "    \n",
    "    return f1\n",
    "\n",
    "f1 = f1_score_calculation_macro(x_test, y_test, text_classifier)\n",
    "print(\"F1 Score:\", f1)"
   ]
  },
  {
   "cell_type": "markdown",
   "id": "bfead770",
   "metadata": {},
   "source": [
    "# 12. 테스트 json 평가"
   ]
  },
  {
   "cell_type": "code",
   "execution_count": 28,
   "id": "f13a39c9",
   "metadata": {
    "execution": {
     "iopub.status.busy": "2024-10-07T07:22:35.553207Z",
     "iopub.status.idle": "2024-10-07T07:22:35.553625Z",
     "shell.execute_reply": "2024-10-07T07:22:35.553452Z",
     "shell.execute_reply.started": "2024-10-07T07:22:35.553433Z"
    },
    "scrolled": true
   },
   "outputs": [
    {
     "data": {
      "text/html": [
       "<div>\n",
       "<style scoped>\n",
       "    .dataframe tbody tr th:only-of-type {\n",
       "        vertical-align: middle;\n",
       "    }\n",
       "\n",
       "    .dataframe tbody tr th {\n",
       "        vertical-align: top;\n",
       "    }\n",
       "\n",
       "    .dataframe thead th {\n",
       "        text-align: right;\n",
       "    }\n",
       "</style>\n",
       "<table border=\"1\" class=\"dataframe\">\n",
       "  <thead>\n",
       "    <tr style=\"text-align: right;\">\n",
       "      <th></th>\n",
       "      <th>t_000</th>\n",
       "      <th>t_001</th>\n",
       "      <th>t_002</th>\n",
       "      <th>t_003</th>\n",
       "      <th>t_004</th>\n",
       "      <th>t_005</th>\n",
       "      <th>t_006</th>\n",
       "      <th>t_007</th>\n",
       "      <th>t_008</th>\n",
       "      <th>t_009</th>\n",
       "      <th>...</th>\n",
       "      <th>t_490</th>\n",
       "      <th>t_491</th>\n",
       "      <th>t_492</th>\n",
       "      <th>t_493</th>\n",
       "      <th>t_494</th>\n",
       "      <th>t_495</th>\n",
       "      <th>t_496</th>\n",
       "      <th>t_497</th>\n",
       "      <th>t_498</th>\n",
       "      <th>t_499</th>\n",
       "    </tr>\n",
       "  </thead>\n",
       "  <tbody>\n",
       "    <tr>\n",
       "      <th>text</th>\n",
       "      <td>아가씨 담배한갑주소 네 4500원입니다 어 네 지갑어디갔지 에이 버스에서 잃어버렸나...</td>\n",
       "      <td>우리팀에서 다른팀으로 갈 사람 없나? 그럼 영지씨가 가는건 어때?  네? 제가요? ...</td>\n",
       "      <td>너 오늘 그게 뭐야 네 제가 뭘 잘못했나요.? 제대로 좀 하지 네 똑바로 좀 하지 ...</td>\n",
       "      <td>이거 들어바 와 이 노래 진짜 좋다 그치 요즘 이 것만 들어 진짜 너무 좋다 내가 ...</td>\n",
       "      <td>아무튼 앞으로 니가 내 와이파이야. .응 와이파이 온. 켰어. 반말? 주인님이라고도...</td>\n",
       "      <td>그러니까 빨리 말해. 선생님 제발 살려주십시오.  비밀번호 틀릴 때마다 손톱 하나씩...</td>\n",
       "      <td>그 사람 누구냐?  누구말하는거야?  다 알면서 모른척 하지마. 둘다 쏴버리기 전에...</td>\n",
       "      <td>야 저기야 닭꼬치 트럭왔다 응 그러네 그치? 너도 먹고 싶지? 어?나도? 그래 너 ...</td>\n",
       "      <td>안경 안쓰고 키작고통통해보이는 분이었는데 다안경안씀  쌍꺼풀없었던것같고 아 단발인가...</td>\n",
       "      <td>야 너 2학년 김민석 맞지? 네 맞는데요. 혹시 누구신가요? 내가 누군지 궁금하면 ...</td>\n",
       "      <td>...</td>\n",
       "      <td>철수야 말 들어야지 싫은데 철밥통 선생아 너 선생님한테 말버릇이 뭐야 야 내가 너말...</td>\n",
       "      <td>양재 터널 입구 앞인데요. 사고가 났거든요? 위치가 양재 터널 맞으시죠? 네, 지금...</td>\n",
       "      <td>동생이쁘다. 나주라 안돼 우리동생건들지마. 왜 안되냐? 좀 달라고 니 목숨값으로 동...</td>\n",
       "      <td>혹시 나 오늘 2만원만 빌려주만 안돼? 응? 안돼. 나도 요즘 맨날 택시타느라 택시...</td>\n",
       "      <td>이봐 네? 누구세요? 입다물고 가진거 다내놔 경찰에 신고할거에요 할 수 있으면 해봐...</td>\n",
       "      <td>미나씨 휴가 결제 올리기 전에 저랑 상의하라고 말한거 기억해요? 네 합니다. 보고서...</td>\n",
       "      <td>교수님 제 논문에 제 이름이 없나요?  아 무슨 논문말이야?  지난 번 냈던 논문이...</td>\n",
       "      <td>야 너  네 저요? 그래 너 왜요 돈좀 줘봐  돈 없어요 돈이 왜 없어 지갑은 폼이...</td>\n",
       "      <td>야 너 빨리 안 뛰어와? 너 이 환자 제대로 봤어 안 봤어 어제 저녁부터 계속 보다...</td>\n",
       "      <td>엄마 저 그 돈 안해주시면 정말 큰일나요.  이유도 말하지 않고. 몇번째니 경민아....</td>\n",
       "    </tr>\n",
       "  </tbody>\n",
       "</table>\n",
       "<p>1 rows × 500 columns</p>\n",
       "</div>"
      ],
      "text/plain": [
       "                                                  t_000  \\\n",
       "text  아가씨 담배한갑주소 네 4500원입니다 어 네 지갑어디갔지 에이 버스에서 잃어버렸나...   \n",
       "\n",
       "                                                  t_001  \\\n",
       "text  우리팀에서 다른팀으로 갈 사람 없나? 그럼 영지씨가 가는건 어때?  네? 제가요? ...   \n",
       "\n",
       "                                                  t_002  \\\n",
       "text  너 오늘 그게 뭐야 네 제가 뭘 잘못했나요.? 제대로 좀 하지 네 똑바로 좀 하지 ...   \n",
       "\n",
       "                                                  t_003  \\\n",
       "text  이거 들어바 와 이 노래 진짜 좋다 그치 요즘 이 것만 들어 진짜 너무 좋다 내가 ...   \n",
       "\n",
       "                                                  t_004  \\\n",
       "text  아무튼 앞으로 니가 내 와이파이야. .응 와이파이 온. 켰어. 반말? 주인님이라고도...   \n",
       "\n",
       "                                                  t_005  \\\n",
       "text  그러니까 빨리 말해. 선생님 제발 살려주십시오.  비밀번호 틀릴 때마다 손톱 하나씩...   \n",
       "\n",
       "                                                  t_006  \\\n",
       "text  그 사람 누구냐?  누구말하는거야?  다 알면서 모른척 하지마. 둘다 쏴버리기 전에...   \n",
       "\n",
       "                                                  t_007  \\\n",
       "text  야 저기야 닭꼬치 트럭왔다 응 그러네 그치? 너도 먹고 싶지? 어?나도? 그래 너 ...   \n",
       "\n",
       "                                                  t_008  \\\n",
       "text  안경 안쓰고 키작고통통해보이는 분이었는데 다안경안씀  쌍꺼풀없었던것같고 아 단발인가...   \n",
       "\n",
       "                                                  t_009  ...  \\\n",
       "text  야 너 2학년 김민석 맞지? 네 맞는데요. 혹시 누구신가요? 내가 누군지 궁금하면 ...  ...   \n",
       "\n",
       "                                                  t_490  \\\n",
       "text  철수야 말 들어야지 싫은데 철밥통 선생아 너 선생님한테 말버릇이 뭐야 야 내가 너말...   \n",
       "\n",
       "                                                  t_491  \\\n",
       "text  양재 터널 입구 앞인데요. 사고가 났거든요? 위치가 양재 터널 맞으시죠? 네, 지금...   \n",
       "\n",
       "                                                  t_492  \\\n",
       "text  동생이쁘다. 나주라 안돼 우리동생건들지마. 왜 안되냐? 좀 달라고 니 목숨값으로 동...   \n",
       "\n",
       "                                                  t_493  \\\n",
       "text  혹시 나 오늘 2만원만 빌려주만 안돼? 응? 안돼. 나도 요즘 맨날 택시타느라 택시...   \n",
       "\n",
       "                                                  t_494  \\\n",
       "text  이봐 네? 누구세요? 입다물고 가진거 다내놔 경찰에 신고할거에요 할 수 있으면 해봐...   \n",
       "\n",
       "                                                  t_495  \\\n",
       "text  미나씨 휴가 결제 올리기 전에 저랑 상의하라고 말한거 기억해요? 네 합니다. 보고서...   \n",
       "\n",
       "                                                  t_496  \\\n",
       "text  교수님 제 논문에 제 이름이 없나요?  아 무슨 논문말이야?  지난 번 냈던 논문이...   \n",
       "\n",
       "                                                  t_497  \\\n",
       "text  야 너  네 저요? 그래 너 왜요 돈좀 줘봐  돈 없어요 돈이 왜 없어 지갑은 폼이...   \n",
       "\n",
       "                                                  t_498  \\\n",
       "text  야 너 빨리 안 뛰어와? 너 이 환자 제대로 봤어 안 봤어 어제 저녁부터 계속 보다...   \n",
       "\n",
       "                                                  t_499  \n",
       "text  엄마 저 그 돈 안해주시면 정말 큰일나요.  이유도 말하지 않고. 몇번째니 경민아....  \n",
       "\n",
       "[1 rows x 500 columns]"
      ]
     },
     "execution_count": 28,
     "metadata": {},
     "output_type": "execute_result"
    }
   ],
   "source": [
    "df = pd.read_json('~/aiffel/dktc/data/test.json')\n",
    "\n",
    "# DataFrame 출력\n",
    "df"
   ]
  },
  {
   "cell_type": "code",
   "execution_count": 29,
   "id": "aa929bf1",
   "metadata": {
    "execution": {
     "iopub.status.busy": "2024-10-07T07:22:35.554577Z",
     "iopub.status.idle": "2024-10-07T07:22:35.554927Z",
     "shell.execute_reply": "2024-10-07T07:22:35.554770Z",
     "shell.execute_reply.started": "2024-10-07T07:22:35.554752Z"
    }
   },
   "outputs": [],
   "source": [
    "submission_text = df.loc['text'].to_list()"
   ]
  },
  {
   "cell_type": "code",
   "execution_count": 32,
   "id": "9849d4ce",
   "metadata": {
    "execution": {
     "iopub.status.busy": "2024-10-07T07:22:35.556133Z",
     "iopub.status.idle": "2024-10-07T07:22:35.556498Z",
     "shell.execute_reply": "2024-10-07T07:22:35.556333Z",
     "shell.execute_reply.started": "2024-10-07T07:22:35.556315Z"
    }
   },
   "outputs": [
    {
     "name": "stderr",
     "output_type": "stream",
     "text": [
      "predictive processing: 100%|██████████| 500/500 [03:39<00:00,  2.28it/s]\n"
     ]
    }
   ],
   "source": [
    "submission_pred = []\n",
    "\n",
    "for text in tqdm(submission_text, desc=\"predictive processing\", total=len(submission_text)):\n",
    "    # predict\n",
    "    preds_list = text_classifier(text)[0]\n",
    "\n",
    "    sorted_preds_list = sorted(preds_list, key=lambda x: x['score'], reverse=True)\n",
    "    preds_list = sorted_preds_list[0] \n",
    "    \n",
    "    label_value = preds_list['label']\n",
    "    submission_pred.append(label_value)"
   ]
  },
  {
   "cell_type": "code",
   "execution_count": 33,
   "id": "9b0bf94b",
   "metadata": {
    "execution": {
     "iopub.status.busy": "2024-10-07T07:22:35.558016Z",
     "iopub.status.idle": "2024-10-07T07:22:35.558443Z",
     "shell.execute_reply": "2024-10-07T07:22:35.558284Z",
     "shell.execute_reply.started": "2024-10-07T07:22:35.558265Z"
    }
   },
   "outputs": [],
   "source": [
    "# 새로운 매핑 정의\n",
    "label_mapping = {\n",
    "    \"협박 대화\": 0,\n",
    "    \"갈취 대화\": 1,\n",
    "    \"직장 내 괴롭힘 대화\": 2,\n",
    "    \"기타 괴롭힘 대화\": 3,\n",
    "    \"일반 대화\": 4\n",
    "}\n",
    "\n",
    "encoded_labels = [label_mapping[label] for label in submission_pred]"
   ]
  },
  {
   "cell_type": "code",
   "execution_count": 34,
   "id": "b349e436",
   "metadata": {
    "execution": {
     "iopub.status.busy": "2024-10-07T07:22:35.559795Z",
     "iopub.status.idle": "2024-10-07T07:22:35.560184Z",
     "shell.execute_reply": "2024-10-07T07:22:35.559991Z",
     "shell.execute_reply.started": "2024-10-07T07:22:35.559973Z"
    }
   },
   "outputs": [
    {
     "data": {
      "text/html": [
       "<div>\n",
       "<style scoped>\n",
       "    .dataframe tbody tr th:only-of-type {\n",
       "        vertical-align: middle;\n",
       "    }\n",
       "\n",
       "    .dataframe tbody tr th {\n",
       "        vertical-align: top;\n",
       "    }\n",
       "\n",
       "    .dataframe thead th {\n",
       "        text-align: right;\n",
       "    }\n",
       "</style>\n",
       "<table border=\"1\" class=\"dataframe\">\n",
       "  <thead>\n",
       "    <tr style=\"text-align: right;\">\n",
       "      <th></th>\n",
       "      <th>file_name</th>\n",
       "      <th>class</th>\n",
       "    </tr>\n",
       "  </thead>\n",
       "  <tbody>\n",
       "    <tr>\n",
       "      <th>0</th>\n",
       "      <td>t_000</td>\n",
       "      <td>1</td>\n",
       "    </tr>\n",
       "    <tr>\n",
       "      <th>1</th>\n",
       "      <td>t_001</td>\n",
       "      <td>2</td>\n",
       "    </tr>\n",
       "    <tr>\n",
       "      <th>2</th>\n",
       "      <td>t_002</td>\n",
       "      <td>2</td>\n",
       "    </tr>\n",
       "    <tr>\n",
       "      <th>3</th>\n",
       "      <td>t_003</td>\n",
       "      <td>3</td>\n",
       "    </tr>\n",
       "    <tr>\n",
       "      <th>4</th>\n",
       "      <td>t_004</td>\n",
       "      <td>3</td>\n",
       "    </tr>\n",
       "    <tr>\n",
       "      <th>...</th>\n",
       "      <td>...</td>\n",
       "      <td>...</td>\n",
       "    </tr>\n",
       "    <tr>\n",
       "      <th>495</th>\n",
       "      <td>t_495</td>\n",
       "      <td>2</td>\n",
       "    </tr>\n",
       "    <tr>\n",
       "      <th>496</th>\n",
       "      <td>t_496</td>\n",
       "      <td>2</td>\n",
       "    </tr>\n",
       "    <tr>\n",
       "      <th>497</th>\n",
       "      <td>t_497</td>\n",
       "      <td>1</td>\n",
       "    </tr>\n",
       "    <tr>\n",
       "      <th>498</th>\n",
       "      <td>t_498</td>\n",
       "      <td>0</td>\n",
       "    </tr>\n",
       "    <tr>\n",
       "      <th>499</th>\n",
       "      <td>t_499</td>\n",
       "      <td>0</td>\n",
       "    </tr>\n",
       "  </tbody>\n",
       "</table>\n",
       "<p>500 rows × 2 columns</p>\n",
       "</div>"
      ],
      "text/plain": [
       "    file_name  class\n",
       "0       t_000      1\n",
       "1       t_001      2\n",
       "2       t_002      2\n",
       "3       t_003      3\n",
       "4       t_004      3\n",
       "..        ...    ...\n",
       "495     t_495      2\n",
       "496     t_496      2\n",
       "497     t_497      1\n",
       "498     t_498      0\n",
       "499     t_499      0\n",
       "\n",
       "[500 rows x 2 columns]"
      ]
     },
     "execution_count": 34,
     "metadata": {},
     "output_type": "execute_result"
    }
   ],
   "source": [
    "submission = pd.read_csv(\"~/aiffel/dktc/data/new_submission.csv\")\n",
    "submission['class']=encoded_labels\n",
    "submission"
   ]
  },
  {
   "cell_type": "code",
   "execution_count": 35,
   "id": "e41b294b",
   "metadata": {
    "execution": {
     "iopub.status.busy": "2024-10-07T07:22:35.561767Z",
     "iopub.status.idle": "2024-10-07T07:22:35.562128Z",
     "shell.execute_reply": "2024-10-07T07:22:35.561947Z",
     "shell.execute_reply.started": "2024-10-07T07:22:35.561930Z"
    }
   },
   "outputs": [
    {
     "data": {
      "text/html": [
       "<div>\n",
       "<style scoped>\n",
       "    .dataframe tbody tr th:only-of-type {\n",
       "        vertical-align: middle;\n",
       "    }\n",
       "\n",
       "    .dataframe tbody tr th {\n",
       "        vertical-align: top;\n",
       "    }\n",
       "\n",
       "    .dataframe thead th {\n",
       "        text-align: right;\n",
       "    }\n",
       "</style>\n",
       "<table border=\"1\" class=\"dataframe\">\n",
       "  <thead>\n",
       "    <tr style=\"text-align: right;\">\n",
       "      <th></th>\n",
       "      <th>idx</th>\n",
       "      <th>target</th>\n",
       "    </tr>\n",
       "  </thead>\n",
       "  <tbody>\n",
       "    <tr>\n",
       "      <th>0</th>\n",
       "      <td>t_000</td>\n",
       "      <td>1</td>\n",
       "    </tr>\n",
       "    <tr>\n",
       "      <th>1</th>\n",
       "      <td>t_001</td>\n",
       "      <td>2</td>\n",
       "    </tr>\n",
       "    <tr>\n",
       "      <th>2</th>\n",
       "      <td>t_002</td>\n",
       "      <td>2</td>\n",
       "    </tr>\n",
       "    <tr>\n",
       "      <th>3</th>\n",
       "      <td>t_003</td>\n",
       "      <td>3</td>\n",
       "    </tr>\n",
       "    <tr>\n",
       "      <th>4</th>\n",
       "      <td>t_004</td>\n",
       "      <td>3</td>\n",
       "    </tr>\n",
       "    <tr>\n",
       "      <th>...</th>\n",
       "      <td>...</td>\n",
       "      <td>...</td>\n",
       "    </tr>\n",
       "    <tr>\n",
       "      <th>495</th>\n",
       "      <td>t_495</td>\n",
       "      <td>2</td>\n",
       "    </tr>\n",
       "    <tr>\n",
       "      <th>496</th>\n",
       "      <td>t_496</td>\n",
       "      <td>2</td>\n",
       "    </tr>\n",
       "    <tr>\n",
       "      <th>497</th>\n",
       "      <td>t_497</td>\n",
       "      <td>1</td>\n",
       "    </tr>\n",
       "    <tr>\n",
       "      <th>498</th>\n",
       "      <td>t_498</td>\n",
       "      <td>0</td>\n",
       "    </tr>\n",
       "    <tr>\n",
       "      <th>499</th>\n",
       "      <td>t_499</td>\n",
       "      <td>0</td>\n",
       "    </tr>\n",
       "  </tbody>\n",
       "</table>\n",
       "<p>500 rows × 2 columns</p>\n",
       "</div>"
      ],
      "text/plain": [
       "       idx  target\n",
       "0    t_000       1\n",
       "1    t_001       2\n",
       "2    t_002       2\n",
       "3    t_003       3\n",
       "4    t_004       3\n",
       "..     ...     ...\n",
       "495  t_495       2\n",
       "496  t_496       2\n",
       "497  t_497       1\n",
       "498  t_498       0\n",
       "499  t_499       0\n",
       "\n",
       "[500 rows x 2 columns]"
      ]
     },
     "execution_count": 35,
     "metadata": {},
     "output_type": "execute_result"
    }
   ],
   "source": [
    "submission.rename(columns={'file_name': 'idx', 'class': 'target'}, inplace=True)\n",
    "submission"
   ]
  },
  {
   "cell_type": "code",
   "execution_count": 36,
   "id": "a7bec56e",
   "metadata": {
    "execution": {
     "iopub.status.busy": "2024-10-07T07:22:35.563400Z",
     "iopub.status.idle": "2024-10-07T07:22:35.563794Z",
     "shell.execute_reply": "2024-10-07T07:22:35.563607Z",
     "shell.execute_reply.started": "2024-10-07T07:22:35.563589Z"
    }
   },
   "outputs": [],
   "source": [
    "output_file_path = \"~/aiffel/aiffel/dlthon/submission.csv\"\n",
    "\n",
    "submission.to_csv(output_file_path, index=False)"
   ]
  },
  {
   "cell_type": "code",
   "execution_count": null,
   "id": "4e0ec3ed",
   "metadata": {},
   "outputs": [],
   "source": []
  },
  {
   "cell_type": "code",
   "execution_count": null,
   "id": "73b3005b",
   "metadata": {},
   "outputs": [],
   "source": []
  }
 ],
 "metadata": {
  "kaggle": {
   "accelerator": "gpu",
   "dataSources": [
    {
     "datasetId": 5828187,
     "sourceId": 9563462,
     "sourceType": "datasetVersion"
    },
    {
     "datasetId": 5828420,
     "sourceId": 9563786,
     "sourceType": "datasetVersion"
    }
   ],
   "dockerImageVersionId": 30787,
   "isGpuEnabled": true,
   "isInternetEnabled": true,
   "language": "python",
   "sourceType": "notebook"
  },
  "kernelspec": {
   "display_name": "Python 3 (ipykernel)",
   "language": "python",
   "name": "python3"
  },
  "language_info": {
   "codemirror_mode": {
    "name": "ipython",
    "version": 3
   },
   "file_extension": ".py",
   "mimetype": "text/x-python",
   "name": "python",
   "nbconvert_exporter": "python",
   "pygments_lexer": "ipython3",
   "version": "3.9.7"
  }
 },
 "nbformat": 4,
 "nbformat_minor": 5
}
