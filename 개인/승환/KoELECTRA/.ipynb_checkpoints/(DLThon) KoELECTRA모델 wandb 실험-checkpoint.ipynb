{
 "cells": [
  {
   "cell_type": "markdown",
   "id": "5ab1e993",
   "metadata": {},
   "source": [
    "# 0. 라이브러리 import"
   ]
  },
  {
   "cell_type": "code",
   "execution_count": 1,
   "id": "b6a6a11d",
   "metadata": {
    "scrolled": true
   },
   "outputs": [
    {
     "name": "stdout",
     "output_type": "stream",
     "text": [
      "Requirement already satisfied: wandb in /opt/conda/lib/python3.9/site-packages (0.18.3)\n",
      "Requirement already satisfied: sentry-sdk>=1.0.0 in /opt/conda/lib/python3.9/site-packages (from wandb) (2.15.0)\n",
      "Requirement already satisfied: pyyaml in /opt/conda/lib/python3.9/site-packages (from wandb) (6.0)\n",
      "Requirement already satisfied: protobuf!=4.21.0,!=5.28.0,<6,>=3.15.0 in /opt/conda/lib/python3.9/site-packages (from wandb) (3.19.1)\n",
      "Requirement already satisfied: setproctitle in /opt/conda/lib/python3.9/site-packages (from wandb) (1.3.3)\n",
      "Requirement already satisfied: setuptools in /opt/conda/lib/python3.9/site-packages (from wandb) (59.4.0)\n",
      "Requirement already satisfied: docker-pycreds>=0.4.0 in /opt/conda/lib/python3.9/site-packages (from wandb) (0.4.0)\n",
      "Requirement already satisfied: typing-extensions in /opt/conda/lib/python3.9/site-packages (from wandb) (4.0.1)\n",
      "Requirement already satisfied: gitpython!=3.1.29,>=1.0.0 in /opt/conda/lib/python3.9/site-packages (from wandb) (3.1.43)\n",
      "Requirement already satisfied: click!=8.0.0,>=7.1 in /opt/conda/lib/python3.9/site-packages (from wandb) (8.0.3)\n",
      "Requirement already satisfied: platformdirs in /opt/conda/lib/python3.9/site-packages (from wandb) (2.4.0)\n",
      "Requirement already satisfied: requests<3,>=2.0.0 in /opt/conda/lib/python3.9/site-packages (from wandb) (2.26.0)\n",
      "Requirement already satisfied: psutil>=5.0.0 in /opt/conda/lib/python3.9/site-packages (from wandb) (5.8.0)\n",
      "Requirement already satisfied: six>=1.4.0 in /opt/conda/lib/python3.9/site-packages (from docker-pycreds>=0.4.0->wandb) (1.16.0)\n",
      "Requirement already satisfied: gitdb<5,>=4.0.1 in /opt/conda/lib/python3.9/site-packages (from gitpython!=3.1.29,>=1.0.0->wandb) (4.0.11)\n",
      "Requirement already satisfied: idna<4,>=2.5 in /opt/conda/lib/python3.9/site-packages (from requests<3,>=2.0.0->wandb) (2.10)\n",
      "Requirement already satisfied: charset-normalizer~=2.0.0 in /opt/conda/lib/python3.9/site-packages (from requests<3,>=2.0.0->wandb) (2.0.8)\n",
      "Requirement already satisfied: certifi>=2017.4.17 in /opt/conda/lib/python3.9/site-packages (from requests<3,>=2.0.0->wandb) (2021.10.8)\n",
      "Requirement already satisfied: urllib3<1.27,>=1.21.1 in /opt/conda/lib/python3.9/site-packages (from requests<3,>=2.0.0->wandb) (1.26.20)\n",
      "Requirement already satisfied: smmap<6,>=3.0.1 in /opt/conda/lib/python3.9/site-packages (from gitdb<5,>=4.0.1->gitpython!=3.1.29,>=1.0.0->wandb) (5.0.1)\n",
      "\u001b[33mWARNING: Running pip as the 'root' user can result in broken permissions and conflicting behaviour with the system package manager. It is recommended to use a virtual environment instead: https://pip.pypa.io/warnings/venv\u001b[0m\n",
      "Note: you may need to restart the kernel to use updated packages.\n"
     ]
    }
   ],
   "source": [
    "pip install wandb"
   ]
  },
  {
   "cell_type": "code",
   "execution_count": 2,
   "id": "85cd7439",
   "metadata": {},
   "outputs": [
    {
     "name": "stdout",
     "output_type": "stream",
     "text": [
      "Requirement already satisfied: tensorflow-addons in /opt/conda/lib/python3.9/site-packages (0.14.0)\n",
      "Requirement already satisfied: typeguard>=2.7 in /opt/conda/lib/python3.9/site-packages (from tensorflow-addons) (2.13.2)\n",
      "\u001b[33mWARNING: Running pip as the 'root' user can result in broken permissions and conflicting behaviour with the system package manager. It is recommended to use a virtual environment instead: https://pip.pypa.io/warnings/venv\u001b[0m\n",
      "Note: you may need to restart the kernel to use updated packages.\n"
     ]
    }
   ],
   "source": [
    "pip install tensorflow-addons"
   ]
  },
  {
   "cell_type": "code",
   "execution_count": 3,
   "id": "1581437a",
   "metadata": {},
   "outputs": [
    {
     "name": "stdout",
     "output_type": "stream",
     "text": [
      "[name: \"/device:CPU:0\"\n",
      "device_type: \"CPU\"\n",
      "memory_limit: 268435456\n",
      "locality {\n",
      "}\n",
      "incarnation: 13765523080129549918\n",
      ", name: \"/device:GPU:0\"\n",
      "device_type: \"GPU\"\n",
      "memory_limit: 14295826432\n",
      "locality {\n",
      "  bus_id: 1\n",
      "  links {\n",
      "  }\n",
      "}\n",
      "incarnation: 4328415719785847860\n",
      "physical_device_desc: \"device: 0, name: Tesla T4, pci bus id: 0000:00:04.0, compute capability: 7.5\"\n",
      "]\n"
     ]
    }
   ],
   "source": [
    "import os\n",
    "import pandas as pd\n",
    "import numpy as np\n",
    "import matplotlib.pyplot as plt\n",
    "import seaborn as sns\n",
    "from sklearn.preprocessing import LabelEncoder\n",
    "import re\n",
    "import tensorflow as tf\n",
    "from tensorflow import keras\n",
    "from sklearn.model_selection import train_test_split\n",
    "from sklearn.metrics import f1_score\n",
    "from transformers import ElectraTokenizer\n",
    "from transformers import TFElectraForSequenceClassification\n",
    "from transformers import TextClassificationPipeline\n",
    "import wandb\n",
    "from wandb.integration.keras import WandbCallback\n",
    "import tensorflow_addons as tfa\n",
    "from tqdm import tqdm\n",
    "from tensorflow.python.client import device_lib\n",
    "\n",
    "print(device_lib.list_local_devices() )"
   ]
  },
  {
   "cell_type": "markdown",
   "id": "3c1124e5",
   "metadata": {},
   "source": [
    "# 1. 데이터 확인"
   ]
  },
  {
   "cell_type": "code",
   "execution_count": 4,
   "id": "cc8f7421",
   "metadata": {
    "scrolled": true
   },
   "outputs": [
    {
     "data": {
      "text/html": [
       "<div>\n",
       "<style scoped>\n",
       "    .dataframe tbody tr th:only-of-type {\n",
       "        vertical-align: middle;\n",
       "    }\n",
       "\n",
       "    .dataframe tbody tr th {\n",
       "        vertical-align: top;\n",
       "    }\n",
       "\n",
       "    .dataframe thead th {\n",
       "        text-align: right;\n",
       "    }\n",
       "</style>\n",
       "<table border=\"1\" class=\"dataframe\">\n",
       "  <thead>\n",
       "    <tr style=\"text-align: right;\">\n",
       "      <th></th>\n",
       "      <th>idx</th>\n",
       "      <th>class</th>\n",
       "      <th>conversation</th>\n",
       "    </tr>\n",
       "  </thead>\n",
       "  <tbody>\n",
       "    <tr>\n",
       "      <th>0</th>\n",
       "      <td>0</td>\n",
       "      <td>협박 대화</td>\n",
       "      <td>지금 너 스스로를 죽여달라고 애원하는 것인가?\\n 아닙니다. 죄송합니다.\\n 죽을 ...</td>\n",
       "    </tr>\n",
       "    <tr>\n",
       "      <th>1</th>\n",
       "      <td>1</td>\n",
       "      <td>협박 대화</td>\n",
       "      <td>길동경찰서입니다.\\n9시 40분 마트에 폭발물을 설치할거다.\\n네?\\n똑바로 들어 ...</td>\n",
       "    </tr>\n",
       "    <tr>\n",
       "      <th>2</th>\n",
       "      <td>2</td>\n",
       "      <td>기타 괴롭힘 대화</td>\n",
       "      <td>너 되게 귀여운거 알지? 나보다 작은 남자는 첨봤어.\\n그만해. 니들 놀리는거 재미...</td>\n",
       "    </tr>\n",
       "    <tr>\n",
       "      <th>3</th>\n",
       "      <td>3</td>\n",
       "      <td>갈취 대화</td>\n",
       "      <td>어이 거기\\n예??\\n너 말이야 너. 이리 오라고\\n무슨 일.\\n너 옷 좋아보인다?...</td>\n",
       "    </tr>\n",
       "    <tr>\n",
       "      <th>4</th>\n",
       "      <td>4</td>\n",
       "      <td>갈취 대화</td>\n",
       "      <td>저기요 혹시 날이 너무 뜨겁잖아요? 저희 회사에서 이 선크림 파는데 한 번 손등에 ...</td>\n",
       "    </tr>\n",
       "  </tbody>\n",
       "</table>\n",
       "</div>"
      ],
      "text/plain": [
       "   idx      class                                       conversation\n",
       "0    0      협박 대화  지금 너 스스로를 죽여달라고 애원하는 것인가?\\n 아닙니다. 죄송합니다.\\n 죽을 ...\n",
       "1    1      협박 대화  길동경찰서입니다.\\n9시 40분 마트에 폭발물을 설치할거다.\\n네?\\n똑바로 들어 ...\n",
       "2    2  기타 괴롭힘 대화  너 되게 귀여운거 알지? 나보다 작은 남자는 첨봤어.\\n그만해. 니들 놀리는거 재미...\n",
       "3    3      갈취 대화  어이 거기\\n예??\\n너 말이야 너. 이리 오라고\\n무슨 일.\\n너 옷 좋아보인다?...\n",
       "4    4      갈취 대화  저기요 혹시 날이 너무 뜨겁잖아요? 저희 회사에서 이 선크림 파는데 한 번 손등에 ..."
      ]
     },
     "execution_count": 4,
     "metadata": {},
     "output_type": "execute_result"
    }
   ],
   "source": [
    "train_data_path =\"~/aiffel/dktc/data/train.csv\"\n",
    "train_data = pd.read_csv(train_data_path)\n",
    "train_data.head()"
   ]
  },
  {
   "cell_type": "code",
   "execution_count": 5,
   "id": "07261e1c",
   "metadata": {
    "scrolled": true
   },
   "outputs": [
    {
     "data": {
      "text/html": [
       "<div>\n",
       "<style scoped>\n",
       "    .dataframe tbody tr th:only-of-type {\n",
       "        vertical-align: middle;\n",
       "    }\n",
       "\n",
       "    .dataframe tbody tr th {\n",
       "        vertical-align: top;\n",
       "    }\n",
       "\n",
       "    .dataframe thead th {\n",
       "        text-align: right;\n",
       "    }\n",
       "</style>\n",
       "<table border=\"1\" class=\"dataframe\">\n",
       "  <thead>\n",
       "    <tr style=\"text-align: right;\">\n",
       "      <th></th>\n",
       "      <th>text</th>\n",
       "      <th>label</th>\n",
       "    </tr>\n",
       "  </thead>\n",
       "  <tbody>\n",
       "    <tr>\n",
       "      <th>0</th>\n",
       "      <td>닌 된다 오카방 보니까\\n면접\\n열폭하는\\n바보 그자체야\\n인간들 만음\\n난 걍 불...</td>\n",
       "      <td>일반 대화</td>\n",
       "    </tr>\n",
       "    <tr>\n",
       "      <th>1</th>\n",
       "      <td>그치 하지만 오빠가 아니면 내가 그오빠들을 따로 만날일은 없지\\n억울하면 너도 가지...</td>\n",
       "      <td>일반 대화</td>\n",
       "    </tr>\n",
       "    <tr>\n",
       "      <th>2</th>\n",
       "      <td>오 생각보다 깔끔?\\n나야 #@이름# ㅎ\\n풉 ㅋ #@이름# 멋지다잉~\\n더\\n#@...</td>\n",
       "      <td>일반 대화</td>\n",
       "    </tr>\n",
       "    <tr>\n",
       "      <th>3</th>\n",
       "      <td>차라리 아까 20시간 간다\\nㅋㅋㅋㅋㅋㅋㅋㅋㅋㅋㅋㅋㅋㅋㅋㅋㅋㅋㅋㅋㅋㅋㅋㅋㅋㅋㅋㅋㅋㅋ...</td>\n",
       "      <td>일반 대화</td>\n",
       "    </tr>\n",
       "    <tr>\n",
       "      <th>4</th>\n",
       "      <td>입원하나요?!\\n조용하네 아직 기다리는중요ㅎㅎ\\n역시 일찍일어난새가 먹이를먹네요\\n...</td>\n",
       "      <td>일반 대화</td>\n",
       "    </tr>\n",
       "  </tbody>\n",
       "</table>\n",
       "</div>"
      ],
      "text/plain": [
       "                                                text  label\n",
       "0  닌 된다 오카방 보니까\\n면접\\n열폭하는\\n바보 그자체야\\n인간들 만음\\n난 걍 불...  일반 대화\n",
       "1  그치 하지만 오빠가 아니면 내가 그오빠들을 따로 만날일은 없지\\n억울하면 너도 가지...  일반 대화\n",
       "2  오 생각보다 깔끔?\\n나야 #@이름# ㅎ\\n풉 ㅋ #@이름# 멋지다잉~\\n더\\n#@...  일반 대화\n",
       "3  차라리 아까 20시간 간다\\nㅋㅋㅋㅋㅋㅋㅋㅋㅋㅋㅋㅋㅋㅋㅋㅋㅋㅋㅋㅋㅋㅋㅋㅋㅋㅋㅋㅋㅋㅋ...  일반 대화\n",
       "4  입원하나요?!\\n조용하네 아직 기다리는중요ㅎㅎ\\n역시 일찍일어난새가 먹이를먹네요\\n...  일반 대화"
      ]
     },
     "execution_count": 5,
     "metadata": {},
     "output_type": "execute_result"
    }
   ],
   "source": [
    "common_data_path =\"~/aiffel/aiffel/dlthon/AIFFEL_DLthon/file/sampled_dataset.csv\"\n",
    "common_data = pd.read_csv(common_data_path)\n",
    "common_data = common_data[:1000]\n",
    "common_data.head()"
   ]
  },
  {
   "cell_type": "code",
   "execution_count": 6,
   "id": "53810537",
   "metadata": {},
   "outputs": [
    {
     "data": {
      "text/html": [
       "<div>\n",
       "<style scoped>\n",
       "    .dataframe tbody tr th:only-of-type {\n",
       "        vertical-align: middle;\n",
       "    }\n",
       "\n",
       "    .dataframe tbody tr th {\n",
       "        vertical-align: top;\n",
       "    }\n",
       "\n",
       "    .dataframe thead th {\n",
       "        text-align: right;\n",
       "    }\n",
       "</style>\n",
       "<table border=\"1\" class=\"dataframe\">\n",
       "  <thead>\n",
       "    <tr style=\"text-align: right;\">\n",
       "      <th></th>\n",
       "      <th>idx</th>\n",
       "      <th>class</th>\n",
       "      <th>conversation</th>\n",
       "    </tr>\n",
       "  </thead>\n",
       "  <tbody>\n",
       "    <tr>\n",
       "      <th>0</th>\n",
       "      <td>NaN</td>\n",
       "      <td>일반 대화</td>\n",
       "      <td>#@URL#\\n#@이름#아\\n네\\n우리가 266-511인가?\\n?\\n#@주소# 26...</td>\n",
       "    </tr>\n",
       "    <tr>\n",
       "      <th>1</th>\n",
       "      <td>NaN</td>\n",
       "      <td>일반 대화</td>\n",
       "      <td>진쫘~ #@이름#선배는 개인피티때문에 먼저 퇴근했구 나는 #@이름#님 기다리는중 #...</td>\n",
       "    </tr>\n",
       "    <tr>\n",
       "      <th>2</th>\n",
       "      <td>1629.0</td>\n",
       "      <td>직장 내 괴롭힘 대화</td>\n",
       "      <td>야 넌 월급루팡이야?\\n죄송합니다.\\n진짜 일 이따구로 할래? 짤리고 싶니?\\n아닙...</td>\n",
       "    </tr>\n",
       "    <tr>\n",
       "      <th>3</th>\n",
       "      <td>546.0</td>\n",
       "      <td>기타 괴롭힘 대화</td>\n",
       "      <td>생긴 것 봐라. 니네 부모님은 무슨 잘못을 하셔서 이런 자식을 낳으셨냐\\n뭐라는거야...</td>\n",
       "    </tr>\n",
       "    <tr>\n",
       "      <th>4</th>\n",
       "      <td>703.0</td>\n",
       "      <td>기타 괴롭힘 대화</td>\n",
       "      <td>야야 너 기절놀이아냐?\\n그게뭔데?\\n궁금하지 이리와봐 알려줄께 이렇게 목 조르면 ...</td>\n",
       "    </tr>\n",
       "  </tbody>\n",
       "</table>\n",
       "</div>"
      ],
      "text/plain": [
       "      idx        class                                       conversation\n",
       "0     NaN        일반 대화  #@URL#\\n#@이름#아\\n네\\n우리가 266-511인가?\\n?\\n#@주소# 26...\n",
       "1     NaN        일반 대화  진쫘~ #@이름#선배는 개인피티때문에 먼저 퇴근했구 나는 #@이름#님 기다리는중 #...\n",
       "2  1629.0  직장 내 괴롭힘 대화  야 넌 월급루팡이야?\\n죄송합니다.\\n진짜 일 이따구로 할래? 짤리고 싶니?\\n아닙...\n",
       "3   546.0    기타 괴롭힘 대화  생긴 것 봐라. 니네 부모님은 무슨 잘못을 하셔서 이런 자식을 낳으셨냐\\n뭐라는거야...\n",
       "4   703.0    기타 괴롭힘 대화  야야 너 기절놀이아냐?\\n그게뭔데?\\n궁금하지 이리와봐 알려줄께 이렇게 목 조르면 ..."
      ]
     },
     "execution_count": 6,
     "metadata": {},
     "output_type": "execute_result"
    }
   ],
   "source": [
    "common_data.rename(columns={'text': 'conversation', 'label': 'class'}, inplace=True)\n",
    "train_data = pd.concat([train_data, common_data], ignore_index=True)\n",
    "train_data = train_data.sample(frac=1).reset_index(drop=True)\n",
    "train_data.head()"
   ]
  },
  {
   "cell_type": "code",
   "execution_count": 7,
   "id": "08d2774c",
   "metadata": {
    "scrolled": true
   },
   "outputs": [
    {
     "name": "stdout",
     "output_type": "stream",
     "text": [
      "Train Data Info:\n",
      "<class 'pandas.core.frame.DataFrame'>\n",
      "RangeIndex: 4950 entries, 0 to 4949\n",
      "Data columns (total 3 columns):\n",
      " #   Column        Non-Null Count  Dtype  \n",
      "---  ------        --------------  -----  \n",
      " 0   idx           3950 non-null   float64\n",
      " 1   class         4950 non-null   object \n",
      " 2   conversation  4950 non-null   object \n",
      "dtypes: float64(1), object(2)\n",
      "memory usage: 116.1+ KB\n",
      "None\n"
     ]
    },
    {
     "data": {
      "image/png": "[encoded data removed]",
      "text/plain": [
       "<Figure size 720x432 with 1 Axes>"
      ]
     },
     "metadata": {
      "needs_background": "light"
     },
     "output_type": "display_data"
    },
    {
     "data": {
      "image/png": "[encoded data removed]",
      "text/plain": [
       "<Figure size 576x576 with 1 Axes>"
      ]
     },
     "metadata": {},
     "output_type": "display_data"
    },
    {
     "data": {
      "image/png": "[encoded data removed]",
      "text/plain": [
       "<Figure size 720x432 with 1 Axes>"
      ]
     },
     "metadata": {
      "needs_background": "light"
     },
     "output_type": "display_data"
    },
    {
     "data": {
      "image/png": "[encoded data removed]",
      "text/plain": [
       "<Figure size 864x432 with 1 Axes>"
      ]
     },
     "metadata": {
      "needs_background": "light"
     },
     "output_type": "display_data"
    },
    {
     "data": {
      "image/png": "[encoded data removed]",
      "text/plain": [
       "<Figure size 864x432 with 1 Axes>"
      ]
     },
     "metadata": {
      "needs_background": "light"
     },
     "output_type": "display_data"
    },
    {
     "data": {
      "image/png": "[encoded data removed]",
      "text/plain": [
       "<Figure size 720x432 with 1 Axes>"
      ]
     },
     "metadata": {
      "needs_background": "light"
     },
     "output_type": "display_data"
    },
    {
     "data": {
      "image/png": "[encoded data removed]",
      "text/plain": [
       "<Figure size 864x432 with 1 Axes>"
      ]
     },
     "metadata": {
      "needs_background": "light"
     },
     "output_type": "display_data"
    }
   ],
   "source": [
    "# 한글 폰트 설정 (여기서는 'NanumGothic' 폰트를 사용)\n",
    "plt.rcParams['font.family'] = 'NanumGothic'\n",
    "\n",
    "# 데이터 기본 정보 확인\n",
    "print(\"Train Data Info:\")\n",
    "print(train_data.info())  # 데이터 타입, 결측치 확인\n",
    "\n",
    "# 1. 'class' 컬럼의 분포 확인\n",
    "plt.figure(figsize=(10, 6))\n",
    "sns.countplot(x='class', data=train_data)\n",
    "plt.title('각 클래스의 개수')\n",
    "plt.show()\n",
    "\n",
    "# 2. 'class' 컬럼의 비율을 Pie Chart로 시각화\n",
    "plt.figure(figsize=(8, 8))\n",
    "train_data['class'].value_counts().plot.pie(autopct='%1.1f%%', startangle=90, colors=sns.color_palette('pastel'))\n",
    "plt.title('각 클래스의 비율')\n",
    "plt.ylabel('')  # Y-label 제거\n",
    "plt.show()\n",
    "\n",
    "# 3. 'conversation' 텍스트의 길이 분포 확인 (각 문장의 문자 수)\n",
    "train_data['text_length'] = train_data['conversation'].apply(len)\n",
    "\n",
    "plt.figure(figsize=(10, 6))\n",
    "sns.histplot(train_data['text_length'], kde=True)\n",
    "plt.title('대화 길이 분포 (문자 수)')\n",
    "plt.xlabel('문자 수')\n",
    "plt.ylabel('빈도')\n",
    "plt.show()\n",
    "\n",
    "# 4. 'class'별로 'conversation' 길이 분포 확인 (Violin Plot)\n",
    "plt.figure(figsize=(12, 6))\n",
    "sns.violinplot(x='class', y='text_length', data=train_data, palette='Set2')\n",
    "plt.title('클래스별 대화 길이 분포 (문자 수)')\n",
    "plt.xlabel('클래스')\n",
    "plt.ylabel('대화 길이 (문자 수)')\n",
    "plt.show()\n",
    "\n",
    "# 5. 'class'별로 'conversation' 길이 상자 그림(Boxplot)\n",
    "plt.figure(figsize=(12, 6))\n",
    "sns.boxplot(x='class', y='text_length', data=train_data, palette='Set1')\n",
    "plt.title('클래스별 대화 길이 상자 그림 (문자 수)')\n",
    "plt.xlabel('클래스')\n",
    "plt.ylabel('대화 길이 (문자 수)')\n",
    "plt.show()\n",
    "\n",
    "# 6. 'class'별로 대화 내용의 단어 수 분포 확인\n",
    "train_data['word_count'] = train_data['conversation'].apply(lambda x: len(x.split()))\n",
    "\n",
    "plt.figure(figsize=(10, 6))\n",
    "sns.histplot(train_data['word_count'], kde=True, color='purple')\n",
    "plt.title('대화의 단어 수 분포')\n",
    "plt.xlabel('단어 수')\n",
    "plt.ylabel('빈도')\n",
    "plt.show()\n",
    "\n",
    "# 7. 'class'별로 단어 수 분포 확인 (Violin Plot)\n",
    "plt.figure(figsize=(12, 6))\n",
    "sns.violinplot(x='class', y='word_count', data=train_data, palette='coolwarm')\n",
    "plt.title('클래스별 단어 수 분포')\n",
    "plt.xlabel('클래스')\n",
    "plt.ylabel('단어 수')\n",
    "plt.show()"
   ]
  },
  {
   "cell_type": "code",
   "execution_count": 8,
   "id": "a3f6d484",
   "metadata": {},
   "outputs": [
    {
     "data": {
      "text/plain": [
       "idx             1000\n",
       "class              0\n",
       "conversation       0\n",
       "text_length        0\n",
       "word_count         0\n",
       "dtype: int64"
      ]
     },
     "execution_count": 8,
     "metadata": {},
     "output_type": "execute_result"
    }
   ],
   "source": [
    "train_data.isnull().sum()"
   ]
  },
  {
   "cell_type": "markdown",
   "id": "661b5ea9",
   "metadata": {},
   "source": [
    "# 2. 라벨 인코딩 & 데이터 정제"
   ]
  },
  {
   "cell_type": "markdown",
   "id": "68bf4b1d",
   "metadata": {},
   "source": [
    "라벨 인코딩"
   ]
  },
  {
   "cell_type": "code",
   "execution_count": 9,
   "id": "0a412251",
   "metadata": {},
   "outputs": [
    {
     "data": {
      "text/html": [
       "<div>\n",
       "<style scoped>\n",
       "    .dataframe tbody tr th:only-of-type {\n",
       "        vertical-align: middle;\n",
       "    }\n",
       "\n",
       "    .dataframe tbody tr th {\n",
       "        vertical-align: top;\n",
       "    }\n",
       "\n",
       "    .dataframe thead th {\n",
       "        text-align: right;\n",
       "    }\n",
       "</style>\n",
       "<table border=\"1\" class=\"dataframe\">\n",
       "  <thead>\n",
       "    <tr style=\"text-align: right;\">\n",
       "      <th></th>\n",
       "      <th>idx</th>\n",
       "      <th>class</th>\n",
       "      <th>conversation</th>\n",
       "      <th>text_length</th>\n",
       "      <th>word_count</th>\n",
       "    </tr>\n",
       "  </thead>\n",
       "  <tbody>\n",
       "    <tr>\n",
       "      <th>0</th>\n",
       "      <td>NaN</td>\n",
       "      <td>2</td>\n",
       "      <td>#@URL#\\n#@이름#아\\n네\\n우리가 266-511인가?\\n?\\n#@주소# 26...</td>\n",
       "      <td>165</td>\n",
       "      <td>41</td>\n",
       "    </tr>\n",
       "    <tr>\n",
       "      <th>1</th>\n",
       "      <td>NaN</td>\n",
       "      <td>2</td>\n",
       "      <td>진쫘~ #@이름#선배는 개인피티때문에 먼저 퇴근했구 나는 #@이름#님 기다리는중 #...</td>\n",
       "      <td>221</td>\n",
       "      <td>46</td>\n",
       "    </tr>\n",
       "    <tr>\n",
       "      <th>2</th>\n",
       "      <td>1629.0</td>\n",
       "      <td>3</td>\n",
       "      <td>야 넌 월급루팡이야?\\n죄송합니다.\\n진짜 일 이따구로 할래? 짤리고 싶니?\\n아닙...</td>\n",
       "      <td>168</td>\n",
       "      <td>41</td>\n",
       "    </tr>\n",
       "    <tr>\n",
       "      <th>3</th>\n",
       "      <td>546.0</td>\n",
       "      <td>1</td>\n",
       "      <td>생긴 것 봐라. 니네 부모님은 무슨 잘못을 하셔서 이런 자식을 낳으셨냐\\n뭐라는거야...</td>\n",
       "      <td>223</td>\n",
       "      <td>59</td>\n",
       "    </tr>\n",
       "    <tr>\n",
       "      <th>4</th>\n",
       "      <td>703.0</td>\n",
       "      <td>1</td>\n",
       "      <td>야야 너 기절놀이아냐?\\n그게뭔데?\\n궁금하지 이리와봐 알려줄께 이렇게 목 조르면 ...</td>\n",
       "      <td>118</td>\n",
       "      <td>26</td>\n",
       "    </tr>\n",
       "  </tbody>\n",
       "</table>\n",
       "</div>"
      ],
      "text/plain": [
       "      idx  class                                       conversation  \\\n",
       "0     NaN      2  #@URL#\\n#@이름#아\\n네\\n우리가 266-511인가?\\n?\\n#@주소# 26...   \n",
       "1     NaN      2  진쫘~ #@이름#선배는 개인피티때문에 먼저 퇴근했구 나는 #@이름#님 기다리는중 #...   \n",
       "2  1629.0      3  야 넌 월급루팡이야?\\n죄송합니다.\\n진짜 일 이따구로 할래? 짤리고 싶니?\\n아닙...   \n",
       "3   546.0      1  생긴 것 봐라. 니네 부모님은 무슨 잘못을 하셔서 이런 자식을 낳으셨냐\\n뭐라는거야...   \n",
       "4   703.0      1  야야 너 기절놀이아냐?\\n그게뭔데?\\n궁금하지 이리와봐 알려줄께 이렇게 목 조르면 ...   \n",
       "\n",
       "   text_length  word_count  \n",
       "0          165          41  \n",
       "1          221          46  \n",
       "2          168          41  \n",
       "3          223          59  \n",
       "4          118          26  "
      ]
     },
     "execution_count": 9,
     "metadata": {},
     "output_type": "execute_result"
    }
   ],
   "source": [
    "CLASS_NAMES = ['협박 대화', '갈취 대화', '직장 내 괴롭힘 대화', '기타 괴롭힘 대화', '일반 대화']\n",
    "\n",
    "label_size = len(CLASS_NAMES)\n",
    "\n",
    "encoder = LabelEncoder()\n",
    "encoder.fit(CLASS_NAMES)\n",
    "\n",
    "train_data['class'] = encoder.transform(train_data['class'])\n",
    "train_data.head()"
   ]
  },
  {
   "cell_type": "code",
   "execution_count": 10,
   "id": "800c9af0",
   "metadata": {},
   "outputs": [],
   "source": [
    "# 데이터 정제 함수\n",
    "def preprocess_sentence(sentence):\n",
    "\n",
    "    # 앞뒤 공백 제거\n",
    "    sentence = sentence.strip()\n",
    "    # 한글, 영어, 숫자, 구두점 외 제거\n",
    "    sentence = re.sub(r\"[^가-힣ㄱ-ㅎㅏ-ㅣa-zA-Z0-9.,!? ]\", \" \", sentence)\n",
    "    # 단어와 구두점(punctuation) 사이의 거리를 만듭니다.\n",
    "    # 예를 들어서 \"I am a student.\" => \"I am a student .\"와 같이\n",
    "    # student와 온점 사이에 거리를 만듭니다.\n",
    "    sentence = re.sub(r\"([?.!,])\", r\" \\1 \", sentence)\n",
    "    sentence = re.sub(r'[\" \"]+', \" \", sentence)\n",
    "    # 다중 공백을 단일 공백으로\n",
    "    sentence = re.sub(r\"\\s+\", \" \", sentence)\n",
    "    \n",
    "    # ㅋㅋ, ㅎㅎ, ㅠㅠ 등을 정규화\n",
    "    sentence = re.sub(r'ㅋ{2,}', 'ㅋㅋ', sentence)  # 연속된 ㅋ를 ㅋㅋ로 통일\n",
    "    sentence = re.sub(r'ㅎ{2,}', 'ㅎㅎ', sentence)  # 연속된 ㅎ를 ㅎㅎ로 통일\n",
    "    sentence = re.sub(r'ㅠ{2,}', 'ㅠㅠ', sentence)  # 연속된 ㅠ를 ㅠㅠ로 통일\n",
    "\n",
    "    return sentence"
   ]
  },
  {
   "cell_type": "code",
   "execution_count": 11,
   "id": "45a5b495",
   "metadata": {},
   "outputs": [
    {
     "data": {
      "text/plain": [
       "4950"
      ]
     },
     "execution_count": 11,
     "metadata": {},
     "output_type": "execute_result"
    }
   ],
   "source": [
    "# 데이터 정제\n",
    "clean_data=[]\n",
    "\n",
    "for x in train_data['conversation']:\n",
    "    clean_data.append(preprocess_sentence(x))\n",
    "    \n",
    "len(clean_data)"
   ]
  },
  {
   "cell_type": "code",
   "execution_count": 12,
   "id": "579fb78e",
   "metadata": {},
   "outputs": [],
   "source": [
    "# 정제된 데이터 conversation에 저장\n",
    "train_data['conversation'] = clean_data"
   ]
  },
  {
   "cell_type": "markdown",
   "id": "05ce1ef2",
   "metadata": {},
   "source": [
    "# 3. 데이터셋 분리"
   ]
  },
  {
   "cell_type": "code",
   "execution_count": 13,
   "id": "9a9b622a",
   "metadata": {},
   "outputs": [],
   "source": [
    "# input, target 리스트화\n",
    "train_texts = train_data['conversation'].to_list() # Features (not-tokenized yet)\n",
    "train_labels = train_data[\"class\"].to_list() # Labels"
   ]
  },
  {
   "cell_type": "code",
   "execution_count": 14,
   "id": "23b8ae4f",
   "metadata": {
    "scrolled": false
   },
   "outputs": [
    {
     "name": "stdout",
     "output_type": "stream",
     "text": [
      "x_train lenght : 3712\n",
      "x_test lenght : 1238\n",
      "y_train lenght : 3712\n",
      "y_test lenght : 1238\n"
     ]
    }
   ],
   "source": [
    "x_train, x_test, y_train, y_test = train_test_split(train_texts, train_labels, test_size=0.25, random_state=14561)\n",
    "\n",
    "print(\"x_train lenght :\", len(x_train))\n",
    "print(\"x_test lenght :\", len(x_test))\n",
    "print(\"y_train lenght :\", len(y_train))\n",
    "print(\"y_test lenght :\", len(y_test))"
   ]
  },
  {
   "cell_type": "code",
   "execution_count": 15,
   "id": "e8c4055a",
   "metadata": {
    "scrolled": true
   },
   "outputs": [
    {
     "name": "stdout",
     "output_type": "stream",
     "text": [
      "x_train lenght : 2598\n",
      "x_val lenght : 1114\n",
      "y_train lenght : 2598\n",
      "y_val lenght : 1114\n"
     ]
    }
   ],
   "source": [
    "x_train, x_val, y_train, y_val = train_test_split(x_train, y_train, test_size=0.3, random_state=14561)\n",
    "\n",
    "print(\"x_train lenght :\", len(x_train))\n",
    "print(\"x_val lenght :\", len(x_val))\n",
    "print(\"y_train lenght :\", len(y_train))\n",
    "print(\"y_val lenght :\", len(y_val))"
   ]
  },
  {
   "cell_type": "markdown",
   "id": "c079f441",
   "metadata": {},
   "source": [
    "# 4. 사전 훈련된 모델의 토크나이저 load"
   ]
  },
  {
   "cell_type": "code",
   "execution_count": 16,
   "id": "9110fcc8",
   "metadata": {
    "scrolled": true
   },
   "outputs": [],
   "source": [
    "HUGGINGFACE_MODEL_PATH = \"monologg/koelectra-base-v3-discriminator\"\n",
    "\n",
    "KoELECTRA_tokenizer = ElectraTokenizer.from_pretrained(HUGGINGFACE_MODEL_PATH)"
   ]
  },
  {
   "cell_type": "markdown",
   "id": "a9e5980f",
   "metadata": {},
   "source": [
    "# 5. 토큰화 & 숫자 시퀀스로 변환"
   ]
  },
  {
   "cell_type": "code",
   "execution_count": 17,
   "id": "bdc94c00",
   "metadata": {
    "scrolled": true
   },
   "outputs": [],
   "source": [
    "# Tokenizing\n",
    "train_encodings = KoELECTRA_tokenizer(x_train, truncation=True, padding=True)\n",
    "val_encodings = KoELECTRA_tokenizer(x_val, truncation=True, padding=True)\n",
    "test_encodings = KoELECTRA_tokenizer(x_test, truncation=True, padding=True)"
   ]
  },
  {
   "cell_type": "markdown",
   "id": "5f6cb7e9",
   "metadata": {},
   "source": [
    "# 6. 훈련에 사용될 dataset 생성"
   ]
  },
  {
   "cell_type": "markdown",
   "id": "6e5a0d99",
   "metadata": {},
   "source": [
    "데이터셋 객체 생성"
   ]
  },
  {
   "cell_type": "code",
   "execution_count": 18,
   "id": "5df3b1b1",
   "metadata": {},
   "outputs": [],
   "source": [
    "train_dataset = tf.data.Dataset.from_tensor_slices((\n",
    "        dict(train_encodings),\n",
    "        y_train\n",
    "))"
   ]
  },
  {
   "cell_type": "code",
   "execution_count": 19,
   "id": "527f93f5",
   "metadata": {},
   "outputs": [],
   "source": [
    "val_dataset = tf.data.Dataset.from_tensor_slices((\n",
    "        dict(val_encodings),\n",
    "        y_val\n",
    "))"
   ]
  },
  {
   "cell_type": "markdown",
   "id": "f70ab4d4",
   "metadata": {},
   "source": [
    "# 7. 사전 훈련된 모델 load"
   ]
  },
  {
   "cell_type": "code",
   "execution_count": 20,
   "id": "959bee0d",
   "metadata": {
    "scrolled": true
   },
   "outputs": [
    {
     "name": "stderr",
     "output_type": "stream",
     "text": [
      "Some weights of the PyTorch model were not used when initializing the TF 2.0 model TFElectraForSequenceClassification: ['discriminator_predictions.dense_prediction.bias', 'discriminator_predictions.dense.weight', 'discriminator_predictions.dense_prediction.weight', 'electra.embeddings.position_ids', 'discriminator_predictions.dense.bias']\n",
      "- This IS expected if you are initializing TFElectraForSequenceClassification from a PyTorch model trained on another task or with another architecture (e.g. initializing a TFBertForSequenceClassification model from a BertForPreTraining model).\n",
      "- This IS NOT expected if you are initializing TFElectraForSequenceClassification from a PyTorch model that you expect to be exactly identical (e.g. initializing a TFBertForSequenceClassification model from a BertForSequenceClassification model).\n",
      "Some weights or buffers of the TF 2.0 model TFElectraForSequenceClassification were not initialized from the PyTorch model and are newly initialized: ['classifier.dense.weight', 'classifier.dense.bias', 'classifier.out_proj.weight', 'classifier.out_proj.bias']\n",
      "You should probably TRAIN this model on a down-stream task to be able to use it for predictions and inference.\n"
     ]
    },
    {
     "data": {
      "text/plain": [
       "\"optimizer = tf.keras.optimizers.Adam(learning_rate=5e-5)\\nloss_fn = tf.keras.losses.SparseCategoricalCrossentropy(from_logits=True)\\nKoELECTRA_model.compile(optimizer=optimizer, loss=loss_fn, metrics=['accuracy'])\""
      ]
     },
     "execution_count": 20,
     "metadata": {},
     "output_type": "execute_result"
    }
   ],
   "source": [
    "num_labels = len(encoder.classes_)\n",
    "KoELECTRA_model = TFElectraForSequenceClassification.from_pretrained(HUGGINGFACE_MODEL_PATH, num_labels=num_labels, from_pt=True)\n",
    "\n",
    "'''optimizer = tf.keras.optimizers.Adam(learning_rate=5e-5)\n",
    "loss_fn = tf.keras.losses.SparseCategoricalCrossentropy(from_logits=True)\n",
    "KoELECTRA_model.compile(optimizer=optimizer, loss=loss_fn, metrics=['accuracy'])'''"
   ]
  },
  {
   "cell_type": "code",
   "execution_count": 21,
   "id": "30e33b1e",
   "metadata": {},
   "outputs": [],
   "source": [
    "# Electra 층 동결\n",
    "KoELECTRA_model.electra.trainable = False"
   ]
  },
  {
   "cell_type": "code",
   "execution_count": 22,
   "id": "0ff398e4",
   "metadata": {
    "scrolled": false
   },
   "outputs": [
    {
     "name": "stdout",
     "output_type": "stream",
     "text": [
      "Model: \"tf_electra_for_sequence_classification\"\n",
      "_________________________________________________________________\n",
      "Layer (type)                 Output Shape              Param #   \n",
      "=================================================================\n",
      "electra (TFElectraMainLayer) multiple                  112330752 \n",
      "_________________________________________________________________\n",
      "classifier (TFElectraClassif multiple                  594437    \n",
      "=================================================================\n",
      "Total params: 112,925,189\n",
      "Trainable params: 594,437\n",
      "Non-trainable params: 112,330,752\n",
      "_________________________________________________________________\n"
     ]
    }
   ],
   "source": [
    "KoELECTRA_model.summary()"
   ]
  },
  {
   "cell_type": "markdown",
   "id": "2296edbe",
   "metadata": {},
   "source": [
    "# 8. wandb -> 최적의 하이퍼파라미터값 찾기"
   ]
  },
  {
   "cell_type": "code",
   "execution_count": 23,
   "id": "0025ddaf",
   "metadata": {},
   "outputs": [
    {
     "name": "stderr",
     "output_type": "stream",
     "text": [
      "\u001b[34m\u001b[1mwandb\u001b[0m: Using wandb-core as the SDK backend. Please refer to https://wandb.me/wandb-core for more information.\n",
      "\u001b[34m\u001b[1mwandb\u001b[0m: Currently logged in as: \u001b[33mvieisi8\u001b[0m (\u001b[33mvieisi8-123\u001b[0m). Use \u001b[1m`wandb login --relogin`\u001b[0m to force relogin\n",
      "\u001b[34m\u001b[1mwandb\u001b[0m: \u001b[33mWARNING\u001b[0m If you're specifying your api key in code, ensure this code is not shared publicly.\n",
      "\u001b[34m\u001b[1mwandb\u001b[0m: \u001b[33mWARNING\u001b[0m Consider setting the WANDB_API_KEY environment variable, or running `wandb login` from the command line.\n",
      "\u001b[34m\u001b[1mwandb\u001b[0m: Appending key for api.wandb.ai to your netrc file: /aiffel/.netrc\n"
     ]
    },
    {
     "data": {
      "text/plain": [
       "True"
      ]
     },
     "execution_count": 23,
     "metadata": {},
     "output_type": "execute_result"
    }
   ],
   "source": [
    "wandb.login(key = \"d5b43035f76ce84b3b50ba2ac5cd415f67f54b08\")"
   ]
  },
  {
   "cell_type": "code",
   "execution_count": 24,
   "id": "936a5273",
   "metadata": {},
   "outputs": [],
   "source": [
    "# 하이퍼파라미터 종류 정의\n",
    "# 여기선 learning_rate, epoch만 설정\n",
    "sweep_config = {\n",
    "    \"name\": \"KoELECTRA\",\n",
    "    \"metric\": {\"name\": \"val_custom_f1score\", \"goal\": \"maximize\"},\n",
    "    \"method\": \"random\",\n",
    "    \"parameters\": {\n",
    "        \"learning_rate\" : {\n",
    "            \"min\" : 1e-5,\n",
    "            \"max\" : 9e-5\n",
    "            },\n",
    "        \"epoch\" : {\n",
    "            \"distribution\" : \"int_uniform\",\n",
    "            \"min\" : 5,\n",
    "            \"max\" : 15\n",
    "            }\n",
    "                    \n",
    "        }\n",
    "    }"
   ]
  },
  {
   "cell_type": "code",
   "execution_count": 25,
   "id": "097baa00",
   "metadata": {},
   "outputs": [],
   "source": [
    "def save_model(model, tokenizer, MODEL_NAME, MODEL_SAVE_PATH):\n",
    "    # label을 숫자형태로 encoding 진행함\n",
    "    # decoding 숫자 -> label 변환\n",
    "    try:\n",
    "        \n",
    "        id2labels = model.config.id2label\n",
    "        model.config.id2label = {id : encoder.inverse_transform([int(re.sub('LABEL_', '', label))])[0]  for id, label in id2labels.items()}\n",
    "\n",
    "        label2ids = model.config.label2id\n",
    "        model.config.label2id = {encoder.inverse_transform([int(re.sub('LABEL_', '', label))])[0] : id   for id, label in id2labels.items()}\n",
    "        \n",
    "    except Exception as e:\n",
    "        print(\"label이 이미 decoding 되있습니다!\")\n",
    "\n",
    "    if os.path.exists(MODEL_SAVE_PATH):\n",
    "        print(f\"{MODEL_SAVE_PATH} -- Folder already exists \\n\")\n",
    "    else:\n",
    "        os.makedirs(MODEL_SAVE_PATH, exist_ok=True)\n",
    "        print(f\"{MODEL_SAVE_PATH} -- Folder create complete \\n\")\n",
    "\n",
    "    # save tokenizer, model\n",
    "    model.save_pretrained(MODEL_SAVE_PATH, save_format='tf')\n",
    "    tokenizer.save_pretrained(MODEL_SAVE_PATH)"
   ]
  },
  {
   "cell_type": "code",
   "execution_count": 26,
   "id": "1eba4880",
   "metadata": {},
   "outputs": [],
   "source": [
    "def f1_score_calculation(data, label, text_classifier):\n",
    "    y_pred = []\n",
    "\n",
    "    for text in tqdm(data, desc=\"predictive processing\", total=len(data)):\n",
    "        # predict\n",
    "        preds_list = text_classifier(text)[0]\n",
    "\n",
    "        sorted_preds_list = sorted(preds_list, key=lambda x: x['score'], reverse=True)\n",
    "        preds_list = sorted_preds_list[0] \n",
    "\n",
    "        label_value = preds_list['label']\n",
    "        y_pred.append(label_value)\n",
    "        \n",
    "    # label decoding 숫자 -> label 변환\n",
    "    label = encoder.inverse_transform(label)\n",
    "    \n",
    "    # F1 점수 계산\n",
    "    f1 = f1_score(label, y_pred, average='macro')  # macro는 클래스 크기에 상관없이 모든 클래스를 같은 비중으로 다룸\n",
    "    \n",
    "    return f1"
   ]
  },
  {
   "cell_type": "code",
   "execution_count": 27,
   "id": "9b3bc8e2",
   "metadata": {
    "scrolled": true
   },
   "outputs": [],
   "source": [
    "# tfa.metrics.F1Score을 사용하되\n",
    "# y_true, y_pred shape을 통일 하기 위해 정의함\n",
    "class CustomF1Score(tf.keras.metrics.Metric):\n",
    "    def __init__(self, num_classes, **kwargs):\n",
    "        super(CustomF1Score, self).__init__(**kwargs)\n",
    "        self.num_classes = num_classes\n",
    "        self.f1 = tfa.metrics.F1Score(num_classes=num_classes, average='macro')\n",
    "\n",
    "    def update_state(self, y_true, y_pred, sample_weight=None):\n",
    "        \n",
    "        y_true_one_hot = tf.one_hot(y_true, depth=self.num_classes) # shape=(None, 1, 5)\n",
    "        # 차원 축소하여 (None, 5)로 변경\n",
    "        y_true_one_hot = tf.squeeze(y_true_one_hot, axis=1)\n",
    "\n",
    "        \n",
    "        # 로짓을 소프트맥스로 변환하여 클래스 확률로 변환\n",
    "        y_pred = tf.nn.softmax(y_pred) # shape=(None, 5)\n",
    "        \n",
    "        return self.f1.update_state(y_true_one_hot, y_pred, sample_weight)\n",
    "\n",
    "    def result(self):\n",
    "        return self.f1.result()\n",
    "\n",
    "    def reset_state(self):\n",
    "        return self.f1.reset_state()"
   ]
  },
  {
   "cell_type": "code",
   "execution_count": 28,
   "id": "19559229",
   "metadata": {},
   "outputs": [],
   "source": [
    "def train():\n",
    "    default_config = {\n",
    "        \"learning_rate\" : 5e-5,\n",
    "        \"optimizer\" : \"adam\",\n",
    "        \"epoch\" : 10\n",
    "    }\n",
    "\n",
    "    wandb.init(config = default_config)\n",
    "    config = wandb.config\n",
    "\n",
    "    # 머신 러닝 학습때 여러가지 optimzier를 사용할 경우나 learning rate를 조절할 경우에는 아래와 같은 형태의 코드를 응용합니다.\n",
    "\n",
    "    if config.optimizer == 'adam':\n",
    "        optimizer = keras.optimizers.Adam(learning_rate = config.learning_rate)\n",
    "    \n",
    "    loss_fn = tf.keras.losses.SparseCategoricalCrossentropy(from_logits=True)\n",
    "    KoELECTRA_model.compile(optimizer = optimizer,\n",
    "                  loss = loss_fn,\n",
    "                  metrics = ['accuracy',CustomF1Score(num_classes=5)])\n",
    "                    # metric으로 f1 score 사용\n",
    "\n",
    "    KoELECTRA_model.fit(train_dataset.shuffle(1000).batch(14),\n",
    "                        epochs = config.epoch,\n",
    "                        validation_data=val_dataset.shuffle(1000).batch(14),\n",
    "                        callbacks = [WandbCallback()])\n",
    "    \n",
    "    MODEL_NAME = \"KoELECTRA-base-v3\"\n",
    "    MODEL_SAVE_PATH = os.path.join(os.getenv('HOME')+\"/aiffel/aiffel/dlthon/\", MODEL_NAME) \n",
    "    save_model(KoELECTRA_model, KoELECTRA_tokenizer, MODEL_NAME, MODEL_SAVE_PATH)\n",
    "    \n",
    "    # Load Fine-tuning model\n",
    "    loaded_tokenizer = ElectraTokenizer.from_pretrained(MODEL_SAVE_PATH)\n",
    "    loaded_model = TFElectraForSequenceClassification.from_pretrained(MODEL_SAVE_PATH)\n",
    "\n",
    "    text_classifier = TextClassificationPipeline(\n",
    "        tokenizer=loaded_tokenizer, \n",
    "        model=loaded_model, \n",
    "        framework='tf',\n",
    "        return_all_scores=True\n",
    "    )\n",
    "    \n",
    "    f1 = f1_score_calculation(x_test, y_test, text_classifier)\n",
    "    \n",
    "    print(\"Test F1 Score : \", round(f1, 4))\n",
    "    \n",
    "    # wandb.log 함수 안에 기록하고 싶은 정보를 담습니다.\n",
    "    \n",
    "    wandb.log({\"Test F1 Score\": round(f1, 4)  # f1 score 기록\n",
    "              })"
   ]
  },
  {
   "cell_type": "code",
   "execution_count": 29,
   "id": "8ecdba50",
   "metadata": {
    "scrolled": true
   },
   "outputs": [
    {
     "name": "stdout",
     "output_type": "stream",
     "text": [
      "Create sweep with ID: r3l3c53h\n",
      "Sweep URL: https://wandb.ai/vieisi8-123/KoELECTRA/sweeps/r3l3c53h\n"
     ]
    },
    {
     "name": "stderr",
     "output_type": "stream",
     "text": [
      "\u001b[34m\u001b[1mwandb\u001b[0m: Agent Starting Run: fs3oiyjw with config:\n",
      "\u001b[34m\u001b[1mwandb\u001b[0m: \tepoch: 7\n",
      "\u001b[34m\u001b[1mwandb\u001b[0m: \tlearning_rate: 2.170722164089335e-05\n"
     ]
    },
    {
     "data": {
      "text/html": [
       "Tracking run with wandb version 0.18.3"
      ],
      "text/plain": [
       "<IPython.core.display.HTML object>"
      ]
     },
     "metadata": {},
     "output_type": "display_data"
    },
    {
     "data": {
      "text/html": [
       "Run data is saved locally in <code>/aiffel/aiffel/aiffel/dlthon/wandb/run-20241006_091052-fs3oiyjw</code>"
      ],
      "text/plain": [
       "<IPython.core.display.HTML object>"
      ]
     },
     "metadata": {},
     "output_type": "display_data"
    },
    {
     "data": {
      "text/html": [
       "Syncing run <strong><a href='https://wandb.ai/vieisi8-123/KoELECTRA/runs/fs3oiyjw' target=\"_blank\">smooth-sweep-1</a></strong> to <a href='https://wandb.ai/vieisi8-123/KoELECTRA' target=\"_blank\">Weights & Biases</a> (<a href='https://wandb.me/run' target=\"_blank\">docs</a>)<br/>Sweep page: <a href='https://wandb.ai/vieisi8-123/KoELECTRA/sweeps/r3l3c53h' target=\"_blank\">https://wandb.ai/vieisi8-123/KoELECTRA/sweeps/r3l3c53h</a>"
      ],
      "text/plain": [
       "<IPython.core.display.HTML object>"
      ]
     },
     "metadata": {},
     "output_type": "display_data"
    },
    {
     "data": {
      "text/html": [
       " View project at <a href='https://wandb.ai/vieisi8-123/KoELECTRA' target=\"_blank\">https://wandb.ai/vieisi8-123/KoELECTRA</a>"
      ],
      "text/plain": [
       "<IPython.core.display.HTML object>"
      ]
     },
     "metadata": {},
     "output_type": "display_data"
    },
    {
     "data": {
      "text/html": [
       " View sweep at <a href='https://wandb.ai/vieisi8-123/KoELECTRA/sweeps/r3l3c53h' target=\"_blank\">https://wandb.ai/vieisi8-123/KoELECTRA/sweeps/r3l3c53h</a>"
      ],
      "text/plain": [
       "<IPython.core.display.HTML object>"
      ]
     },
     "metadata": {},
     "output_type": "display_data"
    },
    {
     "data": {
      "text/html": [
       " View run at <a href='https://wandb.ai/vieisi8-123/KoELECTRA/runs/fs3oiyjw' target=\"_blank\">https://wandb.ai/vieisi8-123/KoELECTRA/runs/fs3oiyjw</a>"
      ],
      "text/plain": [
       "<IPython.core.display.HTML object>"
      ]
     },
     "metadata": {},
     "output_type": "display_data"
    },
    {
     "name": "stderr",
     "output_type": "stream",
     "text": [
      "\u001b[34m\u001b[1mwandb\u001b[0m: \u001b[33mWARNING\u001b[0m WandbCallback is deprecated and will be removed in a future release. Please use the WandbMetricsLogger, WandbModelCheckpoint, and WandbEvalCallback callbacks instead. See https://docs.wandb.ai/guides/integrations/keras for more information.\n",
      "\u001b[34m\u001b[1mwandb\u001b[0m: \u001b[33mWARNING\u001b[0m The save_model argument by default saves the model in the HDF5 format that cannot save custom objects like subclassed models and custom layers. This behavior will be deprecated in a future release in favor of the SavedModel format. Meanwhile, the HDF5 model is saved as W&B files and the SavedModel as W&B Artifacts.\n"
     ]
    },
    {
     "name": "stdout",
     "output_type": "stream",
     "text": [
      "Epoch 1/7\n",
      "186/186 [==============================] - 154s 761ms/step - loss: 1.5982 - accuracy: 0.2706 - custom_f1score: 0.2243 - val_loss: 1.5802 - val_accuracy: 0.2684 - val_custom_f1score: 0.1561\n"
     ]
    },
    {
     "name": "stderr",
     "output_type": "stream",
     "text": [
      "\u001b[34m\u001b[1mwandb\u001b[0m: \u001b[32m\u001b[41mERROR\u001b[0m Can't save model in the h5py format. The model will be saved as as an W&B Artifact in the 'tf' format.\n",
      "WARNING:absl:Found untraced functions such as embeddings_layer_call_and_return_conditional_losses, embeddings_layer_call_fn, encoder_layer_call_and_return_conditional_losses, encoder_layer_call_fn, dense_layer_call_and_return_conditional_losses while saving (showing 5 of 1060). These functions will not be directly callable after loading.\n"
     ]
    },
    {
     "name": "stdout",
     "output_type": "stream",
     "text": [
      "INFO:tensorflow:Assets written to: /aiffel/aiffel/aiffel/dlthon/wandb/run-20241006_091052-fs3oiyjw/files/model-best/assets\n"
     ]
    },
    {
     "name": "stderr",
     "output_type": "stream",
     "text": [
      "INFO:tensorflow:Assets written to: /aiffel/aiffel/aiffel/dlthon/wandb/run-20241006_091052-fs3oiyjw/files/model-best/assets\n",
      "/opt/conda/lib/python3.9/site-packages/keras/utils/generic_utils.py:494: CustomMaskWarning: Custom mask layers require a config and must override get_config. When loading, the custom mask layer must be passed to the custom_objects argument.\n",
      "  warnings.warn('Custom mask layers require a config and must override '\n",
      "\u001b[34m\u001b[1mwandb\u001b[0m: Adding directory to artifact (/aiffel/aiffel/aiffel/dlthon/wandb/run-20241006_091052-fs3oiyjw/files/model-best)... Done. 6.3s\n"
     ]
    },
    {
     "name": "stdout",
     "output_type": "stream",
     "text": [
      "Epoch 2/7\n",
      "186/186 [==============================] - 139s 748ms/step - loss: 1.5725 - accuracy: 0.3018 - custom_f1score: 0.2164 - val_loss: 1.5518 - val_accuracy: 0.3636 - val_custom_f1score: 0.2715\n"
     ]
    },
    {
     "name": "stderr",
     "output_type": "stream",
     "text": [
      "\u001b[34m\u001b[1mwandb\u001b[0m: \u001b[32m\u001b[41mERROR\u001b[0m Can't save model in the h5py format. The model will be saved as as an W&B Artifact in the 'tf' format.\n",
      "WARNING:absl:Found untraced functions such as embeddings_layer_call_and_return_conditional_losses, embeddings_layer_call_fn, encoder_layer_call_and_return_conditional_losses, encoder_layer_call_fn, dense_layer_call_and_return_conditional_losses while saving (showing 5 of 1060). These functions will not be directly callable after loading.\n"
     ]
    },
    {
     "name": "stdout",
     "output_type": "stream",
     "text": [
      "INFO:tensorflow:Assets written to: /aiffel/aiffel/aiffel/dlthon/wandb/run-20241006_091052-fs3oiyjw/files/model-best/assets\n"
     ]
    },
    {
     "name": "stderr",
     "output_type": "stream",
     "text": [
      "INFO:tensorflow:Assets written to: /aiffel/aiffel/aiffel/dlthon/wandb/run-20241006_091052-fs3oiyjw/files/model-best/assets\n",
      "/opt/conda/lib/python3.9/site-packages/keras/utils/generic_utils.py:494: CustomMaskWarning: Custom mask layers require a config and must override get_config. When loading, the custom mask layer must be passed to the custom_objects argument.\n",
      "  warnings.warn('Custom mask layers require a config and must override '\n",
      "\u001b[34m\u001b[1mwandb\u001b[0m: Adding directory to artifact (/aiffel/aiffel/aiffel/dlthon/wandb/run-20241006_091052-fs3oiyjw/files/model-best)... Done. 6.3s\n"
     ]
    },
    {
     "name": "stdout",
     "output_type": "stream",
     "text": [
      "Epoch 3/7\n",
      "186/186 [==============================] - 139s 748ms/step - loss: 1.5433 - accuracy: 0.3834 - custom_f1score: 0.3194 - val_loss: 1.5162 - val_accuracy: 0.4075 - val_custom_f1score: 0.3419\n"
     ]
    },
    {
     "name": "stderr",
     "output_type": "stream",
     "text": [
      "\u001b[34m\u001b[1mwandb\u001b[0m: \u001b[32m\u001b[41mERROR\u001b[0m Can't save model in the h5py format. The model will be saved as as an W&B Artifact in the 'tf' format.\n",
      "WARNING:absl:Found untraced functions such as embeddings_layer_call_and_return_conditional_losses, embeddings_layer_call_fn, encoder_layer_call_and_return_conditional_losses, encoder_layer_call_fn, dense_layer_call_and_return_conditional_losses while saving (showing 5 of 1060). These functions will not be directly callable after loading.\n"
     ]
    },
    {
     "name": "stdout",
     "output_type": "stream",
     "text": [
      "INFO:tensorflow:Assets written to: /aiffel/aiffel/aiffel/dlthon/wandb/run-20241006_091052-fs3oiyjw/files/model-best/assets\n"
     ]
    },
    {
     "name": "stderr",
     "output_type": "stream",
     "text": [
      "INFO:tensorflow:Assets written to: /aiffel/aiffel/aiffel/dlthon/wandb/run-20241006_091052-fs3oiyjw/files/model-best/assets\n",
      "/opt/conda/lib/python3.9/site-packages/keras/utils/generic_utils.py:494: CustomMaskWarning: Custom mask layers require a config and must override get_config. When loading, the custom mask layer must be passed to the custom_objects argument.\n",
      "  warnings.warn('Custom mask layers require a config and must override '\n",
      "\u001b[34m\u001b[1mwandb\u001b[0m: Adding directory to artifact (/aiffel/aiffel/aiffel/dlthon/wandb/run-20241006_091052-fs3oiyjw/files/model-best)... Done. 6.5s\n"
     ]
    },
    {
     "name": "stdout",
     "output_type": "stream",
     "text": [
      "Epoch 4/7\n",
      "186/186 [==============================] - 139s 747ms/step - loss: 1.5037 - accuracy: 0.4230 - custom_f1score: 0.3529 - val_loss: 1.4714 - val_accuracy: 0.4399 - val_custom_f1score: 0.3828\n"
     ]
    },
    {
     "name": "stderr",
     "output_type": "stream",
     "text": [
      "\u001b[34m\u001b[1mwandb\u001b[0m: \u001b[32m\u001b[41mERROR\u001b[0m Can't save model in the h5py format. The model will be saved as as an W&B Artifact in the 'tf' format.\n",
      "WARNING:absl:Found untraced functions such as embeddings_layer_call_and_return_conditional_losses, embeddings_layer_call_fn, encoder_layer_call_and_return_conditional_losses, encoder_layer_call_fn, dense_layer_call_and_return_conditional_losses while saving (showing 5 of 1060). These functions will not be directly callable after loading.\n"
     ]
    },
    {
     "name": "stdout",
     "output_type": "stream",
     "text": [
      "INFO:tensorflow:Assets written to: /aiffel/aiffel/aiffel/dlthon/wandb/run-20241006_091052-fs3oiyjw/files/model-best/assets\n"
     ]
    },
    {
     "name": "stderr",
     "output_type": "stream",
     "text": [
      "INFO:tensorflow:Assets written to: /aiffel/aiffel/aiffel/dlthon/wandb/run-20241006_091052-fs3oiyjw/files/model-best/assets\n",
      "/opt/conda/lib/python3.9/site-packages/keras/utils/generic_utils.py:494: CustomMaskWarning: Custom mask layers require a config and must override get_config. When loading, the custom mask layer must be passed to the custom_objects argument.\n",
      "  warnings.warn('Custom mask layers require a config and must override '\n",
      "\u001b[34m\u001b[1mwandb\u001b[0m: Adding directory to artifact (/aiffel/aiffel/aiffel/dlthon/wandb/run-20241006_091052-fs3oiyjw/files/model-best)... Done. 6.1s\n"
     ]
    },
    {
     "name": "stdout",
     "output_type": "stream",
     "text": [
      "Epoch 5/7\n",
      "186/186 [==============================] - 139s 747ms/step - loss: 1.4592 - accuracy: 0.4315 - custom_f1score: 0.3916 - val_loss: 1.4188 - val_accuracy: 0.4434 - val_custom_f1score: 0.3799\n"
     ]
    },
    {
     "name": "stderr",
     "output_type": "stream",
     "text": [
      "\u001b[34m\u001b[1mwandb\u001b[0m: \u001b[32m\u001b[41mERROR\u001b[0m Can't save model in the h5py format. The model will be saved as as an W&B Artifact in the 'tf' format.\n",
      "WARNING:absl:Found untraced functions such as embeddings_layer_call_and_return_conditional_losses, embeddings_layer_call_fn, encoder_layer_call_and_return_conditional_losses, encoder_layer_call_fn, dense_layer_call_and_return_conditional_losses while saving (showing 5 of 1060). These functions will not be directly callable after loading.\n"
     ]
    },
    {
     "name": "stdout",
     "output_type": "stream",
     "text": [
      "INFO:tensorflow:Assets written to: /aiffel/aiffel/aiffel/dlthon/wandb/run-20241006_091052-fs3oiyjw/files/model-best/assets\n"
     ]
    },
    {
     "name": "stderr",
     "output_type": "stream",
     "text": [
      "INFO:tensorflow:Assets written to: /aiffel/aiffel/aiffel/dlthon/wandb/run-20241006_091052-fs3oiyjw/files/model-best/assets\n",
      "/opt/conda/lib/python3.9/site-packages/keras/utils/generic_utils.py:494: CustomMaskWarning: Custom mask layers require a config and must override get_config. When loading, the custom mask layer must be passed to the custom_objects argument.\n",
      "  warnings.warn('Custom mask layers require a config and must override '\n",
      "\u001b[34m\u001b[1mwandb\u001b[0m: Adding directory to artifact (/aiffel/aiffel/aiffel/dlthon/wandb/run-20241006_091052-fs3oiyjw/files/model-best)... Done. 5.8s\n"
     ]
    },
    {
     "name": "stdout",
     "output_type": "stream",
     "text": [
      "Epoch 6/7\n",
      "186/186 [==============================] - 139s 747ms/step - loss: 1.4063 - accuracy: 0.4523 - custom_f1score: 0.4075 - val_loss: 1.3664 - val_accuracy: 0.4731 - val_custom_f1score: 0.4362\n"
     ]
    },
    {
     "name": "stderr",
     "output_type": "stream",
     "text": [
      "\u001b[34m\u001b[1mwandb\u001b[0m: \u001b[32m\u001b[41mERROR\u001b[0m Can't save model in the h5py format. The model will be saved as as an W&B Artifact in the 'tf' format.\n",
      "WARNING:absl:Found untraced functions such as embeddings_layer_call_and_return_conditional_losses, embeddings_layer_call_fn, encoder_layer_call_and_return_conditional_losses, encoder_layer_call_fn, dense_layer_call_and_return_conditional_losses while saving (showing 5 of 1060). These functions will not be directly callable after loading.\n"
     ]
    },
    {
     "name": "stdout",
     "output_type": "stream",
     "text": [
      "INFO:tensorflow:Assets written to: /aiffel/aiffel/aiffel/dlthon/wandb/run-20241006_091052-fs3oiyjw/files/model-best/assets\n"
     ]
    },
    {
     "name": "stderr",
     "output_type": "stream",
     "text": [
      "INFO:tensorflow:Assets written to: /aiffel/aiffel/aiffel/dlthon/wandb/run-20241006_091052-fs3oiyjw/files/model-best/assets\n",
      "/opt/conda/lib/python3.9/site-packages/keras/utils/generic_utils.py:494: CustomMaskWarning: Custom mask layers require a config and must override get_config. When loading, the custom mask layer must be passed to the custom_objects argument.\n",
      "  warnings.warn('Custom mask layers require a config and must override '\n",
      "\u001b[34m\u001b[1mwandb\u001b[0m: Adding directory to artifact (/aiffel/aiffel/aiffel/dlthon/wandb/run-20241006_091052-fs3oiyjw/files/model-best)... Done. 5.7s\n"
     ]
    },
    {
     "name": "stdout",
     "output_type": "stream",
     "text": [
      "Epoch 7/7\n",
      "186/186 [==============================] - 139s 748ms/step - loss: 1.3584 - accuracy: 0.4638 - custom_f1score: 0.4229 - val_loss: 1.3209 - val_accuracy: 0.5081 - val_custom_f1score: 0.4943\n"
     ]
    },
    {
     "name": "stderr",
     "output_type": "stream",
     "text": [
      "\u001b[34m\u001b[1mwandb\u001b[0m: \u001b[32m\u001b[41mERROR\u001b[0m Can't save model in the h5py format. The model will be saved as as an W&B Artifact in the 'tf' format.\n",
      "WARNING:absl:Found untraced functions such as embeddings_layer_call_and_return_conditional_losses, embeddings_layer_call_fn, encoder_layer_call_and_return_conditional_losses, encoder_layer_call_fn, dense_layer_call_and_return_conditional_losses while saving (showing 5 of 1060). These functions will not be directly callable after loading.\n"
     ]
    },
    {
     "name": "stdout",
     "output_type": "stream",
     "text": [
      "INFO:tensorflow:Assets written to: /aiffel/aiffel/aiffel/dlthon/wandb/run-20241006_091052-fs3oiyjw/files/model-best/assets\n"
     ]
    },
    {
     "name": "stderr",
     "output_type": "stream",
     "text": [
      "INFO:tensorflow:Assets written to: /aiffel/aiffel/aiffel/dlthon/wandb/run-20241006_091052-fs3oiyjw/files/model-best/assets\n",
      "/opt/conda/lib/python3.9/site-packages/keras/utils/generic_utils.py:494: CustomMaskWarning: Custom mask layers require a config and must override get_config. When loading, the custom mask layer must be passed to the custom_objects argument.\n",
      "  warnings.warn('Custom mask layers require a config and must override '\n",
      "\u001b[34m\u001b[1mwandb\u001b[0m: Adding directory to artifact (/aiffel/aiffel/aiffel/dlthon/wandb/run-20241006_091052-fs3oiyjw/files/model-best)... Done. 5.8s\n"
     ]
    },
    {
     "name": "stdout",
     "output_type": "stream",
     "text": [
      "/aiffel/aiffel/aiffel/dlthon/KoELECTRA-base-v3 -- Folder create complete \n",
      "\n"
     ]
    },
    {
     "name": "stderr",
     "output_type": "stream",
     "text": [
      "All model checkpoint layers were used when initializing TFElectraForSequenceClassification.\n",
      "\n",
      "All the layers of TFElectraForSequenceClassification were initialized from the model checkpoint at /aiffel/aiffel/aiffel/dlthon/KoELECTRA-base-v3.\n",
      "If your task is similar to the task the model of the checkpoint was trained on, you can already use TFElectraForSequenceClassification for predictions without further training.\n",
      "predictive processing: 100%|██████████| 1238/1238 [09:55<00:00,  2.08it/s]\n"
     ]
    },
    {
     "name": "stdout",
     "output_type": "stream",
     "text": [
      "Test F1 Score :  0.4982\n"
     ]
    },
    {
     "data": {
      "application/vnd.jupyter.widget-view+json": {
       "model_id": "",
       "version_major": 2,
       "version_minor": 0
      },
      "text/plain": [
       "VBox(children=(Label(value='3103.329 MB of 3103.329 MB uploaded\\r'), FloatProgress(value=1.0, max=1.0)))"
      ]
     },
     "metadata": {},
     "output_type": "display_data"
    },
    {
     "data": {
      "text/html": [
       "<style>\n",
       "    table.wandb td:nth-child(1) { padding: 0 10px; text-align: left ; width: auto;} td:nth-child(2) {text-align: left ; width: 100%}\n",
       "    .wandb-row { display: flex; flex-direction: row; flex-wrap: wrap; justify-content: flex-start; width: 100% }\n",
       "    .wandb-col { display: flex; flex-direction: column; flex-basis: 100%; flex: 1; padding: 10px; }\n",
       "    </style>\n",
       "<div class=\"wandb-row\"><div class=\"wandb-col\"><h3>Run history:</h3><br/><table class=\"wandb\"><tr><td>Test F1 Score</td><td>▁</td></tr><tr><td>accuracy</td><td>▁▂▅▇▇██</td></tr><tr><td>custom_f1score</td><td>▁▁▄▆▇▇█</td></tr><tr><td>epoch</td><td>▁▂▃▅▆▇█</td></tr><tr><td>loss</td><td>█▇▆▅▄▂▁</td></tr><tr><td>val_accuracy</td><td>▁▄▅▆▆▇█</td></tr><tr><td>val_custom_f1score</td><td>▁▃▅▆▆▇█</td></tr><tr><td>val_loss</td><td>█▇▆▅▄▂▁</td></tr></table><br/></div><div class=\"wandb-col\"><h3>Run summary:</h3><br/><table class=\"wandb\"><tr><td>Test F1 Score</td><td>0.4982</td></tr><tr><td>accuracy</td><td>0.46382</td></tr><tr><td>best_epoch</td><td>6</td></tr><tr><td>best_val_loss</td><td>1.32094</td></tr><tr><td>custom_f1score</td><td>0.42287</td></tr><tr><td>epoch</td><td>6</td></tr><tr><td>loss</td><td>1.35842</td></tr><tr><td>val_accuracy</td><td>0.50808</td></tr><tr><td>val_custom_f1score</td><td>0.49429</td></tr><tr><td>val_loss</td><td>1.32094</td></tr></table><br/></div></div>"
      ],
      "text/plain": [
       "<IPython.core.display.HTML object>"
      ]
     },
     "metadata": {},
     "output_type": "display_data"
    },
    {
     "data": {
      "text/html": [
       " View run <strong style=\"color:#cdcd00\">smooth-sweep-1</strong> at: <a href='https://wandb.ai/vieisi8-123/KoELECTRA/runs/fs3oiyjw' target=\"_blank\">https://wandb.ai/vieisi8-123/KoELECTRA/runs/fs3oiyjw</a><br/> View project at: <a href='https://wandb.ai/vieisi8-123/KoELECTRA' target=\"_blank\">https://wandb.ai/vieisi8-123/KoELECTRA</a><br/>Synced 5 W&B file(s), 0 media file(s), 29 artifact file(s) and 1 other file(s)"
      ],
      "text/plain": [
       "<IPython.core.display.HTML object>"
      ]
     },
     "metadata": {},
     "output_type": "display_data"
    },
    {
     "data": {
      "text/html": [
       "Find logs at: <code>./wandb/run-20241006_091052-fs3oiyjw/logs</code>"
      ],
      "text/plain": [
       "<IPython.core.display.HTML object>"
      ]
     },
     "metadata": {},
     "output_type": "display_data"
    },
    {
     "name": "stderr",
     "output_type": "stream",
     "text": [
      "\u001b[34m\u001b[1mwandb\u001b[0m: Agent Starting Run: b98fl8ro with config:\n",
      "\u001b[34m\u001b[1mwandb\u001b[0m: \tepoch: 10\n",
      "\u001b[34m\u001b[1mwandb\u001b[0m: \tlearning_rate: 1.3801528683855838e-05\n"
     ]
    },
    {
     "data": {
      "text/html": [
       "Tracking run with wandb version 0.18.3"
      ],
      "text/plain": [
       "<IPython.core.display.HTML object>"
      ]
     },
     "metadata": {},
     "output_type": "display_data"
    },
    {
     "data": {
      "text/html": [
       "Run data is saved locally in <code>/aiffel/aiffel/aiffel/dlthon/wandb/run-20241006_094106-b98fl8ro</code>"
      ],
      "text/plain": [
       "<IPython.core.display.HTML object>"
      ]
     },
     "metadata": {},
     "output_type": "display_data"
    },
    {
     "data": {
      "text/html": [
       "Syncing run <strong><a href='https://wandb.ai/vieisi8-123/KoELECTRA/runs/b98fl8ro' target=\"_blank\">youthful-sweep-2</a></strong> to <a href='https://wandb.ai/vieisi8-123/KoELECTRA' target=\"_blank\">Weights & Biases</a> (<a href='https://wandb.me/run' target=\"_blank\">docs</a>)<br/>Sweep page: <a href='https://wandb.ai/vieisi8-123/KoELECTRA/sweeps/r3l3c53h' target=\"_blank\">https://wandb.ai/vieisi8-123/KoELECTRA/sweeps/r3l3c53h</a>"
      ],
      "text/plain": [
       "<IPython.core.display.HTML object>"
      ]
     },
     "metadata": {},
     "output_type": "display_data"
    },
    {
     "data": {
      "text/html": [
       " View project at <a href='https://wandb.ai/vieisi8-123/KoELECTRA' target=\"_blank\">https://wandb.ai/vieisi8-123/KoELECTRA</a>"
      ],
      "text/plain": [
       "<IPython.core.display.HTML object>"
      ]
     },
     "metadata": {},
     "output_type": "display_data"
    },
    {
     "data": {
      "text/html": [
       " View sweep at <a href='https://wandb.ai/vieisi8-123/KoELECTRA/sweeps/r3l3c53h' target=\"_blank\">https://wandb.ai/vieisi8-123/KoELECTRA/sweeps/r3l3c53h</a>"
      ],
      "text/plain": [
       "<IPython.core.display.HTML object>"
      ]
     },
     "metadata": {},
     "output_type": "display_data"
    },
    {
     "data": {
      "text/html": [
       " View run at <a href='https://wandb.ai/vieisi8-123/KoELECTRA/runs/b98fl8ro' target=\"_blank\">https://wandb.ai/vieisi8-123/KoELECTRA/runs/b98fl8ro</a>"
      ],
      "text/plain": [
       "<IPython.core.display.HTML object>"
      ]
     },
     "metadata": {},
     "output_type": "display_data"
    },
    {
     "name": "stdout",
     "output_type": "stream",
     "text": [
      "Epoch 1/10\n",
      "186/186 [==============================] - 150s 749ms/step - loss: 1.3299 - accuracy: 0.4634 - custom_f1score: 0.4286 - val_loss: 1.3015 - val_accuracy: 0.4919 - val_custom_f1score: 0.4615\n"
     ]
    },
    {
     "name": "stderr",
     "output_type": "stream",
     "text": [
      "\u001b[34m\u001b[1mwandb\u001b[0m: \u001b[32m\u001b[41mERROR\u001b[0m Can't save model in the h5py format. The model will be saved as as an W&B Artifact in the 'tf' format.\n",
      "WARNING:absl:Found untraced functions such as embeddings_layer_call_and_return_conditional_losses, embeddings_layer_call_fn, encoder_layer_call_and_return_conditional_losses, encoder_layer_call_fn, dense_layer_call_and_return_conditional_losses while saving (showing 5 of 1060). These functions will not be directly callable after loading.\n"
     ]
    },
    {
     "name": "stdout",
     "output_type": "stream",
     "text": [
      "INFO:tensorflow:Assets written to: /aiffel/aiffel/aiffel/dlthon/wandb/run-20241006_094106-b98fl8ro/files/model-best/assets\n"
     ]
    },
    {
     "name": "stderr",
     "output_type": "stream",
     "text": [
      "INFO:tensorflow:Assets written to: /aiffel/aiffel/aiffel/dlthon/wandb/run-20241006_094106-b98fl8ro/files/model-best/assets\n",
      "/opt/conda/lib/python3.9/site-packages/keras/utils/generic_utils.py:494: CustomMaskWarning: Custom mask layers require a config and must override get_config. When loading, the custom mask layer must be passed to the custom_objects argument.\n",
      "  warnings.warn('Custom mask layers require a config and must override '\n",
      "\u001b[34m\u001b[1mwandb\u001b[0m: Adding directory to artifact (/aiffel/aiffel/aiffel/dlthon/wandb/run-20241006_094106-b98fl8ro/files/model-best)... Done. 5.5s\n"
     ]
    },
    {
     "name": "stdout",
     "output_type": "stream",
     "text": [
      "Epoch 2/10\n",
      "186/186 [==============================] - 139s 747ms/step - loss: 1.3103 - accuracy: 0.4815 - custom_f1score: 0.4410 - val_loss: 1.2801 - val_accuracy: 0.5144 - val_custom_f1score: 0.4971\n"
     ]
    },
    {
     "name": "stderr",
     "output_type": "stream",
     "text": [
      "\u001b[34m\u001b[1mwandb\u001b[0m: \u001b[32m\u001b[41mERROR\u001b[0m Can't save model in the h5py format. The model will be saved as as an W&B Artifact in the 'tf' format.\n",
      "WARNING:absl:Found untraced functions such as embeddings_layer_call_and_return_conditional_losses, embeddings_layer_call_fn, encoder_layer_call_and_return_conditional_losses, encoder_layer_call_fn, dense_layer_call_and_return_conditional_losses while saving (showing 5 of 1060). These functions will not be directly callable after loading.\n"
     ]
    },
    {
     "name": "stdout",
     "output_type": "stream",
     "text": [
      "INFO:tensorflow:Assets written to: /aiffel/aiffel/aiffel/dlthon/wandb/run-20241006_094106-b98fl8ro/files/model-best/assets\n"
     ]
    },
    {
     "name": "stderr",
     "output_type": "stream",
     "text": [
      "INFO:tensorflow:Assets written to: /aiffel/aiffel/aiffel/dlthon/wandb/run-20241006_094106-b98fl8ro/files/model-best/assets\n",
      "/opt/conda/lib/python3.9/site-packages/keras/utils/generic_utils.py:494: CustomMaskWarning: Custom mask layers require a config and must override get_config. When loading, the custom mask layer must be passed to the custom_objects argument.\n",
      "  warnings.warn('Custom mask layers require a config and must override '\n",
      "\u001b[34m\u001b[1mwandb\u001b[0m: Adding directory to artifact (/aiffel/aiffel/aiffel/dlthon/wandb/run-20241006_094106-b98fl8ro/files/model-best)... Done. 6.5s\n"
     ]
    },
    {
     "name": "stdout",
     "output_type": "stream",
     "text": [
      "Epoch 3/10\n",
      "186/186 [==============================] - 139s 748ms/step - loss: 1.2856 - accuracy: 0.4834 - custom_f1score: 0.4537 - val_loss: 1.2630 - val_accuracy: 0.5054 - val_custom_f1score: 0.4723\n"
     ]
    },
    {
     "name": "stderr",
     "output_type": "stream",
     "text": [
      "\u001b[34m\u001b[1mwandb\u001b[0m: \u001b[32m\u001b[41mERROR\u001b[0m Can't save model in the h5py format. The model will be saved as as an W&B Artifact in the 'tf' format.\n",
      "WARNING:absl:Found untraced functions such as embeddings_layer_call_and_return_conditional_losses, embeddings_layer_call_fn, encoder_layer_call_and_return_conditional_losses, encoder_layer_call_fn, dense_layer_call_and_return_conditional_losses while saving (showing 5 of 1060). These functions will not be directly callable after loading.\n"
     ]
    },
    {
     "name": "stdout",
     "output_type": "stream",
     "text": [
      "INFO:tensorflow:Assets written to: /aiffel/aiffel/aiffel/dlthon/wandb/run-20241006_094106-b98fl8ro/files/model-best/assets\n"
     ]
    },
    {
     "name": "stderr",
     "output_type": "stream",
     "text": [
      "INFO:tensorflow:Assets written to: /aiffel/aiffel/aiffel/dlthon/wandb/run-20241006_094106-b98fl8ro/files/model-best/assets\n",
      "/opt/conda/lib/python3.9/site-packages/keras/utils/generic_utils.py:494: CustomMaskWarning: Custom mask layers require a config and must override get_config. When loading, the custom mask layer must be passed to the custom_objects argument.\n",
      "  warnings.warn('Custom mask layers require a config and must override '\n",
      "\u001b[34m\u001b[1mwandb\u001b[0m: Adding directory to artifact (/aiffel/aiffel/aiffel/dlthon/wandb/run-20241006_094106-b98fl8ro/files/model-best)... Done. 5.5s\n"
     ]
    },
    {
     "name": "stdout",
     "output_type": "stream",
     "text": [
      "Epoch 4/10\n",
      "186/186 [==============================] - 139s 747ms/step - loss: 1.2740 - accuracy: 0.4827 - custom_f1score: 0.4484 - val_loss: 1.2467 - val_accuracy: 0.5036 - val_custom_f1score: 0.4820\n"
     ]
    },
    {
     "name": "stderr",
     "output_type": "stream",
     "text": [
      "\u001b[34m\u001b[1mwandb\u001b[0m: \u001b[32m\u001b[41mERROR\u001b[0m Can't save model in the h5py format. The model will be saved as as an W&B Artifact in the 'tf' format.\n",
      "WARNING:absl:Found untraced functions such as embeddings_layer_call_and_return_conditional_losses, embeddings_layer_call_fn, encoder_layer_call_and_return_conditional_losses, encoder_layer_call_fn, dense_layer_call_and_return_conditional_losses while saving (showing 5 of 1060). These functions will not be directly callable after loading.\n"
     ]
    },
    {
     "name": "stdout",
     "output_type": "stream",
     "text": [
      "INFO:tensorflow:Assets written to: /aiffel/aiffel/aiffel/dlthon/wandb/run-20241006_094106-b98fl8ro/files/model-best/assets\n"
     ]
    },
    {
     "name": "stderr",
     "output_type": "stream",
     "text": [
      "INFO:tensorflow:Assets written to: /aiffel/aiffel/aiffel/dlthon/wandb/run-20241006_094106-b98fl8ro/files/model-best/assets\n",
      "/opt/conda/lib/python3.9/site-packages/keras/utils/generic_utils.py:494: CustomMaskWarning: Custom mask layers require a config and must override get_config. When loading, the custom mask layer must be passed to the custom_objects argument.\n",
      "  warnings.warn('Custom mask layers require a config and must override '\n",
      "\u001b[34m\u001b[1mwandb\u001b[0m: Adding directory to artifact (/aiffel/aiffel/aiffel/dlthon/wandb/run-20241006_094106-b98fl8ro/files/model-best)... Done. 6.1s\n"
     ]
    },
    {
     "name": "stdout",
     "output_type": "stream",
     "text": [
      "Epoch 5/10\n",
      "186/186 [==============================] - 139s 748ms/step - loss: 1.2602 - accuracy: 0.4854 - custom_f1score: 0.4602 - val_loss: 1.2315 - val_accuracy: 0.5000 - val_custom_f1score: 0.4713\n"
     ]
    },
    {
     "name": "stderr",
     "output_type": "stream",
     "text": [
      "\u001b[34m\u001b[1mwandb\u001b[0m: \u001b[32m\u001b[41mERROR\u001b[0m Can't save model in the h5py format. The model will be saved as as an W&B Artifact in the 'tf' format.\n",
      "WARNING:absl:Found untraced functions such as embeddings_layer_call_and_return_conditional_losses, embeddings_layer_call_fn, encoder_layer_call_and_return_conditional_losses, encoder_layer_call_fn, dense_layer_call_and_return_conditional_losses while saving (showing 5 of 1060). These functions will not be directly callable after loading.\n"
     ]
    },
    {
     "name": "stdout",
     "output_type": "stream",
     "text": [
      "INFO:tensorflow:Assets written to: /aiffel/aiffel/aiffel/dlthon/wandb/run-20241006_094106-b98fl8ro/files/model-best/assets\n"
     ]
    },
    {
     "name": "stderr",
     "output_type": "stream",
     "text": [
      "INFO:tensorflow:Assets written to: /aiffel/aiffel/aiffel/dlthon/wandb/run-20241006_094106-b98fl8ro/files/model-best/assets\n",
      "/opt/conda/lib/python3.9/site-packages/keras/utils/generic_utils.py:494: CustomMaskWarning: Custom mask layers require a config and must override get_config. When loading, the custom mask layer must be passed to the custom_objects argument.\n",
      "  warnings.warn('Custom mask layers require a config and must override '\n",
      "\u001b[34m\u001b[1mwandb\u001b[0m: Adding directory to artifact (/aiffel/aiffel/aiffel/dlthon/wandb/run-20241006_094106-b98fl8ro/files/model-best)... Done. 6.4s\n"
     ]
    },
    {
     "name": "stdout",
     "output_type": "stream",
     "text": [
      "Epoch 6/10\n",
      "186/186 [==============================] - 139s 748ms/step - loss: 1.2428 - accuracy: 0.5085 - custom_f1score: 0.4852 - val_loss: 1.2187 - val_accuracy: 0.5036 - val_custom_f1score: 0.4652\n"
     ]
    },
    {
     "name": "stderr",
     "output_type": "stream",
     "text": [
      "\u001b[34m\u001b[1mwandb\u001b[0m: \u001b[32m\u001b[41mERROR\u001b[0m Can't save model in the h5py format. The model will be saved as as an W&B Artifact in the 'tf' format.\n",
      "WARNING:absl:Found untraced functions such as embeddings_layer_call_and_return_conditional_losses, embeddings_layer_call_fn, encoder_layer_call_and_return_conditional_losses, encoder_layer_call_fn, dense_layer_call_and_return_conditional_losses while saving (showing 5 of 1060). These functions will not be directly callable after loading.\n"
     ]
    },
    {
     "name": "stdout",
     "output_type": "stream",
     "text": [
      "INFO:tensorflow:Assets written to: /aiffel/aiffel/aiffel/dlthon/wandb/run-20241006_094106-b98fl8ro/files/model-best/assets\n"
     ]
    },
    {
     "name": "stderr",
     "output_type": "stream",
     "text": [
      "INFO:tensorflow:Assets written to: /aiffel/aiffel/aiffel/dlthon/wandb/run-20241006_094106-b98fl8ro/files/model-best/assets\n",
      "/opt/conda/lib/python3.9/site-packages/keras/utils/generic_utils.py:494: CustomMaskWarning: Custom mask layers require a config and must override get_config. When loading, the custom mask layer must be passed to the custom_objects argument.\n",
      "  warnings.warn('Custom mask layers require a config and must override '\n",
      "\u001b[34m\u001b[1mwandb\u001b[0m: Adding directory to artifact (/aiffel/aiffel/aiffel/dlthon/wandb/run-20241006_094106-b98fl8ro/files/model-best)... Done. 5.6s\n"
     ]
    },
    {
     "name": "stdout",
     "output_type": "stream",
     "text": [
      "Epoch 7/10\n",
      "186/186 [==============================] - 139s 748ms/step - loss: 1.2315 - accuracy: 0.5054 - custom_f1score: 0.4758 - val_loss: 1.2111 - val_accuracy: 0.5404 - val_custom_f1score: 0.5320\n"
     ]
    },
    {
     "name": "stderr",
     "output_type": "stream",
     "text": [
      "\u001b[34m\u001b[1mwandb\u001b[0m: \u001b[32m\u001b[41mERROR\u001b[0m Can't save model in the h5py format. The model will be saved as as an W&B Artifact in the 'tf' format.\n",
      "WARNING:absl:Found untraced functions such as embeddings_layer_call_and_return_conditional_losses, embeddings_layer_call_fn, encoder_layer_call_and_return_conditional_losses, encoder_layer_call_fn, dense_layer_call_and_return_conditional_losses while saving (showing 5 of 1060). These functions will not be directly callable after loading.\n"
     ]
    },
    {
     "name": "stdout",
     "output_type": "stream",
     "text": [
      "INFO:tensorflow:Assets written to: /aiffel/aiffel/aiffel/dlthon/wandb/run-20241006_094106-b98fl8ro/files/model-best/assets\n"
     ]
    },
    {
     "name": "stderr",
     "output_type": "stream",
     "text": [
      "INFO:tensorflow:Assets written to: /aiffel/aiffel/aiffel/dlthon/wandb/run-20241006_094106-b98fl8ro/files/model-best/assets\n",
      "/opt/conda/lib/python3.9/site-packages/keras/utils/generic_utils.py:494: CustomMaskWarning: Custom mask layers require a config and must override get_config. When loading, the custom mask layer must be passed to the custom_objects argument.\n",
      "  warnings.warn('Custom mask layers require a config and must override '\n",
      "\u001b[34m\u001b[1mwandb\u001b[0m: Adding directory to artifact (/aiffel/aiffel/aiffel/dlthon/wandb/run-20241006_094106-b98fl8ro/files/model-best)... Done. 5.5s\n"
     ]
    },
    {
     "name": "stdout",
     "output_type": "stream",
     "text": [
      "Epoch 8/10\n",
      "186/186 [==============================] - 139s 748ms/step - loss: 1.2204 - accuracy: 0.5115 - custom_f1score: 0.4907 - val_loss: 1.1944 - val_accuracy: 0.5260 - val_custom_f1score: 0.5191\n"
     ]
    },
    {
     "name": "stderr",
     "output_type": "stream",
     "text": [
      "\u001b[34m\u001b[1mwandb\u001b[0m: \u001b[32m\u001b[41mERROR\u001b[0m Can't save model in the h5py format. The model will be saved as as an W&B Artifact in the 'tf' format.\n",
      "WARNING:absl:Found untraced functions such as embeddings_layer_call_and_return_conditional_losses, embeddings_layer_call_fn, encoder_layer_call_and_return_conditional_losses, encoder_layer_call_fn, dense_layer_call_and_return_conditional_losses while saving (showing 5 of 1060). These functions will not be directly callable after loading.\n"
     ]
    },
    {
     "name": "stdout",
     "output_type": "stream",
     "text": [
      "INFO:tensorflow:Assets written to: /aiffel/aiffel/aiffel/dlthon/wandb/run-20241006_094106-b98fl8ro/files/model-best/assets\n"
     ]
    },
    {
     "name": "stderr",
     "output_type": "stream",
     "text": [
      "INFO:tensorflow:Assets written to: /aiffel/aiffel/aiffel/dlthon/wandb/run-20241006_094106-b98fl8ro/files/model-best/assets\n",
      "/opt/conda/lib/python3.9/site-packages/keras/utils/generic_utils.py:494: CustomMaskWarning: Custom mask layers require a config and must override get_config. When loading, the custom mask layer must be passed to the custom_objects argument.\n",
      "  warnings.warn('Custom mask layers require a config and must override '\n",
      "\u001b[34m\u001b[1mwandb\u001b[0m: Adding directory to artifact (/aiffel/aiffel/aiffel/dlthon/wandb/run-20241006_094106-b98fl8ro/files/model-best)... Done. 5.5s\n"
     ]
    },
    {
     "name": "stdout",
     "output_type": "stream",
     "text": [
      "Epoch 9/10\n",
      "186/186 [==============================] - 139s 747ms/step - loss: 1.2107 - accuracy: 0.5081 - custom_f1score: 0.4849 - val_loss: 1.1844 - val_accuracy: 0.5305 - val_custom_f1score: 0.5262\n"
     ]
    },
    {
     "name": "stderr",
     "output_type": "stream",
     "text": [
      "\u001b[34m\u001b[1mwandb\u001b[0m: \u001b[32m\u001b[41mERROR\u001b[0m Can't save model in the h5py format. The model will be saved as as an W&B Artifact in the 'tf' format.\n",
      "WARNING:absl:Found untraced functions such as embeddings_layer_call_and_return_conditional_losses, embeddings_layer_call_fn, encoder_layer_call_and_return_conditional_losses, encoder_layer_call_fn, dense_layer_call_and_return_conditional_losses while saving (showing 5 of 1060). These functions will not be directly callable after loading.\n"
     ]
    },
    {
     "name": "stdout",
     "output_type": "stream",
     "text": [
      "INFO:tensorflow:Assets written to: /aiffel/aiffel/aiffel/dlthon/wandb/run-20241006_094106-b98fl8ro/files/model-best/assets\n"
     ]
    },
    {
     "name": "stderr",
     "output_type": "stream",
     "text": [
      "INFO:tensorflow:Assets written to: /aiffel/aiffel/aiffel/dlthon/wandb/run-20241006_094106-b98fl8ro/files/model-best/assets\n",
      "/opt/conda/lib/python3.9/site-packages/keras/utils/generic_utils.py:494: CustomMaskWarning: Custom mask layers require a config and must override get_config. When loading, the custom mask layer must be passed to the custom_objects argument.\n",
      "  warnings.warn('Custom mask layers require a config and must override '\n",
      "\u001b[34m\u001b[1mwandb\u001b[0m: Adding directory to artifact (/aiffel/aiffel/aiffel/dlthon/wandb/run-20241006_094106-b98fl8ro/files/model-best)... Done. 5.7s\n"
     ]
    },
    {
     "name": "stdout",
     "output_type": "stream",
     "text": [
      "Epoch 10/10\n",
      "186/186 [==============================] - 139s 747ms/step - loss: 1.1986 - accuracy: 0.5119 - custom_f1score: 0.4923 - val_loss: 1.1792 - val_accuracy: 0.5233 - val_custom_f1score: 0.5078\n"
     ]
    },
    {
     "name": "stderr",
     "output_type": "stream",
     "text": [
      "\u001b[34m\u001b[1mwandb\u001b[0m: \u001b[32m\u001b[41mERROR\u001b[0m Can't save model in the h5py format. The model will be saved as as an W&B Artifact in the 'tf' format.\n",
      "WARNING:absl:Found untraced functions such as embeddings_layer_call_and_return_conditional_losses, embeddings_layer_call_fn, encoder_layer_call_and_return_conditional_losses, encoder_layer_call_fn, dense_layer_call_and_return_conditional_losses while saving (showing 5 of 1060). These functions will not be directly callable after loading.\n"
     ]
    },
    {
     "name": "stdout",
     "output_type": "stream",
     "text": [
      "INFO:tensorflow:Assets written to: /aiffel/aiffel/aiffel/dlthon/wandb/run-20241006_094106-b98fl8ro/files/model-best/assets\n"
     ]
    },
    {
     "name": "stderr",
     "output_type": "stream",
     "text": [
      "INFO:tensorflow:Assets written to: /aiffel/aiffel/aiffel/dlthon/wandb/run-20241006_094106-b98fl8ro/files/model-best/assets\n",
      "/opt/conda/lib/python3.9/site-packages/keras/utils/generic_utils.py:494: CustomMaskWarning: Custom mask layers require a config and must override get_config. When loading, the custom mask layer must be passed to the custom_objects argument.\n",
      "  warnings.warn('Custom mask layers require a config and must override '\n",
      "\u001b[34m\u001b[1mwandb\u001b[0m: Adding directory to artifact (/aiffel/aiffel/aiffel/dlthon/wandb/run-20241006_094106-b98fl8ro/files/model-best)... Done. 5.5s\n"
     ]
    },
    {
     "name": "stdout",
     "output_type": "stream",
     "text": [
      "label이 이미 decoding 되있습니다!\n",
      "/aiffel/aiffel/aiffel/dlthon/KoELECTRA-base-v3 -- Folder already exists \n",
      "\n"
     ]
    },
    {
     "name": "stderr",
     "output_type": "stream",
     "text": [
      "All model checkpoint layers were used when initializing TFElectraForSequenceClassification.\n",
      "\n",
      "All the layers of TFElectraForSequenceClassification were initialized from the model checkpoint at /aiffel/aiffel/aiffel/dlthon/KoELECTRA-base-v3.\n",
      "If your task is similar to the task the model of the checkpoint was trained on, you can already use TFElectraForSequenceClassification for predictions without further training.\n",
      "predictive processing: 100%|██████████| 1238/1238 [09:39<00:00,  2.14it/s]\n"
     ]
    },
    {
     "name": "stdout",
     "output_type": "stream",
     "text": [
      "Test F1 Score :  0.5002\n"
     ]
    },
    {
     "data": {
      "application/vnd.jupyter.widget-view+json": {
       "model_id": "",
       "version_major": 2,
       "version_minor": 0
      },
      "text/plain": [
       "VBox(children=(Label(value='4433.275 MB of 4433.275 MB uploaded\\r'), FloatProgress(value=1.0, max=1.0)))"
      ]
     },
     "metadata": {},
     "output_type": "display_data"
    },
    {
     "data": {
      "text/html": [
       "<style>\n",
       "    table.wandb td:nth-child(1) { padding: 0 10px; text-align: left ; width: auto;} td:nth-child(2) {text-align: left ; width: 100%}\n",
       "    .wandb-row { display: flex; flex-direction: row; flex-wrap: wrap; justify-content: flex-start; width: 100% }\n",
       "    .wandb-col { display: flex; flex-direction: column; flex-basis: 100%; flex: 1; padding: 10px; }\n",
       "    </style>\n",
       "<div class=\"wandb-row\"><div class=\"wandb-col\"><h3>Run history:</h3><br/><table class=\"wandb\"><tr><td>Test F1 Score</td><td>▁</td></tr><tr><td>accuracy</td><td>▁▄▄▄▄▇▇█▇█</td></tr><tr><td>custom_f1score</td><td>▁▂▄▃▄▇▆█▇█</td></tr><tr><td>epoch</td><td>▁▂▃▃▄▅▆▆▇█</td></tr><tr><td>loss</td><td>█▇▆▅▄▃▃▂▂▁</td></tr><tr><td>val_accuracy</td><td>▁▄▃▃▂▃█▆▇▆</td></tr><tr><td>val_custom_f1score</td><td>▁▅▂▃▂▁█▇▇▆</td></tr><tr><td>val_loss</td><td>█▇▆▅▄▃▃▂▁▁</td></tr></table><br/></div><div class=\"wandb-col\"><h3>Run summary:</h3><br/><table class=\"wandb\"><tr><td>Test F1 Score</td><td>0.5002</td></tr><tr><td>accuracy</td><td>0.51193</td></tr><tr><td>best_epoch</td><td>9</td></tr><tr><td>best_val_loss</td><td>1.1792</td></tr><tr><td>custom_f1score</td><td>0.49228</td></tr><tr><td>epoch</td><td>9</td></tr><tr><td>loss</td><td>1.19864</td></tr><tr><td>val_accuracy</td><td>0.52334</td></tr><tr><td>val_custom_f1score</td><td>0.50781</td></tr><tr><td>val_loss</td><td>1.1792</td></tr></table><br/></div></div>"
      ],
      "text/plain": [
       "<IPython.core.display.HTML object>"
      ]
     },
     "metadata": {},
     "output_type": "display_data"
    },
    {
     "data": {
      "text/html": [
       " View run <strong style=\"color:#cdcd00\">youthful-sweep-2</strong> at: <a href='https://wandb.ai/vieisi8-123/KoELECTRA/runs/b98fl8ro' target=\"_blank\">https://wandb.ai/vieisi8-123/KoELECTRA/runs/b98fl8ro</a><br/> View project at: <a href='https://wandb.ai/vieisi8-123/KoELECTRA' target=\"_blank\">https://wandb.ai/vieisi8-123/KoELECTRA</a><br/>Synced 5 W&B file(s), 0 media file(s), 41 artifact file(s) and 1 other file(s)"
      ],
      "text/plain": [
       "<IPython.core.display.HTML object>"
      ]
     },
     "metadata": {},
     "output_type": "display_data"
    },
    {
     "data": {
      "text/html": [
       "Find logs at: <code>./wandb/run-20241006_094106-b98fl8ro/logs</code>"
      ],
      "text/plain": [
       "<IPython.core.display.HTML object>"
      ]
     },
     "metadata": {},
     "output_type": "display_data"
    },
    {
     "name": "stderr",
     "output_type": "stream",
     "text": [
      "\u001b[34m\u001b[1mwandb\u001b[0m: Agent Starting Run: 961ylg75 with config:\n",
      "\u001b[34m\u001b[1mwandb\u001b[0m: \tepoch: 7\n",
      "\u001b[34m\u001b[1mwandb\u001b[0m: \tlearning_rate: 7.932871057639762e-05\n"
     ]
    },
    {
     "data": {
      "text/html": [
       "Tracking run with wandb version 0.18.3"
      ],
      "text/plain": [
       "<IPython.core.display.HTML object>"
      ]
     },
     "metadata": {},
     "output_type": "display_data"
    },
    {
     "data": {
      "text/html": [
       "Run data is saved locally in <code>/aiffel/aiffel/aiffel/dlthon/wandb/run-20241006_101938-961ylg75</code>"
      ],
      "text/plain": [
       "<IPython.core.display.HTML object>"
      ]
     },
     "metadata": {},
     "output_type": "display_data"
    },
    {
     "data": {
      "text/html": [
       "Syncing run <strong><a href='https://wandb.ai/vieisi8-123/KoELECTRA/runs/961ylg75' target=\"_blank\">daily-sweep-3</a></strong> to <a href='https://wandb.ai/vieisi8-123/KoELECTRA' target=\"_blank\">Weights & Biases</a> (<a href='https://wandb.me/run' target=\"_blank\">docs</a>)<br/>Sweep page: <a href='https://wandb.ai/vieisi8-123/KoELECTRA/sweeps/r3l3c53h' target=\"_blank\">https://wandb.ai/vieisi8-123/KoELECTRA/sweeps/r3l3c53h</a>"
      ],
      "text/plain": [
       "<IPython.core.display.HTML object>"
      ]
     },
     "metadata": {},
     "output_type": "display_data"
    },
    {
     "data": {
      "text/html": [
       " View project at <a href='https://wandb.ai/vieisi8-123/KoELECTRA' target=\"_blank\">https://wandb.ai/vieisi8-123/KoELECTRA</a>"
      ],
      "text/plain": [
       "<IPython.core.display.HTML object>"
      ]
     },
     "metadata": {},
     "output_type": "display_data"
    },
    {
     "data": {
      "text/html": [
       " View sweep at <a href='https://wandb.ai/vieisi8-123/KoELECTRA/sweeps/r3l3c53h' target=\"_blank\">https://wandb.ai/vieisi8-123/KoELECTRA/sweeps/r3l3c53h</a>"
      ],
      "text/plain": [
       "<IPython.core.display.HTML object>"
      ]
     },
     "metadata": {},
     "output_type": "display_data"
    },
    {
     "data": {
      "text/html": [
       " View run at <a href='https://wandb.ai/vieisi8-123/KoELECTRA/runs/961ylg75' target=\"_blank\">https://wandb.ai/vieisi8-123/KoELECTRA/runs/961ylg75</a>"
      ],
      "text/plain": [
       "<IPython.core.display.HTML object>"
      ]
     },
     "metadata": {},
     "output_type": "display_data"
    },
    {
     "name": "stdout",
     "output_type": "stream",
     "text": [
      "Epoch 1/7\n",
      "186/186 [==============================] - 149s 748ms/step - loss: 1.1846 - accuracy: 0.5019 - custom_f1score: 0.4891 - val_loss: 1.1492 - val_accuracy: 0.4874 - val_custom_f1score: 0.4482\n"
     ]
    },
    {
     "name": "stderr",
     "output_type": "stream",
     "text": [
      "\u001b[34m\u001b[1mwandb\u001b[0m: \u001b[32m\u001b[41mERROR\u001b[0m Can't save model in the h5py format. The model will be saved as as an W&B Artifact in the 'tf' format.\n",
      "WARNING:absl:Found untraced functions such as embeddings_layer_call_and_return_conditional_losses, embeddings_layer_call_fn, encoder_layer_call_and_return_conditional_losses, encoder_layer_call_fn, dense_layer_call_and_return_conditional_losses while saving (showing 5 of 1060). These functions will not be directly callable after loading.\n"
     ]
    },
    {
     "name": "stdout",
     "output_type": "stream",
     "text": [
      "INFO:tensorflow:Assets written to: /aiffel/aiffel/aiffel/dlthon/wandb/run-20241006_101938-961ylg75/files/model-best/assets\n"
     ]
    },
    {
     "name": "stderr",
     "output_type": "stream",
     "text": [
      "INFO:tensorflow:Assets written to: /aiffel/aiffel/aiffel/dlthon/wandb/run-20241006_101938-961ylg75/files/model-best/assets\n",
      "/opt/conda/lib/python3.9/site-packages/keras/utils/generic_utils.py:494: CustomMaskWarning: Custom mask layers require a config and must override get_config. When loading, the custom mask layer must be passed to the custom_objects argument.\n",
      "  warnings.warn('Custom mask layers require a config and must override '\n",
      "\u001b[34m\u001b[1mwandb\u001b[0m: Adding directory to artifact (/aiffel/aiffel/aiffel/dlthon/wandb/run-20241006_101938-961ylg75/files/model-best)... Done. 5.5s\n"
     ]
    },
    {
     "name": "stdout",
     "output_type": "stream",
     "text": [
      "Epoch 2/7\n",
      "186/186 [==============================] - 139s 747ms/step - loss: 1.1584 - accuracy: 0.5081 - custom_f1score: 0.4957 - val_loss: 1.1180 - val_accuracy: 0.5682 - val_custom_f1score: 0.5611\n"
     ]
    },
    {
     "name": "stderr",
     "output_type": "stream",
     "text": [
      "\u001b[34m\u001b[1mwandb\u001b[0m: \u001b[32m\u001b[41mERROR\u001b[0m Can't save model in the h5py format. The model will be saved as as an W&B Artifact in the 'tf' format.\n",
      "WARNING:absl:Found untraced functions such as embeddings_layer_call_and_return_conditional_losses, embeddings_layer_call_fn, encoder_layer_call_and_return_conditional_losses, encoder_layer_call_fn, dense_layer_call_and_return_conditional_losses while saving (showing 5 of 1060). These functions will not be directly callable after loading.\n"
     ]
    },
    {
     "name": "stdout",
     "output_type": "stream",
     "text": [
      "INFO:tensorflow:Assets written to: /aiffel/aiffel/aiffel/dlthon/wandb/run-20241006_101938-961ylg75/files/model-best/assets\n"
     ]
    },
    {
     "name": "stderr",
     "output_type": "stream",
     "text": [
      "INFO:tensorflow:Assets written to: /aiffel/aiffel/aiffel/dlthon/wandb/run-20241006_101938-961ylg75/files/model-best/assets\n",
      "/opt/conda/lib/python3.9/site-packages/keras/utils/generic_utils.py:494: CustomMaskWarning: Custom mask layers require a config and must override get_config. When loading, the custom mask layer must be passed to the custom_objects argument.\n",
      "  warnings.warn('Custom mask layers require a config and must override '\n",
      "\u001b[34m\u001b[1mwandb\u001b[0m: Adding directory to artifact (/aiffel/aiffel/aiffel/dlthon/wandb/run-20241006_101938-961ylg75/files/model-best)... Done. 5.7s\n"
     ]
    },
    {
     "name": "stdout",
     "output_type": "stream",
     "text": [
      "Epoch 3/7\n",
      "186/186 [==============================] - 139s 747ms/step - loss: 1.1396 - accuracy: 0.5246 - custom_f1score: 0.5157 - val_loss: 1.0947 - val_accuracy: 0.5781 - val_custom_f1score: 0.5738\n"
     ]
    },
    {
     "name": "stderr",
     "output_type": "stream",
     "text": [
      "\u001b[34m\u001b[1mwandb\u001b[0m: \u001b[32m\u001b[41mERROR\u001b[0m Can't save model in the h5py format. The model will be saved as as an W&B Artifact in the 'tf' format.\n",
      "WARNING:absl:Found untraced functions such as embeddings_layer_call_and_return_conditional_losses, embeddings_layer_call_fn, encoder_layer_call_and_return_conditional_losses, encoder_layer_call_fn, dense_layer_call_and_return_conditional_losses while saving (showing 5 of 1060). These functions will not be directly callable after loading.\n"
     ]
    },
    {
     "name": "stdout",
     "output_type": "stream",
     "text": [
      "INFO:tensorflow:Assets written to: /aiffel/aiffel/aiffel/dlthon/wandb/run-20241006_101938-961ylg75/files/model-best/assets\n"
     ]
    },
    {
     "name": "stderr",
     "output_type": "stream",
     "text": [
      "INFO:tensorflow:Assets written to: /aiffel/aiffel/aiffel/dlthon/wandb/run-20241006_101938-961ylg75/files/model-best/assets\n",
      "/opt/conda/lib/python3.9/site-packages/keras/utils/generic_utils.py:494: CustomMaskWarning: Custom mask layers require a config and must override get_config. When loading, the custom mask layer must be passed to the custom_objects argument.\n",
      "  warnings.warn('Custom mask layers require a config and must override '\n",
      "\u001b[34m\u001b[1mwandb\u001b[0m: Adding directory to artifact (/aiffel/aiffel/aiffel/dlthon/wandb/run-20241006_101938-961ylg75/files/model-best)... Done. 5.5s\n"
     ]
    },
    {
     "name": "stdout",
     "output_type": "stream",
     "text": [
      "Epoch 4/7\n",
      "186/186 [==============================] - 139s 747ms/step - loss: 1.1026 - accuracy: 0.5393 - custom_f1score: 0.5280 - val_loss: 1.0832 - val_accuracy: 0.5557 - val_custom_f1score: 0.5486\n"
     ]
    },
    {
     "name": "stderr",
     "output_type": "stream",
     "text": [
      "\u001b[34m\u001b[1mwandb\u001b[0m: \u001b[32m\u001b[41mERROR\u001b[0m Can't save model in the h5py format. The model will be saved as as an W&B Artifact in the 'tf' format.\n",
      "WARNING:absl:Found untraced functions such as embeddings_layer_call_and_return_conditional_losses, embeddings_layer_call_fn, encoder_layer_call_and_return_conditional_losses, encoder_layer_call_fn, dense_layer_call_and_return_conditional_losses while saving (showing 5 of 1060). These functions will not be directly callable after loading.\n"
     ]
    },
    {
     "name": "stdout",
     "output_type": "stream",
     "text": [
      "INFO:tensorflow:Assets written to: /aiffel/aiffel/aiffel/dlthon/wandb/run-20241006_101938-961ylg75/files/model-best/assets\n"
     ]
    },
    {
     "name": "stderr",
     "output_type": "stream",
     "text": [
      "INFO:tensorflow:Assets written to: /aiffel/aiffel/aiffel/dlthon/wandb/run-20241006_101938-961ylg75/files/model-best/assets\n",
      "/opt/conda/lib/python3.9/site-packages/keras/utils/generic_utils.py:494: CustomMaskWarning: Custom mask layers require a config and must override get_config. When loading, the custom mask layer must be passed to the custom_objects argument.\n",
      "  warnings.warn('Custom mask layers require a config and must override '\n",
      "\u001b[34m\u001b[1mwandb\u001b[0m: Adding directory to artifact (/aiffel/aiffel/aiffel/dlthon/wandb/run-20241006_101938-961ylg75/files/model-best)... Done. 6.2s\n"
     ]
    },
    {
     "name": "stdout",
     "output_type": "stream",
     "text": [
      "Epoch 5/7\n",
      "186/186 [==============================] - 139s 747ms/step - loss: 1.1014 - accuracy: 0.5316 - custom_f1score: 0.5244 - val_loss: 1.0479 - val_accuracy: 0.5961 - val_custom_f1score: 0.5941\n"
     ]
    },
    {
     "name": "stderr",
     "output_type": "stream",
     "text": [
      "\u001b[34m\u001b[1mwandb\u001b[0m: \u001b[32m\u001b[41mERROR\u001b[0m Can't save model in the h5py format. The model will be saved as as an W&B Artifact in the 'tf' format.\n",
      "WARNING:absl:Found untraced functions such as embeddings_layer_call_and_return_conditional_losses, embeddings_layer_call_fn, encoder_layer_call_and_return_conditional_losses, encoder_layer_call_fn, dense_layer_call_and_return_conditional_losses while saving (showing 5 of 1060). These functions will not be directly callable after loading.\n"
     ]
    },
    {
     "name": "stdout",
     "output_type": "stream",
     "text": [
      "INFO:tensorflow:Assets written to: /aiffel/aiffel/aiffel/dlthon/wandb/run-20241006_101938-961ylg75/files/model-best/assets\n"
     ]
    },
    {
     "name": "stderr",
     "output_type": "stream",
     "text": [
      "INFO:tensorflow:Assets written to: /aiffel/aiffel/aiffel/dlthon/wandb/run-20241006_101938-961ylg75/files/model-best/assets\n",
      "/opt/conda/lib/python3.9/site-packages/keras/utils/generic_utils.py:494: CustomMaskWarning: Custom mask layers require a config and must override get_config. When loading, the custom mask layer must be passed to the custom_objects argument.\n",
      "  warnings.warn('Custom mask layers require a config and must override '\n",
      "\u001b[34m\u001b[1mwandb\u001b[0m: Adding directory to artifact (/aiffel/aiffel/aiffel/dlthon/wandb/run-20241006_101938-961ylg75/files/model-best)... Done. 5.6s\n"
     ]
    },
    {
     "name": "stdout",
     "output_type": "stream",
     "text": [
      "Epoch 6/7\n",
      "186/186 [==============================] - 139s 747ms/step - loss: 1.0684 - accuracy: 0.5535 - custom_f1score: 0.5455 - val_loss: 1.0241 - val_accuracy: 0.6176 - val_custom_f1score: 0.6199\n"
     ]
    },
    {
     "name": "stderr",
     "output_type": "stream",
     "text": [
      "\u001b[34m\u001b[1mwandb\u001b[0m: \u001b[32m\u001b[41mERROR\u001b[0m Can't save model in the h5py format. The model will be saved as as an W&B Artifact in the 'tf' format.\n",
      "WARNING:absl:Found untraced functions such as embeddings_layer_call_and_return_conditional_losses, embeddings_layer_call_fn, encoder_layer_call_and_return_conditional_losses, encoder_layer_call_fn, dense_layer_call_and_return_conditional_losses while saving (showing 5 of 1060). These functions will not be directly callable after loading.\n"
     ]
    },
    {
     "name": "stdout",
     "output_type": "stream",
     "text": [
      "INFO:tensorflow:Assets written to: /aiffel/aiffel/aiffel/dlthon/wandb/run-20241006_101938-961ylg75/files/model-best/assets\n"
     ]
    },
    {
     "name": "stderr",
     "output_type": "stream",
     "text": [
      "INFO:tensorflow:Assets written to: /aiffel/aiffel/aiffel/dlthon/wandb/run-20241006_101938-961ylg75/files/model-best/assets\n",
      "/opt/conda/lib/python3.9/site-packages/keras/utils/generic_utils.py:494: CustomMaskWarning: Custom mask layers require a config and must override get_config. When loading, the custom mask layer must be passed to the custom_objects argument.\n",
      "  warnings.warn('Custom mask layers require a config and must override '\n",
      "\u001b[34m\u001b[1mwandb\u001b[0m: Adding directory to artifact (/aiffel/aiffel/aiffel/dlthon/wandb/run-20241006_101938-961ylg75/files/model-best)... Done. 6.2s\n"
     ]
    },
    {
     "name": "stdout",
     "output_type": "stream",
     "text": [
      "Epoch 7/7\n",
      "186/186 [==============================] - 139s 748ms/step - loss: 1.0713 - accuracy: 0.5466 - custom_f1score: 0.5410 - val_loss: 1.0129 - val_accuracy: 0.6095 - val_custom_f1score: 0.6126\n"
     ]
    },
    {
     "name": "stderr",
     "output_type": "stream",
     "text": [
      "\u001b[34m\u001b[1mwandb\u001b[0m: \u001b[32m\u001b[41mERROR\u001b[0m Can't save model in the h5py format. The model will be saved as as an W&B Artifact in the 'tf' format.\n",
      "WARNING:absl:Found untraced functions such as embeddings_layer_call_and_return_conditional_losses, embeddings_layer_call_fn, encoder_layer_call_and_return_conditional_losses, encoder_layer_call_fn, dense_layer_call_and_return_conditional_losses while saving (showing 5 of 1060). These functions will not be directly callable after loading.\n"
     ]
    },
    {
     "name": "stdout",
     "output_type": "stream",
     "text": [
      "INFO:tensorflow:Assets written to: /aiffel/aiffel/aiffel/dlthon/wandb/run-20241006_101938-961ylg75/files/model-best/assets\n"
     ]
    },
    {
     "name": "stderr",
     "output_type": "stream",
     "text": [
      "INFO:tensorflow:Assets written to: /aiffel/aiffel/aiffel/dlthon/wandb/run-20241006_101938-961ylg75/files/model-best/assets\n",
      "/opt/conda/lib/python3.9/site-packages/keras/utils/generic_utils.py:494: CustomMaskWarning: Custom mask layers require a config and must override get_config. When loading, the custom mask layer must be passed to the custom_objects argument.\n",
      "  warnings.warn('Custom mask layers require a config and must override '\n",
      "\u001b[34m\u001b[1mwandb\u001b[0m: Adding directory to artifact (/aiffel/aiffel/aiffel/dlthon/wandb/run-20241006_101938-961ylg75/files/model-best)... Done. 6.8s\n"
     ]
    },
    {
     "name": "stdout",
     "output_type": "stream",
     "text": [
      "label이 이미 decoding 되있습니다!\n",
      "/aiffel/aiffel/aiffel/dlthon/KoELECTRA-base-v3 -- Folder already exists \n",
      "\n"
     ]
    },
    {
     "name": "stderr",
     "output_type": "stream",
     "text": [
      "All model checkpoint layers were used when initializing TFElectraForSequenceClassification.\n",
      "\n",
      "All the layers of TFElectraForSequenceClassification were initialized from the model checkpoint at /aiffel/aiffel/aiffel/dlthon/KoELECTRA-base-v3.\n",
      "If your task is similar to the task the model of the checkpoint was trained on, you can already use TFElectraForSequenceClassification for predictions without further training.\n",
      "predictive processing: 100%|██████████| 1238/1238 [09:50<00:00,  2.10it/s]\n"
     ]
    },
    {
     "name": "stdout",
     "output_type": "stream",
     "text": [
      "Test F1 Score :  0.608\n"
     ]
    },
    {
     "data": {
      "application/vnd.jupyter.widget-view+json": {
       "model_id": "",
       "version_major": 2,
       "version_minor": 0
      },
      "text/plain": [
       "VBox(children=(Label(value='3103.337 MB of 3103.337 MB uploaded\\r'), FloatProgress(value=1.0, max=1.0)))"
      ]
     },
     "metadata": {},
     "output_type": "display_data"
    },
    {
     "data": {
      "text/html": [
       "<style>\n",
       "    table.wandb td:nth-child(1) { padding: 0 10px; text-align: left ; width: auto;} td:nth-child(2) {text-align: left ; width: 100%}\n",
       "    .wandb-row { display: flex; flex-direction: row; flex-wrap: wrap; justify-content: flex-start; width: 100% }\n",
       "    .wandb-col { display: flex; flex-direction: column; flex-basis: 100%; flex: 1; padding: 10px; }\n",
       "    </style>\n",
       "<div class=\"wandb-row\"><div class=\"wandb-col\"><h3>Run history:</h3><br/><table class=\"wandb\"><tr><td>Test F1 Score</td><td>▁</td></tr><tr><td>accuracy</td><td>▁▂▄▆▅█▇</td></tr><tr><td>custom_f1score</td><td>▁▂▄▆▅█▇</td></tr><tr><td>epoch</td><td>▁▂▃▅▆▇█</td></tr><tr><td>loss</td><td>█▆▅▃▃▁▁</td></tr><tr><td>val_accuracy</td><td>▁▅▆▅▇██</td></tr><tr><td>val_custom_f1score</td><td>▁▆▆▅▇██</td></tr><tr><td>val_loss</td><td>█▆▅▅▃▂▁</td></tr></table><br/></div><div class=\"wandb-col\"><h3>Run summary:</h3><br/><table class=\"wandb\"><tr><td>Test F1 Score</td><td>0.608</td></tr><tr><td>accuracy</td><td>0.54657</td></tr><tr><td>best_epoch</td><td>6</td></tr><tr><td>best_val_loss</td><td>1.01292</td></tr><tr><td>custom_f1score</td><td>0.54101</td></tr><tr><td>epoch</td><td>6</td></tr><tr><td>loss</td><td>1.07131</td></tr><tr><td>val_accuracy</td><td>0.60952</td></tr><tr><td>val_custom_f1score</td><td>0.61257</td></tr><tr><td>val_loss</td><td>1.01292</td></tr></table><br/></div></div>"
      ],
      "text/plain": [
       "<IPython.core.display.HTML object>"
      ]
     },
     "metadata": {},
     "output_type": "display_data"
    },
    {
     "data": {
      "text/html": [
       " View run <strong style=\"color:#cdcd00\">daily-sweep-3</strong> at: <a href='https://wandb.ai/vieisi8-123/KoELECTRA/runs/961ylg75' target=\"_blank\">https://wandb.ai/vieisi8-123/KoELECTRA/runs/961ylg75</a><br/> View project at: <a href='https://wandb.ai/vieisi8-123/KoELECTRA' target=\"_blank\">https://wandb.ai/vieisi8-123/KoELECTRA</a><br/>Synced 5 W&B file(s), 0 media file(s), 29 artifact file(s) and 1 other file(s)"
      ],
      "text/plain": [
       "<IPython.core.display.HTML object>"
      ]
     },
     "metadata": {},
     "output_type": "display_data"
    },
    {
     "data": {
      "text/html": [
       "Find logs at: <code>./wandb/run-20241006_101938-961ylg75/logs</code>"
      ],
      "text/plain": [
       "<IPython.core.display.HTML object>"
      ]
     },
     "metadata": {},
     "output_type": "display_data"
    },
    {
     "name": "stderr",
     "output_type": "stream",
     "text": [
      "\u001b[34m\u001b[1mwandb\u001b[0m: Agent Starting Run: uw9z02ou with config:\n",
      "\u001b[34m\u001b[1mwandb\u001b[0m: \tepoch: 10\n",
      "\u001b[34m\u001b[1mwandb\u001b[0m: \tlearning_rate: 4.154862768860104e-05\n"
     ]
    },
    {
     "data": {
      "text/html": [
       "Tracking run with wandb version 0.18.3"
      ],
      "text/plain": [
       "<IPython.core.display.HTML object>"
      ]
     },
     "metadata": {},
     "output_type": "display_data"
    },
    {
     "data": {
      "text/html": [
       "Run data is saved locally in <code>/aiffel/aiffel/aiffel/dlthon/wandb/run-20241006_104947-uw9z02ou</code>"
      ],
      "text/plain": [
       "<IPython.core.display.HTML object>"
      ]
     },
     "metadata": {},
     "output_type": "display_data"
    },
    {
     "data": {
      "text/html": [
       "Syncing run <strong><a href='https://wandb.ai/vieisi8-123/KoELECTRA/runs/uw9z02ou' target=\"_blank\">pleasant-sweep-4</a></strong> to <a href='https://wandb.ai/vieisi8-123/KoELECTRA' target=\"_blank\">Weights & Biases</a> (<a href='https://wandb.me/run' target=\"_blank\">docs</a>)<br/>Sweep page: <a href='https://wandb.ai/vieisi8-123/KoELECTRA/sweeps/r3l3c53h' target=\"_blank\">https://wandb.ai/vieisi8-123/KoELECTRA/sweeps/r3l3c53h</a>"
      ],
      "text/plain": [
       "<IPython.core.display.HTML object>"
      ]
     },
     "metadata": {},
     "output_type": "display_data"
    },
    {
     "data": {
      "text/html": [
       " View project at <a href='https://wandb.ai/vieisi8-123/KoELECTRA' target=\"_blank\">https://wandb.ai/vieisi8-123/KoELECTRA</a>"
      ],
      "text/plain": [
       "<IPython.core.display.HTML object>"
      ]
     },
     "metadata": {},
     "output_type": "display_data"
    },
    {
     "data": {
      "text/html": [
       " View sweep at <a href='https://wandb.ai/vieisi8-123/KoELECTRA/sweeps/r3l3c53h' target=\"_blank\">https://wandb.ai/vieisi8-123/KoELECTRA/sweeps/r3l3c53h</a>"
      ],
      "text/plain": [
       "<IPython.core.display.HTML object>"
      ]
     },
     "metadata": {},
     "output_type": "display_data"
    },
    {
     "data": {
      "text/html": [
       " View run at <a href='https://wandb.ai/vieisi8-123/KoELECTRA/runs/uw9z02ou' target=\"_blank\">https://wandb.ai/vieisi8-123/KoELECTRA/runs/uw9z02ou</a>"
      ],
      "text/plain": [
       "<IPython.core.display.HTML object>"
      ]
     },
     "metadata": {},
     "output_type": "display_data"
    },
    {
     "name": "stdout",
     "output_type": "stream",
     "text": [
      "Epoch 1/10\n",
      "186/186 [==============================] - 149s 749ms/step - loss: 1.0451 - accuracy: 0.5685 - custom_f1score: 0.5625 - val_loss: 1.0074 - val_accuracy: 0.6104 - val_custom_f1score: 0.6136\n"
     ]
    },
    {
     "name": "stderr",
     "output_type": "stream",
     "text": [
      "\u001b[34m\u001b[1mwandb\u001b[0m: \u001b[32m\u001b[41mERROR\u001b[0m Can't save model in the h5py format. The model will be saved as as an W&B Artifact in the 'tf' format.\n",
      "WARNING:absl:Found untraced functions such as embeddings_layer_call_and_return_conditional_losses, embeddings_layer_call_fn, encoder_layer_call_and_return_conditional_losses, encoder_layer_call_fn, dense_layer_call_and_return_conditional_losses while saving (showing 5 of 1060). These functions will not be directly callable after loading.\n"
     ]
    },
    {
     "name": "stdout",
     "output_type": "stream",
     "text": [
      "INFO:tensorflow:Assets written to: /aiffel/aiffel/aiffel/dlthon/wandb/run-20241006_104947-uw9z02ou/files/model-best/assets\n"
     ]
    },
    {
     "name": "stderr",
     "output_type": "stream",
     "text": [
      "INFO:tensorflow:Assets written to: /aiffel/aiffel/aiffel/dlthon/wandb/run-20241006_104947-uw9z02ou/files/model-best/assets\n",
      "/opt/conda/lib/python3.9/site-packages/keras/utils/generic_utils.py:494: CustomMaskWarning: Custom mask layers require a config and must override get_config. When loading, the custom mask layer must be passed to the custom_objects argument.\n",
      "  warnings.warn('Custom mask layers require a config and must override '\n",
      "\u001b[34m\u001b[1mwandb\u001b[0m: Adding directory to artifact (/aiffel/aiffel/aiffel/dlthon/wandb/run-20241006_104947-uw9z02ou/files/model-best)... Done. 5.9s\n"
     ]
    },
    {
     "name": "stdout",
     "output_type": "stream",
     "text": [
      "Epoch 2/10\n",
      "186/186 [==============================] - 139s 746ms/step - loss: 1.0532 - accuracy: 0.5608 - custom_f1score: 0.5556 - val_loss: 0.9906 - val_accuracy: 0.6329 - val_custom_f1score: 0.6318\n"
     ]
    },
    {
     "name": "stderr",
     "output_type": "stream",
     "text": [
      "\u001b[34m\u001b[1mwandb\u001b[0m: \u001b[32m\u001b[41mERROR\u001b[0m Can't save model in the h5py format. The model will be saved as as an W&B Artifact in the 'tf' format.\n",
      "WARNING:absl:Found untraced functions such as embeddings_layer_call_and_return_conditional_losses, embeddings_layer_call_fn, encoder_layer_call_and_return_conditional_losses, encoder_layer_call_fn, dense_layer_call_and_return_conditional_losses while saving (showing 5 of 1060). These functions will not be directly callable after loading.\n"
     ]
    },
    {
     "name": "stdout",
     "output_type": "stream",
     "text": [
      "INFO:tensorflow:Assets written to: /aiffel/aiffel/aiffel/dlthon/wandb/run-20241006_104947-uw9z02ou/files/model-best/assets\n"
     ]
    },
    {
     "name": "stderr",
     "output_type": "stream",
     "text": [
      "INFO:tensorflow:Assets written to: /aiffel/aiffel/aiffel/dlthon/wandb/run-20241006_104947-uw9z02ou/files/model-best/assets\n",
      "/opt/conda/lib/python3.9/site-packages/keras/utils/generic_utils.py:494: CustomMaskWarning: Custom mask layers require a config and must override get_config. When loading, the custom mask layer must be passed to the custom_objects argument.\n",
      "  warnings.warn('Custom mask layers require a config and must override '\n",
      "\u001b[34m\u001b[1mwandb\u001b[0m: Adding directory to artifact (/aiffel/aiffel/aiffel/dlthon/wandb/run-20241006_104947-uw9z02ou/files/model-best)... Done. 6.8s\n"
     ]
    },
    {
     "name": "stdout",
     "output_type": "stream",
     "text": [
      "Epoch 3/10\n",
      "186/186 [==============================] - 139s 747ms/step - loss: 1.0397 - accuracy: 0.5751 - custom_f1score: 0.5676 - val_loss: 0.9825 - val_accuracy: 0.6302 - val_custom_f1score: 0.6376\n"
     ]
    },
    {
     "name": "stderr",
     "output_type": "stream",
     "text": [
      "\u001b[34m\u001b[1mwandb\u001b[0m: \u001b[32m\u001b[41mERROR\u001b[0m Can't save model in the h5py format. The model will be saved as as an W&B Artifact in the 'tf' format.\n",
      "WARNING:absl:Found untraced functions such as embeddings_layer_call_and_return_conditional_losses, embeddings_layer_call_fn, encoder_layer_call_and_return_conditional_losses, encoder_layer_call_fn, dense_layer_call_and_return_conditional_losses while saving (showing 5 of 1060). These functions will not be directly callable after loading.\n"
     ]
    },
    {
     "name": "stdout",
     "output_type": "stream",
     "text": [
      "INFO:tensorflow:Assets written to: /aiffel/aiffel/aiffel/dlthon/wandb/run-20241006_104947-uw9z02ou/files/model-best/assets\n"
     ]
    },
    {
     "name": "stderr",
     "output_type": "stream",
     "text": [
      "INFO:tensorflow:Assets written to: /aiffel/aiffel/aiffel/dlthon/wandb/run-20241006_104947-uw9z02ou/files/model-best/assets\n",
      "/opt/conda/lib/python3.9/site-packages/keras/utils/generic_utils.py:494: CustomMaskWarning: Custom mask layers require a config and must override get_config. When loading, the custom mask layer must be passed to the custom_objects argument.\n",
      "  warnings.warn('Custom mask layers require a config and must override '\n",
      "\u001b[34m\u001b[1mwandb\u001b[0m: Adding directory to artifact (/aiffel/aiffel/aiffel/dlthon/wandb/run-20241006_104947-uw9z02ou/files/model-best)... Done. 6.6s\n"
     ]
    },
    {
     "name": "stdout",
     "output_type": "stream",
     "text": [
      "Epoch 4/10\n",
      "186/186 [==============================] - 139s 747ms/step - loss: 1.0318 - accuracy: 0.5724 - custom_f1score: 0.5671 - val_loss: 0.9785 - val_accuracy: 0.6346 - val_custom_f1score: 0.6329\n"
     ]
    },
    {
     "name": "stderr",
     "output_type": "stream",
     "text": [
      "\u001b[34m\u001b[1mwandb\u001b[0m: \u001b[32m\u001b[41mERROR\u001b[0m Can't save model in the h5py format. The model will be saved as as an W&B Artifact in the 'tf' format.\n",
      "WARNING:absl:Found untraced functions such as embeddings_layer_call_and_return_conditional_losses, embeddings_layer_call_fn, encoder_layer_call_and_return_conditional_losses, encoder_layer_call_fn, dense_layer_call_and_return_conditional_losses while saving (showing 5 of 1060). These functions will not be directly callable after loading.\n"
     ]
    },
    {
     "name": "stdout",
     "output_type": "stream",
     "text": [
      "INFO:tensorflow:Assets written to: /aiffel/aiffel/aiffel/dlthon/wandb/run-20241006_104947-uw9z02ou/files/model-best/assets\n"
     ]
    },
    {
     "name": "stderr",
     "output_type": "stream",
     "text": [
      "INFO:tensorflow:Assets written to: /aiffel/aiffel/aiffel/dlthon/wandb/run-20241006_104947-uw9z02ou/files/model-best/assets\n",
      "/opt/conda/lib/python3.9/site-packages/keras/utils/generic_utils.py:494: CustomMaskWarning: Custom mask layers require a config and must override get_config. When loading, the custom mask layer must be passed to the custom_objects argument.\n",
      "  warnings.warn('Custom mask layers require a config and must override '\n",
      "\u001b[34m\u001b[1mwandb\u001b[0m: Adding directory to artifact (/aiffel/aiffel/aiffel/dlthon/wandb/run-20241006_104947-uw9z02ou/files/model-best)... Done. 5.8s\n"
     ]
    },
    {
     "name": "stdout",
     "output_type": "stream",
     "text": [
      "Epoch 5/10\n",
      "186/186 [==============================] - 139s 748ms/step - loss: 1.0266 - accuracy: 0.5712 - custom_f1score: 0.5640 - val_loss: 0.9748 - val_accuracy: 0.6149 - val_custom_f1score: 0.6143\n"
     ]
    },
    {
     "name": "stderr",
     "output_type": "stream",
     "text": [
      "\u001b[34m\u001b[1mwandb\u001b[0m: \u001b[32m\u001b[41mERROR\u001b[0m Can't save model in the h5py format. The model will be saved as as an W&B Artifact in the 'tf' format.\n",
      "WARNING:absl:Found untraced functions such as embeddings_layer_call_and_return_conditional_losses, embeddings_layer_call_fn, encoder_layer_call_and_return_conditional_losses, encoder_layer_call_fn, dense_layer_call_and_return_conditional_losses while saving (showing 5 of 1060). These functions will not be directly callable after loading.\n"
     ]
    },
    {
     "name": "stdout",
     "output_type": "stream",
     "text": [
      "INFO:tensorflow:Assets written to: /aiffel/aiffel/aiffel/dlthon/wandb/run-20241006_104947-uw9z02ou/files/model-best/assets\n"
     ]
    },
    {
     "name": "stderr",
     "output_type": "stream",
     "text": [
      "INFO:tensorflow:Assets written to: /aiffel/aiffel/aiffel/dlthon/wandb/run-20241006_104947-uw9z02ou/files/model-best/assets\n",
      "/opt/conda/lib/python3.9/site-packages/keras/utils/generic_utils.py:494: CustomMaskWarning: Custom mask layers require a config and must override get_config. When loading, the custom mask layer must be passed to the custom_objects argument.\n",
      "  warnings.warn('Custom mask layers require a config and must override '\n",
      "\u001b[34m\u001b[1mwandb\u001b[0m: Adding directory to artifact (/aiffel/aiffel/aiffel/dlthon/wandb/run-20241006_104947-uw9z02ou/files/model-best)... Done. 5.5s\n"
     ]
    },
    {
     "name": "stdout",
     "output_type": "stream",
     "text": [
      "Epoch 6/10\n",
      "186/186 [==============================] - 139s 748ms/step - loss: 1.0257 - accuracy: 0.5708 - custom_f1score: 0.5665 - val_loss: 0.9737 - val_accuracy: 0.6302 - val_custom_f1score: 0.6346\n"
     ]
    },
    {
     "name": "stderr",
     "output_type": "stream",
     "text": [
      "\u001b[34m\u001b[1mwandb\u001b[0m: \u001b[32m\u001b[41mERROR\u001b[0m Can't save model in the h5py format. The model will be saved as as an W&B Artifact in the 'tf' format.\n",
      "WARNING:absl:Found untraced functions such as embeddings_layer_call_and_return_conditional_losses, embeddings_layer_call_fn, encoder_layer_call_and_return_conditional_losses, encoder_layer_call_fn, dense_layer_call_and_return_conditional_losses while saving (showing 5 of 1060). These functions will not be directly callable after loading.\n"
     ]
    },
    {
     "name": "stdout",
     "output_type": "stream",
     "text": [
      "INFO:tensorflow:Assets written to: /aiffel/aiffel/aiffel/dlthon/wandb/run-20241006_104947-uw9z02ou/files/model-best/assets\n"
     ]
    },
    {
     "name": "stderr",
     "output_type": "stream",
     "text": [
      "INFO:tensorflow:Assets written to: /aiffel/aiffel/aiffel/dlthon/wandb/run-20241006_104947-uw9z02ou/files/model-best/assets\n",
      "/opt/conda/lib/python3.9/site-packages/keras/utils/generic_utils.py:494: CustomMaskWarning: Custom mask layers require a config and must override get_config. When loading, the custom mask layer must be passed to the custom_objects argument.\n",
      "  warnings.warn('Custom mask layers require a config and must override '\n",
      "\u001b[34m\u001b[1mwandb\u001b[0m: Adding directory to artifact (/aiffel/aiffel/aiffel/dlthon/wandb/run-20241006_104947-uw9z02ou/files/model-best)... Done. 5.7s\n"
     ]
    },
    {
     "name": "stdout",
     "output_type": "stream",
     "text": [
      "Epoch 7/10\n",
      "186/186 [==============================] - 139s 748ms/step - loss: 1.0174 - accuracy: 0.5881 - custom_f1score: 0.5823 - val_loss: 0.9710 - val_accuracy: 0.6275 - val_custom_f1score: 0.6252\n"
     ]
    },
    {
     "name": "stderr",
     "output_type": "stream",
     "text": [
      "\u001b[34m\u001b[1mwandb\u001b[0m: \u001b[32m\u001b[41mERROR\u001b[0m Can't save model in the h5py format. The model will be saved as as an W&B Artifact in the 'tf' format.\n",
      "WARNING:absl:Found untraced functions such as embeddings_layer_call_and_return_conditional_losses, embeddings_layer_call_fn, encoder_layer_call_and_return_conditional_losses, encoder_layer_call_fn, dense_layer_call_and_return_conditional_losses while saving (showing 5 of 1060). These functions will not be directly callable after loading.\n"
     ]
    },
    {
     "name": "stdout",
     "output_type": "stream",
     "text": [
      "INFO:tensorflow:Assets written to: /aiffel/aiffel/aiffel/dlthon/wandb/run-20241006_104947-uw9z02ou/files/model-best/assets\n"
     ]
    },
    {
     "name": "stderr",
     "output_type": "stream",
     "text": [
      "INFO:tensorflow:Assets written to: /aiffel/aiffel/aiffel/dlthon/wandb/run-20241006_104947-uw9z02ou/files/model-best/assets\n",
      "/opt/conda/lib/python3.9/site-packages/keras/utils/generic_utils.py:494: CustomMaskWarning: Custom mask layers require a config and must override get_config. When loading, the custom mask layer must be passed to the custom_objects argument.\n",
      "  warnings.warn('Custom mask layers require a config and must override '\n",
      "\u001b[34m\u001b[1mwandb\u001b[0m: Adding directory to artifact (/aiffel/aiffel/aiffel/dlthon/wandb/run-20241006_104947-uw9z02ou/files/model-best)... Done. 5.5s\n"
     ]
    },
    {
     "name": "stdout",
     "output_type": "stream",
     "text": [
      "Epoch 8/10\n",
      "186/186 [==============================] - 139s 747ms/step - loss: 1.0069 - accuracy: 0.5812 - custom_f1score: 0.5775 - val_loss: 0.9586 - val_accuracy: 0.6293 - val_custom_f1score: 0.6231\n"
     ]
    },
    {
     "name": "stderr",
     "output_type": "stream",
     "text": [
      "\u001b[34m\u001b[1mwandb\u001b[0m: \u001b[32m\u001b[41mERROR\u001b[0m Can't save model in the h5py format. The model will be saved as as an W&B Artifact in the 'tf' format.\n",
      "WARNING:absl:Found untraced functions such as embeddings_layer_call_and_return_conditional_losses, embeddings_layer_call_fn, encoder_layer_call_and_return_conditional_losses, encoder_layer_call_fn, dense_layer_call_and_return_conditional_losses while saving (showing 5 of 1060). These functions will not be directly callable after loading.\n"
     ]
    },
    {
     "name": "stdout",
     "output_type": "stream",
     "text": [
      "INFO:tensorflow:Assets written to: /aiffel/aiffel/aiffel/dlthon/wandb/run-20241006_104947-uw9z02ou/files/model-best/assets\n"
     ]
    },
    {
     "name": "stderr",
     "output_type": "stream",
     "text": [
      "INFO:tensorflow:Assets written to: /aiffel/aiffel/aiffel/dlthon/wandb/run-20241006_104947-uw9z02ou/files/model-best/assets\n",
      "/opt/conda/lib/python3.9/site-packages/keras/utils/generic_utils.py:494: CustomMaskWarning: Custom mask layers require a config and must override get_config. When loading, the custom mask layer must be passed to the custom_objects argument.\n",
      "  warnings.warn('Custom mask layers require a config and must override '\n",
      "\u001b[34m\u001b[1mwandb\u001b[0m: Adding directory to artifact (/aiffel/aiffel/aiffel/dlthon/wandb/run-20241006_104947-uw9z02ou/files/model-best)... Done. 5.7s\n"
     ]
    },
    {
     "name": "stdout",
     "output_type": "stream",
     "text": [
      "Epoch 9/10\n",
      "186/186 [==============================] - 139s 748ms/step - loss: 1.0084 - accuracy: 0.5793 - custom_f1score: 0.5728 - val_loss: 0.9627 - val_accuracy: 0.6284 - val_custom_f1score: 0.6285\n",
      "Epoch 10/10\n",
      "186/186 [==============================] - 139s 748ms/step - loss: 1.0016 - accuracy: 0.5908 - custom_f1score: 0.5858 - val_loss: 0.9466 - val_accuracy: 0.6418 - val_custom_f1score: 0.6487\n"
     ]
    },
    {
     "name": "stderr",
     "output_type": "stream",
     "text": [
      "\u001b[34m\u001b[1mwandb\u001b[0m: \u001b[32m\u001b[41mERROR\u001b[0m Can't save model in the h5py format. The model will be saved as as an W&B Artifact in the 'tf' format.\n",
      "WARNING:absl:Found untraced functions such as embeddings_layer_call_and_return_conditional_losses, embeddings_layer_call_fn, encoder_layer_call_and_return_conditional_losses, encoder_layer_call_fn, dense_layer_call_and_return_conditional_losses while saving (showing 5 of 1060). These functions will not be directly callable after loading.\n"
     ]
    },
    {
     "name": "stdout",
     "output_type": "stream",
     "text": [
      "INFO:tensorflow:Assets written to: /aiffel/aiffel/aiffel/dlthon/wandb/run-20241006_104947-uw9z02ou/files/model-best/assets\n"
     ]
    },
    {
     "name": "stderr",
     "output_type": "stream",
     "text": [
      "INFO:tensorflow:Assets written to: /aiffel/aiffel/aiffel/dlthon/wandb/run-20241006_104947-uw9z02ou/files/model-best/assets\n",
      "/opt/conda/lib/python3.9/site-packages/keras/utils/generic_utils.py:494: CustomMaskWarning: Custom mask layers require a config and must override get_config. When loading, the custom mask layer must be passed to the custom_objects argument.\n",
      "  warnings.warn('Custom mask layers require a config and must override '\n",
      "\u001b[34m\u001b[1mwandb\u001b[0m: Adding directory to artifact (/aiffel/aiffel/aiffel/dlthon/wandb/run-20241006_104947-uw9z02ou/files/model-best)... Done. 5.9s\n"
     ]
    },
    {
     "name": "stdout",
     "output_type": "stream",
     "text": [
      "label이 이미 decoding 되있습니다!\n",
      "/aiffel/aiffel/aiffel/dlthon/KoELECTRA-base-v3 -- Folder already exists \n",
      "\n"
     ]
    },
    {
     "name": "stderr",
     "output_type": "stream",
     "text": [
      "All model checkpoint layers were used when initializing TFElectraForSequenceClassification.\n",
      "\n",
      "All the layers of TFElectraForSequenceClassification were initialized from the model checkpoint at /aiffel/aiffel/aiffel/dlthon/KoELECTRA-base-v3.\n",
      "If your task is similar to the task the model of the checkpoint was trained on, you can already use TFElectraForSequenceClassification for predictions without further training.\n",
      "predictive processing: 100%|██████████| 1238/1238 [10:10<00:00,  2.03it/s]\n"
     ]
    },
    {
     "name": "stdout",
     "output_type": "stream",
     "text": [
      "Test F1 Score :  0.6552\n"
     ]
    },
    {
     "data": {
      "application/vnd.jupyter.widget-view+json": {
       "model_id": "",
       "version_major": 2,
       "version_minor": 0
      },
      "text/plain": [
       "VBox(children=(Label(value='3989.963 MB of 3989.963 MB uploaded\\r'), FloatProgress(value=1.0, max=1.0)))"
      ]
     },
     "metadata": {},
     "output_type": "display_data"
    },
    {
     "data": {
      "text/html": [
       "<style>\n",
       "    table.wandb td:nth-child(1) { padding: 0 10px; text-align: left ; width: auto;} td:nth-child(2) {text-align: left ; width: 100%}\n",
       "    .wandb-row { display: flex; flex-direction: row; flex-wrap: wrap; justify-content: flex-start; width: 100% }\n",
       "    .wandb-col { display: flex; flex-direction: column; flex-basis: 100%; flex: 1; padding: 10px; }\n",
       "    </style>\n",
       "<div class=\"wandb-row\"><div class=\"wandb-col\"><h3>Run history:</h3><br/><table class=\"wandb\"><tr><td>Test F1 Score</td><td>▁</td></tr><tr><td>accuracy</td><td>▃▁▄▄▃▃▇▆▅█</td></tr><tr><td>custom_f1score</td><td>▃▁▄▄▃▄▇▆▅█</td></tr><tr><td>epoch</td><td>▁▂▃▃▄▅▆▆▇█</td></tr><tr><td>loss</td><td>▇█▆▅▄▄▃▂▂▁</td></tr><tr><td>val_accuracy</td><td>▁▆▅▆▂▅▅▅▅█</td></tr><tr><td>val_custom_f1score</td><td>▁▅▆▅▁▅▃▃▄█</td></tr><tr><td>val_loss</td><td>█▆▅▅▄▄▄▂▃▁</td></tr></table><br/></div><div class=\"wandb-col\"><h3>Run summary:</h3><br/><table class=\"wandb\"><tr><td>Test F1 Score</td><td>0.6552</td></tr><tr><td>accuracy</td><td>0.59084</td></tr><tr><td>best_epoch</td><td>9</td></tr><tr><td>best_val_loss</td><td>0.94659</td></tr><tr><td>custom_f1score</td><td>0.58585</td></tr><tr><td>epoch</td><td>9</td></tr><tr><td>loss</td><td>1.00158</td></tr><tr><td>val_accuracy</td><td>0.64183</td></tr><tr><td>val_custom_f1score</td><td>0.64869</td></tr><tr><td>val_loss</td><td>0.94659</td></tr></table><br/></div></div>"
      ],
      "text/plain": [
       "<IPython.core.display.HTML object>"
      ]
     },
     "metadata": {},
     "output_type": "display_data"
    },
    {
     "data": {
      "text/html": [
       " View run <strong style=\"color:#cdcd00\">pleasant-sweep-4</strong> at: <a href='https://wandb.ai/vieisi8-123/KoELECTRA/runs/uw9z02ou' target=\"_blank\">https://wandb.ai/vieisi8-123/KoELECTRA/runs/uw9z02ou</a><br/> View project at: <a href='https://wandb.ai/vieisi8-123/KoELECTRA' target=\"_blank\">https://wandb.ai/vieisi8-123/KoELECTRA</a><br/>Synced 5 W&B file(s), 0 media file(s), 37 artifact file(s) and 1 other file(s)"
      ],
      "text/plain": [
       "<IPython.core.display.HTML object>"
      ]
     },
     "metadata": {},
     "output_type": "display_data"
    },
    {
     "data": {
      "text/html": [
       "Find logs at: <code>./wandb/run-20241006_104947-uw9z02ou/logs</code>"
      ],
      "text/plain": [
       "<IPython.core.display.HTML object>"
      ]
     },
     "metadata": {},
     "output_type": "display_data"
    },
    {
     "name": "stderr",
     "output_type": "stream",
     "text": [
      "\u001b[34m\u001b[1mwandb\u001b[0m: Agent Starting Run: tk1r8492 with config:\n",
      "\u001b[34m\u001b[1mwandb\u001b[0m: \tepoch: 9\n",
      "\u001b[34m\u001b[1mwandb\u001b[0m: \tlearning_rate: 1.671173162513471e-05\n"
     ]
    },
    {
     "data": {
      "text/html": [
       "Tracking run with wandb version 0.18.3"
      ],
      "text/plain": [
       "<IPython.core.display.HTML object>"
      ]
     },
     "metadata": {},
     "output_type": "display_data"
    },
    {
     "data": {
      "text/html": [
       "Run data is saved locally in <code>/aiffel/aiffel/aiffel/dlthon/wandb/run-20241006_112821-tk1r8492</code>"
      ],
      "text/plain": [
       "<IPython.core.display.HTML object>"
      ]
     },
     "metadata": {},
     "output_type": "display_data"
    },
    {
     "data": {
      "text/html": [
       "Syncing run <strong><a href='https://wandb.ai/vieisi8-123/KoELECTRA/runs/tk1r8492' target=\"_blank\">driven-sweep-5</a></strong> to <a href='https://wandb.ai/vieisi8-123/KoELECTRA' target=\"_blank\">Weights & Biases</a> (<a href='https://wandb.me/run' target=\"_blank\">docs</a>)<br/>Sweep page: <a href='https://wandb.ai/vieisi8-123/KoELECTRA/sweeps/r3l3c53h' target=\"_blank\">https://wandb.ai/vieisi8-123/KoELECTRA/sweeps/r3l3c53h</a>"
      ],
      "text/plain": [
       "<IPython.core.display.HTML object>"
      ]
     },
     "metadata": {},
     "output_type": "display_data"
    },
    {
     "data": {
      "text/html": [
       " View project at <a href='https://wandb.ai/vieisi8-123/KoELECTRA' target=\"_blank\">https://wandb.ai/vieisi8-123/KoELECTRA</a>"
      ],
      "text/plain": [
       "<IPython.core.display.HTML object>"
      ]
     },
     "metadata": {},
     "output_type": "display_data"
    },
    {
     "data": {
      "text/html": [
       " View sweep at <a href='https://wandb.ai/vieisi8-123/KoELECTRA/sweeps/r3l3c53h' target=\"_blank\">https://wandb.ai/vieisi8-123/KoELECTRA/sweeps/r3l3c53h</a>"
      ],
      "text/plain": [
       "<IPython.core.display.HTML object>"
      ]
     },
     "metadata": {},
     "output_type": "display_data"
    },
    {
     "data": {
      "text/html": [
       " View run at <a href='https://wandb.ai/vieisi8-123/KoELECTRA/runs/tk1r8492' target=\"_blank\">https://wandb.ai/vieisi8-123/KoELECTRA/runs/tk1r8492</a>"
      ],
      "text/plain": [
       "<IPython.core.display.HTML object>"
      ]
     },
     "metadata": {},
     "output_type": "display_data"
    },
    {
     "name": "stdout",
     "output_type": "stream",
     "text": [
      "Epoch 1/9\n",
      "186/186 [==============================] - 150s 750ms/step - loss: 1.0044 - accuracy: 0.5885 - custom_f1score: 0.5836 - val_loss: 0.9425 - val_accuracy: 0.6373 - val_custom_f1score: 0.6360\n"
     ]
    },
    {
     "name": "stderr",
     "output_type": "stream",
     "text": [
      "\u001b[34m\u001b[1mwandb\u001b[0m: \u001b[32m\u001b[41mERROR\u001b[0m Can't save model in the h5py format. The model will be saved as as an W&B Artifact in the 'tf' format.\n",
      "WARNING:absl:Found untraced functions such as embeddings_layer_call_and_return_conditional_losses, embeddings_layer_call_fn, encoder_layer_call_and_return_conditional_losses, encoder_layer_call_fn, dense_layer_call_and_return_conditional_losses while saving (showing 5 of 1060). These functions will not be directly callable after loading.\n"
     ]
    },
    {
     "name": "stdout",
     "output_type": "stream",
     "text": [
      "INFO:tensorflow:Assets written to: /aiffel/aiffel/aiffel/dlthon/wandb/run-20241006_112821-tk1r8492/files/model-best/assets\n"
     ]
    },
    {
     "name": "stderr",
     "output_type": "stream",
     "text": [
      "INFO:tensorflow:Assets written to: /aiffel/aiffel/aiffel/dlthon/wandb/run-20241006_112821-tk1r8492/files/model-best/assets\n",
      "/opt/conda/lib/python3.9/site-packages/keras/utils/generic_utils.py:494: CustomMaskWarning: Custom mask layers require a config and must override get_config. When loading, the custom mask layer must be passed to the custom_objects argument.\n",
      "  warnings.warn('Custom mask layers require a config and must override '\n",
      "\u001b[34m\u001b[1mwandb\u001b[0m: Adding directory to artifact (/aiffel/aiffel/aiffel/dlthon/wandb/run-20241006_112821-tk1r8492/files/model-best)... Done. 5.8s\n"
     ]
    },
    {
     "name": "stdout",
     "output_type": "stream",
     "text": [
      "Epoch 2/9\n",
      "186/186 [==============================] - 139s 748ms/step - loss: 0.9860 - accuracy: 0.6001 - custom_f1score: 0.5938 - val_loss: 0.9441 - val_accuracy: 0.6409 - val_custom_f1score: 0.6407\n",
      "Epoch 3/9\n",
      "186/186 [==============================] - 139s 748ms/step - loss: 0.9805 - accuracy: 0.6001 - custom_f1score: 0.5959 - val_loss: 0.9378 - val_accuracy: 0.6490 - val_custom_f1score: 0.6512\n"
     ]
    },
    {
     "name": "stderr",
     "output_type": "stream",
     "text": [
      "\u001b[34m\u001b[1mwandb\u001b[0m: \u001b[32m\u001b[41mERROR\u001b[0m Can't save model in the h5py format. The model will be saved as as an W&B Artifact in the 'tf' format.\n",
      "WARNING:absl:Found untraced functions such as embeddings_layer_call_and_return_conditional_losses, embeddings_layer_call_fn, encoder_layer_call_and_return_conditional_losses, encoder_layer_call_fn, dense_layer_call_and_return_conditional_losses while saving (showing 5 of 1060). These functions will not be directly callable after loading.\n"
     ]
    },
    {
     "name": "stdout",
     "output_type": "stream",
     "text": [
      "INFO:tensorflow:Assets written to: /aiffel/aiffel/aiffel/dlthon/wandb/run-20241006_112821-tk1r8492/files/model-best/assets\n"
     ]
    },
    {
     "name": "stderr",
     "output_type": "stream",
     "text": [
      "INFO:tensorflow:Assets written to: /aiffel/aiffel/aiffel/dlthon/wandb/run-20241006_112821-tk1r8492/files/model-best/assets\n",
      "/opt/conda/lib/python3.9/site-packages/keras/utils/generic_utils.py:494: CustomMaskWarning: Custom mask layers require a config and must override get_config. When loading, the custom mask layer must be passed to the custom_objects argument.\n",
      "  warnings.warn('Custom mask layers require a config and must override '\n",
      "\u001b[34m\u001b[1mwandb\u001b[0m: Adding directory to artifact (/aiffel/aiffel/aiffel/dlthon/wandb/run-20241006_112821-tk1r8492/files/model-best)... Done. 5.7s\n"
     ]
    },
    {
     "name": "stdout",
     "output_type": "stream",
     "text": [
      "Epoch 4/9\n",
      "186/186 [==============================] - 139s 748ms/step - loss: 0.9852 - accuracy: 0.5993 - custom_f1score: 0.5947 - val_loss: 0.9383 - val_accuracy: 0.6472 - val_custom_f1score: 0.6503\n",
      "Epoch 5/9\n",
      "186/186 [==============================] - 139s 748ms/step - loss: 0.9861 - accuracy: 0.6062 - custom_f1score: 0.6003 - val_loss: 0.9329 - val_accuracy: 0.6481 - val_custom_f1score: 0.6531\n"
     ]
    },
    {
     "name": "stderr",
     "output_type": "stream",
     "text": [
      "\u001b[34m\u001b[1mwandb\u001b[0m: \u001b[32m\u001b[41mERROR\u001b[0m Can't save model in the h5py format. The model will be saved as as an W&B Artifact in the 'tf' format.\n",
      "WARNING:absl:Found untraced functions such as embeddings_layer_call_and_return_conditional_losses, embeddings_layer_call_fn, encoder_layer_call_and_return_conditional_losses, encoder_layer_call_fn, dense_layer_call_and_return_conditional_losses while saving (showing 5 of 1060). These functions will not be directly callable after loading.\n"
     ]
    },
    {
     "name": "stdout",
     "output_type": "stream",
     "text": [
      "INFO:tensorflow:Assets written to: /aiffel/aiffel/aiffel/dlthon/wandb/run-20241006_112821-tk1r8492/files/model-best/assets\n"
     ]
    },
    {
     "name": "stderr",
     "output_type": "stream",
     "text": [
      "INFO:tensorflow:Assets written to: /aiffel/aiffel/aiffel/dlthon/wandb/run-20241006_112821-tk1r8492/files/model-best/assets\n",
      "/opt/conda/lib/python3.9/site-packages/keras/utils/generic_utils.py:494: CustomMaskWarning: Custom mask layers require a config and must override get_config. When loading, the custom mask layer must be passed to the custom_objects argument.\n",
      "  warnings.warn('Custom mask layers require a config and must override '\n",
      "\u001b[34m\u001b[1mwandb\u001b[0m: Adding directory to artifact (/aiffel/aiffel/aiffel/dlthon/wandb/run-20241006_112821-tk1r8492/files/model-best)... Done. 6.2s\n"
     ]
    },
    {
     "name": "stdout",
     "output_type": "stream",
     "text": [
      "Epoch 6/9\n",
      "186/186 [==============================] - 139s 748ms/step - loss: 0.9910 - accuracy: 0.5978 - custom_f1score: 0.5941 - val_loss: 0.9326 - val_accuracy: 0.6544 - val_custom_f1score: 0.6576\n"
     ]
    },
    {
     "name": "stderr",
     "output_type": "stream",
     "text": [
      "\u001b[34m\u001b[1mwandb\u001b[0m: \u001b[32m\u001b[41mERROR\u001b[0m Can't save model in the h5py format. The model will be saved as as an W&B Artifact in the 'tf' format.\n",
      "WARNING:absl:Found untraced functions such as embeddings_layer_call_and_return_conditional_losses, embeddings_layer_call_fn, encoder_layer_call_and_return_conditional_losses, encoder_layer_call_fn, dense_layer_call_and_return_conditional_losses while saving (showing 5 of 1060). These functions will not be directly callable after loading.\n"
     ]
    },
    {
     "name": "stdout",
     "output_type": "stream",
     "text": [
      "INFO:tensorflow:Assets written to: /aiffel/aiffel/aiffel/dlthon/wandb/run-20241006_112821-tk1r8492/files/model-best/assets\n"
     ]
    },
    {
     "name": "stderr",
     "output_type": "stream",
     "text": [
      "INFO:tensorflow:Assets written to: /aiffel/aiffel/aiffel/dlthon/wandb/run-20241006_112821-tk1r8492/files/model-best/assets\n",
      "/opt/conda/lib/python3.9/site-packages/keras/utils/generic_utils.py:494: CustomMaskWarning: Custom mask layers require a config and must override get_config. When loading, the custom mask layer must be passed to the custom_objects argument.\n",
      "  warnings.warn('Custom mask layers require a config and must override '\n",
      "\u001b[34m\u001b[1mwandb\u001b[0m: Adding directory to artifact (/aiffel/aiffel/aiffel/dlthon/wandb/run-20241006_112821-tk1r8492/files/model-best)... Done. 6.6s\n"
     ]
    },
    {
     "name": "stdout",
     "output_type": "stream",
     "text": [
      "Epoch 7/9\n",
      "186/186 [==============================] - 139s 749ms/step - loss: 0.9966 - accuracy: 0.5939 - custom_f1score: 0.5875 - val_loss: 0.9304 - val_accuracy: 0.6616 - val_custom_f1score: 0.6668\n"
     ]
    },
    {
     "name": "stderr",
     "output_type": "stream",
     "text": [
      "\u001b[34m\u001b[1mwandb\u001b[0m: \u001b[32m\u001b[41mERROR\u001b[0m Can't save model in the h5py format. The model will be saved as as an W&B Artifact in the 'tf' format.\n",
      "WARNING:absl:Found untraced functions such as embeddings_layer_call_and_return_conditional_losses, embeddings_layer_call_fn, encoder_layer_call_and_return_conditional_losses, encoder_layer_call_fn, dense_layer_call_and_return_conditional_losses while saving (showing 5 of 1060). These functions will not be directly callable after loading.\n"
     ]
    },
    {
     "name": "stdout",
     "output_type": "stream",
     "text": [
      "INFO:tensorflow:Assets written to: /aiffel/aiffel/aiffel/dlthon/wandb/run-20241006_112821-tk1r8492/files/model-best/assets\n"
     ]
    },
    {
     "name": "stderr",
     "output_type": "stream",
     "text": [
      "INFO:tensorflow:Assets written to: /aiffel/aiffel/aiffel/dlthon/wandb/run-20241006_112821-tk1r8492/files/model-best/assets\n",
      "/opt/conda/lib/python3.9/site-packages/keras/utils/generic_utils.py:494: CustomMaskWarning: Custom mask layers require a config and must override get_config. When loading, the custom mask layer must be passed to the custom_objects argument.\n",
      "  warnings.warn('Custom mask layers require a config and must override '\n",
      "\u001b[34m\u001b[1mwandb\u001b[0m: Adding directory to artifact (/aiffel/aiffel/aiffel/dlthon/wandb/run-20241006_112821-tk1r8492/files/model-best)... Done. 5.5s\n"
     ]
    },
    {
     "name": "stdout",
     "output_type": "stream",
     "text": [
      "Epoch 8/9\n",
      "186/186 [==============================] - 139s 748ms/step - loss: 0.9994 - accuracy: 0.5955 - custom_f1score: 0.5914 - val_loss: 0.9333 - val_accuracy: 0.6436 - val_custom_f1score: 0.6441\n",
      "Epoch 9/9\n",
      "186/186 [==============================] - 139s 749ms/step - loss: 0.9797 - accuracy: 0.5978 - custom_f1score: 0.5919 - val_loss: 0.9320 - val_accuracy: 0.6463 - val_custom_f1score: 0.6523\n",
      "label이 이미 decoding 되있습니다!\n",
      "/aiffel/aiffel/aiffel/dlthon/KoELECTRA-base-v3 -- Folder already exists \n",
      "\n"
     ]
    },
    {
     "name": "stderr",
     "output_type": "stream",
     "text": [
      "All model checkpoint layers were used when initializing TFElectraForSequenceClassification.\n",
      "\n",
      "All the layers of TFElectraForSequenceClassification were initialized from the model checkpoint at /aiffel/aiffel/aiffel/dlthon/KoELECTRA-base-v3.\n",
      "If your task is similar to the task the model of the checkpoint was trained on, you can already use TFElectraForSequenceClassification for predictions without further training.\n",
      "predictive processing: 100%|██████████| 1238/1238 [09:46<00:00,  2.11it/s]\n"
     ]
    },
    {
     "name": "stdout",
     "output_type": "stream",
     "text": [
      "Test F1 Score :  0.6523\n"
     ]
    },
    {
     "data": {
      "application/vnd.jupyter.widget-view+json": {
       "model_id": "",
       "version_major": 2,
       "version_minor": 0
      },
      "text/plain": [
       "VBox(children=(Label(value='2216.712 MB of 2216.712 MB uploaded\\r'), FloatProgress(value=1.0, max=1.0)))"
      ]
     },
     "metadata": {},
     "output_type": "display_data"
    },
    {
     "data": {
      "text/html": [
       "<style>\n",
       "    table.wandb td:nth-child(1) { padding: 0 10px; text-align: left ; width: auto;} td:nth-child(2) {text-align: left ; width: 100%}\n",
       "    .wandb-row { display: flex; flex-direction: row; flex-wrap: wrap; justify-content: flex-start; width: 100% }\n",
       "    .wandb-col { display: flex; flex-direction: column; flex-basis: 100%; flex: 1; padding: 10px; }\n",
       "    </style>\n",
       "<div class=\"wandb-row\"><div class=\"wandb-col\"><h3>Run history:</h3><br/><table class=\"wandb\"><tr><td>Test F1 Score</td><td>▁</td></tr><tr><td>accuracy</td><td>▁▆▆▅█▅▃▄▅</td></tr><tr><td>custom_f1score</td><td>▁▅▆▆█▅▃▄▄</td></tr><tr><td>epoch</td><td>▁▂▃▄▅▅▆▇█</td></tr><tr><td>loss</td><td>█▃▁▃▃▄▆▇▁</td></tr><tr><td>val_accuracy</td><td>▁▂▄▄▄▆█▃▄</td></tr><tr><td>val_custom_f1score</td><td>▁▂▄▄▅▆█▃▅</td></tr><tr><td>val_loss</td><td>▇█▅▅▂▂▁▃▂</td></tr></table><br/></div><div class=\"wandb-col\"><h3>Run summary:</h3><br/><table class=\"wandb\"><tr><td>Test F1 Score</td><td>0.6523</td></tr><tr><td>accuracy</td><td>0.59777</td></tr><tr><td>best_epoch</td><td>6</td></tr><tr><td>best_val_loss</td><td>0.93035</td></tr><tr><td>custom_f1score</td><td>0.59187</td></tr><tr><td>epoch</td><td>8</td></tr><tr><td>loss</td><td>0.97972</td></tr><tr><td>val_accuracy</td><td>0.64632</td></tr><tr><td>val_custom_f1score</td><td>0.65229</td></tr><tr><td>val_loss</td><td>0.93197</td></tr></table><br/></div></div>"
      ],
      "text/plain": [
       "<IPython.core.display.HTML object>"
      ]
     },
     "metadata": {},
     "output_type": "display_data"
    },
    {
     "data": {
      "text/html": [
       " View run <strong style=\"color:#cdcd00\">driven-sweep-5</strong> at: <a href='https://wandb.ai/vieisi8-123/KoELECTRA/runs/tk1r8492' target=\"_blank\">https://wandb.ai/vieisi8-123/KoELECTRA/runs/tk1r8492</a><br/> View project at: <a href='https://wandb.ai/vieisi8-123/KoELECTRA' target=\"_blank\">https://wandb.ai/vieisi8-123/KoELECTRA</a><br/>Synced 5 W&B file(s), 0 media file(s), 21 artifact file(s) and 1 other file(s)"
      ],
      "text/plain": [
       "<IPython.core.display.HTML object>"
      ]
     },
     "metadata": {},
     "output_type": "display_data"
    },
    {
     "data": {
      "text/html": [
       "Find logs at: <code>./wandb/run-20241006_112821-tk1r8492/logs</code>"
      ],
      "text/plain": [
       "<IPython.core.display.HTML object>"
      ]
     },
     "metadata": {},
     "output_type": "display_data"
    },
    {
     "name": "stderr",
     "output_type": "stream",
     "text": [
      "\u001b[34m\u001b[1mwandb\u001b[0m: Sweep Agent: Waiting for job.\n",
      "\u001b[34m\u001b[1mwandb\u001b[0m: Job received.\n",
      "\u001b[34m\u001b[1mwandb\u001b[0m: Agent Starting Run: ajvq1rpi with config:\n",
      "\u001b[34m\u001b[1mwandb\u001b[0m: \tepoch: 11\n",
      "\u001b[34m\u001b[1mwandb\u001b[0m: \tlearning_rate: 1.803362671238695e-05\n"
     ]
    },
    {
     "data": {
      "text/html": [
       "Tracking run with wandb version 0.18.3"
      ],
      "text/plain": [
       "<IPython.core.display.HTML object>"
      ]
     },
     "metadata": {},
     "output_type": "display_data"
    },
    {
     "data": {
      "text/html": [
       "Run data is saved locally in <code>/aiffel/aiffel/aiffel/dlthon/wandb/run-20241006_120213-ajvq1rpi</code>"
      ],
      "text/plain": [
       "<IPython.core.display.HTML object>"
      ]
     },
     "metadata": {},
     "output_type": "display_data"
    },
    {
     "data": {
      "text/html": [
       "Syncing run <strong><a href='https://wandb.ai/vieisi8-123/KoELECTRA/runs/ajvq1rpi' target=\"_blank\">woven-sweep-6</a></strong> to <a href='https://wandb.ai/vieisi8-123/KoELECTRA' target=\"_blank\">Weights & Biases</a> (<a href='https://wandb.me/run' target=\"_blank\">docs</a>)<br/>Sweep page: <a href='https://wandb.ai/vieisi8-123/KoELECTRA/sweeps/r3l3c53h' target=\"_blank\">https://wandb.ai/vieisi8-123/KoELECTRA/sweeps/r3l3c53h</a>"
      ],
      "text/plain": [
       "<IPython.core.display.HTML object>"
      ]
     },
     "metadata": {},
     "output_type": "display_data"
    },
    {
     "data": {
      "text/html": [
       " View project at <a href='https://wandb.ai/vieisi8-123/KoELECTRA' target=\"_blank\">https://wandb.ai/vieisi8-123/KoELECTRA</a>"
      ],
      "text/plain": [
       "<IPython.core.display.HTML object>"
      ]
     },
     "metadata": {},
     "output_type": "display_data"
    },
    {
     "data": {
      "text/html": [
       " View sweep at <a href='https://wandb.ai/vieisi8-123/KoELECTRA/sweeps/r3l3c53h' target=\"_blank\">https://wandb.ai/vieisi8-123/KoELECTRA/sweeps/r3l3c53h</a>"
      ],
      "text/plain": [
       "<IPython.core.display.HTML object>"
      ]
     },
     "metadata": {},
     "output_type": "display_data"
    },
    {
     "data": {
      "text/html": [
       " View run at <a href='https://wandb.ai/vieisi8-123/KoELECTRA/runs/ajvq1rpi' target=\"_blank\">https://wandb.ai/vieisi8-123/KoELECTRA/runs/ajvq1rpi</a>"
      ],
      "text/plain": [
       "<IPython.core.display.HTML object>"
      ]
     },
     "metadata": {},
     "output_type": "display_data"
    },
    {
     "name": "stdout",
     "output_type": "stream",
     "text": [
      "Epoch 1/11\n",
      "186/186 [==============================] - 149s 748ms/step - loss: 0.9958 - accuracy: 0.6001 - custom_f1score: 0.5965 - val_loss: 0.9216 - val_accuracy: 0.6544 - val_custom_f1score: 0.6568\n"
     ]
    },
    {
     "name": "stderr",
     "output_type": "stream",
     "text": [
      "\u001b[34m\u001b[1mwandb\u001b[0m: \u001b[32m\u001b[41mERROR\u001b[0m Can't save model in the h5py format. The model will be saved as as an W&B Artifact in the 'tf' format.\n",
      "WARNING:absl:Found untraced functions such as embeddings_layer_call_and_return_conditional_losses, embeddings_layer_call_fn, encoder_layer_call_and_return_conditional_losses, encoder_layer_call_fn, dense_layer_call_and_return_conditional_losses while saving (showing 5 of 1060). These functions will not be directly callable after loading.\n"
     ]
    },
    {
     "name": "stdout",
     "output_type": "stream",
     "text": [
      "INFO:tensorflow:Assets written to: /aiffel/aiffel/aiffel/dlthon/wandb/run-20241006_120213-ajvq1rpi/files/model-best/assets\n"
     ]
    },
    {
     "name": "stderr",
     "output_type": "stream",
     "text": [
      "INFO:tensorflow:Assets written to: /aiffel/aiffel/aiffel/dlthon/wandb/run-20241006_120213-ajvq1rpi/files/model-best/assets\n",
      "/opt/conda/lib/python3.9/site-packages/keras/utils/generic_utils.py:494: CustomMaskWarning: Custom mask layers require a config and must override get_config. When loading, the custom mask layer must be passed to the custom_objects argument.\n",
      "  warnings.warn('Custom mask layers require a config and must override '\n",
      "\u001b[34m\u001b[1mwandb\u001b[0m: Adding directory to artifact (/aiffel/aiffel/aiffel/dlthon/wandb/run-20241006_120213-ajvq1rpi/files/model-best)... Done. 5.7s\n"
     ]
    },
    {
     "name": "stdout",
     "output_type": "stream",
     "text": [
      "Epoch 2/11\n",
      "186/186 [==============================] - 139s 747ms/step - loss: 0.9747 - accuracy: 0.6051 - custom_f1score: 0.6001 - val_loss: 0.9229 - val_accuracy: 0.6652 - val_custom_f1score: 0.6692\n",
      "Epoch 3/11\n",
      "186/186 [==============================] - 139s 748ms/step - loss: 0.9871 - accuracy: 0.5970 - custom_f1score: 0.5934 - val_loss: 0.9207 - val_accuracy: 0.6661 - val_custom_f1score: 0.6710\n"
     ]
    },
    {
     "name": "stderr",
     "output_type": "stream",
     "text": [
      "\u001b[34m\u001b[1mwandb\u001b[0m: \u001b[32m\u001b[41mERROR\u001b[0m Can't save model in the h5py format. The model will be saved as as an W&B Artifact in the 'tf' format.\n",
      "WARNING:absl:Found untraced functions such as embeddings_layer_call_and_return_conditional_losses, embeddings_layer_call_fn, encoder_layer_call_and_return_conditional_losses, encoder_layer_call_fn, dense_layer_call_and_return_conditional_losses while saving (showing 5 of 1060). These functions will not be directly callable after loading.\n"
     ]
    },
    {
     "name": "stdout",
     "output_type": "stream",
     "text": [
      "INFO:tensorflow:Assets written to: /aiffel/aiffel/aiffel/dlthon/wandb/run-20241006_120213-ajvq1rpi/files/model-best/assets\n"
     ]
    },
    {
     "name": "stderr",
     "output_type": "stream",
     "text": [
      "INFO:tensorflow:Assets written to: /aiffel/aiffel/aiffel/dlthon/wandb/run-20241006_120213-ajvq1rpi/files/model-best/assets\n",
      "/opt/conda/lib/python3.9/site-packages/keras/utils/generic_utils.py:494: CustomMaskWarning: Custom mask layers require a config and must override get_config. When loading, the custom mask layer must be passed to the custom_objects argument.\n",
      "  warnings.warn('Custom mask layers require a config and must override '\n",
      "\u001b[34m\u001b[1mwandb\u001b[0m: Adding directory to artifact (/aiffel/aiffel/aiffel/dlthon/wandb/run-20241006_120213-ajvq1rpi/files/model-best)... Done. 5.5s\n"
     ]
    },
    {
     "name": "stdout",
     "output_type": "stream",
     "text": [
      "Epoch 4/11\n",
      "186/186 [==============================] - 139s 748ms/step - loss: 0.9924 - accuracy: 0.5797 - custom_f1score: 0.5755 - val_loss: 0.9208 - val_accuracy: 0.6490 - val_custom_f1score: 0.6512\n",
      "Epoch 5/11\n",
      "186/186 [==============================] - 139s 749ms/step - loss: 0.9782 - accuracy: 0.6085 - custom_f1score: 0.6044 - val_loss: 0.9219 - val_accuracy: 0.6499 - val_custom_f1score: 0.6516\n",
      "Epoch 6/11\n",
      "186/186 [==============================] - 139s 748ms/step - loss: 0.9838 - accuracy: 0.6032 - custom_f1score: 0.5984 - val_loss: 0.9196 - val_accuracy: 0.6490 - val_custom_f1score: 0.6505\n"
     ]
    },
    {
     "name": "stderr",
     "output_type": "stream",
     "text": [
      "\u001b[34m\u001b[1mwandb\u001b[0m: \u001b[32m\u001b[41mERROR\u001b[0m Can't save model in the h5py format. The model will be saved as as an W&B Artifact in the 'tf' format.\n",
      "WARNING:absl:Found untraced functions such as embeddings_layer_call_and_return_conditional_losses, embeddings_layer_call_fn, encoder_layer_call_and_return_conditional_losses, encoder_layer_call_fn, dense_layer_call_and_return_conditional_losses while saving (showing 5 of 1060). These functions will not be directly callable after loading.\n"
     ]
    },
    {
     "name": "stdout",
     "output_type": "stream",
     "text": [
      "INFO:tensorflow:Assets written to: /aiffel/aiffel/aiffel/dlthon/wandb/run-20241006_120213-ajvq1rpi/files/model-best/assets\n"
     ]
    },
    {
     "name": "stderr",
     "output_type": "stream",
     "text": [
      "INFO:tensorflow:Assets written to: /aiffel/aiffel/aiffel/dlthon/wandb/run-20241006_120213-ajvq1rpi/files/model-best/assets\n",
      "/opt/conda/lib/python3.9/site-packages/keras/utils/generic_utils.py:494: CustomMaskWarning: Custom mask layers require a config and must override get_config. When loading, the custom mask layer must be passed to the custom_objects argument.\n",
      "  warnings.warn('Custom mask layers require a config and must override '\n",
      "\u001b[34m\u001b[1mwandb\u001b[0m: Adding directory to artifact (/aiffel/aiffel/aiffel/dlthon/wandb/run-20241006_120213-ajvq1rpi/files/model-best)... Done. 6.5s\n"
     ]
    },
    {
     "name": "stdout",
     "output_type": "stream",
     "text": [
      "Epoch 7/11\n",
      "186/186 [==============================] - 139s 748ms/step - loss: 0.9832 - accuracy: 0.6070 - custom_f1score: 0.6019 - val_loss: 0.9207 - val_accuracy: 0.6634 - val_custom_f1score: 0.6685\n",
      "Epoch 8/11\n",
      "186/186 [==============================] - 139s 748ms/step - loss: 0.9816 - accuracy: 0.5908 - custom_f1score: 0.5874 - val_loss: 0.9123 - val_accuracy: 0.6607 - val_custom_f1score: 0.6625\n"
     ]
    },
    {
     "name": "stderr",
     "output_type": "stream",
     "text": [
      "\u001b[34m\u001b[1mwandb\u001b[0m: \u001b[32m\u001b[41mERROR\u001b[0m Can't save model in the h5py format. The model will be saved as as an W&B Artifact in the 'tf' format.\n",
      "WARNING:absl:Found untraced functions such as embeddings_layer_call_and_return_conditional_losses, embeddings_layer_call_fn, encoder_layer_call_and_return_conditional_losses, encoder_layer_call_fn, dense_layer_call_and_return_conditional_losses while saving (showing 5 of 1060). These functions will not be directly callable after loading.\n"
     ]
    },
    {
     "name": "stdout",
     "output_type": "stream",
     "text": [
      "INFO:tensorflow:Assets written to: /aiffel/aiffel/aiffel/dlthon/wandb/run-20241006_120213-ajvq1rpi/files/model-best/assets\n"
     ]
    },
    {
     "name": "stderr",
     "output_type": "stream",
     "text": [
      "INFO:tensorflow:Assets written to: /aiffel/aiffel/aiffel/dlthon/wandb/run-20241006_120213-ajvq1rpi/files/model-best/assets\n",
      "/opt/conda/lib/python3.9/site-packages/keras/utils/generic_utils.py:494: CustomMaskWarning: Custom mask layers require a config and must override get_config. When loading, the custom mask layer must be passed to the custom_objects argument.\n",
      "  warnings.warn('Custom mask layers require a config and must override '\n",
      "\u001b[34m\u001b[1mwandb\u001b[0m: Adding directory to artifact (/aiffel/aiffel/aiffel/dlthon/wandb/run-20241006_120213-ajvq1rpi/files/model-best)... Done. 6.8s\n"
     ]
    },
    {
     "name": "stdout",
     "output_type": "stream",
     "text": [
      "Epoch 9/11\n",
      "186/186 [==============================] - 139s 748ms/step - loss: 0.9706 - accuracy: 0.6132 - custom_f1score: 0.6093 - val_loss: 0.9136 - val_accuracy: 0.6517 - val_custom_f1score: 0.6504\n",
      "Epoch 10/11\n",
      "186/186 [==============================] - 139s 748ms/step - loss: 0.9827 - accuracy: 0.5974 - custom_f1score: 0.5930 - val_loss: 0.9159 - val_accuracy: 0.6463 - val_custom_f1score: 0.6447\n",
      "Epoch 11/11\n",
      "186/186 [==============================] - 139s 748ms/step - loss: 0.9854 - accuracy: 0.5920 - custom_f1score: 0.5858 - val_loss: 0.9100 - val_accuracy: 0.6625 - val_custom_f1score: 0.6654\n"
     ]
    },
    {
     "name": "stderr",
     "output_type": "stream",
     "text": [
      "\u001b[34m\u001b[1mwandb\u001b[0m: \u001b[32m\u001b[41mERROR\u001b[0m Can't save model in the h5py format. The model will be saved as as an W&B Artifact in the 'tf' format.\n",
      "WARNING:absl:Found untraced functions such as embeddings_layer_call_and_return_conditional_losses, embeddings_layer_call_fn, encoder_layer_call_and_return_conditional_losses, encoder_layer_call_fn, dense_layer_call_and_return_conditional_losses while saving (showing 5 of 1060). These functions will not be directly callable after loading.\n"
     ]
    },
    {
     "name": "stdout",
     "output_type": "stream",
     "text": [
      "INFO:tensorflow:Assets written to: /aiffel/aiffel/aiffel/dlthon/wandb/run-20241006_120213-ajvq1rpi/files/model-best/assets\n"
     ]
    },
    {
     "name": "stderr",
     "output_type": "stream",
     "text": [
      "INFO:tensorflow:Assets written to: /aiffel/aiffel/aiffel/dlthon/wandb/run-20241006_120213-ajvq1rpi/files/model-best/assets\n",
      "/opt/conda/lib/python3.9/site-packages/keras/utils/generic_utils.py:494: CustomMaskWarning: Custom mask layers require a config and must override get_config. When loading, the custom mask layer must be passed to the custom_objects argument.\n",
      "  warnings.warn('Custom mask layers require a config and must override '\n",
      "\u001b[34m\u001b[1mwandb\u001b[0m: Adding directory to artifact (/aiffel/aiffel/aiffel/dlthon/wandb/run-20241006_120213-ajvq1rpi/files/model-best)... Done. 5.8s\n"
     ]
    },
    {
     "name": "stdout",
     "output_type": "stream",
     "text": [
      "label이 이미 decoding 되있습니다!\n",
      "/aiffel/aiffel/aiffel/dlthon/KoELECTRA-base-v3 -- Folder already exists \n",
      "\n"
     ]
    },
    {
     "name": "stderr",
     "output_type": "stream",
     "text": [
      "All model checkpoint layers were used when initializing TFElectraForSequenceClassification.\n",
      "\n",
      "All the layers of TFElectraForSequenceClassification were initialized from the model checkpoint at /aiffel/aiffel/aiffel/dlthon/KoELECTRA-base-v3.\n",
      "If your task is similar to the task the model of the checkpoint was trained on, you can already use TFElectraForSequenceClassification for predictions without further training.\n",
      "predictive processing: 100%|██████████| 1238/1238 [09:52<00:00,  2.09it/s]\n"
     ]
    },
    {
     "name": "stdout",
     "output_type": "stream",
     "text": [
      "Test F1 Score :  0.6598\n"
     ]
    },
    {
     "data": {
      "application/vnd.jupyter.widget-view+json": {
       "model_id": "",
       "version_major": 2,
       "version_minor": 0
      },
      "text/plain": [
       "VBox(children=(Label(value='2216.716 MB of 2216.716 MB uploaded\\r'), FloatProgress(value=1.0, max=1.0)))"
      ]
     },
     "metadata": {},
     "output_type": "display_data"
    },
    {
     "data": {
      "text/html": [
       "<style>\n",
       "    table.wandb td:nth-child(1) { padding: 0 10px; text-align: left ; width: auto;} td:nth-child(2) {text-align: left ; width: 100%}\n",
       "    .wandb-row { display: flex; flex-direction: row; flex-wrap: wrap; justify-content: flex-start; width: 100% }\n",
       "    .wandb-col { display: flex; flex-direction: column; flex-basis: 100%; flex: 1; padding: 10px; }\n",
       "    </style>\n",
       "<div class=\"wandb-row\"><div class=\"wandb-col\"><h3>Run history:</h3><br/><table class=\"wandb\"><tr><td>Test F1 Score</td><td>▁</td></tr><tr><td>accuracy</td><td>▅▆▅▁▇▆▇▃█▅▄</td></tr><tr><td>custom_f1score</td><td>▅▆▅▁▇▆▆▃█▅▃</td></tr><tr><td>epoch</td><td>▁▂▂▃▄▅▅▆▇▇█</td></tr><tr><td>loss</td><td>█▂▆▇▃▅▄▄▁▄▅</td></tr><tr><td>val_accuracy</td><td>▄██▂▂▂▇▆▃▁▇</td></tr><tr><td>val_custom_f1score</td><td>▄██▃▃▃▇▆▃▁▆</td></tr><tr><td>val_loss</td><td>▇█▇▇▇▆▇▂▃▄▁</td></tr></table><br/></div><div class=\"wandb-col\"><h3>Run summary:</h3><br/><table class=\"wandb\"><tr><td>Test F1 Score</td><td>0.6598</td></tr><tr><td>accuracy</td><td>0.59199</td></tr><tr><td>best_epoch</td><td>10</td></tr><tr><td>best_val_loss</td><td>0.90998</td></tr><tr><td>custom_f1score</td><td>0.58584</td></tr><tr><td>epoch</td><td>10</td></tr><tr><td>loss</td><td>0.98538</td></tr><tr><td>val_accuracy</td><td>0.66248</td></tr><tr><td>val_custom_f1score</td><td>0.66536</td></tr><tr><td>val_loss</td><td>0.90998</td></tr></table><br/></div></div>"
      ],
      "text/plain": [
       "<IPython.core.display.HTML object>"
      ]
     },
     "metadata": {},
     "output_type": "display_data"
    },
    {
     "data": {
      "text/html": [
       " View run <strong style=\"color:#cdcd00\">woven-sweep-6</strong> at: <a href='https://wandb.ai/vieisi8-123/KoELECTRA/runs/ajvq1rpi' target=\"_blank\">https://wandb.ai/vieisi8-123/KoELECTRA/runs/ajvq1rpi</a><br/> View project at: <a href='https://wandb.ai/vieisi8-123/KoELECTRA' target=\"_blank\">https://wandb.ai/vieisi8-123/KoELECTRA</a><br/>Synced 5 W&B file(s), 0 media file(s), 21 artifact file(s) and 1 other file(s)"
      ],
      "text/plain": [
       "<IPython.core.display.HTML object>"
      ]
     },
     "metadata": {},
     "output_type": "display_data"
    },
    {
     "data": {
      "text/html": [
       "Find logs at: <code>./wandb/run-20241006_120213-ajvq1rpi/logs</code>"
      ],
      "text/plain": [
       "<IPython.core.display.HTML object>"
      ]
     },
     "metadata": {},
     "output_type": "display_data"
    },
    {
     "name": "stderr",
     "output_type": "stream",
     "text": [
      "\u001b[34m\u001b[1mwandb\u001b[0m: Agent Starting Run: 2l63jzw2 with config:\n",
      "\u001b[34m\u001b[1mwandb\u001b[0m: \tepoch: 6\n",
      "\u001b[34m\u001b[1mwandb\u001b[0m: \tlearning_rate: 2.2156939481568268e-05\n"
     ]
    },
    {
     "data": {
      "text/html": [
       "Tracking run with wandb version 0.18.3"
      ],
      "text/plain": [
       "<IPython.core.display.HTML object>"
      ]
     },
     "metadata": {},
     "output_type": "display_data"
    },
    {
     "data": {
      "text/html": [
       "Run data is saved locally in <code>/aiffel/aiffel/aiffel/dlthon/wandb/run-20241006_124043-2l63jzw2</code>"
      ],
      "text/plain": [
       "<IPython.core.display.HTML object>"
      ]
     },
     "metadata": {},
     "output_type": "display_data"
    },
    {
     "data": {
      "text/html": [
       "Syncing run <strong><a href='https://wandb.ai/vieisi8-123/KoELECTRA/runs/2l63jzw2' target=\"_blank\">sleek-sweep-7</a></strong> to <a href='https://wandb.ai/vieisi8-123/KoELECTRA' target=\"_blank\">Weights & Biases</a> (<a href='https://wandb.me/run' target=\"_blank\">docs</a>)<br/>Sweep page: <a href='https://wandb.ai/vieisi8-123/KoELECTRA/sweeps/r3l3c53h' target=\"_blank\">https://wandb.ai/vieisi8-123/KoELECTRA/sweeps/r3l3c53h</a>"
      ],
      "text/plain": [
       "<IPython.core.display.HTML object>"
      ]
     },
     "metadata": {},
     "output_type": "display_data"
    },
    {
     "data": {
      "text/html": [
       " View project at <a href='https://wandb.ai/vieisi8-123/KoELECTRA' target=\"_blank\">https://wandb.ai/vieisi8-123/KoELECTRA</a>"
      ],
      "text/plain": [
       "<IPython.core.display.HTML object>"
      ]
     },
     "metadata": {},
     "output_type": "display_data"
    },
    {
     "data": {
      "text/html": [
       " View sweep at <a href='https://wandb.ai/vieisi8-123/KoELECTRA/sweeps/r3l3c53h' target=\"_blank\">https://wandb.ai/vieisi8-123/KoELECTRA/sweeps/r3l3c53h</a>"
      ],
      "text/plain": [
       "<IPython.core.display.HTML object>"
      ]
     },
     "metadata": {},
     "output_type": "display_data"
    },
    {
     "data": {
      "text/html": [
       " View run at <a href='https://wandb.ai/vieisi8-123/KoELECTRA/runs/2l63jzw2' target=\"_blank\">https://wandb.ai/vieisi8-123/KoELECTRA/runs/2l63jzw2</a>"
      ],
      "text/plain": [
       "<IPython.core.display.HTML object>"
      ]
     },
     "metadata": {},
     "output_type": "display_data"
    },
    {
     "name": "stdout",
     "output_type": "stream",
     "text": [
      "Epoch 1/6\n",
      "186/186 [==============================] - 150s 751ms/step - loss: 0.9735 - accuracy: 0.5916 - custom_f1score: 0.5874 - val_loss: 0.9144 - val_accuracy: 0.6553 - val_custom_f1score: 0.6595\n"
     ]
    },
    {
     "name": "stderr",
     "output_type": "stream",
     "text": [
      "\u001b[34m\u001b[1mwandb\u001b[0m: \u001b[32m\u001b[41mERROR\u001b[0m Can't save model in the h5py format. The model will be saved as as an W&B Artifact in the 'tf' format.\n",
      "WARNING:absl:Found untraced functions such as embeddings_layer_call_and_return_conditional_losses, embeddings_layer_call_fn, encoder_layer_call_and_return_conditional_losses, encoder_layer_call_fn, dense_layer_call_and_return_conditional_losses while saving (showing 5 of 1060). These functions will not be directly callable after loading.\n"
     ]
    },
    {
     "name": "stdout",
     "output_type": "stream",
     "text": [
      "INFO:tensorflow:Assets written to: /aiffel/aiffel/aiffel/dlthon/wandb/run-20241006_124043-2l63jzw2/files/model-best/assets\n"
     ]
    },
    {
     "name": "stderr",
     "output_type": "stream",
     "text": [
      "INFO:tensorflow:Assets written to: /aiffel/aiffel/aiffel/dlthon/wandb/run-20241006_124043-2l63jzw2/files/model-best/assets\n",
      "/opt/conda/lib/python3.9/site-packages/keras/utils/generic_utils.py:494: CustomMaskWarning: Custom mask layers require a config and must override get_config. When loading, the custom mask layer must be passed to the custom_objects argument.\n",
      "  warnings.warn('Custom mask layers require a config and must override '\n",
      "\u001b[34m\u001b[1mwandb\u001b[0m: Adding directory to artifact (/aiffel/aiffel/aiffel/dlthon/wandb/run-20241006_124043-2l63jzw2/files/model-best)... Done. 6.5s\n"
     ]
    },
    {
     "name": "stdout",
     "output_type": "stream",
     "text": [
      "Epoch 2/6\n",
      "186/186 [==============================] - 139s 748ms/step - loss: 0.9719 - accuracy: 0.6016 - custom_f1score: 0.5978 - val_loss: 0.9040 - val_accuracy: 0.6616 - val_custom_f1score: 0.6662\n"
     ]
    },
    {
     "name": "stderr",
     "output_type": "stream",
     "text": [
      "\u001b[34m\u001b[1mwandb\u001b[0m: \u001b[32m\u001b[41mERROR\u001b[0m Can't save model in the h5py format. The model will be saved as as an W&B Artifact in the 'tf' format.\n",
      "WARNING:absl:Found untraced functions such as embeddings_layer_call_and_return_conditional_losses, embeddings_layer_call_fn, encoder_layer_call_and_return_conditional_losses, encoder_layer_call_fn, dense_layer_call_and_return_conditional_losses while saving (showing 5 of 1060). These functions will not be directly callable after loading.\n"
     ]
    },
    {
     "name": "stdout",
     "output_type": "stream",
     "text": [
      "INFO:tensorflow:Assets written to: /aiffel/aiffel/aiffel/dlthon/wandb/run-20241006_124043-2l63jzw2/files/model-best/assets\n"
     ]
    },
    {
     "name": "stderr",
     "output_type": "stream",
     "text": [
      "INFO:tensorflow:Assets written to: /aiffel/aiffel/aiffel/dlthon/wandb/run-20241006_124043-2l63jzw2/files/model-best/assets\n",
      "/opt/conda/lib/python3.9/site-packages/keras/utils/generic_utils.py:494: CustomMaskWarning: Custom mask layers require a config and must override get_config. When loading, the custom mask layer must be passed to the custom_objects argument.\n",
      "  warnings.warn('Custom mask layers require a config and must override '\n",
      "\u001b[34m\u001b[1mwandb\u001b[0m: Adding directory to artifact (/aiffel/aiffel/aiffel/dlthon/wandb/run-20241006_124043-2l63jzw2/files/model-best)... Done. 6.5s\n"
     ]
    },
    {
     "name": "stdout",
     "output_type": "stream",
     "text": [
      "Epoch 3/6\n",
      "186/186 [==============================] - 139s 748ms/step - loss: 0.9747 - accuracy: 0.6020 - custom_f1score: 0.5991 - val_loss: 0.9050 - val_accuracy: 0.6688 - val_custom_f1score: 0.6722\n",
      "Epoch 4/6\n",
      "186/186 [==============================] - 139s 748ms/step - loss: 0.9701 - accuracy: 0.6059 - custom_f1score: 0.6019 - val_loss: 0.9037 - val_accuracy: 0.6634 - val_custom_f1score: 0.6695\n"
     ]
    },
    {
     "name": "stderr",
     "output_type": "stream",
     "text": [
      "\u001b[34m\u001b[1mwandb\u001b[0m: \u001b[32m\u001b[41mERROR\u001b[0m Can't save model in the h5py format. The model will be saved as as an W&B Artifact in the 'tf' format.\n",
      "WARNING:absl:Found untraced functions such as embeddings_layer_call_and_return_conditional_losses, embeddings_layer_call_fn, encoder_layer_call_and_return_conditional_losses, encoder_layer_call_fn, dense_layer_call_and_return_conditional_losses while saving (showing 5 of 1060). These functions will not be directly callable after loading.\n"
     ]
    },
    {
     "name": "stdout",
     "output_type": "stream",
     "text": [
      "INFO:tensorflow:Assets written to: /aiffel/aiffel/aiffel/dlthon/wandb/run-20241006_124043-2l63jzw2/files/model-best/assets\n"
     ]
    },
    {
     "name": "stderr",
     "output_type": "stream",
     "text": [
      "INFO:tensorflow:Assets written to: /aiffel/aiffel/aiffel/dlthon/wandb/run-20241006_124043-2l63jzw2/files/model-best/assets\n",
      "/opt/conda/lib/python3.9/site-packages/keras/utils/generic_utils.py:494: CustomMaskWarning: Custom mask layers require a config and must override get_config. When loading, the custom mask layer must be passed to the custom_objects argument.\n",
      "  warnings.warn('Custom mask layers require a config and must override '\n",
      "\u001b[34m\u001b[1mwandb\u001b[0m: Adding directory to artifact (/aiffel/aiffel/aiffel/dlthon/wandb/run-20241006_124043-2l63jzw2/files/model-best)... Done. 6.8s\n"
     ]
    },
    {
     "name": "stdout",
     "output_type": "stream",
     "text": [
      "Epoch 5/6\n",
      "186/186 [==============================] - 139s 747ms/step - loss: 0.9704 - accuracy: 0.6082 - custom_f1score: 0.6043 - val_loss: 0.9011 - val_accuracy: 0.6634 - val_custom_f1score: 0.6663\n"
     ]
    },
    {
     "name": "stderr",
     "output_type": "stream",
     "text": [
      "\u001b[34m\u001b[1mwandb\u001b[0m: \u001b[32m\u001b[41mERROR\u001b[0m Can't save model in the h5py format. The model will be saved as as an W&B Artifact in the 'tf' format.\n",
      "WARNING:absl:Found untraced functions such as embeddings_layer_call_and_return_conditional_losses, embeddings_layer_call_fn, encoder_layer_call_and_return_conditional_losses, encoder_layer_call_fn, dense_layer_call_and_return_conditional_losses while saving (showing 5 of 1060). These functions will not be directly callable after loading.\n"
     ]
    },
    {
     "name": "stdout",
     "output_type": "stream",
     "text": [
      "INFO:tensorflow:Assets written to: /aiffel/aiffel/aiffel/dlthon/wandb/run-20241006_124043-2l63jzw2/files/model-best/assets\n"
     ]
    },
    {
     "name": "stderr",
     "output_type": "stream",
     "text": [
      "INFO:tensorflow:Assets written to: /aiffel/aiffel/aiffel/dlthon/wandb/run-20241006_124043-2l63jzw2/files/model-best/assets\n",
      "/opt/conda/lib/python3.9/site-packages/keras/utils/generic_utils.py:494: CustomMaskWarning: Custom mask layers require a config and must override get_config. When loading, the custom mask layer must be passed to the custom_objects argument.\n",
      "  warnings.warn('Custom mask layers require a config and must override '\n",
      "\u001b[34m\u001b[1mwandb\u001b[0m: Adding directory to artifact (/aiffel/aiffel/aiffel/dlthon/wandb/run-20241006_124043-2l63jzw2/files/model-best)... Done. 6.0s\n"
     ]
    },
    {
     "name": "stdout",
     "output_type": "stream",
     "text": [
      "Epoch 6/6\n",
      "186/186 [==============================] - 139s 748ms/step - loss: 0.9731 - accuracy: 0.6020 - custom_f1score: 0.5973 - val_loss: 0.9005 - val_accuracy: 0.6643 - val_custom_f1score: 0.6680\n"
     ]
    },
    {
     "name": "stderr",
     "output_type": "stream",
     "text": [
      "\u001b[34m\u001b[1mwandb\u001b[0m: \u001b[32m\u001b[41mERROR\u001b[0m Can't save model in the h5py format. The model will be saved as as an W&B Artifact in the 'tf' format.\n",
      "WARNING:absl:Found untraced functions such as embeddings_layer_call_and_return_conditional_losses, embeddings_layer_call_fn, encoder_layer_call_and_return_conditional_losses, encoder_layer_call_fn, dense_layer_call_and_return_conditional_losses while saving (showing 5 of 1060). These functions will not be directly callable after loading.\n"
     ]
    },
    {
     "name": "stdout",
     "output_type": "stream",
     "text": [
      "INFO:tensorflow:Assets written to: /aiffel/aiffel/aiffel/dlthon/wandb/run-20241006_124043-2l63jzw2/files/model-best/assets\n"
     ]
    },
    {
     "name": "stderr",
     "output_type": "stream",
     "text": [
      "INFO:tensorflow:Assets written to: /aiffel/aiffel/aiffel/dlthon/wandb/run-20241006_124043-2l63jzw2/files/model-best/assets\n",
      "/opt/conda/lib/python3.9/site-packages/keras/utils/generic_utils.py:494: CustomMaskWarning: Custom mask layers require a config and must override get_config. When loading, the custom mask layer must be passed to the custom_objects argument.\n",
      "  warnings.warn('Custom mask layers require a config and must override '\n",
      "\u001b[34m\u001b[1mwandb\u001b[0m: Adding directory to artifact (/aiffel/aiffel/aiffel/dlthon/wandb/run-20241006_124043-2l63jzw2/files/model-best)... Done. 6.6s\n"
     ]
    },
    {
     "name": "stdout",
     "output_type": "stream",
     "text": [
      "label이 이미 decoding 되있습니다!\n",
      "/aiffel/aiffel/aiffel/dlthon/KoELECTRA-base-v3 -- Folder already exists \n",
      "\n"
     ]
    },
    {
     "name": "stderr",
     "output_type": "stream",
     "text": [
      "All model checkpoint layers were used when initializing TFElectraForSequenceClassification.\n",
      "\n",
      "All the layers of TFElectraForSequenceClassification were initialized from the model checkpoint at /aiffel/aiffel/aiffel/dlthon/KoELECTRA-base-v3.\n",
      "If your task is similar to the task the model of the checkpoint was trained on, you can already use TFElectraForSequenceClassification for predictions without further training.\n",
      "predictive processing: 100%|██████████| 1238/1238 [10:06<00:00,  2.04it/s]\n"
     ]
    },
    {
     "name": "stdout",
     "output_type": "stream",
     "text": [
      "Test F1 Score :  0.6571\n"
     ]
    },
    {
     "data": {
      "application/vnd.jupyter.widget-view+json": {
       "model_id": "",
       "version_major": 2,
       "version_minor": 0
      },
      "text/plain": [
       "VBox(children=(Label(value='2216.715 MB of 2216.715 MB uploaded\\r'), FloatProgress(value=1.0, max=1.0)))"
      ]
     },
     "metadata": {},
     "output_type": "display_data"
    },
    {
     "data": {
      "text/html": [
       "<style>\n",
       "    table.wandb td:nth-child(1) { padding: 0 10px; text-align: left ; width: auto;} td:nth-child(2) {text-align: left ; width: 100%}\n",
       "    .wandb-row { display: flex; flex-direction: row; flex-wrap: wrap; justify-content: flex-start; width: 100% }\n",
       "    .wandb-col { display: flex; flex-direction: column; flex-basis: 100%; flex: 1; padding: 10px; }\n",
       "    </style>\n",
       "<div class=\"wandb-row\"><div class=\"wandb-col\"><h3>Run history:</h3><br/><table class=\"wandb\"><tr><td>Test F1 Score</td><td>▁</td></tr><tr><td>accuracy</td><td>▁▅▅▇█▅</td></tr><tr><td>custom_f1score</td><td>▁▅▆▇█▅</td></tr><tr><td>epoch</td><td>▁▂▄▅▇█</td></tr><tr><td>loss</td><td>▆▄█▁▂▆</td></tr><tr><td>val_accuracy</td><td>▁▄█▅▅▆</td></tr><tr><td>val_custom_f1score</td><td>▁▅█▇▅▆</td></tr><tr><td>val_loss</td><td>█▃▃▃▁▁</td></tr></table><br/></div><div class=\"wandb-col\"><h3>Run summary:</h3><br/><table class=\"wandb\"><tr><td>Test F1 Score</td><td>0.6571</td></tr><tr><td>accuracy</td><td>0.602</td></tr><tr><td>best_epoch</td><td>5</td></tr><tr><td>best_val_loss</td><td>0.90046</td></tr><tr><td>custom_f1score</td><td>0.59729</td></tr><tr><td>epoch</td><td>5</td></tr><tr><td>loss</td><td>0.97311</td></tr><tr><td>val_accuracy</td><td>0.66427</td></tr><tr><td>val_custom_f1score</td><td>0.66804</td></tr><tr><td>val_loss</td><td>0.90046</td></tr></table><br/></div></div>"
      ],
      "text/plain": [
       "<IPython.core.display.HTML object>"
      ]
     },
     "metadata": {},
     "output_type": "display_data"
    },
    {
     "data": {
      "text/html": [
       " View run <strong style=\"color:#cdcd00\">sleek-sweep-7</strong> at: <a href='https://wandb.ai/vieisi8-123/KoELECTRA/runs/2l63jzw2' target=\"_blank\">https://wandb.ai/vieisi8-123/KoELECTRA/runs/2l63jzw2</a><br/> View project at: <a href='https://wandb.ai/vieisi8-123/KoELECTRA' target=\"_blank\">https://wandb.ai/vieisi8-123/KoELECTRA</a><br/>Synced 5 W&B file(s), 0 media file(s), 21 artifact file(s) and 1 other file(s)"
      ],
      "text/plain": [
       "<IPython.core.display.HTML object>"
      ]
     },
     "metadata": {},
     "output_type": "display_data"
    },
    {
     "data": {
      "text/html": [
       "Find logs at: <code>./wandb/run-20241006_124043-2l63jzw2/logs</code>"
      ],
      "text/plain": [
       "<IPython.core.display.HTML object>"
      ]
     },
     "metadata": {},
     "output_type": "display_data"
    },
    {
     "name": "stderr",
     "output_type": "stream",
     "text": [
      "\u001b[34m\u001b[1mwandb\u001b[0m: Agent Starting Run: nmg1q1wh with config:\n",
      "\u001b[34m\u001b[1mwandb\u001b[0m: \tepoch: 5\n",
      "\u001b[34m\u001b[1mwandb\u001b[0m: \tlearning_rate: 4.9908540930706664e-05\n"
     ]
    },
    {
     "data": {
      "text/html": [
       "Tracking run with wandb version 0.18.3"
      ],
      "text/plain": [
       "<IPython.core.display.HTML object>"
      ]
     },
     "metadata": {},
     "output_type": "display_data"
    },
    {
     "data": {
      "text/html": [
       "Run data is saved locally in <code>/aiffel/aiffel/aiffel/dlthon/wandb/run-20241006_130755-nmg1q1wh</code>"
      ],
      "text/plain": [
       "<IPython.core.display.HTML object>"
      ]
     },
     "metadata": {},
     "output_type": "display_data"
    },
    {
     "data": {
      "text/html": [
       "Syncing run <strong><a href='https://wandb.ai/vieisi8-123/KoELECTRA/runs/nmg1q1wh' target=\"_blank\">graceful-sweep-8</a></strong> to <a href='https://wandb.ai/vieisi8-123/KoELECTRA' target=\"_blank\">Weights & Biases</a> (<a href='https://wandb.me/run' target=\"_blank\">docs</a>)<br/>Sweep page: <a href='https://wandb.ai/vieisi8-123/KoELECTRA/sweeps/r3l3c53h' target=\"_blank\">https://wandb.ai/vieisi8-123/KoELECTRA/sweeps/r3l3c53h</a>"
      ],
      "text/plain": [
       "<IPython.core.display.HTML object>"
      ]
     },
     "metadata": {},
     "output_type": "display_data"
    },
    {
     "data": {
      "text/html": [
       " View project at <a href='https://wandb.ai/vieisi8-123/KoELECTRA' target=\"_blank\">https://wandb.ai/vieisi8-123/KoELECTRA</a>"
      ],
      "text/plain": [
       "<IPython.core.display.HTML object>"
      ]
     },
     "metadata": {},
     "output_type": "display_data"
    },
    {
     "data": {
      "text/html": [
       " View sweep at <a href='https://wandb.ai/vieisi8-123/KoELECTRA/sweeps/r3l3c53h' target=\"_blank\">https://wandb.ai/vieisi8-123/KoELECTRA/sweeps/r3l3c53h</a>"
      ],
      "text/plain": [
       "<IPython.core.display.HTML object>"
      ]
     },
     "metadata": {},
     "output_type": "display_data"
    },
    {
     "data": {
      "text/html": [
       " View run at <a href='https://wandb.ai/vieisi8-123/KoELECTRA/runs/nmg1q1wh' target=\"_blank\">https://wandb.ai/vieisi8-123/KoELECTRA/runs/nmg1q1wh</a>"
      ],
      "text/plain": [
       "<IPython.core.display.HTML object>"
      ]
     },
     "metadata": {},
     "output_type": "display_data"
    },
    {
     "name": "stdout",
     "output_type": "stream",
     "text": [
      "Epoch 1/5\n",
      "186/186 [==============================] - 151s 749ms/step - loss: 0.9826 - accuracy: 0.5816 - custom_f1score: 0.5775 - val_loss: 0.9069 - val_accuracy: 0.6571 - val_custom_f1score: 0.6646\n"
     ]
    },
    {
     "name": "stderr",
     "output_type": "stream",
     "text": [
      "\u001b[34m\u001b[1mwandb\u001b[0m: \u001b[32m\u001b[41mERROR\u001b[0m Can't save model in the h5py format. The model will be saved as as an W&B Artifact in the 'tf' format.\n",
      "WARNING:absl:Found untraced functions such as embeddings_layer_call_and_return_conditional_losses, embeddings_layer_call_fn, encoder_layer_call_and_return_conditional_losses, encoder_layer_call_fn, dense_layer_call_and_return_conditional_losses while saving (showing 5 of 1060). These functions will not be directly callable after loading.\n"
     ]
    },
    {
     "name": "stdout",
     "output_type": "stream",
     "text": [
      "INFO:tensorflow:Assets written to: /aiffel/aiffel/aiffel/dlthon/wandb/run-20241006_130755-nmg1q1wh/files/model-best/assets\n"
     ]
    },
    {
     "name": "stderr",
     "output_type": "stream",
     "text": [
      "INFO:tensorflow:Assets written to: /aiffel/aiffel/aiffel/dlthon/wandb/run-20241006_130755-nmg1q1wh/files/model-best/assets\n",
      "/opt/conda/lib/python3.9/site-packages/keras/utils/generic_utils.py:494: CustomMaskWarning: Custom mask layers require a config and must override get_config. When loading, the custom mask layer must be passed to the custom_objects argument.\n",
      "  warnings.warn('Custom mask layers require a config and must override '\n",
      "\u001b[34m\u001b[1mwandb\u001b[0m: Adding directory to artifact (/aiffel/aiffel/aiffel/dlthon/wandb/run-20241006_130755-nmg1q1wh/files/model-best)... Done. 6.3s\n"
     ]
    },
    {
     "name": "stdout",
     "output_type": "stream",
     "text": [
      "Epoch 2/5\n",
      "186/186 [==============================] - 139s 747ms/step - loss: 0.9827 - accuracy: 0.5901 - custom_f1score: 0.5865 - val_loss: 0.9005 - val_accuracy: 0.6616 - val_custom_f1score: 0.6626\n"
     ]
    },
    {
     "name": "stderr",
     "output_type": "stream",
     "text": [
      "\u001b[34m\u001b[1mwandb\u001b[0m: \u001b[32m\u001b[41mERROR\u001b[0m Can't save model in the h5py format. The model will be saved as as an W&B Artifact in the 'tf' format.\n",
      "WARNING:absl:Found untraced functions such as embeddings_layer_call_and_return_conditional_losses, embeddings_layer_call_fn, encoder_layer_call_and_return_conditional_losses, encoder_layer_call_fn, dense_layer_call_and_return_conditional_losses while saving (showing 5 of 1060). These functions will not be directly callable after loading.\n"
     ]
    },
    {
     "name": "stdout",
     "output_type": "stream",
     "text": [
      "INFO:tensorflow:Assets written to: /aiffel/aiffel/aiffel/dlthon/wandb/run-20241006_130755-nmg1q1wh/files/model-best/assets\n"
     ]
    },
    {
     "name": "stderr",
     "output_type": "stream",
     "text": [
      "INFO:tensorflow:Assets written to: /aiffel/aiffel/aiffel/dlthon/wandb/run-20241006_130755-nmg1q1wh/files/model-best/assets\n",
      "/opt/conda/lib/python3.9/site-packages/keras/utils/generic_utils.py:494: CustomMaskWarning: Custom mask layers require a config and must override get_config. When loading, the custom mask layer must be passed to the custom_objects argument.\n",
      "  warnings.warn('Custom mask layers require a config and must override '\n",
      "\u001b[34m\u001b[1mwandb\u001b[0m: Adding directory to artifact (/aiffel/aiffel/aiffel/dlthon/wandb/run-20241006_130755-nmg1q1wh/files/model-best)... Done. 6.9s\n"
     ]
    },
    {
     "name": "stdout",
     "output_type": "stream",
     "text": [
      "Epoch 3/5\n",
      "186/186 [==============================] - 139s 748ms/step - loss: 0.9775 - accuracy: 0.6043 - custom_f1score: 0.6021 - val_loss: 0.8979 - val_accuracy: 0.6445 - val_custom_f1score: 0.6408\n"
     ]
    },
    {
     "name": "stderr",
     "output_type": "stream",
     "text": [
      "\u001b[34m\u001b[1mwandb\u001b[0m: \u001b[32m\u001b[41mERROR\u001b[0m Can't save model in the h5py format. The model will be saved as as an W&B Artifact in the 'tf' format.\n",
      "WARNING:absl:Found untraced functions such as embeddings_layer_call_and_return_conditional_losses, embeddings_layer_call_fn, encoder_layer_call_and_return_conditional_losses, encoder_layer_call_fn, dense_layer_call_and_return_conditional_losses while saving (showing 5 of 1060). These functions will not be directly callable after loading.\n"
     ]
    },
    {
     "name": "stdout",
     "output_type": "stream",
     "text": [
      "INFO:tensorflow:Assets written to: /aiffel/aiffel/aiffel/dlthon/wandb/run-20241006_130755-nmg1q1wh/files/model-best/assets\n"
     ]
    },
    {
     "name": "stderr",
     "output_type": "stream",
     "text": [
      "INFO:tensorflow:Assets written to: /aiffel/aiffel/aiffel/dlthon/wandb/run-20241006_130755-nmg1q1wh/files/model-best/assets\n",
      "/opt/conda/lib/python3.9/site-packages/keras/utils/generic_utils.py:494: CustomMaskWarning: Custom mask layers require a config and must override get_config. When loading, the custom mask layer must be passed to the custom_objects argument.\n",
      "  warnings.warn('Custom mask layers require a config and must override '\n",
      "\u001b[34m\u001b[1mwandb\u001b[0m: Adding directory to artifact (/aiffel/aiffel/aiffel/dlthon/wandb/run-20241006_130755-nmg1q1wh/files/model-best)... Done. 6.8s\n"
     ]
    },
    {
     "name": "stdout",
     "output_type": "stream",
     "text": [
      "Epoch 4/5\n",
      "186/186 [==============================] - 139s 748ms/step - loss: 0.9913 - accuracy: 0.5897 - custom_f1score: 0.5843 - val_loss: 0.9239 - val_accuracy: 0.6266 - val_custom_f1score: 0.6217\n",
      "Epoch 5/5\n",
      "186/186 [==============================] - 139s 747ms/step - loss: 0.9797 - accuracy: 0.6032 - custom_f1score: 0.6007 - val_loss: 0.9031 - val_accuracy: 0.6634 - val_custom_f1score: 0.6709\n",
      "label이 이미 decoding 되있습니다!\n",
      "/aiffel/aiffel/aiffel/dlthon/KoELECTRA-base-v3 -- Folder already exists \n",
      "\n"
     ]
    },
    {
     "name": "stderr",
     "output_type": "stream",
     "text": [
      "All model checkpoint layers were used when initializing TFElectraForSequenceClassification.\n",
      "\n",
      "All the layers of TFElectraForSequenceClassification were initialized from the model checkpoint at /aiffel/aiffel/aiffel/dlthon/KoELECTRA-base-v3.\n",
      "If your task is similar to the task the model of the checkpoint was trained on, you can already use TFElectraForSequenceClassification for predictions without further training.\n",
      "predictive processing: 100%|██████████| 1238/1238 [09:54<00:00,  2.08it/s]\n"
     ]
    },
    {
     "name": "stdout",
     "output_type": "stream",
     "text": [
      "Test F1 Score :  0.659\n"
     ]
    },
    {
     "data": {
      "application/vnd.jupyter.widget-view+json": {
       "model_id": "",
       "version_major": 2,
       "version_minor": 0
      },
      "text/plain": [
       "VBox(children=(Label(value='1330.088 MB of 1330.088 MB uploaded\\r'), FloatProgress(value=1.0, max=1.0)))"
      ]
     },
     "metadata": {},
     "output_type": "display_data"
    },
    {
     "data": {
      "text/html": [
       "<style>\n",
       "    table.wandb td:nth-child(1) { padding: 0 10px; text-align: left ; width: auto;} td:nth-child(2) {text-align: left ; width: 100%}\n",
       "    .wandb-row { display: flex; flex-direction: row; flex-wrap: wrap; justify-content: flex-start; width: 100% }\n",
       "    .wandb-col { display: flex; flex-direction: column; flex-basis: 100%; flex: 1; padding: 10px; }\n",
       "    </style>\n",
       "<div class=\"wandb-row\"><div class=\"wandb-col\"><h3>Run history:</h3><br/><table class=\"wandb\"><tr><td>Test F1 Score</td><td>▁</td></tr><tr><td>accuracy</td><td>▁▄█▃█</td></tr><tr><td>custom_f1score</td><td>▁▄█▃█</td></tr><tr><td>epoch</td><td>▁▃▅▆█</td></tr><tr><td>loss</td><td>▄▄▁█▂</td></tr><tr><td>val_accuracy</td><td>▇█▄▁█</td></tr><tr><td>val_custom_f1score</td><td>▇▇▄▁█</td></tr><tr><td>val_loss</td><td>▃▂▁█▂</td></tr></table><br/></div><div class=\"wandb-col\"><h3>Run summary:</h3><br/><table class=\"wandb\"><tr><td>Test F1 Score</td><td>0.659</td></tr><tr><td>accuracy</td><td>0.60316</td></tr><tr><td>best_epoch</td><td>2</td></tr><tr><td>best_val_loss</td><td>0.89785</td></tr><tr><td>custom_f1score</td><td>0.60072</td></tr><tr><td>epoch</td><td>4</td></tr><tr><td>loss</td><td>0.97967</td></tr><tr><td>val_accuracy</td><td>0.66338</td></tr><tr><td>val_custom_f1score</td><td>0.67086</td></tr><tr><td>val_loss</td><td>0.90314</td></tr></table><br/></div></div>"
      ],
      "text/plain": [
       "<IPython.core.display.HTML object>"
      ]
     },
     "metadata": {},
     "output_type": "display_data"
    },
    {
     "data": {
      "text/html": [
       " View run <strong style=\"color:#cdcd00\">graceful-sweep-8</strong> at: <a href='https://wandb.ai/vieisi8-123/KoELECTRA/runs/nmg1q1wh' target=\"_blank\">https://wandb.ai/vieisi8-123/KoELECTRA/runs/nmg1q1wh</a><br/> View project at: <a href='https://wandb.ai/vieisi8-123/KoELECTRA' target=\"_blank\">https://wandb.ai/vieisi8-123/KoELECTRA</a><br/>Synced 5 W&B file(s), 0 media file(s), 13 artifact file(s) and 1 other file(s)"
      ],
      "text/plain": [
       "<IPython.core.display.HTML object>"
      ]
     },
     "metadata": {},
     "output_type": "display_data"
    },
    {
     "data": {
      "text/html": [
       "Find logs at: <code>./wandb/run-20241006_130755-nmg1q1wh/logs</code>"
      ],
      "text/plain": [
       "<IPython.core.display.HTML object>"
      ]
     },
     "metadata": {},
     "output_type": "display_data"
    },
    {
     "name": "stderr",
     "output_type": "stream",
     "text": [
      "\u001b[34m\u001b[1mwandb\u001b[0m: Agent Starting Run: jn6a9nx0 with config:\n",
      "\u001b[34m\u001b[1mwandb\u001b[0m: \tepoch: 15\n",
      "\u001b[34m\u001b[1mwandb\u001b[0m: \tlearning_rate: 6.878370690994499e-05\n"
     ]
    },
    {
     "data": {
      "text/html": [
       "Tracking run with wandb version 0.18.3"
      ],
      "text/plain": [
       "<IPython.core.display.HTML object>"
      ]
     },
     "metadata": {},
     "output_type": "display_data"
    },
    {
     "data": {
      "text/html": [
       "Run data is saved locally in <code>/aiffel/aiffel/aiffel/dlthon/wandb/run-20241006_133124-jn6a9nx0</code>"
      ],
      "text/plain": [
       "<IPython.core.display.HTML object>"
      ]
     },
     "metadata": {},
     "output_type": "display_data"
    },
    {
     "data": {
      "text/html": [
       "Syncing run <strong><a href='https://wandb.ai/vieisi8-123/KoELECTRA/runs/jn6a9nx0' target=\"_blank\">daily-sweep-9</a></strong> to <a href='https://wandb.ai/vieisi8-123/KoELECTRA' target=\"_blank\">Weights & Biases</a> (<a href='https://wandb.me/run' target=\"_blank\">docs</a>)<br/>Sweep page: <a href='https://wandb.ai/vieisi8-123/KoELECTRA/sweeps/r3l3c53h' target=\"_blank\">https://wandb.ai/vieisi8-123/KoELECTRA/sweeps/r3l3c53h</a>"
      ],
      "text/plain": [
       "<IPython.core.display.HTML object>"
      ]
     },
     "metadata": {},
     "output_type": "display_data"
    },
    {
     "data": {
      "text/html": [
       " View project at <a href='https://wandb.ai/vieisi8-123/KoELECTRA' target=\"_blank\">https://wandb.ai/vieisi8-123/KoELECTRA</a>"
      ],
      "text/plain": [
       "<IPython.core.display.HTML object>"
      ]
     },
     "metadata": {},
     "output_type": "display_data"
    },
    {
     "data": {
      "text/html": [
       " View sweep at <a href='https://wandb.ai/vieisi8-123/KoELECTRA/sweeps/r3l3c53h' target=\"_blank\">https://wandb.ai/vieisi8-123/KoELECTRA/sweeps/r3l3c53h</a>"
      ],
      "text/plain": [
       "<IPython.core.display.HTML object>"
      ]
     },
     "metadata": {},
     "output_type": "display_data"
    },
    {
     "data": {
      "text/html": [
       " View run at <a href='https://wandb.ai/vieisi8-123/KoELECTRA/runs/jn6a9nx0' target=\"_blank\">https://wandb.ai/vieisi8-123/KoELECTRA/runs/jn6a9nx0</a>"
      ],
      "text/plain": [
       "<IPython.core.display.HTML object>"
      ]
     },
     "metadata": {},
     "output_type": "display_data"
    },
    {
     "name": "stdout",
     "output_type": "stream",
     "text": [
      "Epoch 1/15\n",
      "186/186 [==============================] - 152s 751ms/step - loss: 0.9655 - accuracy: 0.6066 - custom_f1score: 0.6036 - val_loss: 0.9220 - val_accuracy: 0.6302 - val_custom_f1score: 0.6247\n"
     ]
    },
    {
     "name": "stderr",
     "output_type": "stream",
     "text": [
      "\u001b[34m\u001b[1mwandb\u001b[0m: \u001b[32m\u001b[41mERROR\u001b[0m Can't save model in the h5py format. The model will be saved as as an W&B Artifact in the 'tf' format.\n",
      "WARNING:absl:Found untraced functions such as embeddings_layer_call_and_return_conditional_losses, embeddings_layer_call_fn, encoder_layer_call_and_return_conditional_losses, encoder_layer_call_fn, dense_layer_call_and_return_conditional_losses while saving (showing 5 of 1060). These functions will not be directly callable after loading.\n"
     ]
    },
    {
     "name": "stdout",
     "output_type": "stream",
     "text": [
      "INFO:tensorflow:Assets written to: /aiffel/aiffel/aiffel/dlthon/wandb/run-20241006_133124-jn6a9nx0/files/model-best/assets\n"
     ]
    },
    {
     "name": "stderr",
     "output_type": "stream",
     "text": [
      "INFO:tensorflow:Assets written to: /aiffel/aiffel/aiffel/dlthon/wandb/run-20241006_133124-jn6a9nx0/files/model-best/assets\n",
      "/opt/conda/lib/python3.9/site-packages/keras/utils/generic_utils.py:494: CustomMaskWarning: Custom mask layers require a config and must override get_config. When loading, the custom mask layer must be passed to the custom_objects argument.\n",
      "  warnings.warn('Custom mask layers require a config and must override '\n",
      "\u001b[34m\u001b[1mwandb\u001b[0m: Adding directory to artifact (/aiffel/aiffel/aiffel/dlthon/wandb/run-20241006_133124-jn6a9nx0/files/model-best)... Done. 6.3s\n"
     ]
    },
    {
     "name": "stdout",
     "output_type": "stream",
     "text": [
      "Epoch 2/15\n",
      "186/186 [==============================] - 139s 748ms/step - loss: 0.9741 - accuracy: 0.6001 - custom_f1score: 0.5977 - val_loss: 0.9009 - val_accuracy: 0.6544 - val_custom_f1score: 0.6546\n"
     ]
    },
    {
     "name": "stderr",
     "output_type": "stream",
     "text": [
      "\u001b[34m\u001b[1mwandb\u001b[0m: \u001b[32m\u001b[41mERROR\u001b[0m Can't save model in the h5py format. The model will be saved as as an W&B Artifact in the 'tf' format.\n",
      "WARNING:absl:Found untraced functions such as embeddings_layer_call_and_return_conditional_losses, embeddings_layer_call_fn, encoder_layer_call_and_return_conditional_losses, encoder_layer_call_fn, dense_layer_call_and_return_conditional_losses while saving (showing 5 of 1060). These functions will not be directly callable after loading.\n"
     ]
    },
    {
     "name": "stdout",
     "output_type": "stream",
     "text": [
      "INFO:tensorflow:Assets written to: /aiffel/aiffel/aiffel/dlthon/wandb/run-20241006_133124-jn6a9nx0/files/model-best/assets\n"
     ]
    },
    {
     "name": "stderr",
     "output_type": "stream",
     "text": [
      "INFO:tensorflow:Assets written to: /aiffel/aiffel/aiffel/dlthon/wandb/run-20241006_133124-jn6a9nx0/files/model-best/assets\n",
      "/opt/conda/lib/python3.9/site-packages/keras/utils/generic_utils.py:494: CustomMaskWarning: Custom mask layers require a config and must override get_config. When loading, the custom mask layer must be passed to the custom_objects argument.\n",
      "  warnings.warn('Custom mask layers require a config and must override '\n",
      "\u001b[34m\u001b[1mwandb\u001b[0m: Adding directory to artifact (/aiffel/aiffel/aiffel/dlthon/wandb/run-20241006_133124-jn6a9nx0/files/model-best)... Done. 5.8s\n"
     ]
    },
    {
     "name": "stdout",
     "output_type": "stream",
     "text": [
      "Epoch 3/15\n",
      "186/186 [==============================] - 139s 748ms/step - loss: 0.9685 - accuracy: 0.5962 - custom_f1score: 0.5925 - val_loss: 0.8867 - val_accuracy: 0.6670 - val_custom_f1score: 0.6689\n"
     ]
    },
    {
     "name": "stderr",
     "output_type": "stream",
     "text": [
      "\u001b[34m\u001b[1mwandb\u001b[0m: \u001b[32m\u001b[41mERROR\u001b[0m Can't save model in the h5py format. The model will be saved as as an W&B Artifact in the 'tf' format.\n",
      "WARNING:absl:Found untraced functions such as embeddings_layer_call_and_return_conditional_losses, embeddings_layer_call_fn, encoder_layer_call_and_return_conditional_losses, encoder_layer_call_fn, dense_layer_call_and_return_conditional_losses while saving (showing 5 of 1060). These functions will not be directly callable after loading.\n"
     ]
    },
    {
     "name": "stdout",
     "output_type": "stream",
     "text": [
      "INFO:tensorflow:Assets written to: /aiffel/aiffel/aiffel/dlthon/wandb/run-20241006_133124-jn6a9nx0/files/model-best/assets\n"
     ]
    },
    {
     "name": "stderr",
     "output_type": "stream",
     "text": [
      "INFO:tensorflow:Assets written to: /aiffel/aiffel/aiffel/dlthon/wandb/run-20241006_133124-jn6a9nx0/files/model-best/assets\n",
      "/opt/conda/lib/python3.9/site-packages/keras/utils/generic_utils.py:494: CustomMaskWarning: Custom mask layers require a config and must override get_config. When loading, the custom mask layer must be passed to the custom_objects argument.\n",
      "  warnings.warn('Custom mask layers require a config and must override '\n",
      "\u001b[34m\u001b[1mwandb\u001b[0m: Adding directory to artifact (/aiffel/aiffel/aiffel/dlthon/wandb/run-20241006_133124-jn6a9nx0/files/model-best)... Done. 5.5s\n"
     ]
    },
    {
     "name": "stdout",
     "output_type": "stream",
     "text": [
      "Epoch 4/15\n",
      "186/186 [==============================] - 139s 748ms/step - loss: 0.9597 - accuracy: 0.6024 - custom_f1score: 0.5985 - val_loss: 0.8922 - val_accuracy: 0.6571 - val_custom_f1score: 0.6582\n",
      "Epoch 5/15\n",
      "186/186 [==============================] - 139s 749ms/step - loss: 0.9548 - accuracy: 0.6120 - custom_f1score: 0.6099 - val_loss: 0.8926 - val_accuracy: 0.6499 - val_custom_f1score: 0.6485\n",
      "Epoch 6/15\n",
      "186/186 [==============================] - 139s 750ms/step - loss: 0.9756 - accuracy: 0.5916 - custom_f1score: 0.5884 - val_loss: 0.8850 - val_accuracy: 0.6688 - val_custom_f1score: 0.6744\n"
     ]
    },
    {
     "name": "stderr",
     "output_type": "stream",
     "text": [
      "\u001b[34m\u001b[1mwandb\u001b[0m: \u001b[32m\u001b[41mERROR\u001b[0m Can't save model in the h5py format. The model will be saved as as an W&B Artifact in the 'tf' format.\n",
      "WARNING:absl:Found untraced functions such as embeddings_layer_call_and_return_conditional_losses, embeddings_layer_call_fn, encoder_layer_call_and_return_conditional_losses, encoder_layer_call_fn, dense_layer_call_and_return_conditional_losses while saving (showing 5 of 1060). These functions will not be directly callable after loading.\n"
     ]
    },
    {
     "name": "stdout",
     "output_type": "stream",
     "text": [
      "INFO:tensorflow:Assets written to: /aiffel/aiffel/aiffel/dlthon/wandb/run-20241006_133124-jn6a9nx0/files/model-best/assets\n"
     ]
    },
    {
     "name": "stderr",
     "output_type": "stream",
     "text": [
      "INFO:tensorflow:Assets written to: /aiffel/aiffel/aiffel/dlthon/wandb/run-20241006_133124-jn6a9nx0/files/model-best/assets\n",
      "/opt/conda/lib/python3.9/site-packages/keras/utils/generic_utils.py:494: CustomMaskWarning: Custom mask layers require a config and must override get_config. When loading, the custom mask layer must be passed to the custom_objects argument.\n",
      "  warnings.warn('Custom mask layers require a config and must override '\n",
      "\u001b[34m\u001b[1mwandb\u001b[0m: Adding directory to artifact (/aiffel/aiffel/aiffel/dlthon/wandb/run-20241006_133124-jn6a9nx0/files/model-best)... Done. 6.8s\n"
     ]
    },
    {
     "name": "stdout",
     "output_type": "stream",
     "text": [
      "Epoch 7/15\n",
      "186/186 [==============================] - 139s 748ms/step - loss: 0.9804 - accuracy: 0.5874 - custom_f1score: 0.5831 - val_loss: 0.8756 - val_accuracy: 0.6732 - val_custom_f1score: 0.6777\n"
     ]
    },
    {
     "name": "stderr",
     "output_type": "stream",
     "text": [
      "\u001b[34m\u001b[1mwandb\u001b[0m: \u001b[32m\u001b[41mERROR\u001b[0m Can't save model in the h5py format. The model will be saved as as an W&B Artifact in the 'tf' format.\n",
      "WARNING:absl:Found untraced functions such as embeddings_layer_call_and_return_conditional_losses, embeddings_layer_call_fn, encoder_layer_call_and_return_conditional_losses, encoder_layer_call_fn, dense_layer_call_and_return_conditional_losses while saving (showing 5 of 1060). These functions will not be directly callable after loading.\n"
     ]
    },
    {
     "name": "stdout",
     "output_type": "stream",
     "text": [
      "INFO:tensorflow:Assets written to: /aiffel/aiffel/aiffel/dlthon/wandb/run-20241006_133124-jn6a9nx0/files/model-best/assets\n"
     ]
    },
    {
     "name": "stderr",
     "output_type": "stream",
     "text": [
      "INFO:tensorflow:Assets written to: /aiffel/aiffel/aiffel/dlthon/wandb/run-20241006_133124-jn6a9nx0/files/model-best/assets\n",
      "/opt/conda/lib/python3.9/site-packages/keras/utils/generic_utils.py:494: CustomMaskWarning: Custom mask layers require a config and must override get_config. When loading, the custom mask layer must be passed to the custom_objects argument.\n",
      "  warnings.warn('Custom mask layers require a config and must override '\n",
      "\u001b[34m\u001b[1mwandb\u001b[0m: Adding directory to artifact (/aiffel/aiffel/aiffel/dlthon/wandb/run-20241006_133124-jn6a9nx0/files/model-best)... Done. 5.8s\n"
     ]
    },
    {
     "name": "stdout",
     "output_type": "stream",
     "text": [
      "Epoch 8/15\n",
      "186/186 [==============================] - 139s 748ms/step - loss: 0.9563 - accuracy: 0.5997 - custom_f1score: 0.5968 - val_loss: 0.8811 - val_accuracy: 0.6697 - val_custom_f1score: 0.6726\n",
      "Epoch 9/15\n",
      "186/186 [==============================] - 139s 748ms/step - loss: 0.9749 - accuracy: 0.6043 - custom_f1score: 0.6004 - val_loss: 0.8910 - val_accuracy: 0.6490 - val_custom_f1score: 0.6490\n",
      "Epoch 10/15\n",
      "186/186 [==============================] - 139s 750ms/step - loss: 0.9696 - accuracy: 0.6039 - custom_f1score: 0.5998 - val_loss: 0.8595 - val_accuracy: 0.6759 - val_custom_f1score: 0.6766\n"
     ]
    },
    {
     "name": "stderr",
     "output_type": "stream",
     "text": [
      "\u001b[34m\u001b[1mwandb\u001b[0m: \u001b[32m\u001b[41mERROR\u001b[0m Can't save model in the h5py format. The model will be saved as as an W&B Artifact in the 'tf' format.\n",
      "WARNING:absl:Found untraced functions such as embeddings_layer_call_and_return_conditional_losses, embeddings_layer_call_fn, encoder_layer_call_and_return_conditional_losses, encoder_layer_call_fn, dense_layer_call_and_return_conditional_losses while saving (showing 5 of 1060). These functions will not be directly callable after loading.\n"
     ]
    },
    {
     "name": "stdout",
     "output_type": "stream",
     "text": [
      "INFO:tensorflow:Assets written to: /aiffel/aiffel/aiffel/dlthon/wandb/run-20241006_133124-jn6a9nx0/files/model-best/assets\n"
     ]
    },
    {
     "name": "stderr",
     "output_type": "stream",
     "text": [
      "INFO:tensorflow:Assets written to: /aiffel/aiffel/aiffel/dlthon/wandb/run-20241006_133124-jn6a9nx0/files/model-best/assets\n",
      "/opt/conda/lib/python3.9/site-packages/keras/utils/generic_utils.py:494: CustomMaskWarning: Custom mask layers require a config and must override get_config. When loading, the custom mask layer must be passed to the custom_objects argument.\n",
      "  warnings.warn('Custom mask layers require a config and must override '\n",
      "\u001b[34m\u001b[1mwandb\u001b[0m: Adding directory to artifact (/aiffel/aiffel/aiffel/dlthon/wandb/run-20241006_133124-jn6a9nx0/files/model-best)... Done. 7.2s\n"
     ]
    },
    {
     "name": "stdout",
     "output_type": "stream",
     "text": [
      "Epoch 11/15\n",
      "186/186 [==============================] - 139s 748ms/step - loss: 0.9498 - accuracy: 0.6055 - custom_f1score: 0.6017 - val_loss: 0.8682 - val_accuracy: 0.6679 - val_custom_f1score: 0.6732\n",
      "Epoch 12/15\n",
      "186/186 [==============================] - 139s 749ms/step - loss: 0.9510 - accuracy: 0.6162 - custom_f1score: 0.6125 - val_loss: 0.8806 - val_accuracy: 0.6589 - val_custom_f1score: 0.6670\n",
      "Epoch 13/15\n",
      "186/186 [==============================] - 139s 748ms/step - loss: 0.9446 - accuracy: 0.5962 - custom_f1score: 0.5918 - val_loss: 0.8718 - val_accuracy: 0.6759 - val_custom_f1score: 0.6780\n",
      "Epoch 14/15\n",
      "186/186 [==============================] - 139s 748ms/step - loss: 0.9635 - accuracy: 0.5982 - custom_f1score: 0.5949 - val_loss: 0.8634 - val_accuracy: 0.6679 - val_custom_f1score: 0.6704\n",
      "Epoch 15/15\n",
      "186/186 [==============================] - 139s 749ms/step - loss: 0.9658 - accuracy: 0.5935 - custom_f1score: 0.5903 - val_loss: 0.8564 - val_accuracy: 0.6724 - val_custom_f1score: 0.6740\n"
     ]
    },
    {
     "name": "stderr",
     "output_type": "stream",
     "text": [
      "\u001b[34m\u001b[1mwandb\u001b[0m: \u001b[32m\u001b[41mERROR\u001b[0m Can't save model in the h5py format. The model will be saved as as an W&B Artifact in the 'tf' format.\n",
      "WARNING:absl:Found untraced functions such as embeddings_layer_call_and_return_conditional_losses, embeddings_layer_call_fn, encoder_layer_call_and_return_conditional_losses, encoder_layer_call_fn, dense_layer_call_and_return_conditional_losses while saving (showing 5 of 1060). These functions will not be directly callable after loading.\n"
     ]
    },
    {
     "name": "stdout",
     "output_type": "stream",
     "text": [
      "INFO:tensorflow:Assets written to: /aiffel/aiffel/aiffel/dlthon/wandb/run-20241006_133124-jn6a9nx0/files/model-best/assets\n"
     ]
    },
    {
     "name": "stderr",
     "output_type": "stream",
     "text": [
      "INFO:tensorflow:Assets written to: /aiffel/aiffel/aiffel/dlthon/wandb/run-20241006_133124-jn6a9nx0/files/model-best/assets\n",
      "/opt/conda/lib/python3.9/site-packages/keras/utils/generic_utils.py:494: CustomMaskWarning: Custom mask layers require a config and must override get_config. When loading, the custom mask layer must be passed to the custom_objects argument.\n",
      "  warnings.warn('Custom mask layers require a config and must override '\n",
      "\u001b[34m\u001b[1mwandb\u001b[0m: Adding directory to artifact (/aiffel/aiffel/aiffel/dlthon/wandb/run-20241006_133124-jn6a9nx0/files/model-best)... Done. 5.6s\n"
     ]
    },
    {
     "name": "stdout",
     "output_type": "stream",
     "text": [
      "label이 이미 decoding 되있습니다!\n",
      "/aiffel/aiffel/aiffel/dlthon/KoELECTRA-base-v3 -- Folder already exists \n",
      "\n"
     ]
    },
    {
     "name": "stderr",
     "output_type": "stream",
     "text": [
      "All model checkpoint layers were used when initializing TFElectraForSequenceClassification.\n",
      "\n",
      "All the layers of TFElectraForSequenceClassification were initialized from the model checkpoint at /aiffel/aiffel/aiffel/dlthon/KoELECTRA-base-v3.\n",
      "If your task is similar to the task the model of the checkpoint was trained on, you can already use TFElectraForSequenceClassification for predictions without further training.\n",
      "predictive processing: 100%|██████████| 1238/1238 [09:58<00:00,  2.07it/s]\n"
     ]
    },
    {
     "name": "stdout",
     "output_type": "stream",
     "text": [
      "Test F1 Score :  0.6708\n"
     ]
    },
    {
     "data": {
      "application/vnd.jupyter.widget-view+json": {
       "model_id": "",
       "version_major": 2,
       "version_minor": 0
      },
      "text/plain": [
       "VBox(children=(Label(value='3103.344 MB of 3103.344 MB uploaded\\r'), FloatProgress(value=1.0, max=1.0)))"
      ]
     },
     "metadata": {},
     "output_type": "display_data"
    },
    {
     "data": {
      "text/html": [
       "<style>\n",
       "    table.wandb td:nth-child(1) { padding: 0 10px; text-align: left ; width: auto;} td:nth-child(2) {text-align: left ; width: 100%}\n",
       "    .wandb-row { display: flex; flex-direction: row; flex-wrap: wrap; justify-content: flex-start; width: 100% }\n",
       "    .wandb-col { display: flex; flex-direction: column; flex-basis: 100%; flex: 1; padding: 10px; }\n",
       "    </style>\n",
       "<div class=\"wandb-row\"><div class=\"wandb-col\"><h3>Run history:</h3><br/><table class=\"wandb\"><tr><td>Test F1 Score</td><td>▁</td></tr><tr><td>accuracy</td><td>▆▄▃▅▇▂▁▄▅▅▅█▃▄▂</td></tr><tr><td>custom_f1score</td><td>▆▄▃▅▇▂▁▄▅▅▅█▃▄▃</td></tr><tr><td>epoch</td><td>▁▁▂▃▃▃▄▅▅▅▆▇▇▇█</td></tr><tr><td>loss</td><td>▅▇▆▄▃▇█▃▇▆▂▂▁▅▅</td></tr><tr><td>val_accuracy</td><td>▁▅▇▅▄▇█▇▄█▇▅█▇▇</td></tr><tr><td>val_custom_f1score</td><td>▁▅▇▅▄██▇▄█▇▇█▇▇</td></tr><tr><td>val_loss</td><td>█▆▄▅▅▄▃▄▅▁▂▄▃▂▁</td></tr></table><br/></div><div class=\"wandb-col\"><h3>Run summary:</h3><br/><table class=\"wandb\"><tr><td>Test F1 Score</td><td>0.6708</td></tr><tr><td>accuracy</td><td>0.59353</td></tr><tr><td>best_epoch</td><td>14</td></tr><tr><td>best_val_loss</td><td>0.85635</td></tr><tr><td>custom_f1score</td><td>0.59031</td></tr><tr><td>epoch</td><td>14</td></tr><tr><td>loss</td><td>0.96584</td></tr><tr><td>val_accuracy</td><td>0.67235</td></tr><tr><td>val_custom_f1score</td><td>0.67402</td></tr><tr><td>val_loss</td><td>0.85635</td></tr></table><br/></div></div>"
      ],
      "text/plain": [
       "<IPython.core.display.HTML object>"
      ]
     },
     "metadata": {},
     "output_type": "display_data"
    },
    {
     "data": {
      "text/html": [
       " View run <strong style=\"color:#cdcd00\">daily-sweep-9</strong> at: <a href='https://wandb.ai/vieisi8-123/KoELECTRA/runs/jn6a9nx0' target=\"_blank\">https://wandb.ai/vieisi8-123/KoELECTRA/runs/jn6a9nx0</a><br/> View project at: <a href='https://wandb.ai/vieisi8-123/KoELECTRA' target=\"_blank\">https://wandb.ai/vieisi8-123/KoELECTRA</a><br/>Synced 5 W&B file(s), 0 media file(s), 29 artifact file(s) and 1 other file(s)"
      ],
      "text/plain": [
       "<IPython.core.display.HTML object>"
      ]
     },
     "metadata": {},
     "output_type": "display_data"
    },
    {
     "data": {
      "text/html": [
       "Find logs at: <code>./wandb/run-20241006_133124-jn6a9nx0/logs</code>"
      ],
      "text/plain": [
       "<IPython.core.display.HTML object>"
      ]
     },
     "metadata": {},
     "output_type": "display_data"
    },
    {
     "name": "stderr",
     "output_type": "stream",
     "text": [
      "\u001b[34m\u001b[1mwandb\u001b[0m: Agent Starting Run: 1plbcmr2 with config:\n",
      "\u001b[34m\u001b[1mwandb\u001b[0m: \tepoch: 10\n",
      "\u001b[34m\u001b[1mwandb\u001b[0m: \tlearning_rate: 6.728413058381426e-05\n"
     ]
    },
    {
     "data": {
      "text/html": [
       "Tracking run with wandb version 0.18.3"
      ],
      "text/plain": [
       "<IPython.core.display.HTML object>"
      ]
     },
     "metadata": {},
     "output_type": "display_data"
    },
    {
     "data": {
      "text/html": [
       "Run data is saved locally in <code>/aiffel/aiffel/aiffel/dlthon/wandb/run-20241006_142022-1plbcmr2</code>"
      ],
      "text/plain": [
       "<IPython.core.display.HTML object>"
      ]
     },
     "metadata": {},
     "output_type": "display_data"
    },
    {
     "data": {
      "text/html": [
       "Syncing run <strong><a href='https://wandb.ai/vieisi8-123/KoELECTRA/runs/1plbcmr2' target=\"_blank\">smooth-sweep-10</a></strong> to <a href='https://wandb.ai/vieisi8-123/KoELECTRA' target=\"_blank\">Weights & Biases</a> (<a href='https://wandb.me/run' target=\"_blank\">docs</a>)<br/>Sweep page: <a href='https://wandb.ai/vieisi8-123/KoELECTRA/sweeps/r3l3c53h' target=\"_blank\">https://wandb.ai/vieisi8-123/KoELECTRA/sweeps/r3l3c53h</a>"
      ],
      "text/plain": [
       "<IPython.core.display.HTML object>"
      ]
     },
     "metadata": {},
     "output_type": "display_data"
    },
    {
     "data": {
      "text/html": [
       " View project at <a href='https://wandb.ai/vieisi8-123/KoELECTRA' target=\"_blank\">https://wandb.ai/vieisi8-123/KoELECTRA</a>"
      ],
      "text/plain": [
       "<IPython.core.display.HTML object>"
      ]
     },
     "metadata": {},
     "output_type": "display_data"
    },
    {
     "data": {
      "text/html": [
       " View sweep at <a href='https://wandb.ai/vieisi8-123/KoELECTRA/sweeps/r3l3c53h' target=\"_blank\">https://wandb.ai/vieisi8-123/KoELECTRA/sweeps/r3l3c53h</a>"
      ],
      "text/plain": [
       "<IPython.core.display.HTML object>"
      ]
     },
     "metadata": {},
     "output_type": "display_data"
    },
    {
     "data": {
      "text/html": [
       " View run at <a href='https://wandb.ai/vieisi8-123/KoELECTRA/runs/1plbcmr2' target=\"_blank\">https://wandb.ai/vieisi8-123/KoELECTRA/runs/1plbcmr2</a>"
      ],
      "text/plain": [
       "<IPython.core.display.HTML object>"
      ]
     },
     "metadata": {},
     "output_type": "display_data"
    },
    {
     "name": "stdout",
     "output_type": "stream",
     "text": [
      "Epoch 1/10\n",
      "186/186 [==============================] - 146s 734ms/step - loss: 0.9491 - accuracy: 0.5997 - custom_f1score: 0.5967 - val_loss: 0.8622 - val_accuracy: 0.6634 - val_custom_f1score: 0.6648\n"
     ]
    },
    {
     "name": "stderr",
     "output_type": "stream",
     "text": [
      "\u001b[34m\u001b[1mwandb\u001b[0m: \u001b[32m\u001b[41mERROR\u001b[0m Can't save model in the h5py format. The model will be saved as as an W&B Artifact in the 'tf' format.\n",
      "WARNING:absl:Found untraced functions such as embeddings_layer_call_and_return_conditional_losses, embeddings_layer_call_fn, encoder_layer_call_and_return_conditional_losses, encoder_layer_call_fn, dense_layer_call_and_return_conditional_losses while saving (showing 5 of 1060). These functions will not be directly callable after loading.\n"
     ]
    },
    {
     "name": "stdout",
     "output_type": "stream",
     "text": [
      "INFO:tensorflow:Assets written to: /aiffel/aiffel/aiffel/dlthon/wandb/run-20241006_142022-1plbcmr2/files/model-best/assets\n"
     ]
    },
    {
     "name": "stderr",
     "output_type": "stream",
     "text": [
      "INFO:tensorflow:Assets written to: /aiffel/aiffel/aiffel/dlthon/wandb/run-20241006_142022-1plbcmr2/files/model-best/assets\n",
      "/opt/conda/lib/python3.9/site-packages/keras/utils/generic_utils.py:494: CustomMaskWarning: Custom mask layers require a config and must override get_config. When loading, the custom mask layer must be passed to the custom_objects argument.\n",
      "  warnings.warn('Custom mask layers require a config and must override '\n",
      "\u001b[34m\u001b[1mwandb\u001b[0m: Adding directory to artifact (/aiffel/aiffel/aiffel/dlthon/wandb/run-20241006_142022-1plbcmr2/files/model-best)... Done. 6.1s\n"
     ]
    },
    {
     "name": "stdout",
     "output_type": "stream",
     "text": [
      "Epoch 2/10\n",
      "186/186 [==============================] - 137s 737ms/step - loss: 0.9520 - accuracy: 0.6059 - custom_f1score: 0.6034 - val_loss: 0.8586 - val_accuracy: 0.6759 - val_custom_f1score: 0.6755\n"
     ]
    },
    {
     "name": "stderr",
     "output_type": "stream",
     "text": [
      "\u001b[34m\u001b[1mwandb\u001b[0m: \u001b[32m\u001b[41mERROR\u001b[0m Can't save model in the h5py format. The model will be saved as as an W&B Artifact in the 'tf' format.\n",
      "WARNING:absl:Found untraced functions such as embeddings_layer_call_and_return_conditional_losses, embeddings_layer_call_fn, encoder_layer_call_and_return_conditional_losses, encoder_layer_call_fn, dense_layer_call_and_return_conditional_losses while saving (showing 5 of 1060). These functions will not be directly callable after loading.\n"
     ]
    },
    {
     "name": "stdout",
     "output_type": "stream",
     "text": [
      "INFO:tensorflow:Assets written to: /aiffel/aiffel/aiffel/dlthon/wandb/run-20241006_142022-1plbcmr2/files/model-best/assets\n"
     ]
    },
    {
     "name": "stderr",
     "output_type": "stream",
     "text": [
      "INFO:tensorflow:Assets written to: /aiffel/aiffel/aiffel/dlthon/wandb/run-20241006_142022-1plbcmr2/files/model-best/assets\n",
      "/opt/conda/lib/python3.9/site-packages/keras/utils/generic_utils.py:494: CustomMaskWarning: Custom mask layers require a config and must override get_config. When loading, the custom mask layer must be passed to the custom_objects argument.\n",
      "  warnings.warn('Custom mask layers require a config and must override '\n",
      "\u001b[34m\u001b[1mwandb\u001b[0m: Adding directory to artifact (/aiffel/aiffel/aiffel/dlthon/wandb/run-20241006_142022-1plbcmr2/files/model-best)... Done. 6.8s\n"
     ]
    },
    {
     "name": "stdout",
     "output_type": "stream",
     "text": [
      "Epoch 3/10\n",
      "186/186 [==============================] - 138s 744ms/step - loss: 0.9388 - accuracy: 0.6128 - custom_f1score: 0.6091 - val_loss: 0.8545 - val_accuracy: 0.6732 - val_custom_f1score: 0.6776\n"
     ]
    },
    {
     "name": "stderr",
     "output_type": "stream",
     "text": [
      "\u001b[34m\u001b[1mwandb\u001b[0m: \u001b[32m\u001b[41mERROR\u001b[0m Can't save model in the h5py format. The model will be saved as as an W&B Artifact in the 'tf' format.\n",
      "WARNING:absl:Found untraced functions such as embeddings_layer_call_and_return_conditional_losses, embeddings_layer_call_fn, encoder_layer_call_and_return_conditional_losses, encoder_layer_call_fn, dense_layer_call_and_return_conditional_losses while saving (showing 5 of 1060). These functions will not be directly callable after loading.\n"
     ]
    },
    {
     "name": "stdout",
     "output_type": "stream",
     "text": [
      "INFO:tensorflow:Assets written to: /aiffel/aiffel/aiffel/dlthon/wandb/run-20241006_142022-1plbcmr2/files/model-best/assets\n"
     ]
    },
    {
     "name": "stderr",
     "output_type": "stream",
     "text": [
      "INFO:tensorflow:Assets written to: /aiffel/aiffel/aiffel/dlthon/wandb/run-20241006_142022-1plbcmr2/files/model-best/assets\n",
      "/opt/conda/lib/python3.9/site-packages/keras/utils/generic_utils.py:494: CustomMaskWarning: Custom mask layers require a config and must override get_config. When loading, the custom mask layer must be passed to the custom_objects argument.\n",
      "  warnings.warn('Custom mask layers require a config and must override '\n",
      "\u001b[34m\u001b[1mwandb\u001b[0m: Adding directory to artifact (/aiffel/aiffel/aiffel/dlthon/wandb/run-20241006_142022-1plbcmr2/files/model-best)... Done. 7.1s\n"
     ]
    },
    {
     "name": "stdout",
     "output_type": "stream",
     "text": [
      "Epoch 4/10\n",
      "186/186 [==============================] - 139s 748ms/step - loss: 0.9500 - accuracy: 0.6082 - custom_f1score: 0.6054 - val_loss: 0.8682 - val_accuracy: 0.6580 - val_custom_f1score: 0.6539\n",
      "Epoch 5/10\n",
      "186/186 [==============================] - 139s 749ms/step - loss: 0.9336 - accuracy: 0.6147 - custom_f1score: 0.6109 - val_loss: 0.8668 - val_accuracy: 0.6679 - val_custom_f1score: 0.6723\n",
      "Epoch 6/10\n",
      "186/186 [==============================] - 139s 749ms/step - loss: 0.9497 - accuracy: 0.5985 - custom_f1score: 0.5954 - val_loss: 0.8559 - val_accuracy: 0.6732 - val_custom_f1score: 0.6756\n",
      "Epoch 7/10\n",
      "186/186 [==============================] - 139s 750ms/step - loss: 0.9379 - accuracy: 0.6174 - custom_f1score: 0.6148 - val_loss: 0.8781 - val_accuracy: 0.6768 - val_custom_f1score: 0.6837\n",
      "Epoch 8/10\n",
      "186/186 [==============================] - 139s 751ms/step - loss: 0.9500 - accuracy: 0.6055 - custom_f1score: 0.6021 - val_loss: 0.8623 - val_accuracy: 0.6750 - val_custom_f1score: 0.6790\n",
      "Epoch 9/10\n",
      "186/186 [==============================] - 139s 749ms/step - loss: 0.9311 - accuracy: 0.6035 - custom_f1score: 0.6005 - val_loss: 0.8622 - val_accuracy: 0.6634 - val_custom_f1score: 0.6629\n",
      "Epoch 10/10\n",
      "186/186 [==============================] - 139s 750ms/step - loss: 0.9519 - accuracy: 0.5989 - custom_f1score: 0.5939 - val_loss: 0.8516 - val_accuracy: 0.6688 - val_custom_f1score: 0.6664\n"
     ]
    },
    {
     "name": "stderr",
     "output_type": "stream",
     "text": [
      "\u001b[34m\u001b[1mwandb\u001b[0m: \u001b[32m\u001b[41mERROR\u001b[0m Can't save model in the h5py format. The model will be saved as as an W&B Artifact in the 'tf' format.\n",
      "WARNING:absl:Found untraced functions such as embeddings_layer_call_and_return_conditional_losses, embeddings_layer_call_fn, encoder_layer_call_and_return_conditional_losses, encoder_layer_call_fn, dense_layer_call_and_return_conditional_losses while saving (showing 5 of 1060). These functions will not be directly callable after loading.\n"
     ]
    },
    {
     "name": "stdout",
     "output_type": "stream",
     "text": [
      "INFO:tensorflow:Assets written to: /aiffel/aiffel/aiffel/dlthon/wandb/run-20241006_142022-1plbcmr2/files/model-best/assets\n"
     ]
    },
    {
     "name": "stderr",
     "output_type": "stream",
     "text": [
      "INFO:tensorflow:Assets written to: /aiffel/aiffel/aiffel/dlthon/wandb/run-20241006_142022-1plbcmr2/files/model-best/assets\n",
      "/opt/conda/lib/python3.9/site-packages/keras/utils/generic_utils.py:494: CustomMaskWarning: Custom mask layers require a config and must override get_config. When loading, the custom mask layer must be passed to the custom_objects argument.\n",
      "  warnings.warn('Custom mask layers require a config and must override '\n",
      "\u001b[34m\u001b[1mwandb\u001b[0m: Adding directory to artifact (/aiffel/aiffel/aiffel/dlthon/wandb/run-20241006_142022-1plbcmr2/files/model-best)... Done. 6.1s\n"
     ]
    },
    {
     "name": "stdout",
     "output_type": "stream",
     "text": [
      "label이 이미 decoding 되있습니다!\n",
      "/aiffel/aiffel/aiffel/dlthon/KoELECTRA-base-v3 -- Folder already exists \n",
      "\n"
     ]
    },
    {
     "name": "stderr",
     "output_type": "stream",
     "text": [
      "All model checkpoint layers were used when initializing TFElectraForSequenceClassification.\n",
      "\n",
      "All the layers of TFElectraForSequenceClassification were initialized from the model checkpoint at /aiffel/aiffel/aiffel/dlthon/KoELECTRA-base-v3.\n",
      "If your task is similar to the task the model of the checkpoint was trained on, you can already use TFElectraForSequenceClassification for predictions without further training.\n",
      "predictive processing: 100%|██████████| 1238/1238 [10:04<00:00,  2.05it/s]\n"
     ]
    },
    {
     "name": "stdout",
     "output_type": "stream",
     "text": [
      "Test F1 Score :  0.6572\n"
     ]
    },
    {
     "data": {
      "application/vnd.jupyter.widget-view+json": {
       "model_id": "",
       "version_major": 2,
       "version_minor": 0
      },
      "text/plain": [
       "VBox(children=(Label(value='1773.402 MB of 1773.402 MB uploaded\\r'), FloatProgress(value=1.0, max=1.0)))"
      ]
     },
     "metadata": {},
     "output_type": "display_data"
    },
    {
     "data": {
      "text/html": [
       "<style>\n",
       "    table.wandb td:nth-child(1) { padding: 0 10px; text-align: left ; width: auto;} td:nth-child(2) {text-align: left ; width: 100%}\n",
       "    .wandb-row { display: flex; flex-direction: row; flex-wrap: wrap; justify-content: flex-start; width: 100% }\n",
       "    .wandb-col { display: flex; flex-direction: column; flex-basis: 100%; flex: 1; padding: 10px; }\n",
       "    </style>\n",
       "<div class=\"wandb-row\"><div class=\"wandb-col\"><h3>Run history:</h3><br/><table class=\"wandb\"><tr><td>Test F1 Score</td><td>▁</td></tr><tr><td>accuracy</td><td>▁▄▆▅▇▁█▄▃▁</td></tr><tr><td>custom_f1score</td><td>▂▄▆▅▇▁█▄▃▁</td></tr><tr><td>epoch</td><td>▁▂▃▃▄▅▆▆▇█</td></tr><tr><td>loss</td><td>▇█▄▇▂▇▃▇▁█</td></tr><tr><td>val_accuracy</td><td>▃█▇▁▅▇█▇▃▅</td></tr><tr><td>val_custom_f1score</td><td>▄▆▇▁▅▆█▇▃▄</td></tr><tr><td>val_loss</td><td>▄▃▂▅▅▂█▄▄▁</td></tr></table><br/></div><div class=\"wandb-col\"><h3>Run summary:</h3><br/><table class=\"wandb\"><tr><td>Test F1 Score</td><td>0.6572</td></tr><tr><td>accuracy</td><td>0.59892</td></tr><tr><td>best_epoch</td><td>9</td></tr><tr><td>best_val_loss</td><td>0.85159</td></tr><tr><td>custom_f1score</td><td>0.59389</td></tr><tr><td>epoch</td><td>9</td></tr><tr><td>loss</td><td>0.9519</td></tr><tr><td>val_accuracy</td><td>0.66876</td></tr><tr><td>val_custom_f1score</td><td>0.66635</td></tr><tr><td>val_loss</td><td>0.85159</td></tr></table><br/></div></div>"
      ],
      "text/plain": [
       "<IPython.core.display.HTML object>"
      ]
     },
     "metadata": {},
     "output_type": "display_data"
    },
    {
     "data": {
      "text/html": [
       " View run <strong style=\"color:#cdcd00\">smooth-sweep-10</strong> at: <a href='https://wandb.ai/vieisi8-123/KoELECTRA/runs/1plbcmr2' target=\"_blank\">https://wandb.ai/vieisi8-123/KoELECTRA/runs/1plbcmr2</a><br/> View project at: <a href='https://wandb.ai/vieisi8-123/KoELECTRA' target=\"_blank\">https://wandb.ai/vieisi8-123/KoELECTRA</a><br/>Synced 5 W&B file(s), 0 media file(s), 17 artifact file(s) and 1 other file(s)"
      ],
      "text/plain": [
       "<IPython.core.display.HTML object>"
      ]
     },
     "metadata": {},
     "output_type": "display_data"
    },
    {
     "data": {
      "text/html": [
       "Find logs at: <code>./wandb/run-20241006_142022-1plbcmr2/logs</code>"
      ],
      "text/plain": [
       "<IPython.core.display.HTML object>"
      ]
     },
     "metadata": {},
     "output_type": "display_data"
    }
   ],
   "source": [
    "# entity와 project에 본인의 아이디와 프로젝트명을 입력하세요\n",
    "\n",
    "sweep_id = wandb.sweep(sweep_config,\n",
    "                       entity = \"vieisi8-123\",\n",
    "                       project = \"KoELECTRA\")\n",
    "\n",
    "# run the sweep\n",
    "wandb.agent(sweep_id,\n",
    "            function=train,\n",
    "            count=10)"
   ]
  }
 ],
 "metadata": {
  "kernelspec": {
   "display_name": "Python 3 (ipykernel)",
   "language": "python",
   "name": "python3"
  },
  "language_info": {
   "codemirror_mode": {
    "name": "ipython",
    "version": 3
   },
   "file_extension": ".py",
   "mimetype": "text/x-python",
   "name": "python",
   "nbconvert_exporter": "python",
   "pygments_lexer": "ipython3",
   "version": "3.9.7"
  }
 },
 "nbformat": 4,
 "nbformat_minor": 5
}
